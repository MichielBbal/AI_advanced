{
 "cells": [
  {
   "cell_type": "markdown",
   "id": "1d32d149",
   "metadata": {},
   "source": [
    "# MediaPipe - a google library for vision tasks\n",
    "\n",
    "I have tried it, but it doesn't seem to work.\n",
    "\n",
    "https://developers.google.com/mediapipe/solutions/setup_python"
   ]
  },
  {
   "cell_type": "code",
   "execution_count": 1,
   "id": "9e911652",
   "metadata": {},
   "outputs": [
    {
     "name": "stdout",
     "output_type": "stream",
     "text": [
      "Collecting mediapipe\n",
      "  Downloading mediapipe-0.9.1.0-cp310-cp310-macosx_10_15_x86_64.whl (35.2 MB)\n",
      "\u001b[2K     \u001b[90m━━━━━━━━━━━━━━━━━━━━━━━━━━━━━━━━━━━━━━━━\u001b[0m \u001b[32m35.2/35.2 MB\u001b[0m \u001b[31m8.9 MB/s\u001b[0m eta \u001b[36m0:00:00\u001b[0m00:01\u001b[0m00:01\u001b[0m\n",
      "\u001b[?25hRequirement already satisfied: absl-py in /Users/michielbontenbal/anaconda3/lib/python3.10/site-packages (from mediapipe) (1.4.0)\n",
      "Requirement already satisfied: attrs>=19.1.0 in /Users/michielbontenbal/anaconda3/lib/python3.10/site-packages (from mediapipe) (22.1.0)\n",
      "Requirement already satisfied: flatbuffers>=2.0 in /Users/michielbontenbal/anaconda3/lib/python3.10/site-packages (from mediapipe) (23.5.26)\n",
      "Requirement already satisfied: matplotlib in /Users/michielbontenbal/anaconda3/lib/python3.10/site-packages (from mediapipe) (3.7.0)\n",
      "Requirement already satisfied: numpy in /Users/michielbontenbal/anaconda3/lib/python3.10/site-packages (from mediapipe) (1.24.0)\n",
      "Collecting opencv-contrib-python (from mediapipe)\n",
      "  Downloading opencv_contrib_python-4.9.0.80-cp37-abi3-macosx_10_16_x86_64.whl.metadata (20 kB)\n",
      "Collecting protobuf<4,>=3.11 (from mediapipe)\n",
      "  Downloading protobuf-3.20.3-py2.py3-none-any.whl (162 kB)\n",
      "\u001b[2K     \u001b[90m━━━━━━━━━━━━━━━━━━━━━━━━━━━━━━━━━━━━━━━\u001b[0m \u001b[32m162.1/162.1 kB\u001b[0m \u001b[31m3.7 MB/s\u001b[0m eta \u001b[36m0:00:00\u001b[0ma \u001b[36m0:00:01\u001b[0m\n",
      "\u001b[?25hRequirement already satisfied: contourpy>=1.0.1 in /Users/michielbontenbal/anaconda3/lib/python3.10/site-packages (from matplotlib->mediapipe) (1.0.5)\n",
      "Requirement already satisfied: cycler>=0.10 in /Users/michielbontenbal/anaconda3/lib/python3.10/site-packages (from matplotlib->mediapipe) (0.10.0)\n",
      "Requirement already satisfied: fonttools>=4.22.0 in /Users/michielbontenbal/anaconda3/lib/python3.10/site-packages (from matplotlib->mediapipe) (4.25.0)\n",
      "Requirement already satisfied: kiwisolver>=1.0.1 in /Users/michielbontenbal/anaconda3/lib/python3.10/site-packages (from matplotlib->mediapipe) (1.4.4)\n",
      "Requirement already satisfied: packaging>=20.0 in /Users/michielbontenbal/anaconda3/lib/python3.10/site-packages (from matplotlib->mediapipe) (23.2)\n",
      "Requirement already satisfied: pillow>=6.2.0 in /Users/michielbontenbal/anaconda3/lib/python3.10/site-packages (from matplotlib->mediapipe) (10.0.0)\n",
      "Requirement already satisfied: pyparsing>=2.3.1 in /Users/michielbontenbal/anaconda3/lib/python3.10/site-packages (from matplotlib->mediapipe) (2.4.7)\n",
      "Requirement already satisfied: python-dateutil>=2.7 in /Users/michielbontenbal/anaconda3/lib/python3.10/site-packages (from matplotlib->mediapipe) (2.8.2)\n",
      "Requirement already satisfied: six in /Users/michielbontenbal/anaconda3/lib/python3.10/site-packages (from cycler>=0.10->matplotlib->mediapipe) (1.16.0)\n",
      "Downloading opencv_contrib_python-4.9.0.80-cp37-abi3-macosx_10_16_x86_64.whl (65.4 MB)\n",
      "\u001b[2K   \u001b[90m━━━━━━━━━━━━━━━━━━━━━━━━━━━━━━━━━━━━━━━━\u001b[0m \u001b[32m65.4/65.4 MB\u001b[0m \u001b[31m8.9 MB/s\u001b[0m eta \u001b[36m0:00:00\u001b[0m:00:01\u001b[0m00:01\u001b[0m\n",
      "\u001b[?25hInstalling collected packages: protobuf, opencv-contrib-python, mediapipe\n",
      "  Attempting uninstall: protobuf\n",
      "    Found existing installation: protobuf 4.21.12\n",
      "    Uninstalling protobuf-4.21.12:\n",
      "      Successfully uninstalled protobuf-4.21.12\n",
      "\u001b[31mERROR: pip's dependency resolver does not currently take into account all the packages that are installed. This behaviour is the source of the following dependency conflicts.\n",
      "autotrain-advanced 0.6.37 requires packaging==23.1, but you have packaging 23.2 which is incompatible.\n",
      "autotrain-advanced 0.6.37 requires protobuf==4.23.4, but you have protobuf 3.20.3 which is incompatible.\n",
      "autotrain-advanced 0.6.37 requires scikit-learn==1.3.0, but you have scikit-learn 1.3.2 which is incompatible.\n",
      "mysql-connector-python 8.2.0 requires protobuf<=4.21.12,>=4.21.1, but you have protobuf 3.20.3 which is incompatible.\n",
      "tensorflow 2.15.0 requires keras<2.16,>=2.15.0, but you have keras 3.0.4 which is incompatible.\u001b[0m\u001b[31m\n",
      "\u001b[0mSuccessfully installed mediapipe-0.9.1.0 opencv-contrib-python-4.9.0.80 protobuf-3.20.3\n",
      "Note: you may need to restart the kernel to use updated packages.\n"
     ]
    }
   ],
   "source": [
    "pip install mediapipe"
   ]
  },
  {
   "cell_type": "code",
   "execution_count": 2,
   "id": "4b96d9fb",
   "metadata": {},
   "outputs": [
    {
     "name": "stderr",
     "output_type": "stream",
     "text": [
      "2024-01-30 11:19:52.593459: I tensorflow/core/platform/cpu_feature_guard.cc:182] This TensorFlow binary is optimized to use available CPU instructions in performance-critical operations.\n",
      "To enable the following instructions: AVX2 FMA, in other operations, rebuild TensorFlow with the appropriate compiler flags.\n"
     ]
    }
   ],
   "source": [
    "import mediapipe as mp\n",
    "from mediapipe.tasks import python\n",
    "from mediapipe.tasks.python import vision"
   ]
  },
  {
   "cell_type": "code",
   "execution_count": 3,
   "id": "f23c79ae",
   "metadata": {},
   "outputs": [
    {
     "ename": "SyntaxError",
     "evalue": "incomplete input (1946226288.py, line 12)",
     "output_type": "error",
     "traceback": [
      "\u001b[0;36m  Cell \u001b[0;32mIn[3], line 12\u001b[0;36m\u001b[0m\n\u001b[0;31m    \u001b[0m\n\u001b[0m    ^\u001b[0m\n\u001b[0;31mSyntaxError\u001b[0m\u001b[0;31m:\u001b[0m incomplete input\n"
     ]
    }
   ],
   "source": [
    "BaseOptions = mp.tasks.BaseOptions\n",
    "ImageSegmenter = mp.tasks.vision.ImageSegmenter\n",
    "ImageSegmenterOptions = mp.tasks.vision.ImageSegmenterOptions\n",
    "VisionRunningMode = mp.tasks.vision.RunningMode\n",
    "\n",
    "# Create a image segmenter instance with the image mode:\n",
    "options = ImageSegmenterOptions(\n",
    "    base_options=BaseOptions(model_asset_path='/path/to/model.task'),\n",
    "    running_mode=VisionRunningMode.IMAGE,\n",
    "    output_category_mask=True)\n",
    "with ImageSegmenter.create_from_options(options) as segmenter:\n",
    "      "
   ]
  },
  {
   "cell_type": "code",
   "execution_count": null,
   "id": "24a19430",
   "metadata": {},
   "outputs": [],
   "source": []
  }
 ],
 "metadata": {
  "kernelspec": {
   "display_name": "Python 3 (ipykernel)",
   "language": "python",
   "name": "python3"
  },
  "language_info": {
   "codemirror_mode": {
    "name": "ipython",
    "version": 3
   },
   "file_extension": ".py",
   "mimetype": "text/x-python",
   "name": "python",
   "nbconvert_exporter": "python",
   "pygments_lexer": "ipython3",
   "version": "3.10.9"
  }
 },
 "nbformat": 4,
 "nbformat_minor": 5
}
