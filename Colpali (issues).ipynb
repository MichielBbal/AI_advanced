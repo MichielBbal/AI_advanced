{
 "cells": [
  {
   "cell_type": "markdown",
   "metadata": {},
   "source": [
    "# ColPali\n",
    "\n",
    "Many issues:\n",
    "- free disk space\n",
    "- datasets incompatability\n"
   ]
  },
  {
   "cell_type": "markdown",
   "metadata": {},
   "source": [
    "## 0. Checks, installs and imports"
   ]
  },
  {
   "cell_type": "code",
   "execution_count": 4,
   "metadata": {},
   "outputs": [
    {
     "name": "stdout",
     "output_type": "stream",
     "text": [
      "CUDA available: False\n",
      "CUDA version: None\n",
      "cpu\n"
     ]
    }
   ],
   "source": [
    "#check cuda availability\n",
    "import torch\n",
    "print(\"CUDA available:\", torch.cuda.is_available())\n",
    "print(\"CUDA version:\", torch.version.cuda)\n",
    "\n",
    "device = \"cuda:0\" if torch.cuda.is_available() else \"cpu\"\n",
    "device"
   ]
  },
  {
   "cell_type": "code",
   "execution_count": 2,
   "metadata": {},
   "outputs": [
    {
     "name": "stdout",
     "output_type": "stream",
     "text": [
      "free disk space = 8.3 Gb\n"
     ]
    }
   ],
   "source": [
    "#before downloading the model check available disk space. You will need at least 20 Gb\n",
    "import shutil\n",
    "usage = shutil.disk_usage(\"/\")\n",
    "free_space_bytes = usage.free\n",
    "free_space_gb = free_space_bytes / (1024 * 1024 * 1024)  # Convert to GB\n",
    "print(f'free disk space = {round(free_space_gb,1)} Gb')"
   ]
  },
  {
   "cell_type": "code",
   "execution_count": 1,
   "metadata": {},
   "outputs": [],
   "source": [
    "%%capture \n",
    "!pip install colpali-engine==0.3"
   ]
  },
  {
   "cell_type": "code",
   "execution_count": 2,
   "metadata": {},
   "outputs": [],
   "source": [
    "%%capture \n",
    "!pip install accelerate --upgrade"
   ]
  },
  {
   "cell_type": "code",
   "execution_count": 21,
   "metadata": {},
   "outputs": [],
   "source": [
    "%%capture\n",
    "!pip install huggingface_hub --upgrade\n",
    "\n"
   ]
  },
  {
   "cell_type": "code",
   "execution_count": 3,
   "metadata": {},
   "outputs": [
    {
     "data": {
      "text/plain": [
       "'1.1.0'"
      ]
     },
     "execution_count": 3,
     "metadata": {},
     "output_type": "execute_result"
    }
   ],
   "source": [
    "import accelerate\n",
    "accelerate.__version__"
   ]
  },
  {
   "cell_type": "code",
   "execution_count": 4,
   "metadata": {},
   "outputs": [
    {
     "data": {
      "text/plain": [
       "'2.2.2'"
      ]
     },
     "execution_count": 4,
     "metadata": {},
     "output_type": "execute_result"
    }
   ],
   "source": [
    "import torch\n",
    "torch.__version__"
   ]
  },
  {
   "cell_type": "code",
   "execution_count": 22,
   "metadata": {},
   "outputs": [
    {
     "data": {
      "text/plain": [
       "'0.25.1'"
      ]
     },
     "execution_count": 22,
     "metadata": {},
     "output_type": "execute_result"
    }
   ],
   "source": [
    "import huggingface_hub\n",
    "huggingface_hub.__version__"
   ]
  },
  {
   "cell_type": "code",
   "execution_count": 5,
   "metadata": {},
   "outputs": [
    {
     "name": "stderr",
     "output_type": "stream",
     "text": [
      "/Users/michielbontenbal/anaconda3/lib/python3.10/site-packages/torchvision/io/image.py:13: UserWarning: Failed to load image Python extension: 'dlopen(/Users/michielbontenbal/anaconda3/lib/python3.10/site-packages/torchvision/image.so, 0x0006): Symbol not found: __ZN3c1017RegisterOperatorsD1Ev\n",
      "  Referenced from: <2D89372E-C77C-3351-8455-B2E540126864> /Users/michielbontenbal/anaconda3/lib/python3.10/site-packages/torchvision/image.so\n",
      "  Expected in:     <A84DFEFF-287E-3B94-A7DB-731FA5F9CBBC> /Users/michielbontenbal/anaconda3/lib/python3.10/site-packages/torch/lib/libtorch_cpu.dylib'If you don't plan on using image functionality from `torchvision.io`, you can ignore this warning. Otherwise, there might be something wrong with your environment. Did you have `libjpeg` or `libpng` installed before building `torchvision` from source?\n",
      "  warn(\n"
     ]
    },
    {
     "name": "stdout",
     "output_type": "stream",
     "text": [
      "['BiIdefics2', 'BiPali', 'BiPaliProj', 'ColIdefics2', 'ColIdefics2Processor', 'ColPali', 'ColPaliProcessor', '__builtins__', '__cached__', '__doc__', '__file__', '__loader__', '__name__', '__package__', '__path__', '__spec__', 'models', 'utils']\n"
     ]
    }
   ],
   "source": [
    "import colpali_engine\n",
    "print(dir(colpali_engine))"
   ]
  },
  {
   "cell_type": "code",
   "execution_count": 8,
   "metadata": {},
   "outputs": [
    {
     "name": "stdout",
     "output_type": "stream",
     "text": [
      "['BiIdefics2', 'BiPali', 'BiPaliProj', 'ColIdefics2', 'ColIdefics2Processor', 'ColPali', 'ColPaliProcessor', '__builtins__', '__cached__', '__doc__', '__file__', '__loader__', '__name__', '__package__', '__path__', '__spec__', 'idefics_2', 'paligemma']\n",
      "['BiPali', 'BiPaliProj', 'ColPali', 'ColPaliProcessor', '__builtins__', '__cached__', '__doc__', '__file__', '__loader__', '__name__', '__package__', '__path__', '__spec__', 'bipali', 'colpali']\n"
     ]
    }
   ],
   "source": [
    "print(dir(colpali_engine.models))\n",
    "print(dir(colpali_engine.models.paligemma))"
   ]
  },
  {
   "cell_type": "code",
   "execution_count": 6,
   "metadata": {},
   "outputs": [
    {
     "name": "stderr",
     "output_type": "stream",
     "text": [
      "/Users/michielbontenbal/anaconda3/lib/python3.10/site-packages/torchvision/io/image.py:13: UserWarning: Failed to load image Python extension: 'dlopen(/Users/michielbontenbal/anaconda3/lib/python3.10/site-packages/torchvision/image.so, 0x0006): Symbol not found: __ZN3c1017RegisterOperatorsD1Ev\n",
      "  Referenced from: <2D89372E-C77C-3351-8455-B2E540126864> /Users/michielbontenbal/anaconda3/lib/python3.10/site-packages/torchvision/image.so\n",
      "  Expected in:     <A84DFEFF-287E-3B94-A7DB-731FA5F9CBBC> /Users/michielbontenbal/anaconda3/lib/python3.10/site-packages/torch/lib/libtorch_cpu.dylib'If you don't plan on using image functionality from `torchvision.io`, you can ignore this warning. Otherwise, there might be something wrong with your environment. Did you have `libjpeg` or `libpng` installed before building `torchvision` from source?\n",
      "  warn(\n"
     ]
    },
    {
     "name": "stdout",
     "output_type": "stream",
     "text": [
      "['T_destination', '__annotations__', '__call__', '__class__', '__delattr__', '__dict__', '__dir__', '__doc__', '__eq__', '__format__', '__ge__', '__getattr__', '__getattribute__', '__getstate__', '__gt__', '__hash__', '__init__', '__init_subclass__', '__le__', '__lt__', '__module__', '__ne__', '__new__', '__reduce__', '__reduce_ex__', '__repr__', '__setattr__', '__setstate__', '__sizeof__', '__str__', '__subclasshook__', '__weakref__', '_apply', '_assisted_decoding', '_auto_class', '_autoset_attn_implementation', '_backward_compatibility_gradient_checkpointing', '_beam_search', '_call_impl', '_check_and_enable_flash_attn_2', '_check_and_enable_sdpa', '_compiled_call_impl', '_constrained_beam_search', '_contrastive_search', '_convert_head_mask_to_5d', '_copy_lm_head_original_to_resized', '_create_repo', '_dispatch_accelerate_model', '_dola_decoding', '_expand_inputs_for_generation', '_extract_past_from_model_output', '_from_config', '_get_backward_hooks', '_get_backward_pre_hooks', '_get_cache', '_get_candidate_generator', '_get_files_timestamps', '_get_initial_cache_position', '_get_logits_processor', '_get_name', '_get_no_split_modules', '_get_resized_embeddings', '_get_resized_lm_head', '_get_stopping_criteria', '_group_beam_search', '_has_unfinished_sequences', '_hf_peft_config_loaded', '_hook_rss_memory_post_forward', '_hook_rss_memory_pre_forward', '_init_weights', '_initialize_weights', '_is_quantized_training_enabled', '_is_stateful', '_keep_in_fp32_modules', '_keys_to_ignore_on_load_missing', '_keys_to_ignore_on_load_unexpected', '_keys_to_ignore_on_save', '_load_from_state_dict', '_load_pretrained_model', '_load_pretrained_model_low_mem', '_maybe_initialize_input_ids_for_generation', '_maybe_warn_non_full_backward_hook', '_merge_criteria_processor_list', '_named_members', '_no_split_modules', '_prepare_attention_mask_for_generation', '_prepare_cache_for_generation', '_prepare_decoder_input_ids_for_generation', '_prepare_encoder_decoder_kwargs_for_generation', '_prepare_generated_length', '_prepare_generation_config', '_prepare_model_inputs', '_prepare_special_tokens', '_register_load_state_dict_pre_hook', '_register_state_dict_hook', '_reorder_cache', '_replicate_for_data_parallel', '_resize_token_embeddings', '_sample', '_save_to_state_dict', '_set_default_torch_dtype', '_set_gradient_checkpointing', '_skip_keys_device_placement', '_slow_forward', '_supports_cache_class', '_supports_default_dynamic_cache', '_supports_flash_attn_2', '_supports_num_logits_to_keep', '_supports_quantized_cache', '_supports_sdpa', '_supports_static_cache', '_temporary_reorder_cache', '_tie_encoder_decoder_weights', '_tie_or_clone_weights', '_tied_weights_keys', '_update_model_kwargs_for_generation', '_upload_modified_files', '_validate_assistant', '_validate_generated_length', '_validate_model_class', '_validate_model_kwargs', '_version', '_wrapped_call_impl', 'active_adapter', 'active_adapters', 'add_adapter', 'add_memory_hooks', 'add_model_tags', 'add_module', 'apply', 'base_model', 'base_model_prefix', 'bfloat16', 'buffers', 'call_super_init', 'can_generate', 'children', 'compile', 'compute_transition_scores', 'config_class', 'cpu', 'create_extended_attention_mask_for_decoder', 'cuda', 'dequantize', 'device', 'disable_adapters', 'disable_input_require_grads', 'double', 'dtype', 'dummy_inputs', 'dump_patches', 'enable_adapters', 'enable_input_require_grads', 'estimate_tokens', 'eval', 'extra_repr', 'float', 'floating_point_ops', 'forward', 'framework', 'from_pretrained', 'generate', 'get_adapter_state_dict', 'get_buffer', 'get_decoder', 'get_extended_attention_mask', 'get_extra_state', 'get_head_mask', 'get_input_embeddings', 'get_memory_footprint', 'get_output_embeddings', 'get_parameter', 'get_position_embeddings', 'get_submodule', 'gradient_checkpointing_disable', 'gradient_checkpointing_enable', 'half', 'heal_tokens', 'init_weights', 'invert_attention_mask', 'ipu', 'is_gradient_checkpointing', 'is_parallelizable', 'load_adapter', 'load_state_dict', 'main_input_name', 'model_tags', 'modules', 'named_buffers', 'named_children', 'named_modules', 'named_parameters', 'num_parameters', 'parameters', 'post_init', 'prepare_inputs_for_generation', 'prune_heads', 'push_to_hub', 'register_backward_hook', 'register_buffer', 'register_for_auto_class', 'register_forward_hook', 'register_forward_pre_hook', 'register_full_backward_hook', 'register_full_backward_pre_hook', 'register_load_state_dict_post_hook', 'register_module', 'register_parameter', 'register_state_dict_pre_hook', 'requires_grad_', 'reset_memory_hooks_state', 'resize_position_embeddings', 'resize_token_embeddings', 'retrieve_modules_from_names', 'reverse_bettertransformer', 'save_pretrained', 'set_adapter', 'set_decoder', 'set_extra_state', 'set_input_embeddings', 'set_output_embeddings', 'share_memory', 'state_dict', 'supports_gradient_checkpointing', 'tie_weights', 'to', 'to_bettertransformer', 'to_empty', 'train', 'type', 'warn_if_padding_and_no_attention_mask', 'xpu', 'zero_grad']\n"
     ]
    }
   ],
   "source": [
    "\n",
    "from colpali_engine.models.paligemma import colpali\n",
    "print(dir(colpali.ColPali))"
   ]
  },
  {
   "cell_type": "markdown",
   "metadata": {},
   "source": [
    "## 1. Download the model"
   ]
  },
  {
   "cell_type": "code",
   "execution_count": 7,
   "metadata": {},
   "outputs": [
    {
     "name": "stderr",
     "output_type": "stream",
     "text": [
      "`config.hidden_act` is ignored, you should use `config.hidden_activation` instead.\n",
      "Gemma's activation function will be set to `gelu_pytorch_tanh`. Please, use\n",
      "`config.hidden_activation` if you want to override this behaviour.\n",
      "See https://github.com/huggingface/transformers/pull/29402 for more details.\n"
     ]
    },
    {
     "data": {
      "application/vnd.jupyter.widget-view+json": {
       "model_id": "8ab046392a824c1981b3b9d214a8fdc3",
       "version_major": 2,
       "version_minor": 0
      },
      "text/plain": [
       "Loading checkpoint shards:   0%|          | 0/3 [00:00<?, ?it/s]"
      ]
     },
     "metadata": {},
     "output_type": "display_data"
    },
    {
     "name": "stderr",
     "output_type": "stream",
     "text": [
      "Some weights of ColPali were not initialized from the model checkpoint at google/paligemma-3b-mix-448 and are newly initialized: ['custom_text_proj.bias', 'custom_text_proj.weight']\n",
      "You should probably TRAIN this model on a down-stream task to be able to use it for predictions and inference.\n",
      "/Users/michielbontenbal/anaconda3/lib/python3.10/site-packages/bitsandbytes/cextension.py:34: UserWarning: The installed version of bitsandbytes was compiled without GPU support. 8-bit optimizers, 8-bit multiplication, and GPU quantization are unavailable.\n",
      "  warn(\"The installed version of bitsandbytes was compiled without GPU support. \"\n"
     ]
    },
    {
     "name": "stdout",
     "output_type": "stream",
     "text": [
      "'NoneType' object has no attribute 'cadam32bit_grad_fp32'\n"
     ]
    }
   ],
   "source": [
    "model = colpali.ColPali.from_pretrained(\"google/paligemma-3b-mix-448\", torch_dtype=torch.float16).to(device)\n",
    "model.load_adapter(\"vidore/colpali\")"
   ]
  },
  {
   "cell_type": "code",
   "execution_count": 9,
   "metadata": {},
   "outputs": [],
   "source": [
    "from typing import cast\n",
    "\n",
    "import torch\n",
    "from PIL import Image\n",
    "\n",
    "from colpali_engine.models.paligemma.colpali import ColPali, ColPaliProcessor"
   ]
  },
  {
   "cell_type": "markdown",
   "metadata": {},
   "source": [
    "This model is about 6 Gb large!"
   ]
  },
  {
   "cell_type": "code",
   "execution_count": 15,
   "metadata": {},
   "outputs": [
    {
     "data": {
      "application/vnd.jupyter.widget-view+json": {
       "model_id": "45f0849e6419470285a19b47e4a58bbb",
       "version_major": 2,
       "version_minor": 0
      },
      "text/plain": [
       "adapter_config.json:   0%|          | 0.00/750 [00:00<?, ?B/s]"
      ]
     },
     "metadata": {},
     "output_type": "display_data"
    },
    {
     "data": {
      "application/vnd.jupyter.widget-view+json": {
       "model_id": "46548237d89c481c95f0e2be3b919fb2",
       "version_major": 2,
       "version_minor": 0
      },
      "text/plain": [
       "config.json:   0%|          | 0.00/1.01k [00:00<?, ?B/s]"
      ]
     },
     "metadata": {},
     "output_type": "display_data"
    },
    {
     "data": {
      "application/vnd.jupyter.widget-view+json": {
       "model_id": "dfa45f62e97942ce8733e349670f5d1f",
       "version_major": 2,
       "version_minor": 0
      },
      "text/plain": [
       "model.safetensors.index.json:   0%|          | 0.00/66.3k [00:00<?, ?B/s]"
      ]
     },
     "metadata": {},
     "output_type": "display_data"
    },
    {
     "data": {
      "application/vnd.jupyter.widget-view+json": {
       "model_id": "4acc0ab768024160b2e7921f1ced5753",
       "version_major": 2,
       "version_minor": 0
      },
      "text/plain": [
       "Downloading shards:   0%|          | 0/2 [00:00<?, ?it/s]"
      ]
     },
     "metadata": {},
     "output_type": "display_data"
    },
    {
     "data": {
      "application/vnd.jupyter.widget-view+json": {
       "model_id": "3b0267cec89d414bb610d5ffbad65f03",
       "version_major": 2,
       "version_minor": 0
      },
      "text/plain": [
       "model-00001-of-00002.safetensors:   0%|          | 0.00/4.99G [00:00<?, ?B/s]"
      ]
     },
     "metadata": {},
     "output_type": "display_data"
    },
    {
     "ename": "KeyboardInterrupt",
     "evalue": "",
     "output_type": "error",
     "traceback": [
      "\u001b[0;31m---------------------------------------------------------------------------\u001b[0m",
      "\u001b[0;31mKeyboardInterrupt\u001b[0m                         Traceback (most recent call last)",
      "Cell \u001b[0;32mIn[15], line 3\u001b[0m\n\u001b[1;32m      1\u001b[0m model \u001b[38;5;241m=\u001b[39m cast(\n\u001b[1;32m      2\u001b[0m     ColPali,\n\u001b[0;32m----> 3\u001b[0m     \u001b[43mColPali\u001b[49m\u001b[38;5;241;43m.\u001b[39;49m\u001b[43mfrom_pretrained\u001b[49m\u001b[43m(\u001b[49m\n\u001b[1;32m      4\u001b[0m \u001b[43m        \u001b[49m\u001b[38;5;124;43m\"\u001b[39;49m\u001b[38;5;124;43mvidore/colpali-v1.2\u001b[39;49m\u001b[38;5;124;43m\"\u001b[39;49m\u001b[43m,\u001b[49m\n\u001b[1;32m      5\u001b[0m \u001b[43m        \u001b[49m\u001b[43mtorch_dtype\u001b[49m\u001b[38;5;241;43m=\u001b[39;49m\u001b[43mtorch\u001b[49m\u001b[38;5;241;43m.\u001b[39;49m\u001b[43mbfloat16\u001b[49m\u001b[43m,\u001b[49m\n\u001b[1;32m      6\u001b[0m \u001b[43m        \u001b[49m\u001b[43mdevice_map\u001b[49m\u001b[38;5;241;43m=\u001b[39;49m\u001b[43mdevice\u001b[49m\u001b[43m,\u001b[49m\u001b[43m  \u001b[49m\u001b[38;5;66;43;03m# or \"mps\" if on Apple Silicon\u001b[39;49;00m\n\u001b[1;32m      7\u001b[0m \u001b[43m    \u001b[49m\u001b[43m)\u001b[49m,\n\u001b[1;32m      8\u001b[0m )\n\u001b[1;32m     10\u001b[0m processor \u001b[38;5;241m=\u001b[39m cast(ColPaliProcessor, ColPaliProcessor\u001b[38;5;241m.\u001b[39mfrom_pretrained(\u001b[38;5;124m\"\u001b[39m\u001b[38;5;124mvidore/colpali-v1.2\u001b[39m\u001b[38;5;124m\"\u001b[39m))\n\u001b[1;32m     12\u001b[0m \u001b[38;5;66;03m# Your inputs\u001b[39;00m\n",
      "File \u001b[0;32m~/anaconda3/lib/python3.10/site-packages/transformers/modeling_utils.py:3769\u001b[0m, in \u001b[0;36mPreTrainedModel.from_pretrained\u001b[0;34m(cls, pretrained_model_name_or_path, config, cache_dir, ignore_mismatched_sizes, force_download, local_files_only, token, revision, use_safetensors, *model_args, **kwargs)\u001b[0m\n\u001b[1;32m   3766\u001b[0m \u001b[38;5;66;03m# We'll need to download and cache each checkpoint shard if the checkpoint is sharded.\u001b[39;00m\n\u001b[1;32m   3767\u001b[0m \u001b[38;5;28;01mif\u001b[39;00m is_sharded:\n\u001b[1;32m   3768\u001b[0m     \u001b[38;5;66;03m# resolved_archive_file becomes a list of files that point to the different checkpoint shards in this case.\u001b[39;00m\n\u001b[0;32m-> 3769\u001b[0m     resolved_archive_file, sharded_metadata \u001b[38;5;241m=\u001b[39m \u001b[43mget_checkpoint_shard_files\u001b[49m\u001b[43m(\u001b[49m\n\u001b[1;32m   3770\u001b[0m \u001b[43m        \u001b[49m\u001b[43mpretrained_model_name_or_path\u001b[49m\u001b[43m,\u001b[49m\n\u001b[1;32m   3771\u001b[0m \u001b[43m        \u001b[49m\u001b[43mresolved_archive_file\u001b[49m\u001b[43m,\u001b[49m\n\u001b[1;32m   3772\u001b[0m \u001b[43m        \u001b[49m\u001b[43mcache_dir\u001b[49m\u001b[38;5;241;43m=\u001b[39;49m\u001b[43mcache_dir\u001b[49m\u001b[43m,\u001b[49m\n\u001b[1;32m   3773\u001b[0m \u001b[43m        \u001b[49m\u001b[43mforce_download\u001b[49m\u001b[38;5;241;43m=\u001b[39;49m\u001b[43mforce_download\u001b[49m\u001b[43m,\u001b[49m\n\u001b[1;32m   3774\u001b[0m \u001b[43m        \u001b[49m\u001b[43mproxies\u001b[49m\u001b[38;5;241;43m=\u001b[39;49m\u001b[43mproxies\u001b[49m\u001b[43m,\u001b[49m\n\u001b[1;32m   3775\u001b[0m \u001b[43m        \u001b[49m\u001b[43mresume_download\u001b[49m\u001b[38;5;241;43m=\u001b[39;49m\u001b[43mresume_download\u001b[49m\u001b[43m,\u001b[49m\n\u001b[1;32m   3776\u001b[0m \u001b[43m        \u001b[49m\u001b[43mlocal_files_only\u001b[49m\u001b[38;5;241;43m=\u001b[39;49m\u001b[43mlocal_files_only\u001b[49m\u001b[43m,\u001b[49m\n\u001b[1;32m   3777\u001b[0m \u001b[43m        \u001b[49m\u001b[43mtoken\u001b[49m\u001b[38;5;241;43m=\u001b[39;49m\u001b[43mtoken\u001b[49m\u001b[43m,\u001b[49m\n\u001b[1;32m   3778\u001b[0m \u001b[43m        \u001b[49m\u001b[43muser_agent\u001b[49m\u001b[38;5;241;43m=\u001b[39;49m\u001b[43muser_agent\u001b[49m\u001b[43m,\u001b[49m\n\u001b[1;32m   3779\u001b[0m \u001b[43m        \u001b[49m\u001b[43mrevision\u001b[49m\u001b[38;5;241;43m=\u001b[39;49m\u001b[43mrevision\u001b[49m\u001b[43m,\u001b[49m\n\u001b[1;32m   3780\u001b[0m \u001b[43m        \u001b[49m\u001b[43msubfolder\u001b[49m\u001b[38;5;241;43m=\u001b[39;49m\u001b[43msubfolder\u001b[49m\u001b[43m,\u001b[49m\n\u001b[1;32m   3781\u001b[0m \u001b[43m        \u001b[49m\u001b[43m_commit_hash\u001b[49m\u001b[38;5;241;43m=\u001b[39;49m\u001b[43mcommit_hash\u001b[49m\u001b[43m,\u001b[49m\n\u001b[1;32m   3782\u001b[0m \u001b[43m    \u001b[49m\u001b[43m)\u001b[49m\n\u001b[1;32m   3784\u001b[0m \u001b[38;5;28;01mif\u001b[39;00m (\n\u001b[1;32m   3785\u001b[0m     is_safetensors_available()\n\u001b[1;32m   3786\u001b[0m     \u001b[38;5;129;01mand\u001b[39;00m \u001b[38;5;28misinstance\u001b[39m(resolved_archive_file, \u001b[38;5;28mstr\u001b[39m)\n\u001b[1;32m   3787\u001b[0m     \u001b[38;5;129;01mand\u001b[39;00m resolved_archive_file\u001b[38;5;241m.\u001b[39mendswith(\u001b[38;5;124m\"\u001b[39m\u001b[38;5;124m.safetensors\u001b[39m\u001b[38;5;124m\"\u001b[39m)\n\u001b[1;32m   3788\u001b[0m ):\n\u001b[1;32m   3789\u001b[0m     \u001b[38;5;28;01mwith\u001b[39;00m safe_open(resolved_archive_file, framework\u001b[38;5;241m=\u001b[39m\u001b[38;5;124m\"\u001b[39m\u001b[38;5;124mpt\u001b[39m\u001b[38;5;124m\"\u001b[39m) \u001b[38;5;28;01mas\u001b[39;00m f:\n",
      "File \u001b[0;32m~/anaconda3/lib/python3.10/site-packages/transformers/utils/hub.py:1098\u001b[0m, in \u001b[0;36mget_checkpoint_shard_files\u001b[0;34m(pretrained_model_name_or_path, index_filename, cache_dir, force_download, proxies, resume_download, local_files_only, token, user_agent, revision, subfolder, _commit_hash, **deprecated_kwargs)\u001b[0m\n\u001b[1;32m   1095\u001b[0m \u001b[38;5;28;01mfor\u001b[39;00m shard_filename \u001b[38;5;129;01min\u001b[39;00m tqdm(shard_filenames, desc\u001b[38;5;241m=\u001b[39m\u001b[38;5;124m\"\u001b[39m\u001b[38;5;124mDownloading shards\u001b[39m\u001b[38;5;124m\"\u001b[39m, disable\u001b[38;5;241m=\u001b[39m\u001b[38;5;129;01mnot\u001b[39;00m show_progress_bar):\n\u001b[1;32m   1096\u001b[0m     \u001b[38;5;28;01mtry\u001b[39;00m:\n\u001b[1;32m   1097\u001b[0m         \u001b[38;5;66;03m# Load from URL\u001b[39;00m\n\u001b[0;32m-> 1098\u001b[0m         cached_filename \u001b[38;5;241m=\u001b[39m \u001b[43mcached_file\u001b[49m\u001b[43m(\u001b[49m\n\u001b[1;32m   1099\u001b[0m \u001b[43m            \u001b[49m\u001b[43mpretrained_model_name_or_path\u001b[49m\u001b[43m,\u001b[49m\n\u001b[1;32m   1100\u001b[0m \u001b[43m            \u001b[49m\u001b[43mshard_filename\u001b[49m\u001b[43m,\u001b[49m\n\u001b[1;32m   1101\u001b[0m \u001b[43m            \u001b[49m\u001b[43mcache_dir\u001b[49m\u001b[38;5;241;43m=\u001b[39;49m\u001b[43mcache_dir\u001b[49m\u001b[43m,\u001b[49m\n\u001b[1;32m   1102\u001b[0m \u001b[43m            \u001b[49m\u001b[43mforce_download\u001b[49m\u001b[38;5;241;43m=\u001b[39;49m\u001b[43mforce_download\u001b[49m\u001b[43m,\u001b[49m\n\u001b[1;32m   1103\u001b[0m \u001b[43m            \u001b[49m\u001b[43mproxies\u001b[49m\u001b[38;5;241;43m=\u001b[39;49m\u001b[43mproxies\u001b[49m\u001b[43m,\u001b[49m\n\u001b[1;32m   1104\u001b[0m \u001b[43m            \u001b[49m\u001b[43mresume_download\u001b[49m\u001b[38;5;241;43m=\u001b[39;49m\u001b[43mresume_download\u001b[49m\u001b[43m,\u001b[49m\n\u001b[1;32m   1105\u001b[0m \u001b[43m            \u001b[49m\u001b[43mlocal_files_only\u001b[49m\u001b[38;5;241;43m=\u001b[39;49m\u001b[43mlocal_files_only\u001b[49m\u001b[43m,\u001b[49m\n\u001b[1;32m   1106\u001b[0m \u001b[43m            \u001b[49m\u001b[43mtoken\u001b[49m\u001b[38;5;241;43m=\u001b[39;49m\u001b[43mtoken\u001b[49m\u001b[43m,\u001b[49m\n\u001b[1;32m   1107\u001b[0m \u001b[43m            \u001b[49m\u001b[43muser_agent\u001b[49m\u001b[38;5;241;43m=\u001b[39;49m\u001b[43muser_agent\u001b[49m\u001b[43m,\u001b[49m\n\u001b[1;32m   1108\u001b[0m \u001b[43m            \u001b[49m\u001b[43mrevision\u001b[49m\u001b[38;5;241;43m=\u001b[39;49m\u001b[43mrevision\u001b[49m\u001b[43m,\u001b[49m\n\u001b[1;32m   1109\u001b[0m \u001b[43m            \u001b[49m\u001b[43msubfolder\u001b[49m\u001b[38;5;241;43m=\u001b[39;49m\u001b[43msubfolder\u001b[49m\u001b[43m,\u001b[49m\n\u001b[1;32m   1110\u001b[0m \u001b[43m            \u001b[49m\u001b[43m_commit_hash\u001b[49m\u001b[38;5;241;43m=\u001b[39;49m\u001b[43m_commit_hash\u001b[49m\u001b[43m,\u001b[49m\n\u001b[1;32m   1111\u001b[0m \u001b[43m        \u001b[49m\u001b[43m)\u001b[49m\n\u001b[1;32m   1112\u001b[0m     \u001b[38;5;66;03m# We have already dealt with RepositoryNotFoundError and RevisionNotFoundError when getting the index, so\u001b[39;00m\n\u001b[1;32m   1113\u001b[0m     \u001b[38;5;66;03m# we don't have to catch them here.\u001b[39;00m\n\u001b[1;32m   1114\u001b[0m     \u001b[38;5;28;01mexcept\u001b[39;00m EntryNotFoundError:\n",
      "File \u001b[0;32m~/anaconda3/lib/python3.10/site-packages/transformers/utils/hub.py:403\u001b[0m, in \u001b[0;36mcached_file\u001b[0;34m(path_or_repo_id, filename, cache_dir, force_download, resume_download, proxies, token, revision, local_files_only, subfolder, repo_type, user_agent, _raise_exceptions_for_gated_repo, _raise_exceptions_for_missing_entries, _raise_exceptions_for_connection_errors, _commit_hash, **deprecated_kwargs)\u001b[0m\n\u001b[1;32m    400\u001b[0m user_agent \u001b[38;5;241m=\u001b[39m http_user_agent(user_agent)\n\u001b[1;32m    401\u001b[0m \u001b[38;5;28;01mtry\u001b[39;00m:\n\u001b[1;32m    402\u001b[0m     \u001b[38;5;66;03m# Load from URL or cache if already cached\u001b[39;00m\n\u001b[0;32m--> 403\u001b[0m     resolved_file \u001b[38;5;241m=\u001b[39m \u001b[43mhf_hub_download\u001b[49m\u001b[43m(\u001b[49m\n\u001b[1;32m    404\u001b[0m \u001b[43m        \u001b[49m\u001b[43mpath_or_repo_id\u001b[49m\u001b[43m,\u001b[49m\n\u001b[1;32m    405\u001b[0m \u001b[43m        \u001b[49m\u001b[43mfilename\u001b[49m\u001b[43m,\u001b[49m\n\u001b[1;32m    406\u001b[0m \u001b[43m        \u001b[49m\u001b[43msubfolder\u001b[49m\u001b[38;5;241;43m=\u001b[39;49m\u001b[38;5;28;43;01mNone\u001b[39;49;00m\u001b[43m \u001b[49m\u001b[38;5;28;43;01mif\u001b[39;49;00m\u001b[43m \u001b[49m\u001b[38;5;28;43mlen\u001b[39;49m\u001b[43m(\u001b[49m\u001b[43msubfolder\u001b[49m\u001b[43m)\u001b[49m\u001b[43m \u001b[49m\u001b[38;5;241;43m==\u001b[39;49m\u001b[43m \u001b[49m\u001b[38;5;241;43m0\u001b[39;49m\u001b[43m \u001b[49m\u001b[38;5;28;43;01melse\u001b[39;49;00m\u001b[43m \u001b[49m\u001b[43msubfolder\u001b[49m\u001b[43m,\u001b[49m\n\u001b[1;32m    407\u001b[0m \u001b[43m        \u001b[49m\u001b[43mrepo_type\u001b[49m\u001b[38;5;241;43m=\u001b[39;49m\u001b[43mrepo_type\u001b[49m\u001b[43m,\u001b[49m\n\u001b[1;32m    408\u001b[0m \u001b[43m        \u001b[49m\u001b[43mrevision\u001b[49m\u001b[38;5;241;43m=\u001b[39;49m\u001b[43mrevision\u001b[49m\u001b[43m,\u001b[49m\n\u001b[1;32m    409\u001b[0m \u001b[43m        \u001b[49m\u001b[43mcache_dir\u001b[49m\u001b[38;5;241;43m=\u001b[39;49m\u001b[43mcache_dir\u001b[49m\u001b[43m,\u001b[49m\n\u001b[1;32m    410\u001b[0m \u001b[43m        \u001b[49m\u001b[43muser_agent\u001b[49m\u001b[38;5;241;43m=\u001b[39;49m\u001b[43muser_agent\u001b[49m\u001b[43m,\u001b[49m\n\u001b[1;32m    411\u001b[0m \u001b[43m        \u001b[49m\u001b[43mforce_download\u001b[49m\u001b[38;5;241;43m=\u001b[39;49m\u001b[43mforce_download\u001b[49m\u001b[43m,\u001b[49m\n\u001b[1;32m    412\u001b[0m \u001b[43m        \u001b[49m\u001b[43mproxies\u001b[49m\u001b[38;5;241;43m=\u001b[39;49m\u001b[43mproxies\u001b[49m\u001b[43m,\u001b[49m\n\u001b[1;32m    413\u001b[0m \u001b[43m        \u001b[49m\u001b[43mresume_download\u001b[49m\u001b[38;5;241;43m=\u001b[39;49m\u001b[43mresume_download\u001b[49m\u001b[43m,\u001b[49m\n\u001b[1;32m    414\u001b[0m \u001b[43m        \u001b[49m\u001b[43mtoken\u001b[49m\u001b[38;5;241;43m=\u001b[39;49m\u001b[43mtoken\u001b[49m\u001b[43m,\u001b[49m\n\u001b[1;32m    415\u001b[0m \u001b[43m        \u001b[49m\u001b[43mlocal_files_only\u001b[49m\u001b[38;5;241;43m=\u001b[39;49m\u001b[43mlocal_files_only\u001b[49m\u001b[43m,\u001b[49m\n\u001b[1;32m    416\u001b[0m \u001b[43m    \u001b[49m\u001b[43m)\u001b[49m\n\u001b[1;32m    417\u001b[0m \u001b[38;5;28;01mexcept\u001b[39;00m GatedRepoError \u001b[38;5;28;01mas\u001b[39;00m e:\n\u001b[1;32m    418\u001b[0m     resolved_file \u001b[38;5;241m=\u001b[39m _get_cache_file_to_return(path_or_repo_id, full_filename, cache_dir, revision)\n",
      "File \u001b[0;32m~/anaconda3/lib/python3.10/site-packages/huggingface_hub/utils/_validators.py:114\u001b[0m, in \u001b[0;36mvalidate_hf_hub_args.<locals>._inner_fn\u001b[0;34m(*args, **kwargs)\u001b[0m\n\u001b[1;32m    111\u001b[0m \u001b[38;5;28;01mif\u001b[39;00m check_use_auth_token:\n\u001b[1;32m    112\u001b[0m     kwargs \u001b[38;5;241m=\u001b[39m smoothly_deprecate_use_auth_token(fn_name\u001b[38;5;241m=\u001b[39mfn\u001b[38;5;241m.\u001b[39m\u001b[38;5;18m__name__\u001b[39m, has_token\u001b[38;5;241m=\u001b[39mhas_token, kwargs\u001b[38;5;241m=\u001b[39mkwargs)\n\u001b[0;32m--> 114\u001b[0m \u001b[38;5;28;01mreturn\u001b[39;00m \u001b[43mfn\u001b[49m\u001b[43m(\u001b[49m\u001b[38;5;241;43m*\u001b[39;49m\u001b[43margs\u001b[49m\u001b[43m,\u001b[49m\u001b[43m \u001b[49m\u001b[38;5;241;43m*\u001b[39;49m\u001b[38;5;241;43m*\u001b[39;49m\u001b[43mkwargs\u001b[49m\u001b[43m)\u001b[49m\n",
      "File \u001b[0;32m~/anaconda3/lib/python3.10/site-packages/huggingface_hub/file_download.py:862\u001b[0m, in \u001b[0;36mhf_hub_download\u001b[0;34m(repo_id, filename, subfolder, repo_type, revision, library_name, library_version, cache_dir, local_dir, user_agent, force_download, proxies, etag_timeout, token, local_files_only, headers, endpoint, resume_download, force_filename, local_dir_use_symlinks)\u001b[0m\n\u001b[1;32m    842\u001b[0m     \u001b[38;5;28;01mreturn\u001b[39;00m _hf_hub_download_to_local_dir(\n\u001b[1;32m    843\u001b[0m         \u001b[38;5;66;03m# Destination\u001b[39;00m\n\u001b[1;32m    844\u001b[0m         local_dir\u001b[38;5;241m=\u001b[39mlocal_dir,\n\u001b[0;32m   (...)\u001b[0m\n\u001b[1;32m    859\u001b[0m         local_files_only\u001b[38;5;241m=\u001b[39mlocal_files_only,\n\u001b[1;32m    860\u001b[0m     )\n\u001b[1;32m    861\u001b[0m \u001b[38;5;28;01melse\u001b[39;00m:\n\u001b[0;32m--> 862\u001b[0m     \u001b[38;5;28;01mreturn\u001b[39;00m \u001b[43m_hf_hub_download_to_cache_dir\u001b[49m\u001b[43m(\u001b[49m\n\u001b[1;32m    863\u001b[0m \u001b[43m        \u001b[49m\u001b[38;5;66;43;03m# Destination\u001b[39;49;00m\n\u001b[1;32m    864\u001b[0m \u001b[43m        \u001b[49m\u001b[43mcache_dir\u001b[49m\u001b[38;5;241;43m=\u001b[39;49m\u001b[43mcache_dir\u001b[49m\u001b[43m,\u001b[49m\n\u001b[1;32m    865\u001b[0m \u001b[43m        \u001b[49m\u001b[38;5;66;43;03m# File info\u001b[39;49;00m\n\u001b[1;32m    866\u001b[0m \u001b[43m        \u001b[49m\u001b[43mrepo_id\u001b[49m\u001b[38;5;241;43m=\u001b[39;49m\u001b[43mrepo_id\u001b[49m\u001b[43m,\u001b[49m\n\u001b[1;32m    867\u001b[0m \u001b[43m        \u001b[49m\u001b[43mfilename\u001b[49m\u001b[38;5;241;43m=\u001b[39;49m\u001b[43mfilename\u001b[49m\u001b[43m,\u001b[49m\n\u001b[1;32m    868\u001b[0m \u001b[43m        \u001b[49m\u001b[43mrepo_type\u001b[49m\u001b[38;5;241;43m=\u001b[39;49m\u001b[43mrepo_type\u001b[49m\u001b[43m,\u001b[49m\n\u001b[1;32m    869\u001b[0m \u001b[43m        \u001b[49m\u001b[43mrevision\u001b[49m\u001b[38;5;241;43m=\u001b[39;49m\u001b[43mrevision\u001b[49m\u001b[43m,\u001b[49m\n\u001b[1;32m    870\u001b[0m \u001b[43m        \u001b[49m\u001b[38;5;66;43;03m# HTTP info\u001b[39;49;00m\n\u001b[1;32m    871\u001b[0m \u001b[43m        \u001b[49m\u001b[43mendpoint\u001b[49m\u001b[38;5;241;43m=\u001b[39;49m\u001b[43mendpoint\u001b[49m\u001b[43m,\u001b[49m\n\u001b[1;32m    872\u001b[0m \u001b[43m        \u001b[49m\u001b[43metag_timeout\u001b[49m\u001b[38;5;241;43m=\u001b[39;49m\u001b[43metag_timeout\u001b[49m\u001b[43m,\u001b[49m\n\u001b[1;32m    873\u001b[0m \u001b[43m        \u001b[49m\u001b[43mheaders\u001b[49m\u001b[38;5;241;43m=\u001b[39;49m\u001b[43mheaders\u001b[49m\u001b[43m,\u001b[49m\n\u001b[1;32m    874\u001b[0m \u001b[43m        \u001b[49m\u001b[43mproxies\u001b[49m\u001b[38;5;241;43m=\u001b[39;49m\u001b[43mproxies\u001b[49m\u001b[43m,\u001b[49m\n\u001b[1;32m    875\u001b[0m \u001b[43m        \u001b[49m\u001b[43mtoken\u001b[49m\u001b[38;5;241;43m=\u001b[39;49m\u001b[43mtoken\u001b[49m\u001b[43m,\u001b[49m\n\u001b[1;32m    876\u001b[0m \u001b[43m        \u001b[49m\u001b[38;5;66;43;03m# Additional options\u001b[39;49;00m\n\u001b[1;32m    877\u001b[0m \u001b[43m        \u001b[49m\u001b[43mlocal_files_only\u001b[49m\u001b[38;5;241;43m=\u001b[39;49m\u001b[43mlocal_files_only\u001b[49m\u001b[43m,\u001b[49m\n\u001b[1;32m    878\u001b[0m \u001b[43m        \u001b[49m\u001b[43mforce_download\u001b[49m\u001b[38;5;241;43m=\u001b[39;49m\u001b[43mforce_download\u001b[49m\u001b[43m,\u001b[49m\n\u001b[1;32m    879\u001b[0m \u001b[43m    \u001b[49m\u001b[43m)\u001b[49m\n",
      "File \u001b[0;32m~/anaconda3/lib/python3.10/site-packages/huggingface_hub/file_download.py:1011\u001b[0m, in \u001b[0;36m_hf_hub_download_to_cache_dir\u001b[0;34m(cache_dir, repo_id, filename, repo_type, revision, endpoint, etag_timeout, headers, proxies, token, local_files_only, force_download)\u001b[0m\n\u001b[1;32m   1009\u001b[0m Path(lock_path)\u001b[38;5;241m.\u001b[39mparent\u001b[38;5;241m.\u001b[39mmkdir(parents\u001b[38;5;241m=\u001b[39m\u001b[38;5;28;01mTrue\u001b[39;00m, exist_ok\u001b[38;5;241m=\u001b[39m\u001b[38;5;28;01mTrue\u001b[39;00m)\n\u001b[1;32m   1010\u001b[0m \u001b[38;5;28;01mwith\u001b[39;00m WeakFileLock(lock_path):\n\u001b[0;32m-> 1011\u001b[0m     \u001b[43m_download_to_tmp_and_move\u001b[49m\u001b[43m(\u001b[49m\n\u001b[1;32m   1012\u001b[0m \u001b[43m        \u001b[49m\u001b[43mincomplete_path\u001b[49m\u001b[38;5;241;43m=\u001b[39;49m\u001b[43mPath\u001b[49m\u001b[43m(\u001b[49m\u001b[43mblob_path\u001b[49m\u001b[43m \u001b[49m\u001b[38;5;241;43m+\u001b[39;49m\u001b[43m \u001b[49m\u001b[38;5;124;43m\"\u001b[39;49m\u001b[38;5;124;43m.incomplete\u001b[39;49m\u001b[38;5;124;43m\"\u001b[39;49m\u001b[43m)\u001b[49m\u001b[43m,\u001b[49m\n\u001b[1;32m   1013\u001b[0m \u001b[43m        \u001b[49m\u001b[43mdestination_path\u001b[49m\u001b[38;5;241;43m=\u001b[39;49m\u001b[43mPath\u001b[49m\u001b[43m(\u001b[49m\u001b[43mblob_path\u001b[49m\u001b[43m)\u001b[49m\u001b[43m,\u001b[49m\n\u001b[1;32m   1014\u001b[0m \u001b[43m        \u001b[49m\u001b[43murl_to_download\u001b[49m\u001b[38;5;241;43m=\u001b[39;49m\u001b[43murl_to_download\u001b[49m\u001b[43m,\u001b[49m\n\u001b[1;32m   1015\u001b[0m \u001b[43m        \u001b[49m\u001b[43mproxies\u001b[49m\u001b[38;5;241;43m=\u001b[39;49m\u001b[43mproxies\u001b[49m\u001b[43m,\u001b[49m\n\u001b[1;32m   1016\u001b[0m \u001b[43m        \u001b[49m\u001b[43mheaders\u001b[49m\u001b[38;5;241;43m=\u001b[39;49m\u001b[43mheaders\u001b[49m\u001b[43m,\u001b[49m\n\u001b[1;32m   1017\u001b[0m \u001b[43m        \u001b[49m\u001b[43mexpected_size\u001b[49m\u001b[38;5;241;43m=\u001b[39;49m\u001b[43mexpected_size\u001b[49m\u001b[43m,\u001b[49m\n\u001b[1;32m   1018\u001b[0m \u001b[43m        \u001b[49m\u001b[43mfilename\u001b[49m\u001b[38;5;241;43m=\u001b[39;49m\u001b[43mfilename\u001b[49m\u001b[43m,\u001b[49m\n\u001b[1;32m   1019\u001b[0m \u001b[43m        \u001b[49m\u001b[43mforce_download\u001b[49m\u001b[38;5;241;43m=\u001b[39;49m\u001b[43mforce_download\u001b[49m\u001b[43m,\u001b[49m\n\u001b[1;32m   1020\u001b[0m \u001b[43m    \u001b[49m\u001b[43m)\u001b[49m\n\u001b[1;32m   1021\u001b[0m     \u001b[38;5;28;01mif\u001b[39;00m \u001b[38;5;129;01mnot\u001b[39;00m os\u001b[38;5;241m.\u001b[39mpath\u001b[38;5;241m.\u001b[39mexists(pointer_path):\n\u001b[1;32m   1022\u001b[0m         _create_symlink(blob_path, pointer_path, new_blob\u001b[38;5;241m=\u001b[39m\u001b[38;5;28;01mTrue\u001b[39;00m)\n",
      "File \u001b[0;32m~/anaconda3/lib/python3.10/site-packages/huggingface_hub/file_download.py:1545\u001b[0m, in \u001b[0;36m_download_to_tmp_and_move\u001b[0;34m(incomplete_path, destination_path, url_to_download, proxies, headers, expected_size, filename, force_download)\u001b[0m\n\u001b[1;32m   1542\u001b[0m         _check_disk_space(expected_size, incomplete_path\u001b[38;5;241m.\u001b[39mparent)\n\u001b[1;32m   1543\u001b[0m         _check_disk_space(expected_size, destination_path\u001b[38;5;241m.\u001b[39mparent)\n\u001b[0;32m-> 1545\u001b[0m     \u001b[43mhttp_get\u001b[49m\u001b[43m(\u001b[49m\n\u001b[1;32m   1546\u001b[0m \u001b[43m        \u001b[49m\u001b[43murl_to_download\u001b[49m\u001b[43m,\u001b[49m\n\u001b[1;32m   1547\u001b[0m \u001b[43m        \u001b[49m\u001b[43mf\u001b[49m\u001b[43m,\u001b[49m\n\u001b[1;32m   1548\u001b[0m \u001b[43m        \u001b[49m\u001b[43mproxies\u001b[49m\u001b[38;5;241;43m=\u001b[39;49m\u001b[43mproxies\u001b[49m\u001b[43m,\u001b[49m\n\u001b[1;32m   1549\u001b[0m \u001b[43m        \u001b[49m\u001b[43mresume_size\u001b[49m\u001b[38;5;241;43m=\u001b[39;49m\u001b[43mresume_size\u001b[49m\u001b[43m,\u001b[49m\n\u001b[1;32m   1550\u001b[0m \u001b[43m        \u001b[49m\u001b[43mheaders\u001b[49m\u001b[38;5;241;43m=\u001b[39;49m\u001b[43mheaders\u001b[49m\u001b[43m,\u001b[49m\n\u001b[1;32m   1551\u001b[0m \u001b[43m        \u001b[49m\u001b[43mexpected_size\u001b[49m\u001b[38;5;241;43m=\u001b[39;49m\u001b[43mexpected_size\u001b[49m\u001b[43m,\u001b[49m\n\u001b[1;32m   1552\u001b[0m \u001b[43m    \u001b[49m\u001b[43m)\u001b[49m\n\u001b[1;32m   1554\u001b[0m logger\u001b[38;5;241m.\u001b[39minfo(\u001b[38;5;124mf\u001b[39m\u001b[38;5;124m\"\u001b[39m\u001b[38;5;124mDownload complete. Moving file to \u001b[39m\u001b[38;5;132;01m{\u001b[39;00mdestination_path\u001b[38;5;132;01m}\u001b[39;00m\u001b[38;5;124m\"\u001b[39m)\n\u001b[1;32m   1555\u001b[0m _chmod_and_move(incomplete_path, destination_path)\n",
      "File \u001b[0;32m~/anaconda3/lib/python3.10/site-packages/huggingface_hub/file_download.py:454\u001b[0m, in \u001b[0;36mhttp_get\u001b[0;34m(url, temp_file, proxies, resume_size, headers, expected_size, displayed_filename, _nb_retries, _tqdm_bar)\u001b[0m\n\u001b[1;32m    452\u001b[0m new_resume_size \u001b[38;5;241m=\u001b[39m resume_size\n\u001b[1;32m    453\u001b[0m \u001b[38;5;28;01mtry\u001b[39;00m:\n\u001b[0;32m--> 454\u001b[0m     \u001b[38;5;28;01mfor\u001b[39;00m chunk \u001b[38;5;129;01min\u001b[39;00m r\u001b[38;5;241m.\u001b[39miter_content(chunk_size\u001b[38;5;241m=\u001b[39mconstants\u001b[38;5;241m.\u001b[39mDOWNLOAD_CHUNK_SIZE):\n\u001b[1;32m    455\u001b[0m         \u001b[38;5;28;01mif\u001b[39;00m chunk:  \u001b[38;5;66;03m# filter out keep-alive new chunks\u001b[39;00m\n\u001b[1;32m    456\u001b[0m             progress\u001b[38;5;241m.\u001b[39mupdate(\u001b[38;5;28mlen\u001b[39m(chunk))\n",
      "File \u001b[0;32m~/anaconda3/lib/python3.10/site-packages/requests/models.py:820\u001b[0m, in \u001b[0;36mResponse.iter_content.<locals>.generate\u001b[0;34m()\u001b[0m\n\u001b[1;32m    818\u001b[0m \u001b[38;5;28;01mif\u001b[39;00m \u001b[38;5;28mhasattr\u001b[39m(\u001b[38;5;28mself\u001b[39m\u001b[38;5;241m.\u001b[39mraw, \u001b[38;5;124m\"\u001b[39m\u001b[38;5;124mstream\u001b[39m\u001b[38;5;124m\"\u001b[39m):\n\u001b[1;32m    819\u001b[0m     \u001b[38;5;28;01mtry\u001b[39;00m:\n\u001b[0;32m--> 820\u001b[0m         \u001b[38;5;28;01myield from\u001b[39;00m \u001b[38;5;28mself\u001b[39m\u001b[38;5;241m.\u001b[39mraw\u001b[38;5;241m.\u001b[39mstream(chunk_size, decode_content\u001b[38;5;241m=\u001b[39m\u001b[38;5;28;01mTrue\u001b[39;00m)\n\u001b[1;32m    821\u001b[0m     \u001b[38;5;28;01mexcept\u001b[39;00m ProtocolError \u001b[38;5;28;01mas\u001b[39;00m e:\n\u001b[1;32m    822\u001b[0m         \u001b[38;5;28;01mraise\u001b[39;00m ChunkedEncodingError(e)\n",
      "File \u001b[0;32m~/anaconda3/lib/python3.10/site-packages/urllib3/response.py:1043\u001b[0m, in \u001b[0;36mHTTPResponse.stream\u001b[0;34m(self, amt, decode_content)\u001b[0m\n\u001b[1;32m   1041\u001b[0m \u001b[38;5;28;01melse\u001b[39;00m:\n\u001b[1;32m   1042\u001b[0m     \u001b[38;5;28;01mwhile\u001b[39;00m \u001b[38;5;129;01mnot\u001b[39;00m is_fp_closed(\u001b[38;5;28mself\u001b[39m\u001b[38;5;241m.\u001b[39m_fp) \u001b[38;5;129;01mor\u001b[39;00m \u001b[38;5;28mlen\u001b[39m(\u001b[38;5;28mself\u001b[39m\u001b[38;5;241m.\u001b[39m_decoded_buffer) \u001b[38;5;241m>\u001b[39m \u001b[38;5;241m0\u001b[39m:\n\u001b[0;32m-> 1043\u001b[0m         data \u001b[38;5;241m=\u001b[39m \u001b[38;5;28;43mself\u001b[39;49m\u001b[38;5;241;43m.\u001b[39;49m\u001b[43mread\u001b[49m\u001b[43m(\u001b[49m\u001b[43mamt\u001b[49m\u001b[38;5;241;43m=\u001b[39;49m\u001b[43mamt\u001b[49m\u001b[43m,\u001b[49m\u001b[43m \u001b[49m\u001b[43mdecode_content\u001b[49m\u001b[38;5;241;43m=\u001b[39;49m\u001b[43mdecode_content\u001b[49m\u001b[43m)\u001b[49m\n\u001b[1;32m   1045\u001b[0m         \u001b[38;5;28;01mif\u001b[39;00m data:\n\u001b[1;32m   1046\u001b[0m             \u001b[38;5;28;01myield\u001b[39;00m data\n",
      "File \u001b[0;32m~/anaconda3/lib/python3.10/site-packages/urllib3/response.py:935\u001b[0m, in \u001b[0;36mHTTPResponse.read\u001b[0;34m(self, amt, decode_content, cache_content)\u001b[0m\n\u001b[1;32m    932\u001b[0m     \u001b[38;5;28;01mif\u001b[39;00m \u001b[38;5;28mlen\u001b[39m(\u001b[38;5;28mself\u001b[39m\u001b[38;5;241m.\u001b[39m_decoded_buffer) \u001b[38;5;241m>\u001b[39m\u001b[38;5;241m=\u001b[39m amt:\n\u001b[1;32m    933\u001b[0m         \u001b[38;5;28;01mreturn\u001b[39;00m \u001b[38;5;28mself\u001b[39m\u001b[38;5;241m.\u001b[39m_decoded_buffer\u001b[38;5;241m.\u001b[39mget(amt)\n\u001b[0;32m--> 935\u001b[0m data \u001b[38;5;241m=\u001b[39m \u001b[38;5;28;43mself\u001b[39;49m\u001b[38;5;241;43m.\u001b[39;49m\u001b[43m_raw_read\u001b[49m\u001b[43m(\u001b[49m\u001b[43mamt\u001b[49m\u001b[43m)\u001b[49m\n\u001b[1;32m    937\u001b[0m flush_decoder \u001b[38;5;241m=\u001b[39m amt \u001b[38;5;129;01mis\u001b[39;00m \u001b[38;5;28;01mNone\u001b[39;00m \u001b[38;5;129;01mor\u001b[39;00m (amt \u001b[38;5;241m!=\u001b[39m \u001b[38;5;241m0\u001b[39m \u001b[38;5;129;01mand\u001b[39;00m \u001b[38;5;129;01mnot\u001b[39;00m data)\n\u001b[1;32m    939\u001b[0m \u001b[38;5;28;01mif\u001b[39;00m \u001b[38;5;129;01mnot\u001b[39;00m data \u001b[38;5;129;01mand\u001b[39;00m \u001b[38;5;28mlen\u001b[39m(\u001b[38;5;28mself\u001b[39m\u001b[38;5;241m.\u001b[39m_decoded_buffer) \u001b[38;5;241m==\u001b[39m \u001b[38;5;241m0\u001b[39m:\n",
      "File \u001b[0;32m~/anaconda3/lib/python3.10/site-packages/urllib3/response.py:862\u001b[0m, in \u001b[0;36mHTTPResponse._raw_read\u001b[0;34m(self, amt, read1)\u001b[0m\n\u001b[1;32m    859\u001b[0m fp_closed \u001b[38;5;241m=\u001b[39m \u001b[38;5;28mgetattr\u001b[39m(\u001b[38;5;28mself\u001b[39m\u001b[38;5;241m.\u001b[39m_fp, \u001b[38;5;124m\"\u001b[39m\u001b[38;5;124mclosed\u001b[39m\u001b[38;5;124m\"\u001b[39m, \u001b[38;5;28;01mFalse\u001b[39;00m)\n\u001b[1;32m    861\u001b[0m \u001b[38;5;28;01mwith\u001b[39;00m \u001b[38;5;28mself\u001b[39m\u001b[38;5;241m.\u001b[39m_error_catcher():\n\u001b[0;32m--> 862\u001b[0m     data \u001b[38;5;241m=\u001b[39m \u001b[38;5;28;43mself\u001b[39;49m\u001b[38;5;241;43m.\u001b[39;49m\u001b[43m_fp_read\u001b[49m\u001b[43m(\u001b[49m\u001b[43mamt\u001b[49m\u001b[43m,\u001b[49m\u001b[43m \u001b[49m\u001b[43mread1\u001b[49m\u001b[38;5;241;43m=\u001b[39;49m\u001b[43mread1\u001b[49m\u001b[43m)\u001b[49m \u001b[38;5;28;01mif\u001b[39;00m \u001b[38;5;129;01mnot\u001b[39;00m fp_closed \u001b[38;5;28;01melse\u001b[39;00m \u001b[38;5;124mb\u001b[39m\u001b[38;5;124m\"\u001b[39m\u001b[38;5;124m\"\u001b[39m\n\u001b[1;32m    863\u001b[0m     \u001b[38;5;28;01mif\u001b[39;00m amt \u001b[38;5;129;01mis\u001b[39;00m \u001b[38;5;129;01mnot\u001b[39;00m \u001b[38;5;28;01mNone\u001b[39;00m \u001b[38;5;129;01mand\u001b[39;00m amt \u001b[38;5;241m!=\u001b[39m \u001b[38;5;241m0\u001b[39m \u001b[38;5;129;01mand\u001b[39;00m \u001b[38;5;129;01mnot\u001b[39;00m data:\n\u001b[1;32m    864\u001b[0m         \u001b[38;5;66;03m# Platform-specific: Buggy versions of Python.\u001b[39;00m\n\u001b[1;32m    865\u001b[0m         \u001b[38;5;66;03m# Close the connection when no data is returned\u001b[39;00m\n\u001b[0;32m   (...)\u001b[0m\n\u001b[1;32m    870\u001b[0m         \u001b[38;5;66;03m# not properly close the connection in all cases. There is\u001b[39;00m\n\u001b[1;32m    871\u001b[0m         \u001b[38;5;66;03m# no harm in redundantly calling close.\u001b[39;00m\n\u001b[1;32m    872\u001b[0m         \u001b[38;5;28mself\u001b[39m\u001b[38;5;241m.\u001b[39m_fp\u001b[38;5;241m.\u001b[39mclose()\n",
      "File \u001b[0;32m~/anaconda3/lib/python3.10/site-packages/urllib3/response.py:845\u001b[0m, in \u001b[0;36mHTTPResponse._fp_read\u001b[0;34m(self, amt, read1)\u001b[0m\n\u001b[1;32m    842\u001b[0m     \u001b[38;5;28;01mreturn\u001b[39;00m \u001b[38;5;28mself\u001b[39m\u001b[38;5;241m.\u001b[39m_fp\u001b[38;5;241m.\u001b[39mread1(amt) \u001b[38;5;28;01mif\u001b[39;00m amt \u001b[38;5;129;01mis\u001b[39;00m \u001b[38;5;129;01mnot\u001b[39;00m \u001b[38;5;28;01mNone\u001b[39;00m \u001b[38;5;28;01melse\u001b[39;00m \u001b[38;5;28mself\u001b[39m\u001b[38;5;241m.\u001b[39m_fp\u001b[38;5;241m.\u001b[39mread1()\n\u001b[1;32m    843\u001b[0m \u001b[38;5;28;01melse\u001b[39;00m:\n\u001b[1;32m    844\u001b[0m     \u001b[38;5;66;03m# StringIO doesn't like amt=None\u001b[39;00m\n\u001b[0;32m--> 845\u001b[0m     \u001b[38;5;28;01mreturn\u001b[39;00m \u001b[38;5;28;43mself\u001b[39;49m\u001b[38;5;241;43m.\u001b[39;49m\u001b[43m_fp\u001b[49m\u001b[38;5;241;43m.\u001b[39;49m\u001b[43mread\u001b[49m\u001b[43m(\u001b[49m\u001b[43mamt\u001b[49m\u001b[43m)\u001b[49m \u001b[38;5;28;01mif\u001b[39;00m amt \u001b[38;5;129;01mis\u001b[39;00m \u001b[38;5;129;01mnot\u001b[39;00m \u001b[38;5;28;01mNone\u001b[39;00m \u001b[38;5;28;01melse\u001b[39;00m \u001b[38;5;28mself\u001b[39m\u001b[38;5;241m.\u001b[39m_fp\u001b[38;5;241m.\u001b[39mread()\n",
      "File \u001b[0;32m~/anaconda3/lib/python3.10/http/client.py:465\u001b[0m, in \u001b[0;36mHTTPResponse.read\u001b[0;34m(self, amt)\u001b[0m\n\u001b[1;32m    462\u001b[0m \u001b[38;5;28;01mif\u001b[39;00m \u001b[38;5;28mself\u001b[39m\u001b[38;5;241m.\u001b[39mlength \u001b[38;5;129;01mis\u001b[39;00m \u001b[38;5;129;01mnot\u001b[39;00m \u001b[38;5;28;01mNone\u001b[39;00m \u001b[38;5;129;01mand\u001b[39;00m amt \u001b[38;5;241m>\u001b[39m \u001b[38;5;28mself\u001b[39m\u001b[38;5;241m.\u001b[39mlength:\n\u001b[1;32m    463\u001b[0m     \u001b[38;5;66;03m# clip the read to the \"end of response\"\u001b[39;00m\n\u001b[1;32m    464\u001b[0m     amt \u001b[38;5;241m=\u001b[39m \u001b[38;5;28mself\u001b[39m\u001b[38;5;241m.\u001b[39mlength\n\u001b[0;32m--> 465\u001b[0m s \u001b[38;5;241m=\u001b[39m \u001b[38;5;28;43mself\u001b[39;49m\u001b[38;5;241;43m.\u001b[39;49m\u001b[43mfp\u001b[49m\u001b[38;5;241;43m.\u001b[39;49m\u001b[43mread\u001b[49m\u001b[43m(\u001b[49m\u001b[43mamt\u001b[49m\u001b[43m)\u001b[49m\n\u001b[1;32m    466\u001b[0m \u001b[38;5;28;01mif\u001b[39;00m \u001b[38;5;129;01mnot\u001b[39;00m s \u001b[38;5;129;01mand\u001b[39;00m amt:\n\u001b[1;32m    467\u001b[0m     \u001b[38;5;66;03m# Ideally, we would raise IncompleteRead if the content-length\u001b[39;00m\n\u001b[1;32m    468\u001b[0m     \u001b[38;5;66;03m# wasn't satisfied, but it might break compatibility.\u001b[39;00m\n\u001b[1;32m    469\u001b[0m     \u001b[38;5;28mself\u001b[39m\u001b[38;5;241m.\u001b[39m_close_conn()\n",
      "File \u001b[0;32m~/anaconda3/lib/python3.10/socket.py:705\u001b[0m, in \u001b[0;36mSocketIO.readinto\u001b[0;34m(self, b)\u001b[0m\n\u001b[1;32m    703\u001b[0m \u001b[38;5;28;01mwhile\u001b[39;00m \u001b[38;5;28;01mTrue\u001b[39;00m:\n\u001b[1;32m    704\u001b[0m     \u001b[38;5;28;01mtry\u001b[39;00m:\n\u001b[0;32m--> 705\u001b[0m         \u001b[38;5;28;01mreturn\u001b[39;00m \u001b[38;5;28;43mself\u001b[39;49m\u001b[38;5;241;43m.\u001b[39;49m\u001b[43m_sock\u001b[49m\u001b[38;5;241;43m.\u001b[39;49m\u001b[43mrecv_into\u001b[49m\u001b[43m(\u001b[49m\u001b[43mb\u001b[49m\u001b[43m)\u001b[49m\n\u001b[1;32m    706\u001b[0m     \u001b[38;5;28;01mexcept\u001b[39;00m timeout:\n\u001b[1;32m    707\u001b[0m         \u001b[38;5;28mself\u001b[39m\u001b[38;5;241m.\u001b[39m_timeout_occurred \u001b[38;5;241m=\u001b[39m \u001b[38;5;28;01mTrue\u001b[39;00m\n",
      "File \u001b[0;32m~/anaconda3/lib/python3.10/ssl.py:1274\u001b[0m, in \u001b[0;36mSSLSocket.recv_into\u001b[0;34m(self, buffer, nbytes, flags)\u001b[0m\n\u001b[1;32m   1270\u001b[0m     \u001b[38;5;28;01mif\u001b[39;00m flags \u001b[38;5;241m!=\u001b[39m \u001b[38;5;241m0\u001b[39m:\n\u001b[1;32m   1271\u001b[0m         \u001b[38;5;28;01mraise\u001b[39;00m \u001b[38;5;167;01mValueError\u001b[39;00m(\n\u001b[1;32m   1272\u001b[0m           \u001b[38;5;124m\"\u001b[39m\u001b[38;5;124mnon-zero flags not allowed in calls to recv_into() on \u001b[39m\u001b[38;5;132;01m%s\u001b[39;00m\u001b[38;5;124m\"\u001b[39m \u001b[38;5;241m%\u001b[39m\n\u001b[1;32m   1273\u001b[0m           \u001b[38;5;28mself\u001b[39m\u001b[38;5;241m.\u001b[39m\u001b[38;5;18m__class__\u001b[39m)\n\u001b[0;32m-> 1274\u001b[0m     \u001b[38;5;28;01mreturn\u001b[39;00m \u001b[38;5;28;43mself\u001b[39;49m\u001b[38;5;241;43m.\u001b[39;49m\u001b[43mread\u001b[49m\u001b[43m(\u001b[49m\u001b[43mnbytes\u001b[49m\u001b[43m,\u001b[49m\u001b[43m \u001b[49m\u001b[43mbuffer\u001b[49m\u001b[43m)\u001b[49m\n\u001b[1;32m   1275\u001b[0m \u001b[38;5;28;01melse\u001b[39;00m:\n\u001b[1;32m   1276\u001b[0m     \u001b[38;5;28;01mreturn\u001b[39;00m \u001b[38;5;28msuper\u001b[39m()\u001b[38;5;241m.\u001b[39mrecv_into(buffer, nbytes, flags)\n",
      "File \u001b[0;32m~/anaconda3/lib/python3.10/ssl.py:1130\u001b[0m, in \u001b[0;36mSSLSocket.read\u001b[0;34m(self, len, buffer)\u001b[0m\n\u001b[1;32m   1128\u001b[0m \u001b[38;5;28;01mtry\u001b[39;00m:\n\u001b[1;32m   1129\u001b[0m     \u001b[38;5;28;01mif\u001b[39;00m buffer \u001b[38;5;129;01mis\u001b[39;00m \u001b[38;5;129;01mnot\u001b[39;00m \u001b[38;5;28;01mNone\u001b[39;00m:\n\u001b[0;32m-> 1130\u001b[0m         \u001b[38;5;28;01mreturn\u001b[39;00m \u001b[38;5;28;43mself\u001b[39;49m\u001b[38;5;241;43m.\u001b[39;49m\u001b[43m_sslobj\u001b[49m\u001b[38;5;241;43m.\u001b[39;49m\u001b[43mread\u001b[49m\u001b[43m(\u001b[49m\u001b[38;5;28;43mlen\u001b[39;49m\u001b[43m,\u001b[49m\u001b[43m \u001b[49m\u001b[43mbuffer\u001b[49m\u001b[43m)\u001b[49m\n\u001b[1;32m   1131\u001b[0m     \u001b[38;5;28;01melse\u001b[39;00m:\n\u001b[1;32m   1132\u001b[0m         \u001b[38;5;28;01mreturn\u001b[39;00m \u001b[38;5;28mself\u001b[39m\u001b[38;5;241m.\u001b[39m_sslobj\u001b[38;5;241m.\u001b[39mread(\u001b[38;5;28mlen\u001b[39m)\n",
      "\u001b[0;31mKeyboardInterrupt\u001b[0m: "
     ]
    }
   ],
   "source": [
    "\n",
    "\n",
    "model = cast(\n",
    "    ColPali,\n",
    "    ColPali.from_pretrained(\n",
    "        \"vidore/colpali-v1.2\",\n",
    "        torch_dtype=torch.bfloat16,\n",
    "        device_map=device,  # or \"mps\" if on Apple Silicon\n",
    "    ),\n",
    ")\n",
    "\n",
    "processor = cast(ColPaliProcessor, ColPaliProcessor.from_pretrained(\"vidore/colpali-v1.2\"))\n",
    "\n",
    "# Your inputs\n",
    "images = [\n",
    "    Image.new(\"RGB\", (32, 32), color=\"white\"),\n",
    "    Image.new(\"RGB\", (16, 16), color=\"black\"),\n",
    "]\n",
    "queries = [\n",
    "    \"Is attention really all you need?\",\n",
    "    \"Are Benjamin, Antoine, Merve, and Jo best friends?\",\n",
    "]\n",
    "\n",
    "# Process the inputs\n",
    "batch_images = processor.process_images(images).to(model.device)\n",
    "batch_queries = processor.process_queries(queries).to(model.device)\n",
    "\n",
    "# Forward pass\n",
    "with torch.no_grad():\n",
    "    image_embeddings = model(**batch_images)\n",
    "    querry_embeddings = model(**batch_queries)\n",
    "\n",
    "scores = processor.score_multi_vector(querry_embeddings, image_embeddings)\n"
   ]
  },
  {
   "cell_type": "markdown",
   "metadata": {},
   "source": [
    "## 3. Cleanup Huggingface cache\n"
   ]
  },
  {
   "cell_type": "code",
   "execution_count": 20,
   "metadata": {},
   "outputs": [
    {
     "name": "stdout",
     "output_type": "stream",
     "text": [
      "HFCacheInfo(size_on_disk=28525983610, repos=frozenset({CachedRepoInfo(repo_id='UrbanSounds/AmsterdamSounds', repo_type='dataset', repo_path=PosixPath('/Users/michielbontenbal/.cache/huggingface/hub/datasets--UrbanSounds--AmsterdamSounds'), size_on_disk=1920044, nb_files=1, revisions=frozenset({CachedRevisionInfo(commit_hash='8fb06538a73b428309270e15f898cfbac481ca1f', snapshot_path=PosixPath('/Users/michielbontenbal/.cache/huggingface/hub/datasets--UrbanSounds--AmsterdamSounds/snapshots/8fb06538a73b428309270e15f898cfbac481ca1f'), size_on_disk=1920044, files=frozenset({CachedFileInfo(file_name='A_RGracht-0004_181256.wav', file_path=PosixPath('/Users/michielbontenbal/.cache/huggingface/hub/datasets--UrbanSounds--AmsterdamSounds/snapshots/8fb06538a73b428309270e15f898cfbac481ca1f/A_RGracht-0004_181256.wav'), blob_path=PosixPath('/Users/michielbontenbal/.cache/huggingface/hub/datasets--UrbanSounds--AmsterdamSounds/blobs/7dd137b29f57bca4441f222d9942c8076cc453d793ff7563d48815b0e28e4e75'), size_on_disk=1920044, blob_last_accessed=1690795206.4412632, blob_last_modified=1690795205.4985921)}), refs=frozenset({'main'}), last_modified=1690795205.4985921)}), last_accessed=1690795206.4412632, last_modified=1690795205.4985921), CachedRepoInfo(repo_id='google/vit-base-patch16-224', repo_type='model', repo_path=PosixPath('/Users/michielbontenbal/.cache/huggingface/hub/models--google--vit-base-patch16-224'), size_on_disk=346363677, nb_files=3, revisions=frozenset({CachedRevisionInfo(commit_hash='3f49326eb077187dfe1c2a2bb15fbd74e6ab91e3', snapshot_path=PosixPath('/Users/michielbontenbal/.cache/huggingface/hub/models--google--vit-base-patch16-224/snapshots/3f49326eb077187dfe1c2a2bb15fbd74e6ab91e3'), size_on_disk=346363677, files=frozenset({CachedFileInfo(file_name='config.json', file_path=PosixPath('/Users/michielbontenbal/.cache/huggingface/hub/models--google--vit-base-patch16-224/snapshots/3f49326eb077187dfe1c2a2bb15fbd74e6ab91e3/config.json'), blob_path=PosixPath('/Users/michielbontenbal/.cache/huggingface/hub/models--google--vit-base-patch16-224/blobs/21c61d3f8f3e50137a8c5fdd5bc9b085e286315a'), size_on_disk=69665, blob_last_accessed=1729670223.5610924, blob_last_modified=1729670222.9030828), CachedFileInfo(file_name='model.safetensors', file_path=PosixPath('/Users/michielbontenbal/.cache/huggingface/hub/models--google--vit-base-patch16-224/snapshots/3f49326eb077187dfe1c2a2bb15fbd74e6ab91e3/model.safetensors'), blob_path=PosixPath('/Users/michielbontenbal/.cache/huggingface/hub/models--google--vit-base-patch16-224/blobs/1cea07110a4a47edc51420b2dda6f3b8b58e7256e8f44b4ea6aa9696162ccb5d'), size_on_disk=346293852, blob_last_accessed=1729671314.690821, blob_last_modified=1729670246.5463278), CachedFileInfo(file_name='preprocessor_config.json', file_path=PosixPath('/Users/michielbontenbal/.cache/huggingface/hub/models--google--vit-base-patch16-224/snapshots/3f49326eb077187dfe1c2a2bb15fbd74e6ab91e3/preprocessor_config.json'), blob_path=PosixPath('/Users/michielbontenbal/.cache/huggingface/hub/models--google--vit-base-patch16-224/blobs/70fbc148eb26a06bac351d46fddc0a23037b4ce4'), size_on_disk=160, blob_last_accessed=1729670262.589096, blob_last_modified=1729670262.3730035)}), refs=frozenset({'main'}), last_modified=1729670262.3730035)}), last_accessed=1729671314.690821, last_modified=1729670262.3730035), CachedRepoInfo(repo_id='distilbert-base-uncased-finetuned-sst-2-english', repo_type='model', repo_path=PosixPath('/Users/michielbontenbal/.cache/huggingface/hub/models--distilbert-base-uncased-finetuned-sst-2-english'), size_on_disk=268064743, nb_files=4, revisions=frozenset({CachedRevisionInfo(commit_hash='714eb0fa89d2f80546fda750413ed43d93601a13', snapshot_path=PosixPath('/Users/michielbontenbal/.cache/huggingface/hub/models--distilbert-base-uncased-finetuned-sst-2-english/snapshots/714eb0fa89d2f80546fda750413ed43d93601a13'), size_on_disk=268064743, files=frozenset({CachedFileInfo(file_name='model.safetensors', file_path=PosixPath('/Users/michielbontenbal/.cache/huggingface/hub/models--distilbert-base-uncased-finetuned-sst-2-english/snapshots/714eb0fa89d2f80546fda750413ed43d93601a13/model.safetensors'), blob_path=PosixPath('/Users/michielbontenbal/.cache/huggingface/hub/models--distilbert-base-uncased-finetuned-sst-2-english/blobs/7c3919835e442510166d267fe7cbe847e0c51cd26d9ba07b89a57b952b49b8aa'), size_on_disk=267832558, blob_last_accessed=1728059377.4957383, blob_last_modified=1728059377.462447), CachedFileInfo(file_name='vocab.txt', file_path=PosixPath('/Users/michielbontenbal/.cache/huggingface/hub/models--distilbert-base-uncased-finetuned-sst-2-english/snapshots/714eb0fa89d2f80546fda750413ed43d93601a13/vocab.txt'), blob_path=PosixPath('/Users/michielbontenbal/.cache/huggingface/hub/models--distilbert-base-uncased-finetuned-sst-2-english/blobs/fb140275c155a9c7c5a3b3e0e77a9e839594a938'), size_on_disk=231508, blob_last_accessed=1728059379.3806667, blob_last_modified=1728059378.544667), CachedFileInfo(file_name='config.json', file_path=PosixPath('/Users/michielbontenbal/.cache/huggingface/hub/models--distilbert-base-uncased-finetuned-sst-2-english/snapshots/714eb0fa89d2f80546fda750413ed43d93601a13/config.json'), blob_path=PosixPath('/Users/michielbontenbal/.cache/huggingface/hub/models--distilbert-base-uncased-finetuned-sst-2-english/blobs/b57fe5dfcb8ec3f9bab35ed427c3434e3c7dd1ba'), size_on_disk=629, blob_last_accessed=1728059364.4000537, blob_last_modified=1728059364.2491946), CachedFileInfo(file_name='tokenizer_config.json', file_path=PosixPath('/Users/michielbontenbal/.cache/huggingface/hub/models--distilbert-base-uncased-finetuned-sst-2-english/snapshots/714eb0fa89d2f80546fda750413ed43d93601a13/tokenizer_config.json'), blob_path=PosixPath('/Users/michielbontenbal/.cache/huggingface/hub/models--distilbert-base-uncased-finetuned-sst-2-english/blobs/3ed34255a7cb8e6706a8bb21993836e99e7b959f'), size_on_disk=48, blob_last_accessed=1728059378.1291022, blob_last_modified=1728059378.1200151)}), refs=frozenset({'main'}), last_modified=1728059378.544667)}), last_accessed=1728059379.3806667, last_modified=1728059378.544667), CachedRepoInfo(repo_id='openai/clip-vit-base-patch32', repo_type='model', repo_path=PosixPath('/Users/michielbontenbal/.cache/huggingface/hub/models--openai--clip-vit-base-patch32'), size_on_disk=3616485, nb_files=7, revisions=frozenset({CachedRevisionInfo(commit_hash='e6a30b603a447e251fdaca1c3056b2a16cdfebeb', snapshot_path=PosixPath('/Users/michielbontenbal/.cache/huggingface/hub/models--openai--clip-vit-base-patch32/snapshots/e6a30b603a447e251fdaca1c3056b2a16cdfebeb'), size_on_disk=3616485, files=frozenset({CachedFileInfo(file_name='preprocessor_config.json', file_path=PosixPath('/Users/michielbontenbal/.cache/huggingface/hub/models--openai--clip-vit-base-patch32/snapshots/e6a30b603a447e251fdaca1c3056b2a16cdfebeb/preprocessor_config.json'), blob_path=PosixPath('/Users/michielbontenbal/.cache/huggingface/hub/models--openai--clip-vit-base-patch32/blobs/5a12a1eb250987a4eee0e3e7d7338c4b22724be1'), size_on_disk=316, blob_last_accessed=1697443802.703438, blob_last_modified=1697443802.5129857), CachedFileInfo(file_name='vocab.json', file_path=PosixPath('/Users/michielbontenbal/.cache/huggingface/hub/models--openai--clip-vit-base-patch32/snapshots/e6a30b603a447e251fdaca1c3056b2a16cdfebeb/vocab.json'), blob_path=PosixPath('/Users/michielbontenbal/.cache/huggingface/hub/models--openai--clip-vit-base-patch32/blobs/182766ce89b439768edadda342519f33802f5364'), size_on_disk=862328, blob_last_accessed=1697443802.9884615, blob_last_modified=1697443803.2871072), CachedFileInfo(file_name='special_tokens_map.json', file_path=PosixPath('/Users/michielbontenbal/.cache/huggingface/hub/models--openai--clip-vit-base-patch32/snapshots/e6a30b603a447e251fdaca1c3056b2a16cdfebeb/special_tokens_map.json'), blob_path=PosixPath('/Users/michielbontenbal/.cache/huggingface/hub/models--openai--clip-vit-base-patch32/blobs/9bfb42aa97dcd61e89f279ccaee988bccb4fabae'), size_on_disk=389, blob_last_accessed=1697443808.2349217, blob_last_modified=1697443804.2773716), CachedFileInfo(file_name='tokenizer.json', file_path=PosixPath('/Users/michielbontenbal/.cache/huggingface/hub/models--openai--clip-vit-base-patch32/snapshots/e6a30b603a447e251fdaca1c3056b2a16cdfebeb/tokenizer.json'), blob_path=PosixPath('/Users/michielbontenbal/.cache/huggingface/hub/models--openai--clip-vit-base-patch32/blobs/564c0ebd5ce29c4ee4864004aee693deadd3128c'), size_on_disk=2224041, blob_last_accessed=1697443808.2350302, blob_last_modified=1697443803.9306917), CachedFileInfo(file_name='tokenizer_config.json', file_path=PosixPath('/Users/michielbontenbal/.cache/huggingface/hub/models--openai--clip-vit-base-patch32/snapshots/e6a30b603a447e251fdaca1c3056b2a16cdfebeb/tokenizer_config.json'), blob_path=PosixPath('/Users/michielbontenbal/.cache/huggingface/hub/models--openai--clip-vit-base-patch32/blobs/ab0ca294e9ef2a950015496bc13b84e1bb462b09'), size_on_disk=568, blob_last_accessed=1697443803.704179, blob_last_modified=1697443802.8722887), CachedFileInfo(file_name='config.json', file_path=PosixPath('/Users/michielbontenbal/.cache/huggingface/hub/models--openai--clip-vit-base-patch32/snapshots/e6a30b603a447e251fdaca1c3056b2a16cdfebeb/config.json'), blob_path=PosixPath('/Users/michielbontenbal/.cache/huggingface/hub/models--openai--clip-vit-base-patch32/blobs/a2a88b96561196777ca173b15309ea859f4d2ce0'), size_on_disk=4186, blob_last_accessed=1697443804.7816377, blob_last_modified=1697443804.7731338), CachedFileInfo(file_name='merges.txt', file_path=PosixPath('/Users/michielbontenbal/.cache/huggingface/hub/models--openai--clip-vit-base-patch32/snapshots/e6a30b603a447e251fdaca1c3056b2a16cdfebeb/merges.txt'), blob_path=PosixPath('/Users/michielbontenbal/.cache/huggingface/hub/models--openai--clip-vit-base-patch32/blobs/bbfec752c9a675946c6dce106def6f35c882dcc2'), size_on_disk=524657, blob_last_accessed=1697443803.4014137, blob_last_modified=1697443803.5569134)}), refs=frozenset({'main'}), last_modified=1697443804.7731338)}), last_accessed=1697443808.2350302, last_modified=1697443804.7731338), CachedRepoInfo(repo_id='microsoft/resnet-50', repo_type='model', repo_path=PosixPath('/Users/michielbontenbal/.cache/huggingface/hub/models--microsoft--resnet-50'), size_on_disk=102552676, nb_files=3, revisions=frozenset({CachedRevisionInfo(commit_hash='34c2154c194f829b11125337b98c8f5f9965ff19', snapshot_path=PosixPath('/Users/michielbontenbal/.cache/huggingface/hub/models--microsoft--resnet-50/snapshots/34c2154c194f829b11125337b98c8f5f9965ff19'), size_on_disk=102552676, files=frozenset({CachedFileInfo(file_name='model.safetensors', file_path=PosixPath('/Users/michielbontenbal/.cache/huggingface/hub/models--microsoft--resnet-50/snapshots/34c2154c194f829b11125337b98c8f5f9965ff19/model.safetensors'), blob_path=PosixPath('/Users/michielbontenbal/.cache/huggingface/hub/models--microsoft--resnet-50/blobs/9c6061af1f450bb0847e529fd742aa5066017be379c71bbf5546b198e5b13a1e'), size_on_disk=102482854, blob_last_accessed=1729685780.96593, blob_last_modified=1727873397.1015549), CachedFileInfo(file_name='preprocessor_config.json', file_path=PosixPath('/Users/michielbontenbal/.cache/huggingface/hub/models--microsoft--resnet-50/snapshots/34c2154c194f829b11125337b98c8f5f9965ff19/preprocessor_config.json'), blob_path=PosixPath('/Users/michielbontenbal/.cache/huggingface/hub/models--microsoft--resnet-50/blobs/9a46cca81138ce49069d63f688ae5750882df07e'), size_on_disk=266, blob_last_accessed=1727873394.9226186, blob_last_modified=1727873394.4502528), CachedFileInfo(file_name='config.json', file_path=PosixPath('/Users/michielbontenbal/.cache/huggingface/hub/models--microsoft--resnet-50/snapshots/34c2154c194f829b11125337b98c8f5f9965ff19/config.json'), blob_path=PosixPath('/Users/michielbontenbal/.cache/huggingface/hub/models--microsoft--resnet-50/blobs/30289c9792e668d73c991829c8842977e2b90539'), size_on_disk=69556, blob_last_accessed=1727873396.8883414, blob_last_modified=1727873394.7732997)}), refs=frozenset({'main'}), last_modified=1727873397.1015549)}), last_accessed=1729685780.96593, last_modified=1727873397.1015549), CachedRepoInfo(repo_id='johnowhitaker/ddpm-butterflies-32px', repo_type='model', repo_path=PosixPath('/Users/michielbontenbal/.cache/huggingface/hub/models--johnowhitaker--ddpm-butterflies-32px'), size_on_disk=74285766, nb_files=4, revisions=frozenset({CachedRevisionInfo(commit_hash='ff99059aed185f6158729b8e9f2286c4b9c177f3', snapshot_path=PosixPath('/Users/michielbontenbal/.cache/huggingface/hub/models--johnowhitaker--ddpm-butterflies-32px/snapshots/ff99059aed185f6158729b8e9f2286c4b9c177f3'), size_on_disk=74285766, files=frozenset({CachedFileInfo(file_name='scheduler_config.json', file_path=PosixPath('/Users/michielbontenbal/.cache/huggingface/hub/models--johnowhitaker--ddpm-butterflies-32px/snapshots/ff99059aed185f6158729b8e9f2286c4b9c177f3/scheduler_config.json'), blob_path=PosixPath('/Users/michielbontenbal/.cache/huggingface/hub/models--johnowhitaker--ddpm-butterflies-32px/blobs/67264e91bc2a394a5a2132cf527cbdbaca683e7c'), size_on_disk=267, blob_last_accessed=1728931000.2227643, blob_last_modified=1728930993.848797), CachedFileInfo(file_name='model_index.json', file_path=PosixPath('/Users/michielbontenbal/.cache/huggingface/hub/models--johnowhitaker--ddpm-butterflies-32px/snapshots/ff99059aed185f6158729b8e9f2286c4b9c177f3/model_index.json'), blob_path=PosixPath('/Users/michielbontenbal/.cache/huggingface/hub/models--johnowhitaker--ddpm-butterflies-32px/blobs/eda94610368d498f854eb3f9ca84003947b32974'), size_on_disk=180, blob_last_accessed=1728930993.529161, blob_last_modified=1728930993.3212202), CachedFileInfo(file_name='config.json', file_path=PosixPath('/Users/michielbontenbal/.cache/huggingface/hub/models--johnowhitaker--ddpm-butterflies-32px/snapshots/ff99059aed185f6158729b8e9f2286c4b9c177f3/config.json'), blob_path=PosixPath('/Users/michielbontenbal/.cache/huggingface/hub/models--johnowhitaker--ddpm-butterflies-32px/blobs/01db437ec248c69ef9d87a31b3fce42ca985ad59'), size_on_disk=702, blob_last_accessed=1728931000.22274, blob_last_modified=1728930993.9114957), CachedFileInfo(file_name='diffusion_pytorch_model.bin', file_path=PosixPath('/Users/michielbontenbal/.cache/huggingface/hub/models--johnowhitaker--ddpm-butterflies-32px/snapshots/ff99059aed185f6158729b8e9f2286c4b9c177f3/diffusion_pytorch_model.bin'), blob_path=PosixPath('/Users/michielbontenbal/.cache/huggingface/hub/models--johnowhitaker--ddpm-butterflies-32px/blobs/c40424376fd7ec373997172ffdd45d7d7b6900dc087aa6a203e85fe3f2cb232b'), size_on_disk=74284617, blob_last_accessed=1728930999.400757, blob_last_modified=1728930998.367472)}), refs=frozenset({'main'}), last_modified=1728930998.367472)}), last_accessed=1728931000.2227643, last_modified=1728930998.367472), CachedRepoInfo(repo_id='google/ddpm-cat-256', repo_type='model', repo_path=PosixPath('/Users/michielbontenbal/.cache/huggingface/hub/models--google--ddpm-cat-256'), size_on_disk=454742345, nb_files=4, revisions=frozenset({CachedRevisionInfo(commit_hash='82ca0d5db4a5ec6ff0e9be8d86852490bc18a3d9', snapshot_path=PosixPath('/Users/michielbontenbal/.cache/huggingface/hub/models--google--ddpm-cat-256/snapshots/82ca0d5db4a5ec6ff0e9be8d86852490bc18a3d9'), size_on_disk=454742345, files=frozenset({CachedFileInfo(file_name='model_index.json', file_path=PosixPath('/Users/michielbontenbal/.cache/huggingface/hub/models--google--ddpm-cat-256/snapshots/82ca0d5db4a5ec6ff0e9be8d86852490bc18a3d9/model_index.json'), blob_path=PosixPath('/Users/michielbontenbal/.cache/huggingface/hub/models--google--ddpm-cat-256/blobs/14a5e32fd7c76eb6db711045e730305358d1535a'), size_on_disk=167, blob_last_accessed=1729066189.4330041, blob_last_modified=1729066189.2687333), CachedFileInfo(file_name='diffusion_pytorch_model.safetensors', file_path=PosixPath('/Users/michielbontenbal/.cache/huggingface/hub/models--google--ddpm-cat-256/snapshots/82ca0d5db4a5ec6ff0e9be8d86852490bc18a3d9/diffusion_pytorch_model.safetensors'), blob_path=PosixPath('/Users/michielbontenbal/.cache/huggingface/hub/models--google--ddpm-cat-256/blobs/0806be43de621861d03d96670492ea2e65943c96155b5d1c81bcc813668946a9'), size_on_disk=454741132, blob_last_accessed=1729068163.4529698, blob_last_modified=1729066225.3840747), CachedFileInfo(file_name='scheduler_config.json', file_path=PosixPath('/Users/michielbontenbal/.cache/huggingface/hub/models--google--ddpm-cat-256/snapshots/82ca0d5db4a5ec6ff0e9be8d86852490bc18a3d9/scheduler_config.json'), blob_path=PosixPath('/Users/michielbontenbal/.cache/huggingface/hub/models--google--ddpm-cat-256/blobs/2b0d557d4eb7e3cf63f8e9c610e507601f58ab36'), size_on_disk=256, blob_last_accessed=1729066270.2369246, blob_last_modified=1729066190.0332723), CachedFileInfo(file_name='config.json', file_path=PosixPath('/Users/michielbontenbal/.cache/huggingface/hub/models--google--ddpm-cat-256/snapshots/82ca0d5db4a5ec6ff0e9be8d86852490bc18a3d9/config.json'), blob_path=PosixPath('/Users/michielbontenbal/.cache/huggingface/hub/models--google--ddpm-cat-256/blobs/21be917d8db8da69de6145db1ed5e5d45b5086da'), size_on_disk=790, blob_last_accessed=1729066270.236692, blob_last_modified=1729066189.8210797)}), refs=frozenset({'main'}), last_modified=1729066225.3840747)}), last_accessed=1729068163.4529698, last_modified=1729066225.3840747), CachedRepoInfo(repo_id='openai-community/gpt2', repo_type='model', repo_path=PosixPath('/Users/michielbontenbal/.cache/huggingface/hub/models--openai-community--gpt2'), size_on_disk=550959861, nb_files=7, revisions=frozenset({CachedRevisionInfo(commit_hash='607a30d783dfa663caf39e06633721c8d4cfcd7e', snapshot_path=PosixPath('/Users/michielbontenbal/.cache/huggingface/hub/models--openai-community--gpt2/snapshots/607a30d783dfa663caf39e06633721c8d4cfcd7e'), size_on_disk=550959861, files=frozenset({CachedFileInfo(file_name='vocab.json', file_path=PosixPath('/Users/michielbontenbal/.cache/huggingface/hub/models--openai-community--gpt2/snapshots/607a30d783dfa663caf39e06633721c8d4cfcd7e/vocab.json'), blob_path=PosixPath('/Users/michielbontenbal/.cache/huggingface/hub/models--openai-community--gpt2/blobs/1f1d9aaca301414e7f6c9396df506798ff4eb9a6'), size_on_disk=1042301, blob_last_accessed=1729076802.2045004, blob_last_modified=1729076802.754854), CachedFileInfo(file_name='config.json', file_path=PosixPath('/Users/michielbontenbal/.cache/huggingface/hub/models--openai-community--gpt2/snapshots/607a30d783dfa663caf39e06633721c8d4cfcd7e/config.json'), blob_path=PosixPath('/Users/michielbontenbal/.cache/huggingface/hub/models--openai-community--gpt2/blobs/10c66461e4c109db5a2196bff4bb59be30396ed8'), size_on_disk=665, blob_last_accessed=1729076710.4658787, blob_last_modified=1729076710.234419), CachedFileInfo(file_name='model.safetensors', file_path=PosixPath('/Users/michielbontenbal/.cache/huggingface/hub/models--openai-community--gpt2/snapshots/607a30d783dfa663caf39e06633721c8d4cfcd7e/model.safetensors'), blob_path=PosixPath('/Users/michielbontenbal/.cache/huggingface/hub/models--openai-community--gpt2/blobs/248dfc3911869ec493c76e65bf2fcf7f615828b0254c12b473182f0f81d3a707'), size_on_disk=548105171, blob_last_accessed=1729076801.333756, blob_last_modified=1729076801.3060122), CachedFileInfo(file_name='tokenizer.json', file_path=PosixPath('/Users/michielbontenbal/.cache/huggingface/hub/models--openai-community--gpt2/snapshots/607a30d783dfa663caf39e06633721c8d4cfcd7e/tokenizer.json'), blob_path=PosixPath('/Users/michielbontenbal/.cache/huggingface/hub/models--openai-community--gpt2/blobs/4b988bccc9dc5adacd403c00b4704976196548f8'), size_on_disk=1355256, blob_last_accessed=1729076804.3521702, blob_last_modified=1729076803.915453), CachedFileInfo(file_name='merges.txt', file_path=PosixPath('/Users/michielbontenbal/.cache/huggingface/hub/models--openai-community--gpt2/snapshots/607a30d783dfa663caf39e06633721c8d4cfcd7e/merges.txt'), blob_path=PosixPath('/Users/michielbontenbal/.cache/huggingface/hub/models--openai-community--gpt2/blobs/226b0752cac7789c48f0cb3ec53eda48b7be36cc'), size_on_disk=456318, blob_last_accessed=1729076802.879907, blob_last_modified=1729076803.1306558), CachedFileInfo(file_name='tokenizer_config.json', file_path=PosixPath('/Users/michielbontenbal/.cache/huggingface/hub/models--openai-community--gpt2/snapshots/607a30d783dfa663caf39e06633721c8d4cfcd7e/tokenizer_config.json'), blob_path=PosixPath('/Users/michielbontenbal/.cache/huggingface/hub/models--openai-community--gpt2/blobs/be4d21d94f3b4687e5a54d84bf6ab46ed0f8defd'), size_on_disk=26, blob_last_accessed=1729076802.089576, blob_last_modified=1729076802.0707655), CachedFileInfo(file_name='generation_config.json', file_path=PosixPath('/Users/michielbontenbal/.cache/huggingface/hub/models--openai-community--gpt2/snapshots/607a30d783dfa663caf39e06633721c8d4cfcd7e/generation_config.json'), blob_path=PosixPath('/Users/michielbontenbal/.cache/huggingface/hub/models--openai-community--gpt2/blobs/3dc481ecc3b2c47a06ab4e20dba9d7f4b447bdf3'), size_on_disk=124, blob_last_accessed=1729076802.4905374, blob_last_modified=1729076801.769479)}), refs=frozenset({'main', '607a30d'}), last_modified=1729076803.915453)}), last_accessed=1729076804.3521702, last_modified=1729076803.915453), CachedRepoInfo(repo_id='microsoft/Florence-2-large', repo_type='model', repo_path=PosixPath('/Users/michielbontenbal/.cache/huggingface/hub/models--microsoft--Florence-2-large'), size_on_disk=1545755258, nb_files=10, revisions=frozenset({CachedRevisionInfo(commit_hash='39ddb416a9819d9fa1bacad7b7899099ae4b0a59', snapshot_path=PosixPath('/Users/michielbontenbal/.cache/huggingface/hub/models--microsoft--Florence-2-large/snapshots/39ddb416a9819d9fa1bacad7b7899099ae4b0a59'), size_on_disk=1545755258, files=frozenset({CachedFileInfo(file_name='tokenizer.json', file_path=PosixPath('/Users/michielbontenbal/.cache/huggingface/hub/models--microsoft--Florence-2-large/snapshots/39ddb416a9819d9fa1bacad7b7899099ae4b0a59/tokenizer.json'), blob_path=PosixPath('/Users/michielbontenbal/.cache/huggingface/hub/models--microsoft--Florence-2-large/blobs/ad0bcbeb288f0d1373d88e0762e66357f55b8311'), size_on_disk=1355863, blob_last_accessed=1729603562.9193764, blob_last_modified=1729603562.5193174), CachedFileInfo(file_name='configuration_florence2.py', file_path=PosixPath('/Users/michielbontenbal/.cache/huggingface/hub/models--microsoft--Florence-2-large/snapshots/39ddb416a9819d9fa1bacad7b7899099ae4b0a59/configuration_florence2.py'), blob_path=PosixPath('/Users/michielbontenbal/.cache/huggingface/hub/models--microsoft--Florence-2-large/blobs/622f74997c5612ff68d0e55063714f291d159166'), size_on_disk=15125, blob_last_accessed=1729603371.0695612, blob_last_modified=1729603371.039891), CachedFileInfo(file_name='processing_florence2.py', file_path=PosixPath('/Users/michielbontenbal/.cache/huggingface/hub/models--microsoft--Florence-2-large/snapshots/39ddb416a9819d9fa1bacad7b7899099ae4b0a59/processing_florence2.py'), blob_path=PosixPath('/Users/michielbontenbal/.cache/huggingface/hub/models--microsoft--Florence-2-large/blobs/42d24ca7033b1fd2e4554c51ccee572755cb6ff9'), size_on_disk=46372, blob_last_accessed=1729603560.7550642, blob_last_modified=1729603560.7100248), CachedFileInfo(file_name='pytorch_model.bin', file_path=PosixPath('/Users/michielbontenbal/.cache/huggingface/hub/models--microsoft--Florence-2-large/snapshots/39ddb416a9819d9fa1bacad7b7899099ae4b0a59/pytorch_model.bin'), blob_path=PosixPath('/Users/michielbontenbal/.cache/huggingface/hub/models--microsoft--Florence-2-large/blobs/a8b6ee6144f20a57200a0e3fab21f067d6cc77036262b72d9f6f7f4e556c8f15'), size_on_disk=1543107459, blob_last_accessed=1729687274.2310379, blob_last_modified=1729603400.2771325), CachedFileInfo(file_name='config.json', file_path=PosixPath('/Users/michielbontenbal/.cache/huggingface/hub/models--microsoft--Florence-2-large/snapshots/39ddb416a9819d9fa1bacad7b7899099ae4b0a59/config.json'), blob_path=PosixPath('/Users/michielbontenbal/.cache/huggingface/hub/models--microsoft--Florence-2-large/blobs/bff93d862796105c8cf1a0b3331ad3bec68aee91'), size_on_disk=2445, blob_last_accessed=1729603370.7716274, blob_last_modified=1729603370.512002), CachedFileInfo(file_name='tokenizer_config.json', file_path=PosixPath('/Users/michielbontenbal/.cache/huggingface/hub/models--microsoft--Florence-2-large/snapshots/39ddb416a9819d9fa1bacad7b7899099ae4b0a59/tokenizer_config.json'), blob_path=PosixPath('/Users/michielbontenbal/.cache/huggingface/hub/models--microsoft--Florence-2-large/blobs/44784bc58d4cb18d3549ad71e062efcf032d9ef5'), size_on_disk=34, blob_last_accessed=1729603561.5195599, blob_last_modified=1729603561.2654464), CachedFileInfo(file_name='vocab.json', file_path=PosixPath('/Users/michielbontenbal/.cache/huggingface/hub/models--microsoft--Florence-2-large/snapshots/39ddb416a9819d9fa1bacad7b7899099ae4b0a59/vocab.json'), blob_path=PosixPath('/Users/michielbontenbal/.cache/huggingface/hub/models--microsoft--Florence-2-large/blobs/94a2f4fd50e976bda926c700291522ea1a79323f'), size_on_disk=1099884, blob_last_accessed=1729603561.3824248, blob_last_modified=1729603561.82208), CachedFileInfo(file_name='generation_config.json', file_path=PosixPath('/Users/michielbontenbal/.cache/huggingface/hub/models--microsoft--Florence-2-large/snapshots/39ddb416a9819d9fa1bacad7b7899099ae4b0a59/generation_config.json'), blob_path=PosixPath('/Users/michielbontenbal/.cache/huggingface/hub/models--microsoft--Florence-2-large/blobs/d0193716e8eda9731eade78c9bdaea0c2ccd6212'), size_on_disk=51, blob_last_accessed=1729603416.785138, blob_last_modified=1729603416.0974004), CachedFileInfo(file_name='preprocessor_config.json', file_path=PosixPath('/Users/michielbontenbal/.cache/huggingface/hub/models--microsoft--Florence-2-large/snapshots/39ddb416a9819d9fa1bacad7b7899099ae4b0a59/preprocessor_config.json'), blob_path=PosixPath('/Users/michielbontenbal/.cache/huggingface/hub/models--microsoft--Florence-2-large/blobs/85cd7be3568df661ad536b6ab20d59b08ba079ae'), size_on_disk=806, blob_last_accessed=1729603560.5186288, blob_last_modified=1729603560.277093), CachedFileInfo(file_name='modeling_florence2.py', file_path=PosixPath('/Users/michielbontenbal/.cache/huggingface/hub/models--microsoft--Florence-2-large/snapshots/39ddb416a9819d9fa1bacad7b7899099ae4b0a59/modeling_florence2.py'), blob_path=PosixPath('/Users/michielbontenbal/.cache/huggingface/hub/models--microsoft--Florence-2-large/blobs/e5ee65134d1a5e98357f8d500c9b9af5f8c00a08'), size_on_disk=127219, blob_last_accessed=1729603371.770788, blob_last_modified=1729603371.536799)}), refs=frozenset({'main'}), last_modified=1729603562.5193174)}), last_accessed=1729687274.2310379, last_modified=1729603562.5193174), CachedRepoInfo(repo_id='microsoft/Florence-2-base', repo_type='model', repo_path=PosixPath('/Users/michielbontenbal/.cache/huggingface/hub/models--microsoft--Florence-2-base'), size_on_disk=467069560, nb_files=9, revisions=frozenset({CachedRevisionInfo(commit_hash='ee1f1f163f352801f3b7af6b2b96e4baaa6ff2ff', snapshot_path=PosixPath('/Users/michielbontenbal/.cache/huggingface/hub/models--microsoft--Florence-2-base/snapshots/ee1f1f163f352801f3b7af6b2b96e4baaa6ff2ff'), size_on_disk=467069560, files=frozenset({CachedFileInfo(file_name='pytorch_model.bin', file_path=PosixPath('/Users/michielbontenbal/.cache/huggingface/hub/models--microsoft--Florence-2-base/snapshots/ee1f1f163f352801f3b7af6b2b96e4baaa6ff2ff/pytorch_model.bin'), blob_path=PosixPath('/Users/michielbontenbal/.cache/huggingface/hub/models--microsoft--Florence-2-base/blobs/b480ac374593b0dcb18ffa63b23213734e04cd43eab0d620d23e39708d4a4a7e'), size_on_disk=464421827, blob_last_accessed=1729687080.7212512, blob_last_modified=1729590642.4328034), CachedFileInfo(file_name='configuration_florence2.py', file_path=PosixPath('/Users/michielbontenbal/.cache/huggingface/hub/models--microsoft--Florence-2-base/snapshots/ee1f1f163f352801f3b7af6b2b96e4baaa6ff2ff/configuration_florence2.py'), blob_path=PosixPath('/Users/michielbontenbal/.cache/huggingface/hub/models--microsoft--Florence-2-base/blobs/622f74997c5612ff68d0e55063714f291d159166'), size_on_disk=15125, blob_last_accessed=1729590609.580617, blob_last_modified=1729590609.571644), CachedFileInfo(file_name='tokenizer.json', file_path=PosixPath('/Users/michielbontenbal/.cache/huggingface/hub/models--microsoft--Florence-2-base/snapshots/ee1f1f163f352801f3b7af6b2b96e4baaa6ff2ff/tokenizer.json'), blob_path=PosixPath('/Users/michielbontenbal/.cache/huggingface/hub/models--microsoft--Florence-2-base/blobs/ad0bcbeb288f0d1373d88e0762e66357f55b8311'), size_on_disk=1355863, blob_last_accessed=1729590650.9608002, blob_last_modified=1729590650.5195422), CachedFileInfo(file_name='preprocessor_config.json', file_path=PosixPath('/Users/michielbontenbal/.cache/huggingface/hub/models--microsoft--Florence-2-base/snapshots/ee1f1f163f352801f3b7af6b2b96e4baaa6ff2ff/preprocessor_config.json'), blob_path=PosixPath('/Users/michielbontenbal/.cache/huggingface/hub/models--microsoft--Florence-2-base/blobs/85cd7be3568df661ad536b6ab20d59b08ba079ae'), size_on_disk=806, blob_last_accessed=1729590648.2139328, blob_last_modified=1729590647.831147), CachedFileInfo(file_name='modeling_florence2.py', file_path=PosixPath('/Users/michielbontenbal/.cache/huggingface/hub/models--microsoft--Florence-2-base/snapshots/ee1f1f163f352801f3b7af6b2b96e4baaa6ff2ff/modeling_florence2.py'), blob_path=PosixPath('/Users/michielbontenbal/.cache/huggingface/hub/models--microsoft--Florence-2-base/blobs/e5ee65134d1a5e98357f8d500c9b9af5f8c00a08'), size_on_disk=127219, blob_last_accessed=1729590610.7033813, blob_last_modified=1729590610.163171), CachedFileInfo(file_name='vocab.json', file_path=PosixPath('/Users/michielbontenbal/.cache/huggingface/hub/models--microsoft--Florence-2-base/snapshots/ee1f1f163f352801f3b7af6b2b96e4baaa6ff2ff/vocab.json'), blob_path=PosixPath('/Users/michielbontenbal/.cache/huggingface/hub/models--microsoft--Florence-2-base/blobs/94a2f4fd50e976bda926c700291522ea1a79323f'), size_on_disk=1099884, blob_last_accessed=1729590649.0810633, blob_last_modified=1729590649.5450544), CachedFileInfo(file_name='config.json', file_path=PosixPath('/Users/michielbontenbal/.cache/huggingface/hub/models--microsoft--Florence-2-base/snapshots/ee1f1f163f352801f3b7af6b2b96e4baaa6ff2ff/config.json'), blob_path=PosixPath('/Users/michielbontenbal/.cache/huggingface/hub/models--microsoft--Florence-2-base/blobs/74a4482afd52515c89ae8d7d388a537a16f5d350'), size_on_disk=2430, blob_last_accessed=1729590609.6221087, blob_last_modified=1729590609.1126966), CachedFileInfo(file_name='tokenizer_config.json', file_path=PosixPath('/Users/michielbontenbal/.cache/huggingface/hub/models--microsoft--Florence-2-base/snapshots/ee1f1f163f352801f3b7af6b2b96e4baaa6ff2ff/tokenizer_config.json'), blob_path=PosixPath('/Users/michielbontenbal/.cache/huggingface/hub/models--microsoft--Florence-2-base/blobs/44784bc58d4cb18d3549ad71e062efcf032d9ef5'), size_on_disk=34, blob_last_accessed=1729590649.2149844, blob_last_modified=1729590648.9493487), CachedFileInfo(file_name='processing_florence2.py', file_path=PosixPath('/Users/michielbontenbal/.cache/huggingface/hub/models--microsoft--Florence-2-base/snapshots/ee1f1f163f352801f3b7af6b2b96e4baaa6ff2ff/processing_florence2.py'), blob_path=PosixPath('/Users/michielbontenbal/.cache/huggingface/hub/models--microsoft--Florence-2-base/blobs/538110e8fd421258847d317cb62c40b9671d07a9'), size_on_disk=46372, blob_last_accessed=1729590648.2759936, blob_last_modified=1729590648.25357)}), refs=frozenset({'main'}), last_modified=1729590650.5195422)}), last_accessed=1729687080.7212512, last_modified=1729590650.5195422), CachedRepoInfo(repo_id='Systran/faster-whisper-large-v3', repo_type='model', repo_path=PosixPath('/Users/michielbontenbal/.cache/huggingface/hub/models--Systran--faster-whisper-large-v3'), size_on_disk=3090835702, nb_files=5, revisions=frozenset({CachedRevisionInfo(commit_hash='edaa852ec7e145841d8ffdb056a99866b5f0a478', snapshot_path=PosixPath('/Users/michielbontenbal/.cache/huggingface/hub/models--Systran--faster-whisper-large-v3/snapshots/edaa852ec7e145841d8ffdb056a99866b5f0a478'), size_on_disk=3090835702, files=frozenset({CachedFileInfo(file_name='config.json', file_path=PosixPath('/Users/michielbontenbal/.cache/huggingface/hub/models--Systran--faster-whisper-large-v3/snapshots/edaa852ec7e145841d8ffdb056a99866b5f0a478/config.json'), blob_path=PosixPath('/Users/michielbontenbal/.cache/huggingface/hub/models--Systran--faster-whisper-large-v3/blobs/75336feae814999bae6ccccdecf177639ffc6f9d'), size_on_disk=2394, blob_last_accessed=1718127379.3514445, blob_last_modified=1718125213.1953812), CachedFileInfo(file_name='tokenizer.json', file_path=PosixPath('/Users/michielbontenbal/.cache/huggingface/hub/models--Systran--faster-whisper-large-v3/snapshots/edaa852ec7e145841d8ffdb056a99866b5f0a478/tokenizer.json'), blob_path=PosixPath('/Users/michielbontenbal/.cache/huggingface/hub/models--Systran--faster-whisper-large-v3/blobs/3a5e2ba63acdcac9a19ba56cf9bd27f185bfff61'), size_on_disk=2480617, blob_last_accessed=1718125212.9954824, blob_last_modified=1718125214.0688858), CachedFileInfo(file_name='model.bin', file_path=PosixPath('/Users/michielbontenbal/.cache/huggingface/hub/models--Systran--faster-whisper-large-v3/snapshots/edaa852ec7e145841d8ffdb056a99866b5f0a478/model.bin'), blob_path=PosixPath('/Users/michielbontenbal/.cache/huggingface/hub/models--Systran--faster-whisper-large-v3/blobs/69f74147e3334731bc3a76048724833325d2ec74642fb52620eda87352e3d4f1'), size_on_disk=3087284237, blob_last_accessed=1718127408.6990867, blob_last_modified=1718125412.0636408), CachedFileInfo(file_name='vocabulary.json', file_path=PosixPath('/Users/michielbontenbal/.cache/huggingface/hub/models--Systran--faster-whisper-large-v3/snapshots/edaa852ec7e145841d8ffdb056a99866b5f0a478/vocabulary.json'), blob_path=PosixPath('/Users/michielbontenbal/.cache/huggingface/hub/models--Systran--faster-whisper-large-v3/blobs/0adcd01e7c237205d593b707e66dd5d7bc785d2d'), size_on_disk=1068114, blob_last_accessed=1718125212.9995618, blob_last_modified=1718125213.6683006), CachedFileInfo(file_name='preprocessor_config.json', file_path=PosixPath('/Users/michielbontenbal/.cache/huggingface/hub/models--Systran--faster-whisper-large-v3/snapshots/edaa852ec7e145841d8ffdb056a99866b5f0a478/preprocessor_config.json'), blob_path=PosixPath('/Users/michielbontenbal/.cache/huggingface/hub/models--Systran--faster-whisper-large-v3/blobs/931c77a740890c46365c7ae0c9d350ba3cca908f'), size_on_disk=340, blob_last_accessed=1718125212.996608, blob_last_modified=1718125213.1810935)}), refs=frozenset({'main'}), last_modified=1718125412.0636408)}), last_accessed=1718127408.6990867, last_modified=1718125412.0636408), CachedRepoInfo(repo_id='MichielBontenbal/elephants', repo_type='dataset', repo_path=PosixPath('/Users/michielbontenbal/.cache/huggingface/hub/datasets--MichielBontenbal--elephants'), size_on_disk=4504567, nb_files=12, revisions=frozenset({CachedRevisionInfo(commit_hash='49495914780f611d66a8de1f4f1f251b8a6e68e0', snapshot_path=PosixPath('/Users/michielbontenbal/.cache/huggingface/hub/datasets--MichielBontenbal--elephants/snapshots/49495914780f611d66a8de1f4f1f251b8a6e68e0'), size_on_disk=598655, files=frozenset({CachedFileInfo(file_name='olifant_tekening3.jpg', file_path=PosixPath('/Users/michielbontenbal/.cache/huggingface/hub/datasets--MichielBontenbal--elephants/snapshots/49495914780f611d66a8de1f4f1f251b8a6e68e0/olifant_tekening3.jpg'), blob_path=PosixPath('/Users/michielbontenbal/.cache/huggingface/hub/datasets--MichielBontenbal--elephants/blobs/73d308b0d5de13a7898e1857663fdfc7de21ae8c9e155cb569e0302423fe4ad6'), size_on_disk=68559, blob_last_accessed=1727873921.3942652, blob_last_modified=1727873825.843458), CachedFileInfo(file_name='olifant_foto3.jpg', file_path=PosixPath('/Users/michielbontenbal/.cache/huggingface/hub/datasets--MichielBontenbal--elephants/snapshots/49495914780f611d66a8de1f4f1f251b8a6e68e0/olifant_foto3.jpg'), blob_path=PosixPath('/Users/michielbontenbal/.cache/huggingface/hub/datasets--MichielBontenbal--elephants/blobs/473345fe7228dcfdb27a220783c21d5efae0e2cab382b1e4afff9a58024f1b63'), size_on_disk=58056, blob_last_accessed=1727873921.380311, blob_last_modified=1727873823.5709333), CachedFileInfo(file_name='olifant_foto2.jpg', file_path=PosixPath('/Users/michielbontenbal/.cache/huggingface/hub/datasets--MichielBontenbal--elephants/snapshots/49495914780f611d66a8de1f4f1f251b8a6e68e0/olifant_foto2.jpg'), blob_path=PosixPath('/Users/michielbontenbal/.cache/huggingface/hub/datasets--MichielBontenbal--elephants/blobs/bd67b727fc94111e8ed12eea25345f391ea454bcd162d43d031e5ad25751cd3d'), size_on_disk=83099, blob_last_accessed=1727873921.3749166, blob_last_modified=1727873823.168985), CachedFileInfo(file_name='olifant_kat_foto.jpg', file_path=PosixPath('/Users/michielbontenbal/.cache/huggingface/hub/datasets--MichielBontenbal--elephants/snapshots/49495914780f611d66a8de1f4f1f251b8a6e68e0/olifant_kat_foto.jpg'), blob_path=PosixPath('/Users/michielbontenbal/.cache/huggingface/hub/datasets--MichielBontenbal--elephants/blobs/6e8afe40ac13f9ef36052f6ad8b2b94015808159d7286d30da3b8df6f8a8770a'), size_on_disk=94486, blob_last_accessed=1727873921.3849976, blob_last_modified=1727873824.2605546), CachedFileInfo(file_name='olifant_foto1.jpg', file_path=PosixPath('/Users/michielbontenbal/.cache/huggingface/hub/datasets--MichielBontenbal--elephants/snapshots/49495914780f611d66a8de1f4f1f251b8a6e68e0/olifant_foto1.jpg'), blob_path=PosixPath('/Users/michielbontenbal/.cache/huggingface/hub/datasets--MichielBontenbal--elephants/blobs/f692ad86006830eaa4e40e609fc936bc07c403032514f1cf3df52a0fa8751280'), size_on_disk=45343, blob_last_accessed=1727873921.3691175, blob_last_modified=1727873822.819133), CachedFileInfo(file_name='olifant_tekening4.jpg', file_path=PosixPath('/Users/michielbontenbal/.cache/huggingface/hub/datasets--MichielBontenbal--elephants/snapshots/49495914780f611d66a8de1f4f1f251b8a6e68e0/olifant_tekening4.jpg'), blob_path=PosixPath('/Users/michielbontenbal/.cache/huggingface/hub/datasets--MichielBontenbal--elephants/blobs/0a2e6a99e7b2439009b88f79ffe81a0ffdf171fb48a6526902e253f913bc4da7'), size_on_disk=73788, blob_last_accessed=1727873921.3962972, blob_last_modified=1727873826.2183268), CachedFileInfo(file_name='olifant_foto4.jpg', file_path=PosixPath('/Users/michielbontenbal/.cache/huggingface/hub/datasets--MichielBontenbal--elephants/snapshots/49495914780f611d66a8de1f4f1f251b8a6e68e0/olifant_foto4.jpg'), blob_path=PosixPath('/Users/michielbontenbal/.cache/huggingface/hub/datasets--MichielBontenbal--elephants/blobs/ed29efb61eb4aa5e224df055b36364132e47678d818a71e76a6473e10f591475'), size_on_disk=34449, blob_last_accessed=1727873921.3831532, blob_last_modified=1727873823.8848536), CachedFileInfo(file_name='README.md', file_path=PosixPath('/Users/michielbontenbal/.cache/huggingface/hub/datasets--MichielBontenbal--elephants/snapshots/49495914780f611d66a8de1f4f1f251b8a6e68e0/README.md'), blob_path=PosixPath('/Users/michielbontenbal/.cache/huggingface/hub/datasets--MichielBontenbal--elephants/blobs/8a5a8cce6266e5cc6f418eac40ad51d7057ee70a'), size_on_disk=114, blob_last_accessed=1727873820.295395, blob_last_modified=1727873820.2857254), CachedFileInfo(file_name='olifant_speelgoed1.jpg', file_path=PosixPath('/Users/michielbontenbal/.cache/huggingface/hub/datasets--MichielBontenbal--elephants/snapshots/49495914780f611d66a8de1f4f1f251b8a6e68e0/olifant_speelgoed1.jpg'), blob_path=PosixPath('/Users/michielbontenbal/.cache/huggingface/hub/datasets--MichielBontenbal--elephants/blobs/329ed51e576760f37d6245c6c977194b7b001dc0bb37120308cbba2ae07c674b'), size_on_disk=49774, blob_last_accessed=1727873921.3876817, blob_last_modified=1727873824.791457), CachedFileInfo(file_name='olifant_tekening2.jpg', file_path=PosixPath('/Users/michielbontenbal/.cache/huggingface/hub/datasets--MichielBontenbal--elephants/snapshots/49495914780f611d66a8de1f4f1f251b8a6e68e0/olifant_tekening2.jpg'), blob_path=PosixPath('/Users/michielbontenbal/.cache/huggingface/hub/datasets--MichielBontenbal--elephants/blobs/07e5e99ce29807fc24ddeae1bd94d771813dde13468ef708fca5fdd02c24fc10'), size_on_disk=63038, blob_last_accessed=1727873921.3920517, blob_last_modified=1727873825.4125342), CachedFileInfo(file_name='olifant_tekening1.jpg', file_path=PosixPath('/Users/michielbontenbal/.cache/huggingface/hub/datasets--MichielBontenbal--elephants/snapshots/49495914780f611d66a8de1f4f1f251b8a6e68e0/olifant_tekening1.jpg'), blob_path=PosixPath('/Users/michielbontenbal/.cache/huggingface/hub/datasets--MichielBontenbal--elephants/blobs/ed39ef7c28f2cd4df70fb163db3d93af279445392c228ec4a4ebbafe8b3cda38'), size_on_disk=27949, blob_last_accessed=1727873921.3904436, blob_last_modified=1727873825.095387)}), refs=frozenset(), last_modified=1727873826.2183268), CachedRevisionInfo(commit_hash='9c043a598890b8c7ea6362f974dafc8fd01fa8ed', snapshot_path=PosixPath('/Users/michielbontenbal/.cache/huggingface/hub/datasets--MichielBontenbal--elephants/snapshots/9c043a598890b8c7ea6362f974dafc8fd01fa8ed'), size_on_disk=4504567, files=frozenset({CachedFileInfo(file_name='olifant_tekening2.jpg', file_path=PosixPath('/Users/michielbontenbal/.cache/huggingface/hub/datasets--MichielBontenbal--elephants/snapshots/9c043a598890b8c7ea6362f974dafc8fd01fa8ed/olifant_tekening2.jpg'), blob_path=PosixPath('/Users/michielbontenbal/.cache/huggingface/hub/datasets--MichielBontenbal--elephants/blobs/07e5e99ce29807fc24ddeae1bd94d771813dde13468ef708fca5fdd02c24fc10'), size_on_disk=63038, blob_last_accessed=1727873921.3920517, blob_last_modified=1727873825.4125342), CachedFileInfo(file_name='olifant_kat_foto.jpg', file_path=PosixPath('/Users/michielbontenbal/.cache/huggingface/hub/datasets--MichielBontenbal--elephants/snapshots/9c043a598890b8c7ea6362f974dafc8fd01fa8ed/olifant_kat_foto.jpg'), blob_path=PosixPath('/Users/michielbontenbal/.cache/huggingface/hub/datasets--MichielBontenbal--elephants/blobs/6e8afe40ac13f9ef36052f6ad8b2b94015808159d7286d30da3b8df6f8a8770a'), size_on_disk=94486, blob_last_accessed=1727873921.3849976, blob_last_modified=1727873824.2605546), CachedFileInfo(file_name='olifant_tekening4.jpg', file_path=PosixPath('/Users/michielbontenbal/.cache/huggingface/hub/datasets--MichielBontenbal--elephants/snapshots/9c043a598890b8c7ea6362f974dafc8fd01fa8ed/olifant_tekening4.jpg'), blob_path=PosixPath('/Users/michielbontenbal/.cache/huggingface/hub/datasets--MichielBontenbal--elephants/blobs/0a2e6a99e7b2439009b88f79ffe81a0ffdf171fb48a6526902e253f913bc4da7'), size_on_disk=73788, blob_last_accessed=1727873921.3962972, blob_last_modified=1727873826.2183268), CachedFileInfo(file_name='olifant_tangram.jpg', file_path=PosixPath('/Users/michielbontenbal/.cache/huggingface/hub/datasets--MichielBontenbal--elephants/snapshots/9c043a598890b8c7ea6362f974dafc8fd01fa8ed/olifant_tangram.jpg'), blob_path=PosixPath('/Users/michielbontenbal/.cache/huggingface/hub/datasets--MichielBontenbal--elephants/blobs/131b28c57208c0f25be45588963211d833c5d46b15a836480c4da5c194bf959c'), size_on_disk=3905912, blob_last_accessed=1728475598.78833, blob_last_modified=1728475335.0605745), CachedFileInfo(file_name='olifant_tekening1.jpg', file_path=PosixPath('/Users/michielbontenbal/.cache/huggingface/hub/datasets--MichielBontenbal--elephants/snapshots/9c043a598890b8c7ea6362f974dafc8fd01fa8ed/olifant_tekening1.jpg'), blob_path=PosixPath('/Users/michielbontenbal/.cache/huggingface/hub/datasets--MichielBontenbal--elephants/blobs/ed39ef7c28f2cd4df70fb163db3d93af279445392c228ec4a4ebbafe8b3cda38'), size_on_disk=27949, blob_last_accessed=1727873921.3904436, blob_last_modified=1727873825.095387), CachedFileInfo(file_name='olifant_foto1.jpg', file_path=PosixPath('/Users/michielbontenbal/.cache/huggingface/hub/datasets--MichielBontenbal--elephants/snapshots/9c043a598890b8c7ea6362f974dafc8fd01fa8ed/olifant_foto1.jpg'), blob_path=PosixPath('/Users/michielbontenbal/.cache/huggingface/hub/datasets--MichielBontenbal--elephants/blobs/f692ad86006830eaa4e40e609fc936bc07c403032514f1cf3df52a0fa8751280'), size_on_disk=45343, blob_last_accessed=1727873921.3691175, blob_last_modified=1727873822.819133), CachedFileInfo(file_name='olifant_tekening3.jpg', file_path=PosixPath('/Users/michielbontenbal/.cache/huggingface/hub/datasets--MichielBontenbal--elephants/snapshots/9c043a598890b8c7ea6362f974dafc8fd01fa8ed/olifant_tekening3.jpg'), blob_path=PosixPath('/Users/michielbontenbal/.cache/huggingface/hub/datasets--MichielBontenbal--elephants/blobs/73d308b0d5de13a7898e1857663fdfc7de21ae8c9e155cb569e0302423fe4ad6'), size_on_disk=68559, blob_last_accessed=1727873921.3942652, blob_last_modified=1727873825.843458), CachedFileInfo(file_name='olifant_foto2.jpg', file_path=PosixPath('/Users/michielbontenbal/.cache/huggingface/hub/datasets--MichielBontenbal--elephants/snapshots/9c043a598890b8c7ea6362f974dafc8fd01fa8ed/olifant_foto2.jpg'), blob_path=PosixPath('/Users/michielbontenbal/.cache/huggingface/hub/datasets--MichielBontenbal--elephants/blobs/bd67b727fc94111e8ed12eea25345f391ea454bcd162d43d031e5ad25751cd3d'), size_on_disk=83099, blob_last_accessed=1727873921.3749166, blob_last_modified=1727873823.168985), CachedFileInfo(file_name='README.md', file_path=PosixPath('/Users/michielbontenbal/.cache/huggingface/hub/datasets--MichielBontenbal--elephants/snapshots/9c043a598890b8c7ea6362f974dafc8fd01fa8ed/README.md'), blob_path=PosixPath('/Users/michielbontenbal/.cache/huggingface/hub/datasets--MichielBontenbal--elephants/blobs/8a5a8cce6266e5cc6f418eac40ad51d7057ee70a'), size_on_disk=114, blob_last_accessed=1727873820.295395, blob_last_modified=1727873820.2857254), CachedFileInfo(file_name='olifant_foto3.jpg', file_path=PosixPath('/Users/michielbontenbal/.cache/huggingface/hub/datasets--MichielBontenbal--elephants/snapshots/9c043a598890b8c7ea6362f974dafc8fd01fa8ed/olifant_foto3.jpg'), blob_path=PosixPath('/Users/michielbontenbal/.cache/huggingface/hub/datasets--MichielBontenbal--elephants/blobs/473345fe7228dcfdb27a220783c21d5efae0e2cab382b1e4afff9a58024f1b63'), size_on_disk=58056, blob_last_accessed=1727873921.380311, blob_last_modified=1727873823.5709333), CachedFileInfo(file_name='olifant_foto4.jpg', file_path=PosixPath('/Users/michielbontenbal/.cache/huggingface/hub/datasets--MichielBontenbal--elephants/snapshots/9c043a598890b8c7ea6362f974dafc8fd01fa8ed/olifant_foto4.jpg'), blob_path=PosixPath('/Users/michielbontenbal/.cache/huggingface/hub/datasets--MichielBontenbal--elephants/blobs/ed29efb61eb4aa5e224df055b36364132e47678d818a71e76a6473e10f591475'), size_on_disk=34449, blob_last_accessed=1727873921.3831532, blob_last_modified=1727873823.8848536), CachedFileInfo(file_name='olifant_speelgoed1.jpg', file_path=PosixPath('/Users/michielbontenbal/.cache/huggingface/hub/datasets--MichielBontenbal--elephants/snapshots/9c043a598890b8c7ea6362f974dafc8fd01fa8ed/olifant_speelgoed1.jpg'), blob_path=PosixPath('/Users/michielbontenbal/.cache/huggingface/hub/datasets--MichielBontenbal--elephants/blobs/329ed51e576760f37d6245c6c977194b7b001dc0bb37120308cbba2ae07c674b'), size_on_disk=49774, blob_last_accessed=1727873921.3876817, blob_last_modified=1727873824.791457)}), refs=frozenset(), last_modified=1728475335.0605745)}), last_accessed=1728475598.78833, last_modified=1728475335.0605745), CachedRepoInfo(repo_id='vidore/colpaligemma-3b-pt-448-base', repo_type='model', repo_path=PosixPath('/Users/michielbontenbal/.cache/huggingface/hub/models--vidore--colpaligemma-3b-pt-448-base'), size_on_disk=5849380132, nb_files=4, revisions=frozenset({CachedRevisionInfo(commit_hash='30ab955d073de4a91dc5a288e8c97226647e3e5a', snapshot_path=PosixPath('/Users/michielbontenbal/.cache/huggingface/hub/models--vidore--colpaligemma-3b-pt-448-base/snapshots/30ab955d073de4a91dc5a288e8c97226647e3e5a'), size_on_disk=5849380132, files=frozenset({CachedFileInfo(file_name='model.safetensors.index.json', file_path=PosixPath('/Users/michielbontenbal/.cache/huggingface/hub/models--vidore--colpaligemma-3b-pt-448-base/snapshots/30ab955d073de4a91dc5a288e8c97226647e3e5a/model.safetensors.index.json'), blob_path=PosixPath('/Users/michielbontenbal/.cache/huggingface/hub/models--vidore--colpaligemma-3b-pt-448-base/blobs/687a8b6860ea98f3464f5346f3fd02360f14239a'), size_on_disk=66301, blob_last_accessed=1730544451.0359986, blob_last_modified=1730544450.5381162), CachedFileInfo(file_name='model-00002-of-00002.safetensors', file_path=PosixPath('/Users/michielbontenbal/.cache/huggingface/hub/models--vidore--colpaligemma-3b-pt-448-base/snapshots/30ab955d073de4a91dc5a288e8c97226647e3e5a/model-00002-of-00002.safetensors'), blob_path=PosixPath('/Users/michielbontenbal/.cache/huggingface/hub/models--vidore--colpaligemma-3b-pt-448-base/blobs/8352c38e4d1785c4a35547d13f4d8d5562faab6fe8e9a30b1f5d8039d355a409'), size_on_disk=862495528, blob_last_accessed=1730544571.9334366, blob_last_modified=1730544594.3827696), CachedFileInfo(file_name='config.json', file_path=PosixPath('/Users/michielbontenbal/.cache/huggingface/hub/models--vidore--colpaligemma-3b-pt-448-base/snapshots/30ab955d073de4a91dc5a288e8c97226647e3e5a/config.json'), blob_path=PosixPath('/Users/michielbontenbal/.cache/huggingface/hub/models--vidore--colpaligemma-3b-pt-448-base/blobs/215b7db759e4eb301814d79e17f657360737b8f8'), size_on_disk=1015, blob_last_accessed=1730544451.0319574, blob_last_modified=1730544450.0883625), CachedFileInfo(file_name='model-00001-of-00002.safetensors', file_path=PosixPath('/Users/michielbontenbal/.cache/huggingface/hub/models--vidore--colpaligemma-3b-pt-448-base/snapshots/30ab955d073de4a91dc5a288e8c97226647e3e5a/model-00001-of-00002.safetensors'), blob_path=PosixPath('/Users/michielbontenbal/.cache/huggingface/hub/models--vidore--colpaligemma-3b-pt-448-base/blobs/c128f5670d7a66942a194be6e2d324dc329c0de19e99c6f047513878e14f988e'), size_on_disk=4986817288, blob_last_accessed=1730544594.6891563, blob_last_modified=1730544571.7708871)}), refs=frozenset({'main'}), last_modified=1730544594.3827696)}), last_accessed=1730544594.6891563, last_modified=1730544594.3827696), CachedRepoInfo(repo_id='google/paligemma-3b-mix-448', repo_type='model', repo_path=PosixPath('/Users/michielbontenbal/.cache/huggingface/hub/models--google--paligemma-3b-mix-448'), size_on_disk=11697549925, nb_files=5, revisions=frozenset({CachedRevisionInfo(commit_hash='ead2d9a35598cb89119af004f5d023b311d1c4a1', snapshot_path=PosixPath('/Users/michielbontenbal/.cache/huggingface/hub/models--google--paligemma-3b-mix-448/snapshots/ead2d9a35598cb89119af004f5d023b311d1c4a1'), size_on_disk=11697549925, files=frozenset({CachedFileInfo(file_name='config.json', file_path=PosixPath('/Users/michielbontenbal/.cache/huggingface/hub/models--google--paligemma-3b-mix-448/snapshots/ead2d9a35598cb89119af004f5d023b311d1c4a1/config.json'), blob_path=PosixPath('/Users/michielbontenbal/.cache/huggingface/hub/models--google--paligemma-3b-mix-448/blobs/39d09eda96e3c88a80d2e9684609350a502eb7bf'), size_on_disk=1053, blob_last_accessed=1730544057.5188012, blob_last_modified=1730544033.599254), CachedFileInfo(file_name='model-00002-of-00003.safetensors', file_path=PosixPath('/Users/michielbontenbal/.cache/huggingface/hub/models--google--paligemma-3b-mix-448/snapshots/ead2d9a35598cb89119af004f5d023b311d1c4a1/model-00002-of-00003.safetensors'), blob_path=PosixPath('/Users/michielbontenbal/.cache/huggingface/hub/models--google--paligemma-3b-mix-448/blobs/334b225c0ec1db8f3952121f5f67a78b37167623e2178c0babe3086fcc8ea4ad'), size_on_disk=4999820608, blob_last_accessed=1730544339.155956, blob_last_modified=1730544275.3596559), CachedFileInfo(file_name='model-00001-of-00003.safetensors', file_path=PosixPath('/Users/michielbontenbal/.cache/huggingface/hub/models--google--paligemma-3b-mix-448/snapshots/ead2d9a35598cb89119af004f5d023b311d1c4a1/model-00001-of-00003.safetensors'), blob_path=PosixPath('/Users/michielbontenbal/.cache/huggingface/hub/models--google--paligemma-3b-mix-448/blobs/570dab6f84d3b784a06707cdc4742f97545dfd57d73742bb2fcb3190a09696a4'), size_on_disk=4956951424, blob_last_accessed=1730544319.1652725, blob_last_modified=1730544153.4987953), CachedFileInfo(file_name='model.safetensors.index.json', file_path=PosixPath('/Users/michielbontenbal/.cache/huggingface/hub/models--google--paligemma-3b-mix-448/snapshots/ead2d9a35598cb89119af004f5d023b311d1c4a1/model.safetensors.index.json'), blob_path=PosixPath('/Users/michielbontenbal/.cache/huggingface/hub/models--google--paligemma-3b-mix-448/blobs/ffd0d2f4876a2d7a356c59b425ee17e619a89b28'), size_on_disk=62552, blob_last_accessed=1730544034.6889858, blob_last_modified=1730544034.5059667), CachedFileInfo(file_name='model-00003-of-00003.safetensors', file_path=PosixPath('/Users/michielbontenbal/.cache/huggingface/hub/models--google--paligemma-3b-mix-448/snapshots/ead2d9a35598cb89119af004f5d023b311d1c4a1/model-00003-of-00003.safetensors'), blob_path=PosixPath('/Users/michielbontenbal/.cache/huggingface/hub/models--google--paligemma-3b-mix-448/blobs/8c75421941def510a8c2364726d8ab36cf1a0653b355368d2e2a80766b5a4f5f'), size_on_disk=1740714288, blob_last_accessed=1730544360.6440165, blob_last_modified=1730544317.5769982)}), refs=frozenset({'main'}), last_modified=1730544317.5769982)}), last_accessed=1730544360.6440165, last_modified=1730544317.5769982), CachedRepoInfo(repo_id='vidore/colpali', repo_type='model', repo_path=PosixPath('/Users/michielbontenbal/.cache/huggingface/hub/models--vidore--colpali'), size_on_disk=78625864, nb_files=2, revisions=frozenset({CachedRevisionInfo(commit_hash='2d345a64b81c56037fc2907c7d0fb59795101cbe', snapshot_path=PosixPath('/Users/michielbontenbal/.cache/huggingface/hub/models--vidore--colpali/snapshots/2d345a64b81c56037fc2907c7d0fb59795101cbe'), size_on_disk=78625864, files=frozenset({CachedFileInfo(file_name='adapter_config.json', file_path=PosixPath('/Users/michielbontenbal/.cache/huggingface/hub/models--vidore--colpali/snapshots/2d345a64b81c56037fc2907c7d0fb59795101cbe/adapter_config.json'), blob_path=PosixPath('/Users/michielbontenbal/.cache/huggingface/hub/models--vidore--colpali/blobs/3b2101de3e772d5417cee8ccfd3235b2ab125753'), size_on_disk=752, blob_last_accessed=1730544371.6322987, blob_last_modified=1730544371.2999322), CachedFileInfo(file_name='adapter_model.safetensors', file_path=PosixPath('/Users/michielbontenbal/.cache/huggingface/hub/models--vidore--colpali/snapshots/2d345a64b81c56037fc2907c7d0fb59795101cbe/adapter_model.safetensors'), blob_path=PosixPath('/Users/michielbontenbal/.cache/huggingface/hub/models--vidore--colpali/blobs/961b72c2b2a1bebc3e11e7d98cd173d263437aad5ef36e760e9265c184c88d64'), size_on_disk=78625112, blob_last_accessed=1730544374.6974964, blob_last_modified=1730544374.6872396)}), refs=frozenset({'main'}), last_modified=1730544374.6872396)}), last_accessed=1730544374.6974964, last_modified=1730544374.6872396), CachedRepoInfo(repo_id='laion/CLIP-ViT-B-32-laion2B-s34B-b79K', repo_type='model', repo_path=PosixPath('/Users/michielbontenbal/.cache/huggingface/hub/models--laion--CLIP-ViT-B-32-laion2B-s34B-b79K'), size_on_disk=605219813, nb_files=1, revisions=frozenset({CachedRevisionInfo(commit_hash='08f73555f1b2fb7c82058aebbd492887a94968ef', snapshot_path=PosixPath('/Users/michielbontenbal/.cache/huggingface/hub/models--laion--CLIP-ViT-B-32-laion2B-s34B-b79K/snapshots/08f73555f1b2fb7c82058aebbd492887a94968ef'), size_on_disk=605219813, files=frozenset({CachedFileInfo(file_name='open_clip_pytorch_model.bin', file_path=PosixPath('/Users/michielbontenbal/.cache/huggingface/hub/models--laion--CLIP-ViT-B-32-laion2B-s34B-b79K/snapshots/08f73555f1b2fb7c82058aebbd492887a94968ef/open_clip_pytorch_model.bin'), blob_path=PosixPath('/Users/michielbontenbal/.cache/huggingface/hub/models--laion--CLIP-ViT-B-32-laion2B-s34B-b79K/blobs/1bd3c7172de5b207ceac554f5ab5266166f3b9baccc9af5989bc801016d080ad'), size_on_disk=605219813, blob_last_accessed=1728029526.4830635, blob_last_modified=1728029526.2526603)}), refs=frozenset({'main'}), last_modified=1728029526.2526603)}), last_accessed=1728029526.4830635, last_modified=1728029526.2526603), CachedRepoInfo(repo_id='vidore/colpali-v1.2', repo_type='model', repo_path=PosixPath('/Users/michielbontenbal/.cache/huggingface/hub/models--vidore--colpali-v1.2'), size_on_disk=750, nb_files=1, revisions=frozenset({CachedRevisionInfo(commit_hash='4908f0b96dd3d786a8b23916684f4413d864e582', snapshot_path=PosixPath('/Users/michielbontenbal/.cache/huggingface/hub/models--vidore--colpali-v1.2/snapshots/4908f0b96dd3d786a8b23916684f4413d864e582'), size_on_disk=750, files=frozenset({CachedFileInfo(file_name='adapter_config.json', file_path=PosixPath('/Users/michielbontenbal/.cache/huggingface/hub/models--vidore--colpali-v1.2/snapshots/4908f0b96dd3d786a8b23916684f4413d864e582/adapter_config.json'), blob_path=PosixPath('/Users/michielbontenbal/.cache/huggingface/hub/models--vidore--colpali-v1.2/blobs/1cb1d88cb1f7fa16e3ff16912d38c3a54e619c23'), size_on_disk=750, blob_last_accessed=1730544450.0356977, blob_last_modified=1730544449.5884175)}), refs=frozenset({'main'}), last_modified=1730544449.5884175)}), last_accessed=1730544450.0356977, last_modified=1730544449.5884175), CachedRepoInfo(repo_id='laion/larger_clap_general', repo_type='model', repo_path=PosixPath('/Users/michielbontenbal/.cache/huggingface/hub/models--laion--larger_clap_general'), size_on_disk=779810876, nb_files=8, revisions=frozenset({CachedRevisionInfo(commit_hash='ada0c23a36c4e8582805bb38fec3905903f18b41', snapshot_path=PosixPath('/Users/michielbontenbal/.cache/huggingface/hub/models--laion--larger_clap_general/snapshots/ada0c23a36c4e8582805bb38fec3905903f18b41'), size_on_disk=779810876, files=frozenset({CachedFileInfo(file_name='special_tokens_map.json', file_path=PosixPath('/Users/michielbontenbal/.cache/huggingface/hub/models--laion--larger_clap_general/snapshots/ada0c23a36c4e8582805bb38fec3905903f18b41/special_tokens_map.json'), blob_path=PosixPath('/Users/michielbontenbal/.cache/huggingface/hub/models--laion--larger_clap_general/blobs/d5698132694f4f1bcff08fa7d937b1701812598e'), size_on_disk=280, blob_last_accessed=1700071909.5180285, blob_last_modified=1700071909.6491635), CachedFileInfo(file_name='vocab.json', file_path=PosixPath('/Users/michielbontenbal/.cache/huggingface/hub/models--laion--larger_clap_general/snapshots/ada0c23a36c4e8582805bb38fec3905903f18b41/vocab.json'), blob_path=PosixPath('/Users/michielbontenbal/.cache/huggingface/hub/models--laion--larger_clap_general/blobs/4ebe4bb3f3114daf2e4cc349f24873a1175a35d7'), size_on_disk=798293, blob_last_accessed=1700071907.6367302, blob_last_modified=1700071908.1609015), CachedFileInfo(file_name='tokenizer.json', file_path=PosixPath('/Users/michielbontenbal/.cache/huggingface/hub/models--laion--larger_clap_general/snapshots/ada0c23a36c4e8582805bb38fec3905903f18b41/tokenizer.json'), blob_path=PosixPath('/Users/michielbontenbal/.cache/huggingface/hub/models--laion--larger_clap_general/blobs/15cffb1a334cf27ccef68b0b6e2bc6f74f1be219'), size_on_disk=2108774, blob_last_accessed=1700071932.80062, blob_last_modified=1700071909.2780845), CachedFileInfo(file_name='preprocessor_config.json', file_path=PosixPath('/Users/michielbontenbal/.cache/huggingface/hub/models--laion--larger_clap_general/snapshots/ada0c23a36c4e8582805bb38fec3905903f18b41/preprocessor_config.json'), blob_path=PosixPath('/Users/michielbontenbal/.cache/huggingface/hub/models--laion--larger_clap_general/blobs/e8636819eeb1b19f1e5b6f572eca1a101144062e'), size_on_disk=541, blob_last_accessed=1700071910.6081398, blob_last_modified=1700071909.99708), CachedFileInfo(file_name='pytorch_model.bin', file_path=PosixPath('/Users/michielbontenbal/.cache/huggingface/hub/models--laion--larger_clap_general/snapshots/ada0c23a36c4e8582805bb38fec3905903f18b41/pytorch_model.bin'), blob_path=PosixPath('/Users/michielbontenbal/.cache/huggingface/hub/models--laion--larger_clap_general/blobs/314eb00cce6ad68d25237b8446b659ccdb136ed4672c1bca470f142f72455026'), size_on_disk=776444665, blob_last_accessed=1700071903.6039197, blob_last_modified=1700071903.3720372), CachedFileInfo(file_name='merges.txt', file_path=PosixPath('/Users/michielbontenbal/.cache/huggingface/hub/models--laion--larger_clap_general/snapshots/ada0c23a36c4e8582805bb38fec3905903f18b41/merges.txt'), blob_path=PosixPath('/Users/michielbontenbal/.cache/huggingface/hub/models--laion--larger_clap_general/blobs/226b0752cac7789c48f0cb3ec53eda48b7be36cc'), size_on_disk=456318, blob_last_accessed=1700071908.2864356, blob_last_modified=1700071908.6070237), CachedFileInfo(file_name='tokenizer_config.json', file_path=PosixPath('/Users/michielbontenbal/.cache/huggingface/hub/models--laion--larger_clap_general/snapshots/ada0c23a36c4e8582805bb38fec3905903f18b41/tokenizer_config.json'), blob_path=PosixPath('/Users/michielbontenbal/.cache/huggingface/hub/models--laion--larger_clap_general/blobs/6e172a6edd7cb77400dc898b7a2d4d7cc0dbd75d'), size_on_disk=1362, blob_last_accessed=1700071907.4271667, blob_last_modified=1700071907.4208827), CachedFileInfo(file_name='config.json', file_path=PosixPath('/Users/michielbontenbal/.cache/huggingface/hub/models--laion--larger_clap_general/snapshots/ada0c23a36c4e8582805bb38fec3905903f18b41/config.json'), blob_path=PosixPath('/Users/michielbontenbal/.cache/huggingface/hub/models--laion--larger_clap_general/blobs/19cd0d27ed9aa01b7154b32270a02f251b08d120'), size_on_disk=643, blob_last_accessed=1700071785.2563908, blob_last_modified=1700071785.1266186)}), refs=frozenset({'main'}), last_modified=1700071909.99708)}), last_accessed=1700071932.80062, last_modified=1700071909.99708), CachedRepoInfo(repo_id='openai/whisper-base.en', repo_type='model', repo_path=PosixPath('/Users/michielbontenbal/.cache/huggingface/hub/models--openai--whisper-base.en'), size_on_disk=294340404, nb_files=11, revisions=frozenset({CachedRevisionInfo(commit_hash='911407f4214e0e1d82085af863093ec0b66f9cd6', snapshot_path=PosixPath('/Users/michielbontenbal/.cache/huggingface/hub/models--openai--whisper-base.en/snapshots/911407f4214e0e1d82085af863093ec0b66f9cd6'), size_on_disk=294340404, files=frozenset({CachedFileInfo(file_name='merges.txt', file_path=PosixPath('/Users/michielbontenbal/.cache/huggingface/hub/models--openai--whisper-base.en/snapshots/911407f4214e0e1d82085af863093ec0b66f9cd6/merges.txt'), blob_path=PosixPath('/Users/michielbontenbal/.cache/huggingface/hub/models--openai--whisper-base.en/blobs/226b0752cac7789c48f0cb3ec53eda48b7be36cc'), size_on_disk=456318, blob_last_accessed=1718219399.4303532, blob_last_modified=1718219399.801043), CachedFileInfo(file_name='vocab.json', file_path=PosixPath('/Users/michielbontenbal/.cache/huggingface/hub/models--openai--whisper-base.en/snapshots/911407f4214e0e1d82085af863093ec0b66f9cd6/vocab.json'), blob_path=PosixPath('/Users/michielbontenbal/.cache/huggingface/hub/models--openai--whisper-base.en/blobs/84ef7fb594b5c0979e48bdeddb60a0adef33df0b'), size_on_disk=798156, blob_last_accessed=1718219397.9692733, blob_last_modified=1718219398.460631), CachedFileInfo(file_name='normalizer.json', file_path=PosixPath('/Users/michielbontenbal/.cache/huggingface/hub/models--openai--whisper-base.en/snapshots/911407f4214e0e1d82085af863093ec0b66f9cd6/normalizer.json'), blob_path=PosixPath('/Users/michielbontenbal/.cache/huggingface/hub/models--openai--whisper-base.en/blobs/dd6ae819ad738ac1a546e9f9282ef325c33b9ea0'), size_on_disk=52666, blob_last_accessed=1718219410.1268618, blob_last_modified=1718219400.1148567), CachedFileInfo(file_name='preprocessor_config.json', file_path=PosixPath('/Users/michielbontenbal/.cache/huggingface/hub/models--openai--whisper-base.en/snapshots/911407f4214e0e1d82085af863093ec0b66f9cd6/preprocessor_config.json'), blob_path=PosixPath('/Users/michielbontenbal/.cache/huggingface/hub/models--openai--whisper-base.en/blobs/c2048dfa9fd94a052e62e908d2c4dfb18534b4d2'), size_on_disk=184990, blob_last_accessed=1718219404.563919, blob_last_modified=1718219403.6963785), CachedFileInfo(file_name='model.safetensors', file_path=PosixPath('/Users/michielbontenbal/.cache/huggingface/hub/models--openai--whisper-base.en/snapshots/911407f4214e0e1d82085af863093ec0b66f9cd6/model.safetensors'), blob_path=PosixPath('/Users/michielbontenbal/.cache/huggingface/hub/models--openai--whisper-base.en/blobs/d4dd5542fd6a1d35639e21384238f3bfe6c557c849d392b5905d33ee29e71db5'), size_on_disk=290401888, blob_last_accessed=1718741051.568891, blob_last_modified=1718219395.3852892), CachedFileInfo(file_name='generation_config.json', file_path=PosixPath('/Users/michielbontenbal/.cache/huggingface/hub/models--openai--whisper-base.en/snapshots/911407f4214e0e1d82085af863093ec0b66f9cd6/generation_config.json'), blob_path=PosixPath('/Users/michielbontenbal/.cache/huggingface/hub/models--openai--whisper-base.en/blobs/1cde9fc2a32ad94f4db760e67a2375e229215f58'), size_on_disk=1531, blob_last_accessed=1718219397.5593443, blob_last_modified=1718219397.231421), CachedFileInfo(file_name='tokenizer_config.json', file_path=PosixPath('/Users/michielbontenbal/.cache/huggingface/hub/models--openai--whisper-base.en/snapshots/911407f4214e0e1d82085af863093ec0b66f9cd6/tokenizer_config.json'), blob_path=PosixPath('/Users/michielbontenbal/.cache/huggingface/hub/models--openai--whisper-base.en/blobs/6b53d4f2b480c9267ffc419c7628159d25f3072a'), size_on_disk=805, blob_last_accessed=1718219397.8290539, blob_last_modified=1718219397.8054621), CachedFileInfo(file_name='config.json', file_path=PosixPath('/Users/michielbontenbal/.cache/huggingface/hub/models--openai--whisper-base.en/snapshots/911407f4214e0e1d82085af863093ec0b66f9cd6/config.json'), blob_path=PosixPath('/Users/michielbontenbal/.cache/huggingface/hub/models--openai--whisper-base.en/blobs/0e9af059a5d452f97d3493ffb4da98712c8fd711'), size_on_disk=1937, blob_last_accessed=1718219352.171356, blob_last_modified=1718219351.303103), CachedFileInfo(file_name='added_tokens.json', file_path=PosixPath('/Users/michielbontenbal/.cache/huggingface/hub/models--openai--whisper-base.en/snapshots/911407f4214e0e1d82085af863093ec0b66f9cd6/added_tokens.json'), blob_path=PosixPath('/Users/michielbontenbal/.cache/huggingface/hub/models--openai--whisper-base.en/blobs/0b661e7eeafa60f4366f802cc18d99a08574861c'), size_on_disk=34604, blob_last_accessed=1718219401.5620644, blob_last_modified=1718219400.6384158), CachedFileInfo(file_name='tokenizer.json', file_path=PosixPath('/Users/michielbontenbal/.cache/huggingface/hub/models--openai--whisper-base.en/snapshots/911407f4214e0e1d82085af863093ec0b66f9cd6/tokenizer.json'), blob_path=PosixPath('/Users/michielbontenbal/.cache/huggingface/hub/models--openai--whisper-base.en/blobs/b5bd266de2f9b9a68efe13fb48ac6830ca71c0bb'), size_on_disk=2405679, blob_last_accessed=1718219401.102126, blob_last_modified=1718219399.2847366), CachedFileInfo(file_name='special_tokens_map.json', file_path=PosixPath('/Users/michielbontenbal/.cache/huggingface/hub/models--openai--whisper-base.en/snapshots/911407f4214e0e1d82085af863093ec0b66f9cd6/special_tokens_map.json'), blob_path=PosixPath('/Users/michielbontenbal/.cache/huggingface/hub/models--openai--whisper-base.en/blobs/7e6b5b4f006274b7085b597005a9ad73c639eb80'), size_on_disk=1830, blob_last_accessed=1718219401.5623488, blob_last_modified=1718219400.9704564)}), refs=frozenset({'main'}), last_modified=1718219403.6963785)}), last_accessed=1718741051.568891, last_modified=1718219403.6963785), CachedRepoInfo(repo_id='laion/larger_clap_music_and_speech', repo_type='model', repo_path=PosixPath('/Users/michielbontenbal/.cache/huggingface/hub/models--laion--larger_clap_music_and_speech'), size_on_disk=779810868, nb_files=8, revisions=frozenset({CachedRevisionInfo(commit_hash='195c3a3e68faebb3e2088b9a79e79b43ddbda76b', snapshot_path=PosixPath('/Users/michielbontenbal/.cache/huggingface/hub/models--laion--larger_clap_music_and_speech/snapshots/195c3a3e68faebb3e2088b9a79e79b43ddbda76b'), size_on_disk=779810868, files=frozenset({CachedFileInfo(file_name='pytorch_model.bin', file_path=PosixPath('/Users/michielbontenbal/.cache/huggingface/hub/models--laion--larger_clap_music_and_speech/snapshots/195c3a3e68faebb3e2088b9a79e79b43ddbda76b/pytorch_model.bin'), blob_path=PosixPath('/Users/michielbontenbal/.cache/huggingface/hub/models--laion--larger_clap_music_and_speech/blobs/b73c5e596fda5b29b522a1ab3f0842977fe2b147bf8b78c2ec5f7ae6267038a1'), size_on_disk=776444665, blob_last_accessed=1698864754.455388, blob_last_modified=1698864753.5038815), CachedFileInfo(file_name='config.json', file_path=PosixPath('/Users/michielbontenbal/.cache/huggingface/hub/models--laion--larger_clap_music_and_speech/snapshots/195c3a3e68faebb3e2088b9a79e79b43ddbda76b/config.json'), blob_path=PosixPath('/Users/michielbontenbal/.cache/huggingface/hub/models--laion--larger_clap_music_and_speech/blobs/9b63ca679b24da256217bdc46c9e87beaa7dc835'), size_on_disk=635, blob_last_accessed=1698864609.762244, blob_last_modified=1698864609.7259502), CachedFileInfo(file_name='merges.txt', file_path=PosixPath('/Users/michielbontenbal/.cache/huggingface/hub/models--laion--larger_clap_music_and_speech/snapshots/195c3a3e68faebb3e2088b9a79e79b43ddbda76b/merges.txt'), blob_path=PosixPath('/Users/michielbontenbal/.cache/huggingface/hub/models--laion--larger_clap_music_and_speech/blobs/226b0752cac7789c48f0cb3ec53eda48b7be36cc'), size_on_disk=456318, blob_last_accessed=1698864758.7586458, blob_last_modified=1698864759.1454852), CachedFileInfo(file_name='special_tokens_map.json', file_path=PosixPath('/Users/michielbontenbal/.cache/huggingface/hub/models--laion--larger_clap_music_and_speech/snapshots/195c3a3e68faebb3e2088b9a79e79b43ddbda76b/special_tokens_map.json'), blob_path=PosixPath('/Users/michielbontenbal/.cache/huggingface/hub/models--laion--larger_clap_music_and_speech/blobs/d5698132694f4f1bcff08fa7d937b1701812598e'), size_on_disk=280, blob_last_accessed=1698864761.1518896, blob_last_modified=1698864760.4636164), CachedFileInfo(file_name='tokenizer_config.json', file_path=PosixPath('/Users/michielbontenbal/.cache/huggingface/hub/models--laion--larger_clap_music_and_speech/snapshots/195c3a3e68faebb3e2088b9a79e79b43ddbda76b/tokenizer_config.json'), blob_path=PosixPath('/Users/michielbontenbal/.cache/huggingface/hub/models--laion--larger_clap_music_and_speech/blobs/6e172a6edd7cb77400dc898b7a2d4d7cc0dbd75d'), size_on_disk=1362, blob_last_accessed=1698864758.0131907, blob_last_modified=1698864757.8539865), CachedFileInfo(file_name='vocab.json', file_path=PosixPath('/Users/michielbontenbal/.cache/huggingface/hub/models--laion--larger_clap_music_and_speech/snapshots/195c3a3e68faebb3e2088b9a79e79b43ddbda76b/vocab.json'), blob_path=PosixPath('/Users/michielbontenbal/.cache/huggingface/hub/models--laion--larger_clap_music_and_speech/blobs/4ebe4bb3f3114daf2e4cc349f24873a1175a35d7'), size_on_disk=798293, blob_last_accessed=1698864758.1613207, blob_last_modified=1698864758.6427464), CachedFileInfo(file_name='preprocessor_config.json', file_path=PosixPath('/Users/michielbontenbal/.cache/huggingface/hub/models--laion--larger_clap_music_and_speech/snapshots/195c3a3e68faebb3e2088b9a79e79b43ddbda76b/preprocessor_config.json'), blob_path=PosixPath('/Users/michielbontenbal/.cache/huggingface/hub/models--laion--larger_clap_music_and_speech/blobs/e8636819eeb1b19f1e5b6f572eca1a101144062e'), size_on_disk=541, blob_last_accessed=1698864761.1520917, blob_last_modified=1698864760.82014), CachedFileInfo(file_name='tokenizer.json', file_path=PosixPath('/Users/michielbontenbal/.cache/huggingface/hub/models--laion--larger_clap_music_and_speech/snapshots/195c3a3e68faebb3e2088b9a79e79b43ddbda76b/tokenizer.json'), blob_path=PosixPath('/Users/michielbontenbal/.cache/huggingface/hub/models--laion--larger_clap_music_and_speech/blobs/15cffb1a334cf27ccef68b0b6e2bc6f74f1be219'), size_on_disk=2108774, blob_last_accessed=1698864768.9156368, blob_last_modified=1698864760.0509756)}), refs=frozenset({'main'}), last_modified=1698864760.82014)}), last_accessed=1698864768.9156368, last_modified=1698864760.82014), CachedRepoInfo(repo_id='huggingface/cats-image', repo_type='dataset', repo_path=PosixPath('/Users/michielbontenbal/.cache/huggingface/hub/datasets--huggingface--cats-image'), size_on_disk=2559, nb_files=1, revisions=frozenset({CachedRevisionInfo(commit_hash='ccdec0af347ae11c5315146402c3e16c8bbf4149', snapshot_path=PosixPath('/Users/michielbontenbal/.cache/huggingface/hub/datasets--huggingface--cats-image/snapshots/ccdec0af347ae11c5315146402c3e16c8bbf4149'), size_on_disk=2559, files=frozenset({CachedFileInfo(file_name='cats-image.py', file_path=PosixPath('/Users/michielbontenbal/.cache/huggingface/hub/datasets--huggingface--cats-image/snapshots/ccdec0af347ae11c5315146402c3e16c8bbf4149/cats-image.py'), blob_path=PosixPath('/Users/michielbontenbal/.cache/huggingface/hub/datasets--huggingface--cats-image/blobs/695d06e6ae6ea6e983491478dc2a79791e29e6fc'), size_on_disk=2559, blob_last_accessed=1727873393.0999403, blob_last_modified=1727873393.0896306)}), refs=frozenset({'main'}), last_modified=1727873393.0896306)}), last_accessed=1727873393.0999403, last_modified=1727873393.0896306), CachedRepoInfo(repo_id='guillaumekln/faster-whisper-medium', repo_type='model', repo_path=PosixPath('/Users/michielbontenbal/.cache/huggingface/hub/models--guillaumekln--faster-whisper-medium'), size_on_disk=1530571735, nb_files=4, revisions=frozenset({CachedRevisionInfo(commit_hash='8701f851d407f3f47e091bb13b8dac5290c7f7fb', snapshot_path=PosixPath('/Users/michielbontenbal/.cache/huggingface/hub/models--guillaumekln--faster-whisper-medium/snapshots/8701f851d407f3f47e091bb13b8dac5290c7f7fb'), size_on_disk=1530571735, files=frozenset({CachedFileInfo(file_name='config.json', file_path=PosixPath('/Users/michielbontenbal/.cache/huggingface/hub/models--guillaumekln--faster-whisper-medium/snapshots/8701f851d407f3f47e091bb13b8dac5290c7f7fb/config.json'), blob_path=PosixPath('/Users/michielbontenbal/.cache/huggingface/hub/models--guillaumekln--faster-whisper-medium/blobs/242aa06a480a7b5509375c645097e87af5136774'), size_on_disk=2257, blob_last_accessed=1716297041.741257, blob_last_modified=1716297042.172977), CachedFileInfo(file_name='model.bin', file_path=PosixPath('/Users/michielbontenbal/.cache/huggingface/hub/models--guillaumekln--faster-whisper-medium/snapshots/8701f851d407f3f47e091bb13b8dac5290c7f7fb/model.bin'), blob_path=PosixPath('/Users/michielbontenbal/.cache/huggingface/hub/models--guillaumekln--faster-whisper-medium/blobs/9b45e1009dcc4ab601eff815b61d80e60ce3fd8c74c1a14f4a282258286b51ae'), size_on_disk=1527906378, blob_last_accessed=1716297041.4157784, blob_last_modified=1716297167.996087), CachedFileInfo(file_name='tokenizer.json', file_path=PosixPath('/Users/michielbontenbal/.cache/huggingface/hub/models--guillaumekln--faster-whisper-medium/snapshots/8701f851d407f3f47e091bb13b8dac5290c7f7fb/tokenizer.json'), blob_path=PosixPath('/Users/michielbontenbal/.cache/huggingface/hub/models--guillaumekln--faster-whisper-medium/blobs/7818adb6de9fa3064d3ff81226fdd675be1f6344'), size_on_disk=2203239, blob_last_accessed=1716297041.4106545, blob_last_modified=1716297043.1145759), CachedFileInfo(file_name='vocabulary.txt', file_path=PosixPath('/Users/michielbontenbal/.cache/huggingface/hub/models--guillaumekln--faster-whisper-medium/snapshots/8701f851d407f3f47e091bb13b8dac5290c7f7fb/vocabulary.txt'), blob_path=PosixPath('/Users/michielbontenbal/.cache/huggingface/hub/models--guillaumekln--faster-whisper-medium/blobs/c9074644d9d1205686f16d411564729461324b75'), size_on_disk=459861, blob_last_accessed=1716297041.4083397, blob_last_modified=1716297042.1594713)}), refs=frozenset({'main'}), last_modified=1716297167.996087)}), last_accessed=1716297041.741257, last_modified=1716297167.996087)}), warnings=[CorruptedCacheException(\"Snapshots dir doesn't exist in cached repo: /Users/michielbontenbal/.cache/huggingface/hub/models--Downloads--pytorch_model.bin/snapshots\"), CorruptedCacheException('Repo path is not a directory: /Users/michielbontenbal/.cache/huggingface/hub/.DS_Store'), CorruptedCacheException('Repo path is not a directory: /Users/michielbontenbal/.cache/huggingface/hub/patch32_v1.onnx.lock'), CorruptedCacheException(\"Reference(s) refer to missing commit hashes: {'1d5f47bd3bdd2c4bbfa585418ffe6da5028b4c0b': {'main'}} (/Users/michielbontenbal/.cache/huggingface/hub/models--facebook--detr-resnet-50).\"), CorruptedCacheException('Repo path is not a directory: /Users/michielbontenbal/.cache/huggingface/hub/version_diffusers_cache.txt'), CorruptedCacheException('Repo path is not a directory: /Users/michielbontenbal/.cache/huggingface/hub/version.txt')])\n",
      "Hugging Face Cache Contents:\n",
      "Total size: 28.5G\n",
      "Number of repositories: 22\n",
      "\n",
      "Repository Details:\n",
      "\n",
      "Repo ID: UrbanSounds/AmsterdamSounds\n",
      "Repo type: dataset\n",
      "Size on disk: 1.9M\n",
      "Number of files: 1\n",
      "Local path: /Users/michielbontenbal/.cache/huggingface/hub/datasets--UrbanSounds--AmsterdamSounds\n",
      "\n",
      "Repo ID: google/vit-base-patch16-224\n",
      "Repo type: model\n",
      "Size on disk: 346.4M\n",
      "Number of files: 3\n",
      "Local path: /Users/michielbontenbal/.cache/huggingface/hub/models--google--vit-base-patch16-224\n",
      "\n",
      "Repo ID: distilbert-base-uncased-finetuned-sst-2-english\n",
      "Repo type: model\n",
      "Size on disk: 268.1M\n",
      "Number of files: 4\n",
      "Local path: /Users/michielbontenbal/.cache/huggingface/hub/models--distilbert-base-uncased-finetuned-sst-2-english\n",
      "\n",
      "Repo ID: openai/clip-vit-base-patch32\n",
      "Repo type: model\n",
      "Size on disk: 3.6M\n",
      "Number of files: 7\n",
      "Local path: /Users/michielbontenbal/.cache/huggingface/hub/models--openai--clip-vit-base-patch32\n",
      "\n",
      "Repo ID: microsoft/resnet-50\n",
      "Repo type: model\n",
      "Size on disk: 102.6M\n",
      "Number of files: 3\n",
      "Local path: /Users/michielbontenbal/.cache/huggingface/hub/models--microsoft--resnet-50\n",
      "\n",
      "Repo ID: johnowhitaker/ddpm-butterflies-32px\n",
      "Repo type: model\n",
      "Size on disk: 74.3M\n",
      "Number of files: 4\n",
      "Local path: /Users/michielbontenbal/.cache/huggingface/hub/models--johnowhitaker--ddpm-butterflies-32px\n",
      "\n",
      "Repo ID: google/ddpm-cat-256\n",
      "Repo type: model\n",
      "Size on disk: 454.7M\n",
      "Number of files: 4\n",
      "Local path: /Users/michielbontenbal/.cache/huggingface/hub/models--google--ddpm-cat-256\n",
      "\n",
      "Repo ID: openai-community/gpt2\n",
      "Repo type: model\n",
      "Size on disk: 551.0M\n",
      "Number of files: 7\n",
      "Local path: /Users/michielbontenbal/.cache/huggingface/hub/models--openai-community--gpt2\n",
      "\n",
      "Repo ID: microsoft/Florence-2-large\n",
      "Repo type: model\n",
      "Size on disk: 1.5G\n",
      "Number of files: 10\n",
      "Local path: /Users/michielbontenbal/.cache/huggingface/hub/models--microsoft--Florence-2-large\n",
      "\n",
      "Repo ID: microsoft/Florence-2-base\n",
      "Repo type: model\n",
      "Size on disk: 467.1M\n",
      "Number of files: 9\n",
      "Local path: /Users/michielbontenbal/.cache/huggingface/hub/models--microsoft--Florence-2-base\n",
      "\n",
      "Repo ID: Systran/faster-whisper-large-v3\n",
      "Repo type: model\n",
      "Size on disk: 3.1G\n",
      "Number of files: 5\n",
      "Local path: /Users/michielbontenbal/.cache/huggingface/hub/models--Systran--faster-whisper-large-v3\n",
      "\n",
      "Repo ID: MichielBontenbal/elephants\n",
      "Repo type: dataset\n",
      "Size on disk: 4.5M\n",
      "Number of files: 12\n",
      "Local path: /Users/michielbontenbal/.cache/huggingface/hub/datasets--MichielBontenbal--elephants\n",
      "\n",
      "Repo ID: vidore/colpaligemma-3b-pt-448-base\n",
      "Repo type: model\n",
      "Size on disk: 5.8G\n",
      "Number of files: 4\n",
      "Local path: /Users/michielbontenbal/.cache/huggingface/hub/models--vidore--colpaligemma-3b-pt-448-base\n",
      "\n",
      "Repo ID: google/paligemma-3b-mix-448\n",
      "Repo type: model\n",
      "Size on disk: 11.7G\n",
      "Number of files: 5\n",
      "Local path: /Users/michielbontenbal/.cache/huggingface/hub/models--google--paligemma-3b-mix-448\n",
      "\n",
      "Repo ID: vidore/colpali\n",
      "Repo type: model\n",
      "Size on disk: 78.6M\n",
      "Number of files: 2\n",
      "Local path: /Users/michielbontenbal/.cache/huggingface/hub/models--vidore--colpali\n",
      "\n",
      "Repo ID: laion/CLIP-ViT-B-32-laion2B-s34B-b79K\n",
      "Repo type: model\n",
      "Size on disk: 605.2M\n",
      "Number of files: 1\n",
      "Local path: /Users/michielbontenbal/.cache/huggingface/hub/models--laion--CLIP-ViT-B-32-laion2B-s34B-b79K\n",
      "\n",
      "Repo ID: vidore/colpali-v1.2\n",
      "Repo type: model\n",
      "Size on disk: 750.0\n",
      "Number of files: 1\n",
      "Local path: /Users/michielbontenbal/.cache/huggingface/hub/models--vidore--colpali-v1.2\n",
      "\n",
      "Repo ID: laion/larger_clap_general\n",
      "Repo type: model\n",
      "Size on disk: 779.8M\n",
      "Number of files: 8\n",
      "Local path: /Users/michielbontenbal/.cache/huggingface/hub/models--laion--larger_clap_general\n",
      "\n",
      "Repo ID: openai/whisper-base.en\n",
      "Repo type: model\n",
      "Size on disk: 294.3M\n",
      "Number of files: 11\n",
      "Local path: /Users/michielbontenbal/.cache/huggingface/hub/models--openai--whisper-base.en\n",
      "\n",
      "Repo ID: laion/larger_clap_music_and_speech\n",
      "Repo type: model\n",
      "Size on disk: 779.8M\n",
      "Number of files: 8\n",
      "Local path: /Users/michielbontenbal/.cache/huggingface/hub/models--laion--larger_clap_music_and_speech\n",
      "\n",
      "Repo ID: huggingface/cats-image\n",
      "Repo type: dataset\n",
      "Size on disk: 2.6K\n",
      "Number of files: 1\n",
      "Local path: /Users/michielbontenbal/.cache/huggingface/hub/datasets--huggingface--cats-image\n",
      "\n",
      "Repo ID: guillaumekln/faster-whisper-medium\n",
      "Repo type: model\n",
      "Size on disk: 1.5G\n",
      "Number of files: 4\n",
      "Local path: /Users/michielbontenbal/.cache/huggingface/hub/models--guillaumekln--faster-whisper-medium\n"
     ]
    }
   ],
   "source": [
    "from huggingface_hub import scan_cache_dir\n",
    "\n",
    "# Scan the cache directory\n",
    "cache_info = scan_cache_dir()\n",
    "print(cache_info)\n",
    "\n",
    "# Display cache information\n",
    "print(\"Hugging Face Cache Contents:\")\n",
    "print(f\"Total size: {cache_info.size_on_disk_str}\")\n",
    "print(f\"Number of repositories: {len(cache_info.repos)}\")\n",
    "print(\"\\nRepository Details:\")\n",
    "\n",
    "for repo in cache_info.repos:\n",
    "    print(f\"\\nRepo ID: {repo.repo_id}\")\n",
    "    print(f\"Repo type: {repo.repo_type}\")\n",
    "    print(f\"Size on disk: {repo.size_on_disk_str}\")\n",
    "    print(f\"Number of files: {repo.nb_files}\")\n",
    "    print(f\"Local path: {repo.repo_path}\")"
   ]
  },
  {
   "cell_type": "code",
   "execution_count": 1,
   "metadata": {},
   "outputs": [
    {
     "name": "stdout",
     "output_type": "stream",
     "text": [
      "REPO ID                                         REPO TYPE SIZE ON DISK NB FILES LAST_ACCESSED  LAST_MODIFIED  REFS          LOCAL PATH                                                                                             \n",
      "----------------------------------------------- --------- ------------ -------- -------------- -------------- ------------- ------------------------------------------------------------------------------------------------------ \n",
      "MichielBontenbal/elephants                      dataset           4.5M       12 3 weeks ago    3 weeks ago                  /Users/michielbontenbal/.cache/huggingface/hub/datasets--MichielBontenbal--elephants                   \n",
      "UrbanSounds/AmsterdamSounds                     dataset           1.9M        1 1 year ago     1 year ago     main          /Users/michielbontenbal/.cache/huggingface/hub/datasets--UrbanSounds--AmsterdamSounds                  \n",
      "huggingface/cats-image                          dataset           2.6K        1 4 weeks ago    4 weeks ago    main          /Users/michielbontenbal/.cache/huggingface/hub/datasets--huggingface--cats-image                       \n",
      "Systran/faster-whisper-large-v3                 model             3.1G        5 5 months ago   5 months ago   main          /Users/michielbontenbal/.cache/huggingface/hub/models--Systran--faster-whisper-large-v3                \n",
      "distilbert-base-uncased-finetuned-sst-2-english model           268.1M        4 4 weeks ago    4 weeks ago    main          /Users/michielbontenbal/.cache/huggingface/hub/models--distilbert-base-uncased-finetuned-sst-2-english \n",
      "google/ddpm-cat-256                             model           454.7M        4 2 weeks ago    2 weeks ago    main          /Users/michielbontenbal/.cache/huggingface/hub/models--google--ddpm-cat-256                            \n",
      "google/vit-base-patch16-224                     model           346.4M        3 1 week ago     1 week ago     main          /Users/michielbontenbal/.cache/huggingface/hub/models--google--vit-base-patch16-224                    \n",
      "guillaumekln/faster-whisper-medium              model             1.5G        4 5 months ago   5 months ago   main          /Users/michielbontenbal/.cache/huggingface/hub/models--guillaumekln--faster-whisper-medium             \n",
      "johnowhitaker/ddpm-butterflies-32px             model            74.3M        4 3 weeks ago    3 weeks ago    main          /Users/michielbontenbal/.cache/huggingface/hub/models--johnowhitaker--ddpm-butterflies-32px            \n",
      "laion/CLIP-ViT-B-32-laion2B-s34B-b79K           model           605.2M        1 4 weeks ago    4 weeks ago    main          /Users/michielbontenbal/.cache/huggingface/hub/models--laion--CLIP-ViT-B-32-laion2B-s34B-b79K          \n",
      "laion/larger_clap_general                       model           779.8M        8 1 year ago     1 year ago     main          /Users/michielbontenbal/.cache/huggingface/hub/models--laion--larger_clap_general                      \n",
      "laion/larger_clap_music_and_speech              model           779.8M        8 1 year ago     1 year ago     main          /Users/michielbontenbal/.cache/huggingface/hub/models--laion--larger_clap_music_and_speech             \n",
      "microsoft/Florence-2-base                       model           467.1M        9 1 week ago     2 weeks ago    main          /Users/michielbontenbal/.cache/huggingface/hub/models--microsoft--Florence-2-base                      \n",
      "microsoft/Florence-2-large                      model             1.5G       10 1 week ago     2 weeks ago    main          /Users/michielbontenbal/.cache/huggingface/hub/models--microsoft--Florence-2-large                     \n",
      "microsoft/resnet-50                             model           102.6M        3 1 week ago     4 weeks ago    main          /Users/michielbontenbal/.cache/huggingface/hub/models--microsoft--resnet-50                            \n",
      "openai/clip-vit-base-patch32                    model             3.6M        7 1 year ago     1 year ago     main          /Users/michielbontenbal/.cache/huggingface/hub/models--openai--clip-vit-base-patch32                   \n",
      "openai/whisper-base.en                          model           294.3M       11 5 months ago   5 months ago   main          /Users/michielbontenbal/.cache/huggingface/hub/models--openai--whisper-base.en                         \n",
      "openai-community/gpt2                           model           551.0M        7 2 weeks ago    2 weeks ago    607a30d, main /Users/michielbontenbal/.cache/huggingface/hub/models--openai-community--gpt2                          \n",
      "vidore/colpali                                  model           100.9M        8 4 minutes ago  5 minutes ago  main          /Users/michielbontenbal/.cache/huggingface/hub/models--vidore--colpali                                 \n",
      "vidore/colpali-v1.2                             model            750.0        1 10 minutes ago 10 minutes ago main          /Users/michielbontenbal/.cache/huggingface/hub/models--vidore--colpali-v1.2                            \n",
      "vidore/colpaligemma-3b-mix-448-base             model             5.8G        4 4 minutes ago  7 minutes ago  main          /Users/michielbontenbal/.cache/huggingface/hub/models--vidore--colpaligemma-3b-mix-448-base            \n",
      "vidore/colpaligemma-3b-pt-448-base              model            67.3K        2 10 minutes ago 10 minutes ago main          /Users/michielbontenbal/.cache/huggingface/hub/models--vidore--colpaligemma-3b-pt-448-base             \n"
     ]
    }
   ],
   "source": [
    "from huggingface_hub.utils import scan_cache_dir\n",
    "\n",
    "hf_cache_info = scan_cache_dir()\n",
    "print(hf_cache_info.export_as_table())"
   ]
  },
  {
   "cell_type": "code",
   "execution_count": 27,
   "metadata": {},
   "outputs": [
    {
     "name": "stderr",
     "output_type": "stream",
     "text": [
      "huggingface/tokenizers: The current process just got forked, after parallelism has already been used. Disabling parallelism to avoid deadlocks...\n",
      "To disable this warning, you can either:\n",
      "\t- Avoid using `tokenizers` before the fork if possible\n",
      "\t- Explicitly set the environment variable TOKENIZERS_PARALLELISM=(true | false)\n"
     ]
    },
    {
     "name": "stdout",
     "output_type": "stream",
     "text": [
      "Requirement already satisfied: datasets in /Users/michielbontenbal/anaconda3/lib/python3.10/site-packages (3.1.0)\n",
      "Requirement already satisfied: filelock in /Users/michielbontenbal/anaconda3/lib/python3.10/site-packages (from datasets) (3.9.0)\n",
      "Requirement already satisfied: numpy>=1.17 in /Users/michielbontenbal/anaconda3/lib/python3.10/site-packages (from datasets) (1.23.5)\n",
      "Requirement already satisfied: pyarrow>=15.0.0 in /Users/michielbontenbal/anaconda3/lib/python3.10/site-packages (from datasets) (18.0.0)\n",
      "Requirement already satisfied: dill<0.3.9,>=0.3.0 in /Users/michielbontenbal/anaconda3/lib/python3.10/site-packages (from datasets) (0.3.6)\n",
      "Requirement already satisfied: pandas in /Users/michielbontenbal/anaconda3/lib/python3.10/site-packages (from datasets) (1.5.3)\n",
      "Requirement already satisfied: requests>=2.32.2 in /Users/michielbontenbal/anaconda3/lib/python3.10/site-packages (from datasets) (2.32.3)\n",
      "Requirement already satisfied: tqdm>=4.66.3 in /Users/michielbontenbal/anaconda3/lib/python3.10/site-packages (from datasets) (4.66.5)\n",
      "Requirement already satisfied: xxhash in /Users/michielbontenbal/anaconda3/lib/python3.10/site-packages (from datasets) (3.2.0)\n",
      "Requirement already satisfied: multiprocess<0.70.17 in /Users/michielbontenbal/anaconda3/lib/python3.10/site-packages (from datasets) (0.70.14)\n",
      "Requirement already satisfied: fsspec<=2024.9.0,>=2023.1.0 in /Users/michielbontenbal/anaconda3/lib/python3.10/site-packages (from fsspec[http]<=2024.9.0,>=2023.1.0->datasets) (2023.6.0)\n",
      "Requirement already satisfied: aiohttp in /Users/michielbontenbal/anaconda3/lib/python3.10/site-packages (from datasets) (3.8.4)\n",
      "Requirement already satisfied: huggingface-hub>=0.23.0 in /Users/michielbontenbal/anaconda3/lib/python3.10/site-packages (from datasets) (0.26.2)\n",
      "Requirement already satisfied: packaging in /Users/michielbontenbal/anaconda3/lib/python3.10/site-packages (from datasets) (23.2)\n",
      "Requirement already satisfied: pyyaml>=5.1 in /Users/michielbontenbal/anaconda3/lib/python3.10/site-packages (from datasets) (6.0)\n",
      "Requirement already satisfied: attrs>=17.3.0 in /Users/michielbontenbal/anaconda3/lib/python3.10/site-packages (from aiohttp->datasets) (22.1.0)\n",
      "Requirement already satisfied: charset-normalizer<4.0,>=2.0 in /Users/michielbontenbal/anaconda3/lib/python3.10/site-packages (from aiohttp->datasets) (2.0.4)\n",
      "Requirement already satisfied: multidict<7.0,>=4.5 in /Users/michielbontenbal/anaconda3/lib/python3.10/site-packages (from aiohttp->datasets) (6.0.4)\n",
      "Requirement already satisfied: async-timeout<5.0,>=4.0.0a3 in /Users/michielbontenbal/anaconda3/lib/python3.10/site-packages (from aiohttp->datasets) (4.0.2)\n",
      "Requirement already satisfied: yarl<2.0,>=1.0 in /Users/michielbontenbal/anaconda3/lib/python3.10/site-packages (from aiohttp->datasets) (1.8.2)\n",
      "Requirement already satisfied: frozenlist>=1.1.1 in /Users/michielbontenbal/anaconda3/lib/python3.10/site-packages (from aiohttp->datasets) (1.3.3)\n",
      "Requirement already satisfied: aiosignal>=1.1.2 in /Users/michielbontenbal/anaconda3/lib/python3.10/site-packages (from aiohttp->datasets) (1.3.1)\n",
      "Requirement already satisfied: typing-extensions>=3.7.4.3 in /Users/michielbontenbal/anaconda3/lib/python3.10/site-packages (from huggingface-hub>=0.23.0->datasets) (4.11.0)\n",
      "Requirement already satisfied: idna<4,>=2.5 in /Users/michielbontenbal/anaconda3/lib/python3.10/site-packages (from requests>=2.32.2->datasets) (2.10)\n",
      "Requirement already satisfied: urllib3<3,>=1.21.1 in /Users/michielbontenbal/anaconda3/lib/python3.10/site-packages (from requests>=2.32.2->datasets) (2.2.1)\n",
      "Requirement already satisfied: certifi>=2017.4.17 in /Users/michielbontenbal/anaconda3/lib/python3.10/site-packages (from requests>=2.32.2->datasets) (2022.12.7)\n",
      "Requirement already satisfied: python-dateutil>=2.8.1 in /Users/michielbontenbal/anaconda3/lib/python3.10/site-packages (from pandas->datasets) (2.8.2)\n",
      "Requirement already satisfied: pytz>=2020.1 in /Users/michielbontenbal/anaconda3/lib/python3.10/site-packages (from pandas->datasets) (2022.7)\n",
      "Requirement already satisfied: six>=1.5 in /Users/michielbontenbal/anaconda3/lib/python3.10/site-packages (from python-dateutil>=2.8.1->pandas->datasets) (1.16.0)\n",
      "Note: you may need to restart the kernel to use updated packages.\n"
     ]
    }
   ],
   "source": [
    "pip install datasets --upgrade"
   ]
  },
  {
   "cell_type": "code",
   "execution_count": 28,
   "metadata": {},
   "outputs": [
    {
     "ename": "ValueError",
     "evalue": "pyarrow.lib.IpcWriteOptions size changed, may indicate binary incompatibility. Expected 88 from C header, got 72 from PyObject",
     "output_type": "error",
     "traceback": [
      "\u001b[0;31m---------------------------------------------------------------------------\u001b[0m",
      "\u001b[0;31mValueError\u001b[0m                                Traceback (most recent call last)",
      "Cell \u001b[0;32mIn[28], line 1\u001b[0m\n\u001b[0;32m----> 1\u001b[0m \u001b[38;5;28;01mimport\u001b[39;00m \u001b[38;5;21;01mdatasets\u001b[39;00m\n",
      "File \u001b[0;32m~/anaconda3/lib/python3.10/site-packages/datasets/__init__.py:17\u001b[0m\n\u001b[1;32m      1\u001b[0m \u001b[38;5;66;03m# Copyright 2020 The HuggingFace Datasets Authors and the TensorFlow Datasets Authors.\u001b[39;00m\n\u001b[1;32m      2\u001b[0m \u001b[38;5;66;03m#\u001b[39;00m\n\u001b[1;32m      3\u001b[0m \u001b[38;5;66;03m# Licensed under the Apache License, Version 2.0 (the \"License\");\u001b[39;00m\n\u001b[0;32m   (...)\u001b[0m\n\u001b[1;32m     12\u001b[0m \u001b[38;5;66;03m# See the License for the specific language governing permissions and\u001b[39;00m\n\u001b[1;32m     13\u001b[0m \u001b[38;5;66;03m# limitations under the License.\u001b[39;00m\n\u001b[1;32m     15\u001b[0m __version__ \u001b[38;5;241m=\u001b[39m \u001b[38;5;124m\"\u001b[39m\u001b[38;5;124m3.1.0\u001b[39m\u001b[38;5;124m\"\u001b[39m\n\u001b[0;32m---> 17\u001b[0m \u001b[38;5;28;01mfrom\u001b[39;00m \u001b[38;5;21;01m.\u001b[39;00m\u001b[38;5;21;01marrow_dataset\u001b[39;00m \u001b[38;5;28;01mimport\u001b[39;00m Dataset\n\u001b[1;32m     18\u001b[0m \u001b[38;5;28;01mfrom\u001b[39;00m \u001b[38;5;21;01m.\u001b[39;00m\u001b[38;5;21;01marrow_reader\u001b[39;00m \u001b[38;5;28;01mimport\u001b[39;00m ReadInstruction\n\u001b[1;32m     19\u001b[0m \u001b[38;5;28;01mfrom\u001b[39;00m \u001b[38;5;21;01m.\u001b[39;00m\u001b[38;5;21;01mbuilder\u001b[39;00m \u001b[38;5;28;01mimport\u001b[39;00m ArrowBasedBuilder, BuilderConfig, DatasetBuilder, GeneratorBasedBuilder\n",
      "File \u001b[0;32m~/anaconda3/lib/python3.10/site-packages/datasets/arrow_dataset.py:76\u001b[0m\n\u001b[1;32m     73\u001b[0m \u001b[38;5;28;01mfrom\u001b[39;00m \u001b[38;5;21;01mtqdm\u001b[39;00m\u001b[38;5;21;01m.\u001b[39;00m\u001b[38;5;21;01mcontrib\u001b[39;00m\u001b[38;5;21;01m.\u001b[39;00m\u001b[38;5;21;01mconcurrent\u001b[39;00m \u001b[38;5;28;01mimport\u001b[39;00m thread_map\n\u001b[1;32m     75\u001b[0m \u001b[38;5;28;01mfrom\u001b[39;00m \u001b[38;5;21;01m.\u001b[39;00m \u001b[38;5;28;01mimport\u001b[39;00m config\n\u001b[0;32m---> 76\u001b[0m \u001b[38;5;28;01mfrom\u001b[39;00m \u001b[38;5;21;01m.\u001b[39;00m\u001b[38;5;21;01marrow_reader\u001b[39;00m \u001b[38;5;28;01mimport\u001b[39;00m ArrowReader\n\u001b[1;32m     77\u001b[0m \u001b[38;5;28;01mfrom\u001b[39;00m \u001b[38;5;21;01m.\u001b[39;00m\u001b[38;5;21;01marrow_writer\u001b[39;00m \u001b[38;5;28;01mimport\u001b[39;00m ArrowWriter, OptimizedTypedSequence\n\u001b[1;32m     78\u001b[0m \u001b[38;5;28;01mfrom\u001b[39;00m \u001b[38;5;21;01m.\u001b[39;00m\u001b[38;5;21;01mdata_files\u001b[39;00m \u001b[38;5;28;01mimport\u001b[39;00m sanitize_patterns\n",
      "File \u001b[0;32m~/anaconda3/lib/python3.10/site-packages/datasets/arrow_reader.py:27\u001b[0m\n\u001b[1;32m     24\u001b[0m \u001b[38;5;28;01mfrom\u001b[39;00m \u001b[38;5;21;01mtyping\u001b[39;00m \u001b[38;5;28;01mimport\u001b[39;00m TYPE_CHECKING, List, Optional, Union\n\u001b[1;32m     26\u001b[0m \u001b[38;5;28;01mimport\u001b[39;00m \u001b[38;5;21;01mpyarrow\u001b[39;00m \u001b[38;5;28;01mas\u001b[39;00m \u001b[38;5;21;01mpa\u001b[39;00m\n\u001b[0;32m---> 27\u001b[0m \u001b[38;5;28;01mimport\u001b[39;00m \u001b[38;5;21;01mpyarrow\u001b[39;00m\u001b[38;5;21;01m.\u001b[39;00m\u001b[38;5;21;01mparquet\u001b[39;00m \u001b[38;5;28;01mas\u001b[39;00m \u001b[38;5;21;01mpq\u001b[39;00m\n\u001b[1;32m     28\u001b[0m \u001b[38;5;28;01mfrom\u001b[39;00m \u001b[38;5;21;01mtqdm\u001b[39;00m\u001b[38;5;21;01m.\u001b[39;00m\u001b[38;5;21;01mcontrib\u001b[39;00m\u001b[38;5;21;01m.\u001b[39;00m\u001b[38;5;21;01mconcurrent\u001b[39;00m \u001b[38;5;28;01mimport\u001b[39;00m thread_map\n\u001b[1;32m     30\u001b[0m \u001b[38;5;28;01mfrom\u001b[39;00m \u001b[38;5;21;01m.\u001b[39;00m\u001b[38;5;21;01mdownload\u001b[39;00m\u001b[38;5;21;01m.\u001b[39;00m\u001b[38;5;21;01mdownload_config\u001b[39;00m \u001b[38;5;28;01mimport\u001b[39;00m DownloadConfig  \u001b[38;5;66;03m# noqa: F401\u001b[39;00m\n",
      "File \u001b[0;32m~/anaconda3/lib/python3.10/site-packages/pyarrow/parquet/__init__.py:20\u001b[0m\n\u001b[1;32m      1\u001b[0m \u001b[38;5;66;03m# Licensed to the Apache Software Foundation (ASF) under one\u001b[39;00m\n\u001b[1;32m      2\u001b[0m \u001b[38;5;66;03m# or more contributor license agreements.  See the NOTICE file\u001b[39;00m\n\u001b[1;32m      3\u001b[0m \u001b[38;5;66;03m# distributed with this work for additional information\u001b[39;00m\n\u001b[0;32m   (...)\u001b[0m\n\u001b[1;32m     17\u001b[0m \n\u001b[1;32m     18\u001b[0m \u001b[38;5;66;03m# flake8: noqa\u001b[39;00m\n\u001b[0;32m---> 20\u001b[0m \u001b[38;5;28;01mfrom\u001b[39;00m \u001b[38;5;21;01m.\u001b[39;00m\u001b[38;5;21;01mcore\u001b[39;00m \u001b[38;5;28;01mimport\u001b[39;00m \u001b[38;5;241m*\u001b[39m\n",
      "File \u001b[0;32m~/anaconda3/lib/python3.10/site-packages/pyarrow/parquet/core.py:33\u001b[0m\n\u001b[1;32m     30\u001b[0m \u001b[38;5;28;01mimport\u001b[39;00m \u001b[38;5;21;01mpyarrow\u001b[39;00m \u001b[38;5;28;01mas\u001b[39;00m \u001b[38;5;21;01mpa\u001b[39;00m\n\u001b[1;32m     32\u001b[0m \u001b[38;5;28;01mtry\u001b[39;00m:\n\u001b[0;32m---> 33\u001b[0m     \u001b[38;5;28;01mimport\u001b[39;00m \u001b[38;5;21;01mpyarrow\u001b[39;00m\u001b[38;5;21;01m.\u001b[39;00m\u001b[38;5;21;01m_parquet\u001b[39;00m \u001b[38;5;28;01mas\u001b[39;00m \u001b[38;5;21;01m_parquet\u001b[39;00m\n\u001b[1;32m     34\u001b[0m \u001b[38;5;28;01mexcept\u001b[39;00m \u001b[38;5;167;01mImportError\u001b[39;00m \u001b[38;5;28;01mas\u001b[39;00m exc:\n\u001b[1;32m     35\u001b[0m     \u001b[38;5;28;01mraise\u001b[39;00m \u001b[38;5;167;01mImportError\u001b[39;00m(\n\u001b[1;32m     36\u001b[0m         \u001b[38;5;124m\"\u001b[39m\u001b[38;5;124mThe pyarrow installation is not built with support \u001b[39m\u001b[38;5;124m\"\u001b[39m\n\u001b[1;32m     37\u001b[0m         \u001b[38;5;124mf\u001b[39m\u001b[38;5;124m\"\u001b[39m\u001b[38;5;124mfor the Parquet file format (\u001b[39m\u001b[38;5;132;01m{\u001b[39;00m\u001b[38;5;28mstr\u001b[39m(exc)\u001b[38;5;132;01m}\u001b[39;00m\u001b[38;5;124m)\u001b[39m\u001b[38;5;124m\"\u001b[39m\n\u001b[1;32m     38\u001b[0m     ) \u001b[38;5;28;01mfrom\u001b[39;00m \u001b[38;5;28;01mNone\u001b[39;00m\n",
      "File \u001b[0;32m~/anaconda3/lib/python3.10/site-packages/pyarrow/_parquet.pyx:1\u001b[0m, in \u001b[0;36minit pyarrow._parquet\u001b[0;34m()\u001b[0m\n",
      "\u001b[0;31mValueError\u001b[0m: pyarrow.lib.IpcWriteOptions size changed, may indicate binary incompatibility. Expected 88 from C header, got 72 from PyObject"
     ]
    }
   ],
   "source": [
    "import datasets"
   ]
  },
  {
   "cell_type": "markdown",
   "metadata": {},
   "source": [
    "## ? More code"
   ]
  },
  {
   "cell_type": "code",
   "execution_count": 29,
   "metadata": {},
   "outputs": [
    {
     "ename": "ValueError",
     "evalue": "pyarrow.lib.IpcWriteOptions size changed, may indicate binary incompatibility. Expected 88 from C header, got 72 from PyObject",
     "output_type": "error",
     "traceback": [
      "\u001b[0;31m---------------------------------------------------------------------------\u001b[0m",
      "\u001b[0;31mValueError\u001b[0m                                Traceback (most recent call last)",
      "Cell \u001b[0;32mIn[29], line 7\u001b[0m\n\u001b[1;32m      5\u001b[0m \u001b[38;5;28;01mfrom\u001b[39;00m \u001b[38;5;21;01mtransformers\u001b[39;00m \u001b[38;5;28;01mimport\u001b[39;00m AutoProcessor\n\u001b[1;32m      6\u001b[0m \u001b[38;5;28;01mfrom\u001b[39;00m \u001b[38;5;21;01mPIL\u001b[39;00m \u001b[38;5;28;01mimport\u001b[39;00m Image\n\u001b[0;32m----> 7\u001b[0m \u001b[38;5;28;01mfrom\u001b[39;00m \u001b[38;5;21;01mdatasets\u001b[39;00m \u001b[38;5;28;01mimport\u001b[39;00m load_from_dataset\n",
      "File \u001b[0;32m~/anaconda3/lib/python3.10/site-packages/datasets/__init__.py:17\u001b[0m\n\u001b[1;32m      1\u001b[0m \u001b[38;5;66;03m# Copyright 2020 The HuggingFace Datasets Authors and the TensorFlow Datasets Authors.\u001b[39;00m\n\u001b[1;32m      2\u001b[0m \u001b[38;5;66;03m#\u001b[39;00m\n\u001b[1;32m      3\u001b[0m \u001b[38;5;66;03m# Licensed under the Apache License, Version 2.0 (the \"License\");\u001b[39;00m\n\u001b[0;32m   (...)\u001b[0m\n\u001b[1;32m     12\u001b[0m \u001b[38;5;66;03m# See the License for the specific language governing permissions and\u001b[39;00m\n\u001b[1;32m     13\u001b[0m \u001b[38;5;66;03m# limitations under the License.\u001b[39;00m\n\u001b[1;32m     15\u001b[0m __version__ \u001b[38;5;241m=\u001b[39m \u001b[38;5;124m\"\u001b[39m\u001b[38;5;124m3.1.0\u001b[39m\u001b[38;5;124m\"\u001b[39m\n\u001b[0;32m---> 17\u001b[0m \u001b[38;5;28;01mfrom\u001b[39;00m \u001b[38;5;21;01m.\u001b[39;00m\u001b[38;5;21;01marrow_dataset\u001b[39;00m \u001b[38;5;28;01mimport\u001b[39;00m Dataset\n\u001b[1;32m     18\u001b[0m \u001b[38;5;28;01mfrom\u001b[39;00m \u001b[38;5;21;01m.\u001b[39;00m\u001b[38;5;21;01marrow_reader\u001b[39;00m \u001b[38;5;28;01mimport\u001b[39;00m ReadInstruction\n\u001b[1;32m     19\u001b[0m \u001b[38;5;28;01mfrom\u001b[39;00m \u001b[38;5;21;01m.\u001b[39;00m\u001b[38;5;21;01mbuilder\u001b[39;00m \u001b[38;5;28;01mimport\u001b[39;00m ArrowBasedBuilder, BuilderConfig, DatasetBuilder, GeneratorBasedBuilder\n",
      "File \u001b[0;32m~/anaconda3/lib/python3.10/site-packages/datasets/arrow_dataset.py:76\u001b[0m\n\u001b[1;32m     73\u001b[0m \u001b[38;5;28;01mfrom\u001b[39;00m \u001b[38;5;21;01mtqdm\u001b[39;00m\u001b[38;5;21;01m.\u001b[39;00m\u001b[38;5;21;01mcontrib\u001b[39;00m\u001b[38;5;21;01m.\u001b[39;00m\u001b[38;5;21;01mconcurrent\u001b[39;00m \u001b[38;5;28;01mimport\u001b[39;00m thread_map\n\u001b[1;32m     75\u001b[0m \u001b[38;5;28;01mfrom\u001b[39;00m \u001b[38;5;21;01m.\u001b[39;00m \u001b[38;5;28;01mimport\u001b[39;00m config\n\u001b[0;32m---> 76\u001b[0m \u001b[38;5;28;01mfrom\u001b[39;00m \u001b[38;5;21;01m.\u001b[39;00m\u001b[38;5;21;01marrow_reader\u001b[39;00m \u001b[38;5;28;01mimport\u001b[39;00m ArrowReader\n\u001b[1;32m     77\u001b[0m \u001b[38;5;28;01mfrom\u001b[39;00m \u001b[38;5;21;01m.\u001b[39;00m\u001b[38;5;21;01marrow_writer\u001b[39;00m \u001b[38;5;28;01mimport\u001b[39;00m ArrowWriter, OptimizedTypedSequence\n\u001b[1;32m     78\u001b[0m \u001b[38;5;28;01mfrom\u001b[39;00m \u001b[38;5;21;01m.\u001b[39;00m\u001b[38;5;21;01mdata_files\u001b[39;00m \u001b[38;5;28;01mimport\u001b[39;00m sanitize_patterns\n",
      "File \u001b[0;32m~/anaconda3/lib/python3.10/site-packages/datasets/arrow_reader.py:27\u001b[0m\n\u001b[1;32m     24\u001b[0m \u001b[38;5;28;01mfrom\u001b[39;00m \u001b[38;5;21;01mtyping\u001b[39;00m \u001b[38;5;28;01mimport\u001b[39;00m TYPE_CHECKING, List, Optional, Union\n\u001b[1;32m     26\u001b[0m \u001b[38;5;28;01mimport\u001b[39;00m \u001b[38;5;21;01mpyarrow\u001b[39;00m \u001b[38;5;28;01mas\u001b[39;00m \u001b[38;5;21;01mpa\u001b[39;00m\n\u001b[0;32m---> 27\u001b[0m \u001b[38;5;28;01mimport\u001b[39;00m \u001b[38;5;21;01mpyarrow\u001b[39;00m\u001b[38;5;21;01m.\u001b[39;00m\u001b[38;5;21;01mparquet\u001b[39;00m \u001b[38;5;28;01mas\u001b[39;00m \u001b[38;5;21;01mpq\u001b[39;00m\n\u001b[1;32m     28\u001b[0m \u001b[38;5;28;01mfrom\u001b[39;00m \u001b[38;5;21;01mtqdm\u001b[39;00m\u001b[38;5;21;01m.\u001b[39;00m\u001b[38;5;21;01mcontrib\u001b[39;00m\u001b[38;5;21;01m.\u001b[39;00m\u001b[38;5;21;01mconcurrent\u001b[39;00m \u001b[38;5;28;01mimport\u001b[39;00m thread_map\n\u001b[1;32m     30\u001b[0m \u001b[38;5;28;01mfrom\u001b[39;00m \u001b[38;5;21;01m.\u001b[39;00m\u001b[38;5;21;01mdownload\u001b[39;00m\u001b[38;5;21;01m.\u001b[39;00m\u001b[38;5;21;01mdownload_config\u001b[39;00m \u001b[38;5;28;01mimport\u001b[39;00m DownloadConfig  \u001b[38;5;66;03m# noqa: F401\u001b[39;00m\n",
      "File \u001b[0;32m~/anaconda3/lib/python3.10/site-packages/pyarrow/parquet/__init__.py:20\u001b[0m\n\u001b[1;32m      1\u001b[0m \u001b[38;5;66;03m# Licensed to the Apache Software Foundation (ASF) under one\u001b[39;00m\n\u001b[1;32m      2\u001b[0m \u001b[38;5;66;03m# or more contributor license agreements.  See the NOTICE file\u001b[39;00m\n\u001b[1;32m      3\u001b[0m \u001b[38;5;66;03m# distributed with this work for additional information\u001b[39;00m\n\u001b[0;32m   (...)\u001b[0m\n\u001b[1;32m     17\u001b[0m \n\u001b[1;32m     18\u001b[0m \u001b[38;5;66;03m# flake8: noqa\u001b[39;00m\n\u001b[0;32m---> 20\u001b[0m \u001b[38;5;28;01mfrom\u001b[39;00m \u001b[38;5;21;01m.\u001b[39;00m\u001b[38;5;21;01mcore\u001b[39;00m \u001b[38;5;28;01mimport\u001b[39;00m \u001b[38;5;241m*\u001b[39m\n",
      "File \u001b[0;32m~/anaconda3/lib/python3.10/site-packages/pyarrow/parquet/core.py:33\u001b[0m\n\u001b[1;32m     30\u001b[0m \u001b[38;5;28;01mimport\u001b[39;00m \u001b[38;5;21;01mpyarrow\u001b[39;00m \u001b[38;5;28;01mas\u001b[39;00m \u001b[38;5;21;01mpa\u001b[39;00m\n\u001b[1;32m     32\u001b[0m \u001b[38;5;28;01mtry\u001b[39;00m:\n\u001b[0;32m---> 33\u001b[0m     \u001b[38;5;28;01mimport\u001b[39;00m \u001b[38;5;21;01mpyarrow\u001b[39;00m\u001b[38;5;21;01m.\u001b[39;00m\u001b[38;5;21;01m_parquet\u001b[39;00m \u001b[38;5;28;01mas\u001b[39;00m \u001b[38;5;21;01m_parquet\u001b[39;00m\n\u001b[1;32m     34\u001b[0m \u001b[38;5;28;01mexcept\u001b[39;00m \u001b[38;5;167;01mImportError\u001b[39;00m \u001b[38;5;28;01mas\u001b[39;00m exc:\n\u001b[1;32m     35\u001b[0m     \u001b[38;5;28;01mraise\u001b[39;00m \u001b[38;5;167;01mImportError\u001b[39;00m(\n\u001b[1;32m     36\u001b[0m         \u001b[38;5;124m\"\u001b[39m\u001b[38;5;124mThe pyarrow installation is not built with support \u001b[39m\u001b[38;5;124m\"\u001b[39m\n\u001b[1;32m     37\u001b[0m         \u001b[38;5;124mf\u001b[39m\u001b[38;5;124m\"\u001b[39m\u001b[38;5;124mfor the Parquet file format (\u001b[39m\u001b[38;5;132;01m{\u001b[39;00m\u001b[38;5;28mstr\u001b[39m(exc)\u001b[38;5;132;01m}\u001b[39;00m\u001b[38;5;124m)\u001b[39m\u001b[38;5;124m\"\u001b[39m\n\u001b[1;32m     38\u001b[0m     ) \u001b[38;5;28;01mfrom\u001b[39;00m \u001b[38;5;28;01mNone\u001b[39;00m\n",
      "File \u001b[0;32m~/anaconda3/lib/python3.10/site-packages/pyarrow/_parquet.pyx:1\u001b[0m, in \u001b[0;36minit pyarrow._parquet\u001b[0;34m()\u001b[0m\n",
      "\u001b[0;31mValueError\u001b[0m: pyarrow.lib.IpcWriteOptions size changed, may indicate binary incompatibility. Expected 88 from C header, got 72 from PyObject"
     ]
    }
   ],
   "source": [
    "import torch\n",
    "import typer\n",
    "from torch.utils.data import DataLoader\n",
    "from tqdm import tqdm\n",
    "from transformers import AutoProcessor\n",
    "from PIL import Image\n",
    "from datasets import load_from_dataset"
   ]
  },
  {
   "cell_type": "code",
   "execution_count": 11,
   "metadata": {},
   "outputs": [
    {
     "name": "stderr",
     "output_type": "stream",
     "text": [
      "huggingface/tokenizers: The current process just got forked, after parallelism has already been used. Disabling parallelism to avoid deadlocks...\n",
      "To disable this warning, you can either:\n",
      "\t- Avoid using `tokenizers` before the fork if possible\n",
      "\t- Explicitly set the environment variable TOKENIZERS_PARALLELISM=(true | false)\n"
     ]
    },
    {
     "name": "stdout",
     "output_type": "stream",
     "text": [
      "Requirement already satisfied: mteb in /Users/michielbontenbal/anaconda3/lib/python3.10/site-packages (1.14.26)\n",
      "Collecting mteb\n",
      "  Downloading mteb-1.18.6-py3-none-any.whl.metadata (31 kB)\n",
      "Collecting datasets>=2.19.0 (from mteb)\n",
      "  Downloading datasets-3.1.0-py3-none-any.whl.metadata (20 kB)\n",
      "Requirement already satisfied: numpy<3.0.0,>=1.0.0 in /Users/michielbontenbal/anaconda3/lib/python3.10/site-packages (from mteb) (1.23.5)\n",
      "Requirement already satisfied: requests>=2.26.0 in /Users/michielbontenbal/anaconda3/lib/python3.10/site-packages (from mteb) (2.32.3)\n",
      "Requirement already satisfied: scikit-learn>=1.0.2 in /Users/michielbontenbal/anaconda3/lib/python3.10/site-packages (from mteb) (1.3.2)\n",
      "Requirement already satisfied: scipy>=0.0.0 in /Users/michielbontenbal/anaconda3/lib/python3.10/site-packages (from mteb) (1.10.0)\n",
      "Requirement already satisfied: sentence-transformers>=3.0.0 in /Users/michielbontenbal/anaconda3/lib/python3.10/site-packages (from mteb) (3.1.1)\n",
      "Requirement already satisfied: typing-extensions>=4.5.0 in /Users/michielbontenbal/anaconda3/lib/python3.10/site-packages (from mteb) (4.11.0)\n",
      "Requirement already satisfied: torch>1.0.0 in /Users/michielbontenbal/anaconda3/lib/python3.10/site-packages (from mteb) (2.2.2)\n",
      "Requirement already satisfied: tqdm>1.0.0 in /Users/michielbontenbal/anaconda3/lib/python3.10/site-packages (from mteb) (4.66.5)\n",
      "Requirement already satisfied: rich>=0.0.0 in /Users/michielbontenbal/anaconda3/lib/python3.10/site-packages (from mteb) (13.0.1)\n",
      "Requirement already satisfied: pytrec-eval-terrier>=0.5.6 in /Users/michielbontenbal/anaconda3/lib/python3.10/site-packages (from mteb) (0.5.6)\n",
      "Requirement already satisfied: pydantic>=2.0.0 in /Users/michielbontenbal/anaconda3/lib/python3.10/site-packages (from mteb) (2.7.4)\n",
      "Requirement already satisfied: eval-type-backport>=0.0.0 in /Users/michielbontenbal/anaconda3/lib/python3.10/site-packages (from mteb) (0.2.0)\n",
      "Requirement already satisfied: polars>=0.20.22 in /Users/michielbontenbal/anaconda3/lib/python3.10/site-packages (from mteb) (1.8.2)\n",
      "Requirement already satisfied: filelock in /Users/michielbontenbal/anaconda3/lib/python3.10/site-packages (from datasets>=2.19.0->mteb) (3.9.0)\n",
      "Collecting pyarrow>=15.0.0 (from datasets>=2.19.0->mteb)\n",
      "  Downloading pyarrow-18.0.0-cp310-cp310-macosx_12_0_x86_64.whl.metadata (3.3 kB)\n",
      "Requirement already satisfied: dill<0.3.9,>=0.3.0 in /Users/michielbontenbal/anaconda3/lib/python3.10/site-packages (from datasets>=2.19.0->mteb) (0.3.6)\n",
      "Requirement already satisfied: pandas in /Users/michielbontenbal/anaconda3/lib/python3.10/site-packages (from datasets>=2.19.0->mteb) (1.5.3)\n",
      "Requirement already satisfied: xxhash in /Users/michielbontenbal/anaconda3/lib/python3.10/site-packages (from datasets>=2.19.0->mteb) (3.2.0)\n",
      "Requirement already satisfied: multiprocess<0.70.17 in /Users/michielbontenbal/anaconda3/lib/python3.10/site-packages (from datasets>=2.19.0->mteb) (0.70.14)\n",
      "Requirement already satisfied: fsspec<=2024.9.0,>=2023.1.0 in /Users/michielbontenbal/anaconda3/lib/python3.10/site-packages (from fsspec[http]<=2024.9.0,>=2023.1.0->datasets>=2.19.0->mteb) (2023.6.0)\n",
      "Requirement already satisfied: aiohttp in /Users/michielbontenbal/anaconda3/lib/python3.10/site-packages (from datasets>=2.19.0->mteb) (3.8.4)\n",
      "Requirement already satisfied: huggingface-hub>=0.23.0 in /Users/michielbontenbal/anaconda3/lib/python3.10/site-packages (from datasets>=2.19.0->mteb) (0.26.2)\n",
      "Requirement already satisfied: packaging in /Users/michielbontenbal/anaconda3/lib/python3.10/site-packages (from datasets>=2.19.0->mteb) (23.2)\n",
      "Requirement already satisfied: pyyaml>=5.1 in /Users/michielbontenbal/anaconda3/lib/python3.10/site-packages (from datasets>=2.19.0->mteb) (6.0)\n",
      "Requirement already satisfied: annotated-types>=0.4.0 in /Users/michielbontenbal/anaconda3/lib/python3.10/site-packages (from pydantic>=2.0.0->mteb) (0.7.0)\n",
      "Requirement already satisfied: pydantic-core==2.18.4 in /Users/michielbontenbal/anaconda3/lib/python3.10/site-packages (from pydantic>=2.0.0->mteb) (2.18.4)\n",
      "Requirement already satisfied: charset-normalizer<4,>=2 in /Users/michielbontenbal/anaconda3/lib/python3.10/site-packages (from requests>=2.26.0->mteb) (2.0.4)\n",
      "Requirement already satisfied: idna<4,>=2.5 in /Users/michielbontenbal/anaconda3/lib/python3.10/site-packages (from requests>=2.26.0->mteb) (2.10)\n",
      "Requirement already satisfied: urllib3<3,>=1.21.1 in /Users/michielbontenbal/anaconda3/lib/python3.10/site-packages (from requests>=2.26.0->mteb) (2.2.1)\n",
      "Requirement already satisfied: certifi>=2017.4.17 in /Users/michielbontenbal/anaconda3/lib/python3.10/site-packages (from requests>=2.26.0->mteb) (2022.12.7)\n",
      "Requirement already satisfied: commonmark<0.10.0,>=0.9.0 in /Users/michielbontenbal/anaconda3/lib/python3.10/site-packages (from rich>=0.0.0->mteb) (0.9.1)\n",
      "Requirement already satisfied: pygments<3.0.0,>=2.6.0 in /Users/michielbontenbal/anaconda3/lib/python3.10/site-packages (from rich>=0.0.0->mteb) (2.15.1)\n",
      "Requirement already satisfied: joblib>=1.1.1 in /Users/michielbontenbal/anaconda3/lib/python3.10/site-packages (from scikit-learn>=1.0.2->mteb) (1.3.1)\n",
      "Requirement already satisfied: threadpoolctl>=2.0.0 in /Users/michielbontenbal/anaconda3/lib/python3.10/site-packages (from scikit-learn>=1.0.2->mteb) (3.1.0)\n",
      "Requirement already satisfied: transformers<5.0.0,>=4.38.0 in /Users/michielbontenbal/anaconda3/lib/python3.10/site-packages (from sentence-transformers>=3.0.0->mteb) (4.45.2)\n",
      "Requirement already satisfied: Pillow in /Users/michielbontenbal/anaconda3/lib/python3.10/site-packages (from sentence-transformers>=3.0.0->mteb) (9.5.0)\n",
      "Requirement already satisfied: sympy in /Users/michielbontenbal/anaconda3/lib/python3.10/site-packages (from torch>1.0.0->mteb) (1.11.1)\n",
      "Requirement already satisfied: networkx in /Users/michielbontenbal/anaconda3/lib/python3.10/site-packages (from torch>1.0.0->mteb) (2.8.4)\n",
      "Requirement already satisfied: jinja2 in /Users/michielbontenbal/anaconda3/lib/python3.10/site-packages (from torch>1.0.0->mteb) (3.1.2)\n",
      "Requirement already satisfied: attrs>=17.3.0 in /Users/michielbontenbal/anaconda3/lib/python3.10/site-packages (from aiohttp->datasets>=2.19.0->mteb) (22.1.0)\n",
      "Requirement already satisfied: multidict<7.0,>=4.5 in /Users/michielbontenbal/anaconda3/lib/python3.10/site-packages (from aiohttp->datasets>=2.19.0->mteb) (6.0.4)\n",
      "Requirement already satisfied: async-timeout<5.0,>=4.0.0a3 in /Users/michielbontenbal/anaconda3/lib/python3.10/site-packages (from aiohttp->datasets>=2.19.0->mteb) (4.0.2)\n",
      "Requirement already satisfied: yarl<2.0,>=1.0 in /Users/michielbontenbal/anaconda3/lib/python3.10/site-packages (from aiohttp->datasets>=2.19.0->mteb) (1.8.2)\n",
      "Requirement already satisfied: frozenlist>=1.1.1 in /Users/michielbontenbal/anaconda3/lib/python3.10/site-packages (from aiohttp->datasets>=2.19.0->mteb) (1.3.3)\n",
      "Requirement already satisfied: aiosignal>=1.1.2 in /Users/michielbontenbal/anaconda3/lib/python3.10/site-packages (from aiohttp->datasets>=2.19.0->mteb) (1.3.1)\n",
      "Requirement already satisfied: regex!=2019.12.17 in /Users/michielbontenbal/anaconda3/lib/python3.10/site-packages (from transformers<5.0.0,>=4.38.0->sentence-transformers>=3.0.0->mteb) (2022.7.9)\n",
      "Requirement already satisfied: safetensors>=0.4.1 in /Users/michielbontenbal/anaconda3/lib/python3.10/site-packages (from transformers<5.0.0,>=4.38.0->sentence-transformers>=3.0.0->mteb) (0.4.3)\n",
      "Requirement already satisfied: tokenizers<0.21,>=0.20 in /Users/michielbontenbal/anaconda3/lib/python3.10/site-packages (from transformers<5.0.0,>=4.38.0->sentence-transformers>=3.0.0->mteb) (0.20.0)\n",
      "Requirement already satisfied: MarkupSafe>=2.0 in /Users/michielbontenbal/anaconda3/lib/python3.10/site-packages (from jinja2->torch>1.0.0->mteb) (2.1.1)\n",
      "Requirement already satisfied: python-dateutil>=2.8.1 in /Users/michielbontenbal/anaconda3/lib/python3.10/site-packages (from pandas->datasets>=2.19.0->mteb) (2.8.2)\n",
      "Requirement already satisfied: pytz>=2020.1 in /Users/michielbontenbal/anaconda3/lib/python3.10/site-packages (from pandas->datasets>=2.19.0->mteb) (2022.7)\n",
      "Requirement already satisfied: mpmath>=0.19 in /Users/michielbontenbal/anaconda3/lib/python3.10/site-packages/mpmath-1.2.1-py3.10.egg (from sympy->torch>1.0.0->mteb) (1.2.1)\n",
      "Requirement already satisfied: six>=1.5 in /Users/michielbontenbal/anaconda3/lib/python3.10/site-packages (from python-dateutil>=2.8.1->pandas->datasets>=2.19.0->mteb) (1.16.0)\n",
      "Downloading mteb-1.18.6-py3-none-any.whl (1.2 MB)\n",
      "\u001b[2K   \u001b[90m━━━━━━━━━━━━━━━━━━━━━━━━━━━━━━━━━━━━━━━━\u001b[0m \u001b[32m1.2/1.2 MB\u001b[0m \u001b[31m18.5 MB/s\u001b[0m eta \u001b[36m0:00:00\u001b[0m\n",
      "\u001b[?25hDownloading datasets-3.1.0-py3-none-any.whl (480 kB)\n",
      "Downloading pyarrow-18.0.0-cp310-cp310-macosx_12_0_x86_64.whl (30.8 MB)\n",
      "\u001b[2K   \u001b[90m━━━━━━━━━━━━━━━━━━━━━━━━━━━━━━━━━━━━━━━━\u001b[0m \u001b[32m30.8/30.8 MB\u001b[0m \u001b[31m61.4 MB/s\u001b[0m eta \u001b[36m0:00:00\u001b[0m00:01\u001b[0m00:01\u001b[0m\n",
      "\u001b[?25hInstalling collected packages: pyarrow, datasets, mteb\n",
      "  Attempting uninstall: pyarrow\n",
      "    Found existing installation: pyarrow 9.0.0\n",
      "    Uninstalling pyarrow-9.0.0:\n",
      "      Successfully uninstalled pyarrow-9.0.0\n",
      "  Attempting uninstall: datasets\n",
      "    Found existing installation: datasets 2.16.1\n",
      "    Uninstalling datasets-2.16.1:\n",
      "      Successfully uninstalled datasets-2.16.1\n",
      "  Attempting uninstall: mteb\n",
      "    Found existing installation: mteb 1.14.26\n",
      "    Uninstalling mteb-1.14.26:\n",
      "      Successfully uninstalled mteb-1.14.26\n",
      "\u001b[31mERROR: pip's dependency resolver does not currently take into account all the packages that are installed. This behaviour is the source of the following dependency conflicts.\n",
      "autotrain-advanced 0.6.37 requires datasets[vision]~=2.14.0, but you have datasets 3.1.0 which is incompatible.\n",
      "autotrain-advanced 0.6.37 requires diffusers==0.21.4, but you have diffusers 0.30.3 which is incompatible.\n",
      "autotrain-advanced 0.6.37 requires gradio==3.41.0, but you have gradio 4.36.1 which is incompatible.\n",
      "autotrain-advanced 0.6.37 requires packaging==23.1, but you have packaging 23.2 which is incompatible.\n",
      "autotrain-advanced 0.6.37 requires Pillow==10.0.0, but you have pillow 9.5.0 which is incompatible.\n",
      "autotrain-advanced 0.6.37 requires protobuf==4.23.4, but you have protobuf 3.20.3 which is incompatible.\n",
      "autotrain-advanced 0.6.37 requires pydantic==1.10.11, but you have pydantic 2.7.4 which is incompatible.\n",
      "autotrain-advanced 0.6.37 requires requests==2.31.0, but you have requests 2.32.3 which is incompatible.\n",
      "autotrain-advanced 0.6.37 requires scikit-learn==1.3.0, but you have scikit-learn 1.3.2 which is incompatible.\n",
      "autotrain-advanced 0.6.37 requires tqdm==4.65.0, but you have tqdm 4.66.5 which is incompatible.\u001b[0m\u001b[31m\n",
      "\u001b[0mSuccessfully installed datasets-3.1.0 mteb-1.18.6 pyarrow-18.0.0\n"
     ]
    }
   ],
   "source": [
    "!pip install mteb --upgrade"
   ]
  },
  {
   "cell_type": "code",
   "execution_count": 23,
   "metadata": {},
   "outputs": [],
   "source": [
    "def main() -> None:\n",
    "    \"\"\"Example script to run inference with ColPali\"\"\"\n",
    "\n",
    "    # Load model\n",
    "    model_name = \"vidore/colpali\"\n",
    "    model = ColPali.from_pretrained(\"vidore/colpaligemma-3b-mix-448-base\", torch_dtype=torch.bfloat16, device_map=device).eval()\n",
    "    model.load_adapter(model_name)\n",
    "    processor = AutoProcessor.from_pretrained(model_name)\n",
    "\n",
    "    # select images -> load_from_pdf(<pdf_path>),  load_from_image_urls([\"<url_1>\"]), load_from_dataset(<path>)\n",
    "    images = datasets.load_from_dataset(\"vidore/docvqa_test_subsampled\")\n",
    "    queries = [\"From which university does James V. Fiorca come ?\", \"Who is the japanese prime minister?\"]\n",
    "\n",
    "    # run inference - docs\n",
    "    dataloader = DataLoader(\n",
    "        images,\n",
    "        batch_size=4,\n",
    "        shuffle=False,\n",
    "        collate_fn=lambda x: process_images(processor, x),\n",
    "    )\n",
    "    ds = []\n",
    "    for batch_doc in tqdm(dataloader):\n",
    "        with torch.no_grad():\n",
    "            batch_doc = {k: v.to(model.device) for k, v in batch_doc.items()}\n",
    "            embeddings_doc = model(**batch_doc)\n",
    "        ds.extend(list(torch.unbind(embeddings_doc.to(\"cpu\"))))\n",
    "\n",
    "    # run inference - queries\n",
    "    dataloader = DataLoader(\n",
    "        queries,\n",
    "        batch_size=4,\n",
    "        shuffle=False,\n",
    "        collate_fn=lambda x: process_queries(processor, x, Image.new(\"RGB\", (448, 448), (255, 255, 255))),\n",
    "    )\n",
    "\n",
    "    qs = []\n",
    "    for batch_query in dataloader:\n",
    "        with torch.no_grad():\n",
    "            batch_query = {k: v.to(model.device) for k, v in batch_query.items()}\n",
    "            embeddings_query = model(**batch_query)\n",
    "        qs.extend(list(torch.unbind(embeddings_query.to(\"cpu\"))))\n",
    "\n",
    "    # run evaluation\n",
    "    retriever_evaluator = CustomEvaluator(is_multi_vector=True)\n",
    "    scores = retriever_evaluator.evaluate(qs, ds)\n",
    "    print(scores.argmax(axis=1))\n"
   ]
  },
  {
   "cell_type": "code",
   "execution_count": 24,
   "metadata": {},
   "outputs": [
    {
     "data": {
      "application/vnd.jupyter.widget-view+json": {
       "model_id": "f3b2a23055794e2fa975bd4d5fbd1149",
       "version_major": 2,
       "version_minor": 0
      },
      "text/plain": [
       "Loading checkpoint shards:   0%|          | 0/2 [00:00<?, ?it/s]"
      ]
     },
     "metadata": {},
     "output_type": "display_data"
    },
    {
     "ename": "NameError",
     "evalue": "name 'datasets' is not defined",
     "output_type": "error",
     "traceback": [
      "\u001b[0;31m---------------------------------------------------------------------------\u001b[0m",
      "\u001b[0;31mNameError\u001b[0m                                 Traceback (most recent call last)",
      "Cell \u001b[0;32mIn[24], line 1\u001b[0m\n\u001b[0;32m----> 1\u001b[0m \u001b[43mmain\u001b[49m\u001b[43m(\u001b[49m\u001b[43m)\u001b[49m\n",
      "Cell \u001b[0;32mIn[23], line 11\u001b[0m, in \u001b[0;36mmain\u001b[0;34m()\u001b[0m\n\u001b[1;32m      8\u001b[0m processor \u001b[38;5;241m=\u001b[39m AutoProcessor\u001b[38;5;241m.\u001b[39mfrom_pretrained(model_name)\n\u001b[1;32m     10\u001b[0m \u001b[38;5;66;03m# select images -> load_from_pdf(<pdf_path>),  load_from_image_urls([\"<url_1>\"]), load_from_dataset(<path>)\u001b[39;00m\n\u001b[0;32m---> 11\u001b[0m images \u001b[38;5;241m=\u001b[39m \u001b[43mdatasets\u001b[49m\u001b[38;5;241m.\u001b[39mload_from_dataset(\u001b[38;5;124m\"\u001b[39m\u001b[38;5;124mvidore/docvqa_test_subsampled\u001b[39m\u001b[38;5;124m\"\u001b[39m)\n\u001b[1;32m     12\u001b[0m queries \u001b[38;5;241m=\u001b[39m [\u001b[38;5;124m\"\u001b[39m\u001b[38;5;124mFrom which university does James V. Fiorca come ?\u001b[39m\u001b[38;5;124m\"\u001b[39m, \u001b[38;5;124m\"\u001b[39m\u001b[38;5;124mWho is the japanese prime minister?\u001b[39m\u001b[38;5;124m\"\u001b[39m]\n\u001b[1;32m     14\u001b[0m \u001b[38;5;66;03m# run inference - docs\u001b[39;00m\n",
      "\u001b[0;31mNameError\u001b[0m: name 'datasets' is not defined"
     ]
    }
   ],
   "source": [
    "main()"
   ]
  },
  {
   "cell_type": "code",
   "execution_count": null,
   "metadata": {},
   "outputs": [],
   "source": []
  }
 ],
 "metadata": {
  "kernelspec": {
   "display_name": "Python 3",
   "language": "python",
   "name": "python3"
  },
  "language_info": {
   "codemirror_mode": {
    "name": "ipython",
    "version": 3
   },
   "file_extension": ".py",
   "mimetype": "text/x-python",
   "name": "python",
   "nbconvert_exporter": "python",
   "pygments_lexer": "ipython3",
   "version": "3.10.9"
  }
 },
 "nbformat": 4,
 "nbformat_minor": 2
}
