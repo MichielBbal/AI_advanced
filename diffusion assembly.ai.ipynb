{
 "cells": [
  {
   "cell_type": "markdown",
   "id": "4d5ccd05",
   "metadata": {},
   "source": [
    "# Assembly AI diffusion in pytorch\n",
    "\n",
    "source: https://www.assemblyai.com/blog/diffusion-models-for-machine-learning-introduction/"
   ]
  },
  {
   "cell_type": "code",
   "execution_count": null,
   "id": "06a3abdc",
   "metadata": {},
   "outputs": [],
   "source": []
  },
  {
   "cell_type": "code",
   "execution_count": 1,
   "id": "b9189d5e",
   "metadata": {},
   "outputs": [
    {
     "name": "stdout",
     "output_type": "stream",
     "text": [
      "Collecting denoising_diffusion_pytorch\n",
      "  Downloading denoising_diffusion_pytorch-1.11.0-py3-none-any.whl.metadata (862 bytes)\n",
      "Requirement already satisfied: accelerate in /Users/michielbontenbal/anaconda3/lib/python3.10/site-packages (from denoising_diffusion_pytorch) (0.23.0)\n",
      "Requirement already satisfied: einops in /Users/michielbontenbal/anaconda3/lib/python3.10/site-packages (from denoising_diffusion_pytorch) (0.6.1)\n",
      "Collecting ema-pytorch>=0.4.2 (from denoising_diffusion_pytorch)\n",
      "  Downloading ema_pytorch-0.4.3-py3-none-any.whl.metadata (715 bytes)\n",
      "Requirement already satisfied: numpy in /Users/michielbontenbal/anaconda3/lib/python3.10/site-packages (from denoising_diffusion_pytorch) (1.23.5)\n",
      "Requirement already satisfied: pillow in /Users/michielbontenbal/anaconda3/lib/python3.10/site-packages (from denoising_diffusion_pytorch) (10.0.0)\n",
      "Collecting pytorch-fid (from denoising_diffusion_pytorch)\n",
      "  Downloading pytorch_fid-0.3.0-py3-none-any.whl.metadata (5.3 kB)\n",
      "Requirement already satisfied: torch in /Users/michielbontenbal/anaconda3/lib/python3.10/site-packages (from denoising_diffusion_pytorch) (2.0.0)\n",
      "Requirement already satisfied: torchvision in /Users/michielbontenbal/anaconda3/lib/python3.10/site-packages (from denoising_diffusion_pytorch) (0.15.1)\n",
      "Requirement already satisfied: tqdm in /Users/michielbontenbal/anaconda3/lib/python3.10/site-packages (from denoising_diffusion_pytorch) (4.65.0)\n",
      "Collecting beartype (from ema-pytorch>=0.4.2->denoising_diffusion_pytorch)\n",
      "  Downloading beartype-0.17.2-py3-none-any.whl.metadata (30 kB)\n",
      "Requirement already satisfied: filelock in /Users/michielbontenbal/anaconda3/lib/python3.10/site-packages (from torch->denoising_diffusion_pytorch) (3.9.0)\n",
      "Requirement already satisfied: typing-extensions in /Users/michielbontenbal/anaconda3/lib/python3.10/site-packages (from torch->denoising_diffusion_pytorch) (4.4.0)\n",
      "Requirement already satisfied: sympy in /Users/michielbontenbal/anaconda3/lib/python3.10/site-packages (from torch->denoising_diffusion_pytorch) (1.11.1)\n",
      "Requirement already satisfied: networkx in /Users/michielbontenbal/anaconda3/lib/python3.10/site-packages (from torch->denoising_diffusion_pytorch) (2.8.4)\n",
      "Requirement already satisfied: jinja2 in /Users/michielbontenbal/anaconda3/lib/python3.10/site-packages (from torch->denoising_diffusion_pytorch) (3.1.2)\n",
      "Requirement already satisfied: packaging>=20.0 in /Users/michielbontenbal/anaconda3/lib/python3.10/site-packages (from accelerate->denoising_diffusion_pytorch) (23.2)\n",
      "Requirement already satisfied: psutil in /Users/michielbontenbal/anaconda3/lib/python3.10/site-packages (from accelerate->denoising_diffusion_pytorch) (5.9.0)\n",
      "Requirement already satisfied: pyyaml in /Users/michielbontenbal/anaconda3/lib/python3.10/site-packages (from accelerate->denoising_diffusion_pytorch) (6.0)\n",
      "Requirement already satisfied: huggingface-hub in /Users/michielbontenbal/anaconda3/lib/python3.10/site-packages (from accelerate->denoising_diffusion_pytorch) (0.17.3)\n",
      "Requirement already satisfied: scipy in /Users/michielbontenbal/anaconda3/lib/python3.10/site-packages (from pytorch-fid->denoising_diffusion_pytorch) (1.10.0)\n",
      "Requirement already satisfied: requests in /Users/michielbontenbal/anaconda3/lib/python3.10/site-packages (from torchvision->denoising_diffusion_pytorch) (2.31.0)\n",
      "Requirement already satisfied: fsspec in /Users/michielbontenbal/anaconda3/lib/python3.10/site-packages (from huggingface-hub->accelerate->denoising_diffusion_pytorch) (2023.6.0)\n",
      "Requirement already satisfied: MarkupSafe>=2.0 in /Users/michielbontenbal/anaconda3/lib/python3.10/site-packages (from jinja2->torch->denoising_diffusion_pytorch) (2.1.1)\n",
      "Requirement already satisfied: charset-normalizer<4,>=2 in /Users/michielbontenbal/anaconda3/lib/python3.10/site-packages (from requests->torchvision->denoising_diffusion_pytorch) (2.0.4)\n",
      "Requirement already satisfied: idna<4,>=2.5 in /Users/michielbontenbal/anaconda3/lib/python3.10/site-packages (from requests->torchvision->denoising_diffusion_pytorch) (2.10)\n",
      "Requirement already satisfied: urllib3<3,>=1.21.1 in /Users/michielbontenbal/anaconda3/lib/python3.10/site-packages (from requests->torchvision->denoising_diffusion_pytorch) (1.26.14)\n",
      "Requirement already satisfied: certifi>=2017.4.17 in /Users/michielbontenbal/anaconda3/lib/python3.10/site-packages (from requests->torchvision->denoising_diffusion_pytorch) (2022.12.7)\n",
      "Requirement already satisfied: mpmath>=0.19 in /Users/michielbontenbal/anaconda3/lib/python3.10/site-packages/mpmath-1.2.1-py3.10.egg (from sympy->torch->denoising_diffusion_pytorch) (1.2.1)\n",
      "Downloading denoising_diffusion_pytorch-1.11.0-py3-none-any.whl (72 kB)\n",
      "\u001b[2K   \u001b[90m━━━━━━━━━━━━━━━━━━━━━━━━━━━━━━━━━━━━━━━━\u001b[0m \u001b[32m72.4/72.4 kB\u001b[0m \u001b[31m1.2 MB/s\u001b[0m eta \u001b[36m0:00:00\u001b[0m00:01\u001b[0m\n",
      "\u001b[?25hDownloading ema_pytorch-0.4.3-py3-none-any.whl (8.4 kB)\n",
      "Downloading pytorch_fid-0.3.0-py3-none-any.whl (15 kB)\n",
      "Downloading beartype-0.17.2-py3-none-any.whl (872 kB)\n",
      "\u001b[2K   \u001b[90m━━━━━━━━━━━━━━━━━━━━━━━━━━━━━━━━━━━━━━━━\u001b[0m \u001b[32m872.4/872.4 kB\u001b[0m \u001b[31m7.1 MB/s\u001b[0m eta \u001b[36m0:00:00\u001b[0m00:01\u001b[0m00:01\u001b[0m\n",
      "\u001b[?25hInstalling collected packages: beartype, ema-pytorch, pytorch-fid, denoising_diffusion_pytorch\n",
      "Successfully installed beartype-0.17.2 denoising_diffusion_pytorch-1.11.0 ema-pytorch-0.4.3 pytorch-fid-0.3.0\n"
     ]
    }
   ],
   "source": [
    "!pip install denoising_diffusion_pytorch"
   ]
  },
  {
   "cell_type": "code",
   "execution_count": 8,
   "id": "907b9612",
   "metadata": {},
   "outputs": [],
   "source": [
    "import torch\n",
    "from denoising_diffusion_pytorch import Unet, GaussianDiffusion"
   ]
  },
  {
   "cell_type": "code",
   "execution_count": 9,
   "id": "6f60ad6b",
   "metadata": {},
   "outputs": [],
   "source": [
    "model = Unet(\n",
    "    dim = 64,\n",
    "    dim_mults = (1, 2, 4, 8)\n",
    ")"
   ]
  },
  {
   "cell_type": "code",
   "execution_count": 10,
   "id": "ba41c4ec",
   "metadata": {},
   "outputs": [],
   "source": [
    "diffusion = GaussianDiffusion(\n",
    "    model,\n",
    "    image_size = 128,\n",
    "    timesteps = 1000,   # number of steps\n",
    "    #loss_type = 'l1'    # L1 or L2\n",
    ")"
   ]
  },
  {
   "cell_type": "code",
   "execution_count": 11,
   "id": "595a6c7c",
   "metadata": {},
   "outputs": [
    {
     "data": {
      "application/vnd.jupyter.widget-view+json": {
       "model_id": "700f2143d9dd4abaa6f5b927c34820cd",
       "version_major": 2,
       "version_minor": 0
      },
      "text/plain": [
       "sampling loop time step:   0%|          | 0/1000 [00:00<?, ?it/s]"
      ]
     },
     "metadata": {},
     "output_type": "display_data"
    },
    {
     "data": {
      "text/plain": [
       "torch.Size([4, 3, 128, 128])"
      ]
     },
     "execution_count": 11,
     "metadata": {},
     "output_type": "execute_result"
    }
   ],
   "source": [
    "import torch\n",
    "from denoising_diffusion_pytorch import Unet, GaussianDiffusion\n",
    "\n",
    "model = Unet(\n",
    "    dim = 64,\n",
    "    dim_mults = (1, 2, 4, 8),\n",
    "    flash_attn = True\n",
    ")\n",
    "\n",
    "diffusion = GaussianDiffusion(\n",
    "    model,\n",
    "    image_size = 128,\n",
    "    timesteps = 1000    # number of steps\n",
    ")\n",
    "\n",
    "training_images = torch.rand(8, 3, 128, 128) # images are normalized from 0 to 1\n",
    "loss = diffusion(training_images)\n",
    "loss.backward()\n",
    "\n",
    "# after a lot of training\n",
    "\n",
    "sampled_images = diffusion.sample(batch_size = 4)\n",
    "sampled_images.shape # (4, 3, 128, 128)"
   ]
  },
  {
   "cell_type": "code",
   "execution_count": null,
   "id": "7faf8535",
   "metadata": {},
   "outputs": [],
   "source": []
  }
 ],
 "metadata": {
  "kernelspec": {
   "display_name": "Python 3 (ipykernel)",
   "language": "python",
   "name": "python3"
  },
  "language_info": {
   "codemirror_mode": {
    "name": "ipython",
    "version": 3
   },
   "file_extension": ".py",
   "mimetype": "text/x-python",
   "name": "python",
   "nbconvert_exporter": "python",
   "pygments_lexer": "ipython3",
   "version": "3.10.9"
  }
 },
 "nbformat": 4,
 "nbformat_minor": 5
}
