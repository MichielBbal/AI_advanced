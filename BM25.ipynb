{
 "cells": [
  {
   "cell_type": "markdown",
   "metadata": {},
   "source": [
    "# BM25"
   ]
  },
  {
   "cell_type": "markdown",
   "metadata": {},
   "source": [
    "## 1. BM25 from scratch"
   ]
  },
  {
   "cell_type": "code",
   "execution_count": 1,
   "metadata": {},
   "outputs": [],
   "source": [
    "import math\n",
    "from collections import Counter\n",
    "\n",
    "def calculate_bm25(query, document, corpus, k1=1.5, b=0.75):\n",
    "    \"\"\"\n",
    "    Calculate BM25 score for a given query and document.\n",
    "    \n",
    "    Args:\n",
    "    query (str): The search query\n",
    "    document (str): The document text\n",
    "    corpus (list): List of all documents in the corpus\n",
    "    k1 (float): BM25 parameter, typically in [1.2, 2.0]\n",
    "    b (float): BM25 parameter, usually 0.75\n",
    "    \n",
    "    Returns:\n",
    "    float: BM25 score\n",
    "    \"\"\"\n",
    "    \n",
    "    def tokenize(text):\n",
    "        return text.lower().split()\n",
    "    \n",
    "    # Tokenize query and document\n",
    "    query_terms = tokenize(query)\n",
    "    doc_terms = tokenize(document)\n",
    "    \n",
    "    # Calculate document length and average document length\n",
    "    doc_length = len(doc_terms)\n",
    "    avg_doc_length = sum(len(tokenize(doc)) for doc in corpus) / len(corpus)\n",
    "    \n",
    "    # Calculate term frequencies\n",
    "    term_frequencies = Counter(doc_terms)\n",
    "    \n",
    "    # Calculate IDF for query terms\n",
    "    N = len(corpus)\n",
    "    idf_scores = {}\n",
    "    for term in query_terms:\n",
    "        n = sum(1 for doc in corpus if term in tokenize(doc))\n",
    "        idf = math.log((N - n + 0.5) / (n + 0.5) + 1)\n",
    "        idf_scores[term] = idf\n",
    "    \n",
    "    # Calculate BM25 score\n",
    "    score = 0\n",
    "    for term in query_terms:\n",
    "        if term in term_frequencies:\n",
    "            tf = term_frequencies[term]\n",
    "            idf = idf_scores[term]\n",
    "            numerator = tf * (k1 + 1)\n",
    "            denominator = tf + k1 * (1 - b + b * (doc_length / avg_doc_length))\n",
    "            score += idf * (numerator / denominator)\n",
    "    \n",
    "    return score"
   ]
  },
  {
   "cell_type": "markdown",
   "metadata": {},
   "source": []
  },
  {
   "cell_type": "code",
   "execution_count": 2,
   "metadata": {},
   "outputs": [
    {
     "name": "stdout",
     "output_type": "stream",
     "text": [
      "BM25 score: 0.4005941778735677\n"
     ]
    }
   ],
   "source": [
    "corpus = [\n",
    "    \"The quick brown fox jumps over the lazy dog\",\n",
    "    \"A quick brown dog outfoxes a lazy fox\",\n",
    "    \"The lazy fox is outfoxed by a quick brown dog\"\n",
    "]\n",
    "\n",
    "query = \"quick brown fox\"\n",
    "document = corpus[0]\n",
    "\n",
    "score = calculate_bm25(query, document, corpus)\n",
    "print(f\"BM25 score: {score}\")"
   ]
  },
  {
   "cell_type": "markdown",
   "metadata": {},
   "source": [
    "## 2. Using rank_bm25 package\n",
    "\n",
    "source: https://pypi.org/project/rank-bm25/"
   ]
  },
  {
   "cell_type": "code",
   "execution_count": 1,
   "metadata": {},
   "outputs": [
    {
     "name": "stdout",
     "output_type": "stream",
     "text": [
      "Collecting rank_bm25\n",
      "  Using cached rank_bm25-0.2.2-py3-none-any.whl.metadata (3.2 kB)\n",
      "Requirement already satisfied: numpy in /Users/michielbontenbal/anaconda3/lib/python3.10/site-packages (from rank_bm25) (1.23.5)\n",
      "Using cached rank_bm25-0.2.2-py3-none-any.whl (8.6 kB)\n",
      "Installing collected packages: rank_bm25\n",
      "Successfully installed rank_bm25-0.2.2\n",
      "\n",
      "\u001b[1m[\u001b[0m\u001b[34;49mnotice\u001b[0m\u001b[1;39;49m]\u001b[0m\u001b[39;49m A new release of pip is available: \u001b[0m\u001b[31;49m24.0\u001b[0m\u001b[39;49m -> \u001b[0m\u001b[32;49m24.2\u001b[0m\n",
      "\u001b[1m[\u001b[0m\u001b[34;49mnotice\u001b[0m\u001b[1;39;49m]\u001b[0m\u001b[39;49m To update, run: \u001b[0m\u001b[32;49mpip install --upgrade pip\u001b[0m\n"
     ]
    }
   ],
   "source": [
    "!pip install rank_bm25"
   ]
  },
  {
   "cell_type": "code",
   "execution_count": 4,
   "metadata": {},
   "outputs": [
    {
     "data": {
      "text/plain": [
       "<rank_bm25.BM25Okapi at 0x7ff1da2cb6a0>"
      ]
     },
     "execution_count": 4,
     "metadata": {},
     "output_type": "execute_result"
    }
   ],
   "source": [
    "from rank_bm25 import BM25Okapi\n",
    "\n",
    "corpus = [\n",
    "    \"Hello there good man!\",\n",
    "    \"It is quite windy in London\",\n",
    "    \"How is the weather today?\"\n",
    "]\n",
    "\n",
    "tokenized_corpus = [doc.split(\" \") for doc in corpus]\n",
    "\n",
    "bm25 = BM25Okapi(tokenized_corpus)\n",
    "bm25"
   ]
  },
  {
   "cell_type": "code",
   "execution_count": 6,
   "metadata": {},
   "outputs": [
    {
     "data": {
      "text/plain": [
       "array([0.        , 0.93729472, 0.        ])"
      ]
     },
     "execution_count": 6,
     "metadata": {},
     "output_type": "execute_result"
    }
   ],
   "source": [
    "query = \"windy London\"\n",
    "tokenized_query = query.split(\" \")\n",
    "\n",
    "doc_scores = bm25.get_scores(tokenized_query)\n",
    "doc_scores"
   ]
  },
  {
   "cell_type": "code",
   "execution_count": 8,
   "metadata": {},
   "outputs": [
    {
     "data": {
      "text/plain": [
       "['It is quite windy in London']"
      ]
     },
     "execution_count": 8,
     "metadata": {},
     "output_type": "execute_result"
    }
   ],
   "source": [
    "bm25.get_top_n(tokenized_query, corpus, n=1)"
   ]
  },
  {
   "cell_type": "code",
   "execution_count": null,
   "metadata": {},
   "outputs": [],
   "source": []
  }
 ],
 "metadata": {
  "kernelspec": {
   "display_name": "Python 3",
   "language": "python",
   "name": "python3"
  },
  "language_info": {
   "codemirror_mode": {
    "name": "ipython",
    "version": 3
   },
   "file_extension": ".py",
   "mimetype": "text/x-python",
   "name": "python",
   "nbconvert_exporter": "python",
   "pygments_lexer": "ipython3",
   "version": "3.10.9"
  }
 },
 "nbformat": 4,
 "nbformat_minor": 2
}
