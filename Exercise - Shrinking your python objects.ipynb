{
 "cells": [
  {
   "cell_type": "code",
   "execution_count": 4,
   "id": "36b1ff60",
   "metadata": {},
   "outputs": [],
   "source": [
    "my_int = 1\n",
    "my_float = 0.12345678900000000\n",
    "my_string = 'hello, world' #12char\n",
    "my_long_string = 'Tell me a joke about a LLM going to a party? It went there for small talk' #73 char\n",
    "my_list= [1,2,3]"
   ]
  },
  {
   "cell_type": "code",
   "execution_count": 19,
   "id": "3827203c",
   "metadata": {},
   "outputs": [
    {
     "name": "stdout",
     "output_type": "stream",
     "text": [
      "28\n",
      "24\n",
      "61\n",
      "122\n",
      "88\n"
     ]
    }
   ],
   "source": [
    "import sys\n",
    "print(sys.getsizeof(my_int))\n",
    "print(sys.getsizeof(my_float))\n",
    "print(sys.getsizeof(my_string))\n",
    "print(sys.getsizeof(my_long_string))\n",
    "print(sys.getsizeof(my_list))"
   ]
  },
  {
   "cell_type": "code",
   "execution_count": 3,
   "id": "92d10ccc",
   "metadata": {},
   "outputs": [
    {
     "name": "stdout",
     "output_type": "stream",
     "text": [
      "iinfo(min=0, max=255, dtype=uint8)\n",
      "24\n"
     ]
    }
   ],
   "source": [
    "import torch\n",
    "import sys\n",
    "# Information of `8-bit unsigned integer`\n",
    "a = torch.iinfo(torch.uint8)\n",
    "print(a)\n",
    "print(sys.getsizeof(a))"
   ]
  },
  {
   "cell_type": "code",
   "execution_count": 1,
   "id": "6def6454",
   "metadata": {},
   "outputs": [],
   "source": []
  },
  {
   "cell_type": "code",
   "execution_count": null,
   "id": "249058ff",
   "metadata": {},
   "outputs": [],
   "source": []
  }
 ],
 "metadata": {
  "kernelspec": {
   "display_name": "Python 3 (ipykernel)",
   "language": "python",
   "name": "python3"
  },
  "language_info": {
   "codemirror_mode": {
    "name": "ipython",
    "version": 3
   },
   "file_extension": ".py",
   "mimetype": "text/x-python",
   "name": "python",
   "nbconvert_exporter": "python",
   "pygments_lexer": "ipython3",
   "version": "3.10.9"
  }
 },
 "nbformat": 4,
 "nbformat_minor": 5
}
