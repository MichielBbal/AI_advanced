{
 "cells": [
  {
   "cell_type": "markdown",
   "id": "76a39fca",
   "metadata": {},
   "source": [
    "# Elevenlabs Text to Speech with OpenAI and streaming"
   ]
  },
  {
   "cell_type": "markdown",
   "id": "f4eba84b",
   "metadata": {},
   "source": [
    "### Contents\n",
    "0. Install packages & setup\n",
    "1. Demo script\n",
    "\n",
    "### Sources:\n",
    "- www.elevenlabs.io\n",
    "- https://github.com/elevenlabs/elevenlabs-python\n",
    "- https://twitter.com/flavioschneide/status/1688611094720389120\n",
    "    \n",
    "Requires mpv. On mac you can install it with 'brew install mpv'. On linux and windows you can install it from https://mpv.io/"
   ]
  },
  {
   "cell_type": "markdown",
   "id": "971703ef",
   "metadata": {},
   "source": [
    "## 0. Install packages and setup"
   ]
  },
  {
   "cell_type": "code",
   "execution_count": 2,
   "id": "921d84dc",
   "metadata": {},
   "outputs": [
    {
     "name": "stdout",
     "output_type": "stream",
     "text": [
      "Collecting elevenlabs\n",
      "  Downloading elevenlabs-0.2.24-py3-none-any.whl (16 kB)\n",
      "Requirement already satisfied: ipython>=7.0 in /Users/michielbontenbal/anaconda3/lib/python3.10/site-packages (from elevenlabs) (8.10.0)\n",
      "Requirement already satisfied: pydantic<2.0,>=1.10 in /Users/michielbontenbal/anaconda3/lib/python3.10/site-packages (from elevenlabs) (1.10.7)\n",
      "Requirement already satisfied: websockets>=11.0 in /Users/michielbontenbal/anaconda3/lib/python3.10/site-packages (from elevenlabs) (11.0.1)\n",
      "Requirement already satisfied: requests>=2.20 in /Users/michielbontenbal/anaconda3/lib/python3.10/site-packages (from elevenlabs) (2.31.0)\n",
      "Requirement already satisfied: matplotlib-inline in /Users/michielbontenbal/anaconda3/lib/python3.10/site-packages (from ipython>=7.0->elevenlabs) (0.1.6)\n",
      "Requirement already satisfied: traitlets>=5 in /Users/michielbontenbal/anaconda3/lib/python3.10/site-packages (from ipython>=7.0->elevenlabs) (5.7.1)\n",
      "Requirement already satisfied: pexpect>4.3 in /Users/michielbontenbal/anaconda3/lib/python3.10/site-packages (from ipython>=7.0->elevenlabs) (4.8.0)\n",
      "Requirement already satisfied: pickleshare in /Users/michielbontenbal/anaconda3/lib/python3.10/site-packages (from ipython>=7.0->elevenlabs) (0.7.5)\n",
      "Requirement already satisfied: jedi>=0.16 in /Users/michielbontenbal/anaconda3/lib/python3.10/site-packages (from ipython>=7.0->elevenlabs) (0.18.1)\n",
      "Requirement already satisfied: prompt-toolkit<3.1.0,>=3.0.30 in /Users/michielbontenbal/anaconda3/lib/python3.10/site-packages (from ipython>=7.0->elevenlabs) (3.0.36)\n",
      "Requirement already satisfied: appnope in /Users/michielbontenbal/anaconda3/lib/python3.10/site-packages (from ipython>=7.0->elevenlabs) (0.1.2)\n",
      "Requirement already satisfied: backcall in /Users/michielbontenbal/anaconda3/lib/python3.10/site-packages (from ipython>=7.0->elevenlabs) (0.2.0)\n",
      "Requirement already satisfied: pygments>=2.4.0 in /Users/michielbontenbal/anaconda3/lib/python3.10/site-packages (from ipython>=7.0->elevenlabs) (2.15.1)\n",
      "Requirement already satisfied: decorator in /Users/michielbontenbal/anaconda3/lib/python3.10/site-packages (from ipython>=7.0->elevenlabs) (4.4.2)\n",
      "Requirement already satisfied: stack-data in /Users/michielbontenbal/anaconda3/lib/python3.10/site-packages (from ipython>=7.0->elevenlabs) (0.2.0)\n",
      "Requirement already satisfied: typing-extensions>=4.2.0 in /Users/michielbontenbal/anaconda3/lib/python3.10/site-packages (from pydantic<2.0,>=1.10->elevenlabs) (4.4.0)\n",
      "Requirement already satisfied: urllib3<3,>=1.21.1 in /Users/michielbontenbal/anaconda3/lib/python3.10/site-packages (from requests>=2.20->elevenlabs) (1.26.14)\n",
      "Requirement already satisfied: certifi>=2017.4.17 in /Users/michielbontenbal/anaconda3/lib/python3.10/site-packages (from requests>=2.20->elevenlabs) (2022.12.7)\n",
      "Requirement already satisfied: charset-normalizer<4,>=2 in /Users/michielbontenbal/anaconda3/lib/python3.10/site-packages (from requests>=2.20->elevenlabs) (2.0.4)\n",
      "Requirement already satisfied: idna<4,>=2.5 in /Users/michielbontenbal/anaconda3/lib/python3.10/site-packages (from requests>=2.20->elevenlabs) (2.10)\n",
      "Requirement already satisfied: parso<0.9.0,>=0.8.0 in /Users/michielbontenbal/anaconda3/lib/python3.10/site-packages (from jedi>=0.16->ipython>=7.0->elevenlabs) (0.8.3)\n",
      "Requirement already satisfied: ptyprocess>=0.5 in /Users/michielbontenbal/anaconda3/lib/python3.10/site-packages (from pexpect>4.3->ipython>=7.0->elevenlabs) (0.7.0)\n",
      "Requirement already satisfied: wcwidth in /Users/michielbontenbal/anaconda3/lib/python3.10/site-packages (from prompt-toolkit<3.1.0,>=3.0.30->ipython>=7.0->elevenlabs) (0.2.5)\n",
      "Requirement already satisfied: pure-eval in /Users/michielbontenbal/anaconda3/lib/python3.10/site-packages (from stack-data->ipython>=7.0->elevenlabs) (0.2.2)\n",
      "Requirement already satisfied: asttokens in /Users/michielbontenbal/anaconda3/lib/python3.10/site-packages (from stack-data->ipython>=7.0->elevenlabs) (2.0.5)\n",
      "Requirement already satisfied: executing in /Users/michielbontenbal/anaconda3/lib/python3.10/site-packages (from stack-data->ipython>=7.0->elevenlabs) (0.8.3)\n",
      "Requirement already satisfied: six in /Users/michielbontenbal/anaconda3/lib/python3.10/site-packages (from asttokens->stack-data->ipython>=7.0->elevenlabs) (1.16.0)\n",
      "Installing collected packages: elevenlabs\n",
      "Successfully installed elevenlabs-0.2.24\n",
      "Note: you may need to restart the kernel to use updated packages.\n"
     ]
    }
   ],
   "source": [
    "pip install elevenlabs"
   ]
  },
  {
   "cell_type": "code",
   "execution_count": 4,
   "id": "ce458381",
   "metadata": {},
   "outputs": [],
   "source": [
    "import openai\n",
    "import elevenlabs\n",
    "import config\n",
    "openai.api_key = config.openai_key\n",
    "elevenlabs.set_api_key(config.elevenlabs_key)"
   ]
  },
  {
   "cell_type": "markdown",
   "id": "a2b1a74b",
   "metadata": {},
   "source": [
    "## 1. Demo script streaming elevenlabs"
   ]
  },
  {
   "cell_type": "code",
   "execution_count": 8,
   "id": "64270b32",
   "metadata": {},
   "outputs": [
    {
     "data": {
      "text/plain": [
       "b'\\xff\\xfbP\\xc4\\x00\\x00\\x05 \\x03#@\\x8c@!\\x14\\x0e%\\xb4$\\x88\\xbcdqD\\xa2\\n$\\xc2\\x0c\\x0b\\x83\\xe6\\xdc\\xd5;i\\xc4\\t\\xf5\\x14\\xa9\\xd5J~\\xef\\xcb\\x87\\xff\\xc8\\x7f\\xb3\\xdf\\xff\\xee\\xe7\\xff?\\xac\\xfd\\x19\\xf5\\xe8\\x11I+J\\x12\\xe2H\\x84\\xf0\\x10\\xb2\\xaf\\xbd\\xca\\xae\\xf0P@\\x18$T\\xc2\\xed0q9\\xd2\\xa6;Y\\xa3\\x94\\x00B\\xfa\\xc8;0\\xef\\\\0\\x85d\\x01PE`\\x08\\xe2K\\xa2\\x86\\xe2\\xaa\\x135\\x07\\x00g\\xf8f\\xd7%\\xbf\\xfb\\xac\\xff\\xff\\xed\\x05V\\x87\\x84\\x03)\\xa4&\\xd6r\\xf7\\xd6\\x16\\xc9!o`\\x88\\xc7\\xd0\\x9a(\\x0e\\xa0\\x82\\x00\\x01\\x87\\xfd\\x14\\x00\\xabi\\xcd}\\xa4,GP\\xee@\\x94\\x06J\\xaevIP\\xf7\\xc7\"q\\xd6\\xdd\\xd5\\xae\\xd5n:0_\\x05\\x8e\\xc7z\\xd1\\x04J+\\xd9\\xe1\\xb5\\x93\\xb4-\\xa9\\x92\\xff\\xfbR\\xc4&\\x80\\x0e<\\x99/\\xcc=\\x11b$\\x1aea\\xac2 \\xbf7\\xad D\\xf4\\x97G\\x07\\xc3\\xf0\\xa8><?\\xa0\\x9a\\xde(\\x19P@\\xe2\\x83\\xdd\\xab\\x16K\\xd4r\\x9e\\xa7}\\x7f\\xb7\\xff\\xd2\\x03\"\\x02\\x19O\\x8bt/\\xe0\\x08e\\xf4P\\x95\"\\t\\x98<\\x01*\\xd7\\xcc(Q\\xd5L4\\xcf\\x95\\x07(\\x10>3!\\xc4q\\x8c\\xb1q\\xe1\\xf0!P!\\xa3-\\x00\\x12\\x01\\x1b\\x81\\xd7d\\n\\xe1\\xb1\\'VS\\x03\\xc4\\x19\\x9a\\x99\\xb4\\xe7\\xd5\\x84\\x9cNj1\\xb47\\x1c\\xf7\\x89a\\x91=\\x13\\xdc\\x86o\\x1b\\x80\\x81q\\x08\\x10f\\xcb!\\xaa@hA\\x03\\xe0\\xdc\\x9e\\xdd\\xbe\\x13\\xb0\\x9c\\x7f3\\xbe\\xddz.\\xfb/\\x82&\\xee\\xde_\\xa8\\xb1gD\\xcd\\xd7\\x9f\\xc1\\xa0@0&\\x1cq\\xdf#(\\xe7\\x00\\x01\\x07\\xff<6\\xe3\\xd1X\\xe2\\xe5X\\x8f\\xff\\xfbR\\xc4\\x07\\x01\\x0b\\xc0\\xd5I\\'\\xa4\\xd2\\xc1h*\\xeb\\xf4\\xf4\\x94{P\\x88,d`@N\\x02\\xee7\\xc88\\xc2\\x0b\\x9a\\x1a\\xe4\\xc9A\\x1c\\x1f\"*L\\xca2+\\x87\\x942\\x8e9\\x8e.\\x04\\xd2l\\xa1>\\r\\x8d\\nD\\x87(\\x99G\\xef\\xed\\x8e\\xe4\\xd6n\\xa0\\x86\\xacp\"+\\x7f\\x18c\\xa5\\xb7\\xf233f\\xfc\\\\6\\x13Y\\x813\\x9f\\xfe\\xff\\xff\\xe9\\xb1\\x14H\\x05\\'m\\xbdS\\x83\\xac\\xe9\\xbaI\\t\\xfdbR\\\\\\xb9:\\xc0\\x83\\x131\\x8d:\\x06Z\\x98\\x93\\xfbjaF\\x17b\\xb3\\x9d\\x89\\xee\\x7f\\xce\\xe2jV\\x1c R0\\x9b\\xdeV]\\x7f\\xa6\\xec!\\xa8@TJ\\xce\\xed\\'\\xff\\xd1T\\xe4\\x1aa\\x17\\x8b\\x90\\xad\\x7f\\xa6\\xf7\\xd9\\x06\\x8c\\x141T\\x81\\xf1at(\\xee\\xd5\\xd1\\xb4\\xd1\\x00\\x10\\x11J:\\xc5Ex\\xb8UF\\xbc\\xc5:\\x1c\\xff\\xfbR\\xc4\\t\\x00\\x0c\\x91[_\\xa7\\xa0QQw\\xab\\xect\\xf3\\t\\xda\\xa2o\\x8ad\\x08\\xf9`8\\x89S\\x11\\xa0\\x84\\xea\\x82\\x8dWV\\x9e\\x91\\xf1\\xfdM\\x07A\\xc3\\xd9\\xcaL\\xd0\\xb0\\xb9a\\xc59\\xe4<\\xc7&D\\xd6\\n\\xc8\\xce\\x9e\\xae\\x9e\\xa8z\\x08r)\\xeeWped\\x9b\\xff\\xfc\\x87A\\x9c\\xee$\\xf8\\x01\\xa5t\\xff\\xfbIv\\xa9\\xf31\\xf0A\\t\\x8d/\\xfe\\xad\\x1dh\\x90\\n\\x00\\xa4\\x9b\\xa7\\x91Xz\\x97\\xe4CY(O\\'\\xfa\\xce4\\x86\\x13\\x03\\x95\\xad8Z\\x82\\x0f<\\r\\t%\\x1aw\\x9b\\xbb\\x7f\\xd6Aj\\xac\\xe6U\\x06\\x1c\\xb4@l\\xbfz)I\\x01\\xc2\\x18\\xdf\\xc9\\xba\\\\\\x8cPaN\\xa4C\\\\\\x96\\x9f\\xff\\xfe\\xbd\\xb5o\\x7f\\xff\\xe8\\xc1\\xe8\\x9b\\xba\\x14\\xfd\\xd5\\x84\\x0b\\xdf\\x0b.\\x1ep]U\\xf5\\xcb\\x13\\x052[J:b\\x07\\x9a\\xff\\xfbR\\xc4\\x05\\x80Ki\\x8fk\\xad$IQ{\\x19\\xed\\xfd\\xa4\\x9djZ\\x87!\\xb1\\xa2\\x18\\xfc8\\ra\\xc0i\\xac\\x00t\\x0craeb>\\xca\\x89M\\xd3w\\x94UvJ:[\\xd01\\xc5\\xdb\\xb8DG\\x1cHC3\\xe9\\xb2=\\xec\\xe7*\\xa7\\xff\\xd3t9\\xb6B\\x91u\\xff\\xfb=SFz\\xff\\xff\\xff\\x7f\\xedv}\\xf6D\\xd7\\xb7}\\x1a\\x80\\xde\\x11\\xe0\\xd2X\\xc0\\x80\\x8e\\x12\\xe0(\\x90\\x0ba\\xa1\\x80<\\x81i\\x99\\xd4&\\xc7\\xa0<q\\xc8\\t\\x0e \\xc4;a\\xb8\\x17\\x05\\x00S\\x87\\xbak\\xacI\\xa4l.\\xdb\\x962\\xfd\\xcc3K\\x124\\xca\\xbe\\x8e\\xb0\\xd0\\xb9\\x9a\\xde\\xd5z\\xa3\\xaagi\\xfc\\xf4\\xc7\\x1fKJ\\x16`p\\xed\\xdf\\xa0\\x0f\\x16\\xbf\\xff\\x931\\x17\\x15L$\\x97\\xaf\\xea i\\xc8\\x82\\xfb\\x13-\\xe3i<I;U\\x9f\\x14:\\xff\\xfbR\\xc4\\x06\\x80\\x0b\\xed\\x8du\\x8c\\xacOqj1\\xad\\xb4\\xf3\\x96b\\x90d\\xde\\x8a0M\\x04\\xb1\\x00\\xf2\\n\\xaa\\x01\\xcb\\xad[d\\xf5\\xb0FL\\xc0aF\\x95$\\xcdG\\xd1\\\\\\xba\\x7f\\xd4\\x8c\\xdd\\xf3T`\\x86\\xcc\\x19\\xbf\\xf7\\x18\\x7ft\\xb7\\xf9\\xe2\\xcce\\x7f\\xd1C\\x06S\\xb1\\xd3\\xff\\xbdz\\x0fb\\xbd\\x99?\\xff\\xffk\\x9dY\\xaer\\x9e\\x8e{\\x7f\\xffU\\xa05`P\\x16H \\x94\\x0b\\x89GN\\x90\\x8d\\x08b\\t\\xe0V\\xb2\\x14\\t\\\\\\x98.x6m\\x11f\\x89\\x9a\\\\\\xe9\\x8c\\xd96\\nP\\xbe2\\xa6\\xe9\\xb5\\x06(t\\x8b%\\x1c\\xf3\\x83\\x90\\xc6\\xfd\\xdd\\x06\\x86\\xc9\\xb3\\xf4\\xfb]\\x9d\\xb5\\x10[\\n\\xb2:\\xd8\\xff\\xff\\xfa)\\xca\\xbf\\xff\\xff\\xff\\xe8CY\\x18\\x97uZt\\xffJd\\x11\\x1c\\x1a\\xa4\\xca\\xd4\\x05$\\x93%\\x18\\xde\\x08\\xc03\\x966k\\xff\\xfbR\\xc4\\x07\\x80\\x0c9\\x8fw\\xa7\\xa4\\xad\\xb1c1n$\\xf6\\x15\\x97(\\xc5\\xd0\\x84\\xa8\\x8d\\xc3n@\\xda\\xa8\\x08\\x170\\x9e\\xf2\\xd9\\xcd\\xf4\\xbfW\\xf6*\\xf3\\xac\\xee~\\xcb\\x031Ki\\xac\\xe4v\\x99\\xb8\\x93_\\xf8tUF?\\xb7\\xff\\xba\\x12\\xac|q\\x86\\x03\\x11\\x06\\xca\\xc65\\xff\\xd5u\\xbf\\xce\\x9f\\xff\\xff\\xf4-\\x95.\\xa4\\x98x\\xb5\\xccv\\xff\\xeebRA\\xe3\\x1f\\x0b\\x9e\\x14h\\x13b&!\\x8e\\xcb\\xce\\x08\\xa9\"\\x9e\\x00\\xa7B\\xe2C\\xda\\x1b\\xa5*\\x9bh\\xfe\\xa3Vr5\\x1e\\'\\x96\\xad\\x1cP\\x90l$.\\xa25\\x10t\\x16\\x9cu\\xbfW\\ra\\xdf\\xff\\xfd\\'gs\\xb1\\x0c\\xca8T@\\xd2\\xf6\\xff\\xfduE\\x7f\\xff\\xff\\xff\\xa5k\\xbd\\x94]\\x96\\xec\\xc9\\xde\\xf6\\xear\\x98x\\xea\\x80\\x04$\\x16\\x00\\x18\\x15\\xeem\\xd2\\x81\\xce\\x15\\xa6\\xbc\\x02\\xff\\xfbR\\xc4\\x08\\x00\\x0c0\\xd3k\\xe7\\xa4\\xed\\x01\\x80\\x1a.<\\xf3\\x1d\\xec\\xdf\\x08\\xf6M\\xe8\\xb1\\x15\\xb0\\xc3\\x8bb\\x919\\xda}\\x85c\\x00?\\x12\\xce\\xd6E)\\xa4\\xc7\\\\\\xbe.\\x94i\\x94h\\xf13DRs\\xdf\\xb3 J`\\xe1g_\\xff\\xf4\\x98i\\xec\\x8cc:\\xb3\\x17{?\\xadO\\x08\\x92H\\x0c{\\x7f\\x91\\x1dtP\\x9aL\\xa0\\x83X5\\x07V\\xc4\\x04\\xdc\\x86\\x02\\x841R\"l\\xce\\xdc\\x99\\x84{\\x03\\xbaF\\xb2|q\\xae\\x0f\\xb8%\\x9d\\xead\\xd1N\\xf2p&\\xc3\\xb6\\xc9,\\xc0\\x87-\\xb8oO\\xd0gA2\\x93kv\\x9e\\xd9\\xee\\x9c sN\\xf4r\\x819bE\\xa9\\xff\\xf3\\xd35\\x98\\xd57u\\x9cx\\xe0t9G\\xe8S\\x0b-\\xe3/sju-\\xb0\\xcbDiK\\x04F\\xe3L\\xb8\\x0e\\xba\\xe0d\\xc4\\xac\\x10\\xb5Rl\\x7f\\x04\\xff\\xfbR\\xc4\\x05\\x00\\x0bqqk\\xa7\\xa4O\\x81x\\'n\\xbc\\xf4\\x95\\xe44\\x0b\\xe8\\x1b\\x0b\\xd3\\xc5\\x16\\x96\\xc1,[\\xc2o\\xa4R\\x9c\\x9c\\xf5\\x05j\\xccRFyG%\\x1e\\xbe}\\xc8\\x0e\\xe5K\\xba\\xfb\\xf6\\xb3\\xdfPR\\xda\\xedz\\xfd\\xd3Ps\\x83o\\xff\\xf4w\\x9b-\\xa5+\\xf1\\xef\\xeb\\xff\\xff\\xfcG\\xd5\\xba\":\\xd3N\\x92\\xaf\\xd0\\xef\\xa9^d\\x9c\\xe2Iq\\xb9\\x03\\xb7I\\x86b2Y\\x1c\\xb5\\x90o\\x90X\\xed\\x83\\xac\\x85\\x08\\xe1\\xad\\x04\\xd2\\xd1\\x86[!\\x98h\\xdc\\x92\\xe5\\x9a\\xd4\\xd9\\xc4\\xbd\\x17\\x82\\x0fL\\xfcb/\\x02YjK\\xe51\\x9e\\xa3\\xe0\\x00x`r\\x9b\\x96i\\xff\\xff\\xfd5*!\\xdcAf\\xcc\\xaf\\xff\\xff\\xffx\\xd1V#\\xc8wb*\\x10\\xec\\xe7\\xcd\\x1dPk4\\xe91|a\\xfa@*\\\\\\xac\\x02\\x9fq\\xb9\\x8c\\x10J\\xea\\xff\\xfbR\\xc4\\x06\\x00\\n,\\x93i\\xac1\"\\xc1L\\xad\\xec%\\x94\\x89q\\xc405\\x18\\xa0\\xa2@\\x03\\xbc\\\\KA_`\\xd3I\\xbe\\x99\\xfb\\x1a(is\\xfd-\\xf9\\x90\\x04f\\xbc\\xa9\\x0e\\xe3_\\xdd\\xd6\\xd3\\xfbg\\xaa\\xfc\\xb2\\x7f\\xaeI\\x93|?\\xda\\xc2\\xc4@\\x00\\x92\\x82?\\xfd[\\\\\\xd5\\xdd\\xa9\\xd6\\xe7}\\x91\\xed\\x01\\x82XQ\\\\\\x00lUg\\xc4\\xc3\\x86B\\xaaoe+\\'\\xd3\\xd4\\xf7t\\x05\\xce&\\xd5\\xdfbi\\xad\\xf2\\xfa\\x92\\xee~\\x98\\xf9\\xbe\\n\\x965,\\xa3\\nq2\\xad\\xd8M\\x16v\\xab\\x15\\x0c\\xac\\xbf\\xff\\xff\\xe6\\xb3\\x14\\xac\\x80J\\xdf\\xff\\xff\\xf5\\xec\\xa4\\xfdwtK\\x19H\\xf2\\x7f\\xfd\\x8a\\xcbCY\\xc2\\xeez@D\\xa6p\\x00\\x8c-%Y\\xf1\\x022^\\xddi^\\x977\\xafD[R\\x7f\\x82\\xa2\\xf5g\\x9e\\xb0\\xfc1\\xdb\\xfa\\xc5\\x93\\xff\\xfbR\\xc4\\x11\\x80\\nD\\xd1c\\xac\\x18O\\x01Q\\x1akq\\x84\\x898\\x00\\x95\\x92\\x1aN\\xc0\\xd7,\\xc8Y\\xd2\\x9a\\x98\\xc5\\x1d\\x11\\xbd\\x98\\xc2\\x19\\xd7\\xff\\xff\\xabt\\x99\\x88p\\xa0\\x93\\x8c\\xff\\xf1XP\\xf6\\xc9\\xa2\\xe4\\xc7\\'\\xfbPlr\\x96\\x97\\x80\\xc2\\n\\x14\\x00\"V\\xea\\x8a\\x19\\'\\x0c8\\x10<\\x07;^\\x14P-\\xa8\\xc5\\x90\\x8b\\xaf\\x9dN\\x95\\xbb\\xc6d\\x8e\\x80P*\\x0e\\x16_ \\x80\\x01\\x8ac\\x0e\\x9a\\x82\\x14\\xff\\xae\\x88\\x18\\x9e\\xc7\\x94\\xc1\\x91\\xff\\xff\\xfa\\\\\\x91\\xd6\\x8aA\\x83\\xd4\\x7f\\xe5O\"\\xc9\\x8d\\xc1\\xc7\\x19y\\xa3_\\xb8\\\\\\\\\\xe1B\\x95b,\\x0b`\\x00\\x8c\\xb4U*\\x88\\xfdF\\xdb\\xc5\\xdc\\x19\\xe7\\xa9\\x9d\\xe0@\\xa0E\\xe4RIh\\r\\xb3\\x19Rs\\xd1\\xa2\\xd8\\n\\x88+\\x04\\x16HYA\\xc9\\x8f\\xc9\\xa6\\xeet\\xff\\x16\\xc3\\x11(\\x06<\\xff\\xfbR\\xc4\\x1c\\x00\\npw]\\x8c$\\xc9A@\\x9a\\xab\\xb0\\xf6\\x158\\x12z\\x1a\\x8f\\xfc\\xb8\\xc3\\xcfP\\x18\\xb9\\xaf\\xffTN/\\xd0\\xa4\\x9fm\\xdf\\xb1C\\x04A\\x03\\x01\\x10  B\\x00\\x04@\\xc8\\x141\\nc\\'\\x90\\x1b7\\x15\\xf9\\xc1\\x84*\\xcaBz\\xd2\\xe7\\xba\\xddc\\xcb!\\x9b\\x05\\x0b\\xd1\\xab6Qd\\xc7m\\xa9J[\\xb53<\\xac\\x11o\\xa5F\\x9c\\x84dGn*c\\x19\\x7f\\xff\\xfdZ\\xaa|\\x8e0`H\\xcf\\xff\\xd9\\xff\\xc5\\xab\\xef\\xd10\\x06R\\xa6\\xc7\\x15h\\xadj\\x1b0\\x10E\\xe6\\x83\\x0e\\xef\\x92\\x8cn\\t\\xe6EK\\t(\\xd8\\x912uwN&+!\\xf5\\xb98o\\x9e2\\xda\\xfb\\r\\xbdgW\\xfb\\xb0\\xba\\xc65\\xe4Ff\\xd4\\x1cr\\x82\\xb3?\\xff\\xfeMwC\\x88\\x0c\\x1c~\\xef\\xff\\xffz$@\\x0c\\xbb\\x02\\x8f$Q\\xef\\xff\\xfbR\\xc4(\\x00\\n`\\xd3u\\x87\\xa4\\xab\\xf1N\\x0e\\xab\\xf5\\x84\\x8c\\xf8X\\xd7\\x0c\\x01\\xc5\\x00\\x00\\x00\\x02 )\\x8c\\x04\\t|Z\\x19d\\xf7Y\\xa8\\xc8,\\x08\\x16\\x00\\x00 \\xa6\\x8f\\xa3\\x91\\x92h#\\x15#\\xa0\\x96\\xd5\\xea\\'|m\\xc2\\x86%\\xc2\\x1bq\\xb9\\x98\\x82\\xa3\\x90SK\\\\\\xf3\\x84@\\x1f\\xe1\\xb1a\\x83E\\x82 \\xf8y\\xad\\xff\\xff\\xfc\\x81 \\xcd\\x02S\\xa4\\xd6\\xa3`\\xebV\\xaa\\x81h\\xc1\\x00\\x80\\x02&\\xabu\\xbb\\x08\\xb1\\x14|[g}T\\x9f\\xa8\\xf2:\\xcf=LS\\x84\\x04\\xeb\\xb3\\x85A\\xb1\\x18\\x04f#\\xa5\\xd5]\\x9d\\x14:\\x02![\\'m\\x12\\xa8\\x9f\\xeeaO\\xff\\xffc\\xbb\\x9c%\\x0eb8\\xb1\\x04\\xbf\\xff\\xfd\\xe2\\xc11\\xf2\\x7f\\xff\\xfb\\x1ca\\xcf_\\xfa\\x11\\x86\\x00\\x00\\x000\\x19\\x92\\xe5\\xdai\\xca\\xb7k\\x0b\\t:\\xcc\\x1e\\xfc\\x92\\xff\\xfbR\\xc42\\x80\\n\\x1c\\xfdc\\xac$L\\x81C\\x91\\xeb\\xa9\\x94\\x8a\\x18R\\xc3\\xa4#\\x06W<\\xeb\\xd8Zs\\xd4$\\xc3\\x1529d(R\\x8cS\\xdc\\x84\\xe6\\x92\\xa3I\\xec\\xffT\\xb6\\xec\\x06\\xc4w\\xfe\\xed0t;\\xfeP+\\x0f\\n\\x0c:c\\xfeP\\xe9\\xd7\\xff\\xffTP\\xc3AX\\x16\\x80@\\x04\\x00 \\r[/\\xd9\\xc9)\\xc7\\x04$>\\x9f\\x08T\\xb5q\\xc8\\x1fpr\\xa0v\\x8e\\xa7\\xe2\\x08H\\xbc\\xf0\\xc5\"Q\\x9dS;\\xf6\\xfd\\xef\\xab\\xa8\\x0f\"=\\xe0m\\xa0\\x8e\\x0c\\x14\\x8f\\xffA@\\xcc\\xbf\\xff\\xf6Z{\\xa0\\xa9B\\x1f\\xe4\\x8d\\x11.\\x1d\\xff\\xf4PI\\xb2\\x91\\xc4\\xe0\\xb4\\x1fIF\\x01.T\\x80mR\\x1a:s\\xe1m\\x14V\\xd1v\\xe9\\xe0cxgv2/\\tF1\\xbf\\x9e\\xf2\\x96\\xddD\\x90\\x80zh\\xaa\\xd9\\xf7e\\x00\\x944\\xff\\xfbR\\xc4?\\x80\\t\\xe8\\xc7_L$P\\xc1D\\x19\\xee(\\xf4\\x89\\xbeB\\xda/~\\xbd$\\xf8\\x98Am\\xff\\xffOY\\x99\\x12\\x16\\x0e\\xff\"\\x92EH\\xbb\\xff\\xfa\\x84\\xab\\xbc\\xeb\\xff\\xf3f\\xaaA\\x01\\xaa\\x04\\xe07z\\xd0H\\x16\\xd9h\\x83\\xafd\\xbd\\xbe C\\x1e0BT#a\\x16\\xdd{Y\\x97\\x07\\xa9\\xb1Uc\\x15\\x817\\x04)\\n\\xca%\\x9a\\xc3\\xa3\\x16\\xdf\\xf2\\x95\\x93\\xff\\xff\\xcd\\xe9\\xad\\x00\\x1f\\xff\\xfeg\\xa2\\x076\\xdf\\xff\\xff\\xee\\x8fM\\xb5D\\xbf{\\'\\xeb\\xf5K\\xb2\\x83eA\\x90\\x04\\x00\\xa3u\\x17\\x0bbJY\\x11\\xaa\\xd2\\xe5\\x1d\\\\\\x16X\\xed\\xa7\\xa9,\\xea\\xb3\\xea\\xf5\\x14\\xba\\x7f\\x04<\\x17\\x97VH\\x8a\\xb9\\xeb[\\x89\\xb1\\xf5\\xf9O\\x86\\xed|\\x12G\\xbb_\\xe8iP\\xdf\\xff\\xff\\xeb\\xc2\\x052\"\\x83?\\x89L!_\\xff\\xff[\\x08\\xff\\xfbR\\xc4M\\x00\\nI\\x8f_L\\xbcC\\x81C\\x19,5\\x84\\t\\xe2\\xce\\xae\\xc1\\xeba\\x10(q\\xac\\xc0\\xbc\\x9d\\xd6\\xc9&I\\x88s\\x00\\xda\\x18|\\xf9-&\\x19\\xe8\\xa12\\t\\xe9I\\x8e\\xe5U=b\\xa4\\xac\\xdb)C\\xe3\\x8e\\x9a\\xfadTZ\\x1a\\x8b\\x14Pr\\x1e\\xe3\\xe30\\xb5\\xdf\\xf01\\x99\\xbf\\x99\\x1f\\xfe\\xb3\\xcafA\\x8a\\x85}\\x9d\\x11\\t\\xbb\\xf9\\xc8.\\x94F_\\xff\\xff\\xff\\xff\\xff\\xfe\\xb6\\xfeR\\xd1X\\x1a2\\x8a\\x02a\\xed-N\\xd2\\x13v\\xd3\\x18\\x14\\xce\\xc1-G\\x8c\\x175\\xe6\\xe7\\xfaNT\\xae\\xeaK]3\\x031\\x0f\\xc0\\xfb?\\x81\\xece\\xf5\\xff\\xe2\\x13bj\\x1f\\xe3\\xd8e\\xc0l\\xe0\\xe2\\xf4\\xf6v`\\xab\\xff\\xdb\\xfd\\x1d\\x98\\xf0\\xcc\\x9a\\x18\\xd3gl\\xc1G\\xad\\xbf\\xf5\\x7f%\\xb1_\\xf3J\\x9a1\\xa0\\x10\\x0c\\xb2F\\x9b\\x00\\x85\\x03\\xff\\xfbR\\xc4Y\\x80\\x0b\\x11\\x8do\\xa7\\x9cQ1E\\x98l\\xf5\\x84\\t\\xf6\\xa4\\x89\\xe4x\\xcc\\xa8\\x86\\x0c\\xaa\\xf3\\xe2\\xa3=dy\\xf1~X\\x8e\"be\\x9c\\xe4\\xcfF\\xf5\\xec\\xc2\\xb7\\xd7y\\xb9\\xb8f[i\\xda3\\xa9\\xa8r\\xc5L\\xd2\\xe4 \\xdb\\xff\\xe9\\xff\\x89k\\xa6\\xeaC\\x15\\xcfj\\x15g43xV-\\xbf\\xff\\xff\\xf5w\\xaeY\\xcf]\\x01\\x10\\x1d\\xae\\xa6\\xd9\\x058\\x155\\xc3\\xb1GH\\xc7iUFZ\\xcf\\\\\\x0cEbw\\x08\\x16(?\\xac r$J\\x1f{O\\x98\\x1a\\xc1\\x11\\xdd\\xf2~GD\\xa0O\\x92\\x11\\x8a\\x86\\x8f \\xd6Q\\x17\\xde\\xf4\\x7f\\xff?\\xfb\\xe4D\\x8b\\x1c\\xceG7V\\xa6\\xeb/\\xc9\\xff\\xff\\xff\\xff\\xfdl\\xcfd\\xbd\\xdd\\x1a\\x93\\xadQ\\x89:]\\xd2v\\x0e\\x90\\x95p\\x06P\\x06\\x89~\\xd7\\xed\\xdb\\xe9\\xd1\\xe0ZR\\x18)\\xff\\xfbR\\xc4b\\x80\\nt\\xf3a\\xac,Oq\\x82\\xb1l\\xb5\\x85\\x89\\x7f\\xe5\\xb0\\x9e\\xad\\xbc\\x02\\xcby\\x04\\xa9\\xfd#\\xdb\\x9f\\xc6\\x91\\x82\\xceX\\x9fdD\\x10\\xa3\\xcc\\xce\\xfdA\\xdc\\xcc\\x86\\xa6\"\\xf9D\\xf2VqS\\xaf\\xff\\xa9\\xff\\xd0\\xcc,\\xaa\\x16(T\\xca\\xb4\"\\x10\\xeeF)\\xbe\\x108\\xe9\\x7f\\xff\\xfe_\\xb0\\x9c\\x80/\\x12\\x19\\x0fA\\x82.c\\x17\\x03\\x95\\x19m\\x91X\\x8ar\\x01w \\xb1\\xcb \\x95\\xb3\\x10\\x01D\\xa21\\xb6\\xbe\\x85r\\x1a<\\xde37\\xb7\\xba\\xf2j\\xae\\x1e\\x1f\\xee\\xfc\\xba\\xfa\\xce\\xe7\\x8ehn\\x8c\\xb5\\xde\\xe3\\xec\\xa2\\x10\\xc4\\xa2\\xc5\\xb8\\x08\\xaf\\xfb\\xb1n\\x8c\\xb7\\xa1\\xa8\\x8c1h\\x94\\xba5\\x9ad\\xa0\\xcb\\xd41\\xfd\\xf6\\xff\\xff\\xff\\xff\\xdb\\x99\\xa7\\x1c\\xa9\\x1a\\xdeY\\xe9k\\xcat\\x19\\x03)\\xe2`\\x16\\x01R\"g\\x06_\\x1dN\\xc1\\xff\\xfbR\\xc4f\\x00\\x0b\\x9c\\xf1e\\xec$\\xaea\\x8f0\\xeet\\xf1\\x0f7\\x0e\\xd1\\x05\\xd8]?3\\x15I\\x92K\\x81\\x92dD3\\x86\\xdb\\x02\\x10\\xe2\\xfem1\\xdf\\x03C\\xd4\\x95\\xa8B(\\xb3\\x01=*\\xd2\\xe1(\\x0e\\x8d\\x7f\\xbc\\x9f\\xfb\\xbe\\x9a\\xbd\\xb4\\xb5h8\\x00\\xa3\\x0b=\\x8dr\\x04d\\xebo\\xff\\xff\\xc6\\xdaj\\x19Y6\\x00\\xc1\\xa0\\xe2B\\xa4\\xde\\xc5\\xde\\xc04\\x80\\x93H\\xb8K\\x91\\xfeKPi\\xe42\\x9c\\x15L<0\\x8b\\xf5(+&]#\\xaay\\xace\\xc5F\\xbc5\\x06\\x8c \\x93(\\xa4`\\xe3\\x86\\x0f\\xbd\\x1f\\xda1\\xa2LF\\xaf\\xdd\\xce\\xdf\\xf4o\\xd2\\x89\\xe7\\xc9{\\x91\\x91\\x9e\\xdf\\xf4S\\xad^\\xbd\\xbf\\xff\\xff\\xff\\xec}$\\xd4\\xee\\xca\\xd6\\xce\\x9a\\xa6r3\\xb3\\x8e\\x1f\\x81:\\x89-$\\xa7JJ\\xe2K\\xcaV\\x96\\x02c\\x08\\xce\\x88t\\xff\\xfbR\\xc4c\\x80\\x0b<\\xc9]\\xac\\xbcC\\xc1h1\\xec\\xf5\\x87\\x94s\\x95uB\\x00w\\x9aT\\xf0\\xad\\xf9\\xdb!\\x9b\\xf9YH\\xc4\\x11\\x1c\\xaa5?\\xaevM\\xdad\\xd2\\xa6*\\x0e\\'\\xec\\xc8\\x1d.\\xa95 \\xb0a\\x9b\\xf2\\xcc\\x10\\xa0\\x1c\\n\\xb7\\xff\\xffap\\x80h0pa\\x81,\\x88\\xc2GA\\xe1W\\x9dC\\x05\\xc6\\x98iKt\\xa6`\\x8bD\\x86y3\\x99\\x86^Q\\x87\\x94\\xa1j\\xc1\\xc0\\xdb\\x8a\\xbf\\xa4e2\\xd5Y6\\xfc\\xcf\\x7f~^\\x9f*\\xfc\\xebj\\x99\\x88*\\xa4\\x96\\x9f\\xe6\\xc3\\x1a\\x1a\\xff\\xff\\xffnQ\\x0e\\xaa\\xc7*2\\xbd4\\xfe\\x92*\\xe8G\\x7f\\xff\\xff\\xff\\xf6^\\xefw\\xba\\xfa\\xaaWG\\x999\\x109\\xd3\\xf1\\x82\\x02\\x10\\'0\\t7\\xf9U@\\xb3b\\xb7\\xd5\\x02\\xa0\\xbb%\\xf9\\x18\\xdb\\xd0\\x92\\xd5r\\xbaY=Lx%\\x1c\\xff\\xfbR\\xc4g\\x80J\\xd4\\x8do\\xa7\\xb0J\\xd1`\\xb1n4\\xf4\\x89\\xb3\\xbd)\\x02\\xd1*\\xa0\\x8ci\\xbf\\xf4:i:,\\xa8\\x10#\\xb1\\xa4o[\\xad\\xc9Ac\\xed\\xeb\\xf4)#\\x8e\\x9c\\x0b\\x14\\x0f\\x7fS2[?\\xfc\\\\\\xc4\\xab\\xd2\\xb1\\x89\\x95\\x16\\xa9$\\xe4\\x9a\\xabSA\\xa9&\\xd2nX\\x02R\\x00C\\xcb\\xeb\\x9e\\x94m\\x84\\x8dk\\x9e\\xce\\xa1\\x15\\x16\\x88\\x9aX3WX$#\\xf8\\xdf\\xb6`5\\xa5\"WjkQ\\xd7HJ\\xa7\\xbf\\xcd8w\\x7f\\xff\\xff\\xf6\\xa2\\x94P\\xaa \\xb2\\xa3\\xbf\\xff\\xd5[C\\xb2\\x93dO\\xff\\xff\\xf7\\xb2\\x1a\\xa6*\\x1d\\x10P\\xc1\\xe4-rI\\xd6gb\\x81\\xe8UE\\xb95\\x01\\x19)fL\\xf2\\xd5*&;\\x02\\xa3\\x03\\x8d@\\x8b\\x91\\xa2%\\x014\\xa9F4!\\xaa\\xe6\\x7fF_i\\\\\\x9b\\xa77\\x7f\\x7f\\x17\\xb1\\xff\\xfbR\\xc4n\\x00\\n\\xdc\\x85aL=E\\xd1_+\\xae\\xb4\\xf4\\x96\\x0eoMN\\x8b\\xed\\xfe@\\xc88\\x03\\xff\\x90\\x88\\x8a\\n\\x89E\\xae\\xfe&H\\xb4\\xe0|\\xe4\\x17\\xff\\xc6\\xc61\\xa1\\x05\\x88\\x04K\\x98\\xad\\x98\\xf6\\x17I\\xe6S\\x92P\\tw?\\t\\x12\\x028_\\x94\\x03\\xe4\\xc5\\xdaI+(\\x9c\\xac\\xa6\\x0b`\\xa5\\xe1>\\xf9J\\x8c\\xfd\\xca\\xc7\\xeb\\xfbB4\\xb8\\xbf\\xd9\\xe8\\xf1\\xec\\xb6x\\xf0\\x18c\\x90\\xfd\\r>\\x84\\x8b?\\xff\\xfeg\\xb9\\xeb]\\x90R\\xc7\\x1e\\t\\xa7\\xfbG\\x85\\x1e\\x81\\xcd\\x19\\xff\\xb5\\n\\x9a[\\xc4H{\\xb5U\\x83\\x1b\\x02&\\xe8)7\\xf9h\\x85r<\\x1ad\\xe8jo\\x14_oUz5\\x93~\\x91\\x9fV\\x96\\xbe\\x05n!\\x8fJ\\x0e\\xcbR\\x9c77\\xfe\\xe3\\xcd\\xe9\\xab\\xb1\\xd0\\xa4\\x10\\x01\\x95D\\x9a\\xbe5\\xd6V\\xff\\xff\\xff\\xdd\\xff\\xfbR\\xc4t\\x80\\np\\x87u\\xac0g\\xf1Z\\x99\\xad\\xf4\\xf3\\x9a\\xaeJr2\\x8d\\xb4\\xf3\\xbf\\xa52k8\\xc3Jm\\xdf\\xcb5\\xe4\\x920LD\\x06=\\xed\\x02\\xa5*\\x84\\x14\\x06a\" \\x8a\\xfb\\x84NhF\\x18\\x1dQ\\xfa1\\xd0\\x82\\xc6+\\xd0\\x0e\\x0b\\xf0<\\xda\\xa2|B2\\xe2j\\xf1\\x0c\\xb8\\xb9\\xf8\\x9d.\\xba\\xfb\\t\\x87D\\xbb!=h\\t\\xa2\\xfd\\x19\\xcf/\\xff\\xff\\xb7\\xfb\\xa5\\xdc2\\xd4k\\xff\\x91\\xbc\\xc8\\x00\\xf1\\xd4\\x1a\\r\\xff\\xda\\x845o\\xbc\\xf6\\xa4$\\x162B\\x0e@\\x10\\x02\\x028\\xcb\\x027\\xa8\\x1a\\xda\\x12\\x1d\\x04F\\x9c\\x9b\\x89\\r\\xa4\\x90\\x8fQL\\xfc\\xb7=u\\xb1\\x0e)\\x8a\\xa3Q\\x91tvB<\\xd1f\\xfbW*\\xa0\\x95g\\x7f\\x91\\xff\\xff\\xfe\\x9f7\\xa6\\xe8E_\\xff\\xff\\xfdzuc+Q\\x0edU\\xa5\\xbf\\xff\\x7fd\\xff\\xfbR\\xc4}\\x00\\x0bh\\xd1_L0\\xae\\xd1J\\x99m|\\xf4\\x894J+\\xb9I\\xb3\\x9c\\xd2\\xbaY\\xc1\\x19@\\xa7\\x1em\\xcc\\x02,Yn\\xae\\xc8\\x00,\\x8a\\x15Fj`p\\x8f\\x94q\\x06\\x8c\\xa6M\\xce\\x9fX\\x91\\x0c\\xaf\\x9a\\xd8P\\x18\\xab\\xce\\x04\\x05\\x07\\xd8\\xf2\\tRA7\\xa0\\xa8.\\xdf\\xfck\\x83g\\xd04N\\x12$\\xdb\\xbf\\xe3\\xaf\\xae\\x89\\x90\\xd3T\\xef\\xfc\\x84\\xc8\\xb2Ee\\xdc*\\r\\x06\\xaa\\x80\\x07\\xc6\\xee\\xc7 L\\xf6]\\xe0&B\"\\\\TN\\x1f\\x89\\xe0\\xb0\\xe4 \\x96b\\xf0\\rSRa\\xc5O\\xda\\xa8&\\xa0\\xb3=7S\\xac\\xd7(\\x91\\x18\\xef\\xe7\\xaa\\t\\x81\\t\\x02p\\x98>\\xf0\\xc7\\xb9\\xcb\\x11\\x08\\x0684\\xd1r\\x7f\\xff\\x1e}\\xcf\\xf78\\xba\\xff\\xf3\\x8ac\\xd4xKQ\\x00$Mt)\\x00\\x0em\\xa1\\x83#0\\xaaN\\xa7\\xff\\xfbR\\xc4\\x84\\x00\\n\\xd9\\x8fUL\\xb0G\\xc1B\\t\\xac=\\x87\\x88hV\\x8e\\x89\\xa7\\xa2Z\\x943\\x17LB\\x004-\\xbc\\\\\\xb7oJWwtEF}\\xca1F\\x11\\x05\\x88\\xac\\xf6D(\\xd7\\x98\\xe8\\xc8\\xc3\\xe1=\\x07\\x07\\x86\\xf2\\x85\\xac\\xab1X\\xf3\\xd5P\\x9b\\xd2\\xea\\xffD_\\xff\\xff\\x9f\\xd8\\xa1R\\xe4\\xec\\xdd\\xb6P5\\x87\\x98vI^\\xa8U\\x05b\\x07G<\\xc8s\\xa3\\xa9\\x8d\\xc14\\xa7,k\\x80\\x8b\\x8a3\\xdf\\xf6#\\xa1\\x1a\\x88 o\\xa5\\x90`gBr_d}\\xaeP\\x86\\x01u\\x1d\\xf4`{]\\xd1\\n\\xeb\\xdc\\xcc\\xd2\\x81\\xa8\\x04\\xeaa\\xfa\\xf9\\xdb\\x7f\\xcd\\x89\\xba\\xb8\\t\\x1fZ\\xa8sI\\x00\\t\\xd2\\xcb\\xb3\\x10\\x00>]$B\\xa5\\xaa\\xe5O\\xbf\\xb6!\\xa9l\\xdd\\x90\\x00\\x16\\x03\\xa3#2n\\x9c\\xc2]\\x16W\\xab\\xbcL\\x98\\xff\\xfbR\\xc4\\x8e\\x00\\n\\x14sa\\xec0c\\x81T\\xa1\\xeb=\\x86\\x1c\\xb0\\xe9{+\\xa4\\xad\\\\W/ \\xb1a\\xfcg:qN\\xa4V(6)Fust\\xd6\\x9f\\x9b:\"w]\\x7f\\xff\\xec\\x84tRt\\x13\\x82b\\x97F\\xd5Q\\x94SQM\\x00\\x02g\\x9a\\x962\\x00E\\xc9\\xa5\\x07p\\x14\\xdb\\x08d3\\x1fk\\x12%a.;\\x9e\\x1eD\\xc4\\x8c\\xb2\\xb2\\x15\\xf75\\xdf\\xe1#\\xcem\\xb2Y\\x0e\\xa1\\x18\\xe5%\\xbb\\xffq\\x1e\\xac\\t\\xfd?\\xff\\xaf[\\xf2\\xe4\"\\xb2:?\\xfe\\xf3*\\xead\\xab\\xbb\\xf7\\xf6\\xdd\\x1d\\x1c\\x8c\\xc0\\x80C\\x86\\x7f\\xd3\\xc4\\xe0\\x17\\xee\\xb2\"\\x02e7\\x11\\x17@\\xfc\\xa4\\xc2\\x99 \\x96\\x05\\xa1r\\x17\\xe9\\xc1{\\xcf\\x07\\x8b<\\xd1J<0\\x97\\\\\\x88A@c\\x0fFw+\\x11\\xbf\\xd8r\\tJ\\xb0\\xcfi\\x90{\\x7f\\xff\\xff\\xfbR\\xc4\\x99\\x00\\n\\x05\\x13o\\xc7\\x98L\\xb1^%\\xaa\\xb9\\x84\\x89x\\xff\\xdd\\x90]\\xbd\\xff\\xf6t\\xbb\"\\xdbg%\\'\\xc1\\x1c\\xca\\xe2\\xc3\\x18\\xc6h\\x91\\xc7\\xaaj\\xff\\xfb\\x1c\\xa7SG\\tDcPG\\xaf\\x99\\x001\\xb9\\xca\\x98B]\\xf2\\xa9\\xb9\\xd8\\x0f%\\xc2X\\xc356\\x94\\x02\\x01\\xc4`!\\x04\\x01R8$\\xe65\\x85\\xf9\\x92\\x7f5\\x04\\xda\\xd1Q\\x8cb\\xa9\\x13\\x14\\x8e\\xd7\\xa6\\x86{\\xcb\\xe4\\xda\\xb6,\\xa1/\\xf9h\\nd2\\x11\\x15{\\xbf\\x9a\\x97\\x97\\x7f\\xe4K\\x894}<3q\\xf0v\\xa0B\\xdb\\xddR\\xde\\xa3X\\xc0\\x1a\\xcb\\x8e\\x8bF\\xe1B\\x03\\x91\\xc0\\xa3?\\t\\xea\\xc3Ff(q\\x84\\x8cb\\t\\x7f\\xe1VulS\\xb1\\x99S\\xe6\\xe8l{\\xbb\\x19\\xffe`4\\xff\\xff\\xff\\xa5\\\\P\\x19-?\\xeacI\\x13@\\xb7pD#\\xff\\xfbR\\xc4\\xa3\\x00\\nm/[\\xe7\\x98M\\x81u\\xaflu\\x07\\x88k\\x0c\\x06\\x84B3\\x17j\\xa0N\\xb02\\xd2y\\r\\xcd\\xf6\\xd5$\\xe5H\\x97\\x83\\xe0\\xcaU8\\tQqt\\xfc\\x02\\xb6\\x11$#b\\x01~\\xb0z\\xae{<\\xe3G!]g\\x03\\x02\\x04z\\xae\\xafl\\xe9`\\xec\\xdeU\\xba\\x00\\x87\\x0c\\xbf\\xff\\xfe\\xf6\\xd6!\\xd8\\xc6\\xf4\\xff\\xff\\xd7\\xd8\\x19\\x81\\'\\n\\xad\\x8aa\\xd1@\\x12\\x80I\\xfd\\xd0U\\x86C&A2\\xd9\\xacD\\xbbTM\\xf1v\\x1a\\x8b\\xb7C\\xf8\\xe3\\x1cD\\xee:EV\\x92})\\xa3\\xec\\x12\\x88\\xc0\\x8e8\\xcfaB\\xe5\\xde\\xad(\\xe1o\\xdb\\xc7\\x15\\xc68\\xa0x~\\xc5\\x94\\x15Ns\\xeb\\xff\\xff\\xebJ\\xc3\\xc3\\x0e\\xc2\\x8c/\\x1b\\xff\\xc5Ba\\x1d;F\\x03\\xe4^a\\xff\\xad.S\\x98I\\x07\\x00\\x01\\xc1\\x04\\xad\\x13_\\x90\\xff\\xfbR\\xc4\\xa8\\x80\\n\\x10\\x89e\\xe7\\x98m\\x01E\\x19-\\xf0\\xf3\\t\\xe6\\xf9X\\x93\\xd6$kq{\\x0e\\xf0\\xa2$<\\xf8^\\x90u\\x02\\x8a#\\\\]qc3\\x94\\xb6\\x8e\\xb8\\x98\\x94`\\x95\\xa8\\x8e\\xc8\\x82,\\x0e\\xac\\xf1\\xdf\\xe6yF\\x1c\\xc8g\\xff\\xff\\xfdH\\xa5+\\x0c\\x1e\\xfa7\\xff\\xfej2J\\x84\\xa9\\xec\\xf5\\xa2HQ\\xf3\\x0fu\\xbf\\xbet4\\t\\x88\\xe6\\xbb5Sv\\xb2K\\xc9\\x01\\x05ZR\\xaa\\x13\\xf54h\\xac\\xa1\\xf0\\x91l\\'Rq\\xda\\xb2N{\\x1d\\x00\\x91\\xa0\\xe2\\x05\\x15\\xb4\\xce\\xc2\\x82\\xbf\\xea\\x94v\\x90\\x10\\xd1\\xf7f\\x0f\\x9e\\xce\\xe9\\xff\\xff\\xfc\\xe3\\x8a\\xd33\\xe9\\xed\\xff\\xff\\xfca\\x1d\\x92\\xdd\\xfe\\xe6\\xb9\\xd9\\x8ao\\xff\\xfb\\x15\\x0f\\xa6 \\x10E\\x88U\\x04d\\xe6\\xcd\\x85_\\x00\\xe0*\\xb2T3\\xa2\\xd2\\xa9%A\\xc0\\xab\\x1c~\\x00\\xbaO\\xff\\xfbR\\xc4\\xb5\\x80\\ni\\ru\\xa7\\xb0E\\xb1J\\x1a\\xad4\\xf3\\x15\\xd2\\xc2\\xd44\\xab\\xfb\\x8c\\xfa\\xcc\\xed\\x86\\xb02\\xb6\\xab\\x9eS\\xe7Qh\\xde\\xacJ\\x99\\x7f\\xff\\xff\\xca\\xd4\\x94\\xea\\x0f>\\x8d\\xff\\xff\\xfd\\xdf\\xcf\\xf2\\x953\\x91\\n%\\x02\\xb3O\\xff\\xfd\\xf87A\\xc8\\x1e\\xb4\\xe2\\xb9dj\\xd4\\x9c\\x88\\x82\\xa4\\x05\\x102\\x80\\x13\\x0e\\xe5q\\xa2\\xe4d\\xbcBKs]S\\xab\\x11e\\x04\\xdbs\\xda\\xcf$^\\xda,e.\\x18\\xca_m\\xe8W3\\x0b\\x91:\\x8a\\x91\\xe6\\x7f\\xff\\xff\\xa5n\\xa4B\\xda\\x8f\\xdb\\xff\\xff\\xebT\\xba\\xff$\\xc6u\\x94\\xe0\\x92\\xd1\\x12\\x7f\\xa8\\xdaK\\x08F\\xd5\\x05\\xb8\\x9a\\n$\\x9c \\x01J#:\\x06\\xce2F\\x14\\x91QwzF\\xd6\"\\xaeTn\\xbb\\x8b\\x10\\xb3\\x01n\\xd7\\x91\\x18\\xce\\xf0~\\x92?(\\xed7D\\x8c\\x9b\\x8f<\\xaa\\xff\\xfbR\\xc4\\xc0\\x80\\n\\xe51L\\xec\\xa4\\xa7\\xc1G.-\\xb4\\xf1\\x96\\x0e\\x8f\\xb8\\xc0VN\\x83q\\x82\\xec\\xa4\\x1eR\\xd1_\\xff\\xd35\\x1f+\\x1a\\x8bA\"\\xff\\xf4:\\xd1)g\\xca\\x8d\\x06\\x94<\\x91\\x8e\\xc0\\xc2\\xb2=s\\xb5\\xe58:B\\xac.U\\x04\\xc4\\xcfB\\xd9\\x1a\\x04\\xb1\\xd7\\xd8\\x1e\\x88\\x85t\\xc3\\x13k:\\x94u\\xbd\\xb7r\\x8c\\xd5\\xa7\\x97}YC\\x07kF1o~$&F\\x13\\x8cA\\xf0\\xf1\\xa5\\xff\\xa8*tX\\x1b0\\xeb\\xbd\\n$<s\\x84(\\x02\\x86\\x9c\\xbf\\xd7\\xff\\xeb,4$\\x00\\r\\xb7\\xfd\\x86\\x9f\\x13\\xb0L\\xd8\\xe5?\\x1a\\x1bK\\x92\\x10,O\\xa5/\\xc0>\\x88\\xb41cK\\x92C\\x12G+\\xa1\\xb3+\\xdfx\\xae\\xf4\\xef\\nu\\xa3;\\xbc0\\xa2\\xcf\\xa7G)P\\x19\\x9d^\\xfa3\\xf5\\xadVw\\xa5\\xf4#\\x12du\\xf5\\xff\\xfbR\\xc4\\xca\\x00\\nmq]\\xe7\\x98KiK&\\xac4\\xf3\\t\\xd6\\xfa\\xbfW\\xb2L\\xe2\\xadj\\x8b\\x90,I\\xb6\\x9a\\xb1\\xab\\x11\\x95\\xc6\\x106\\xc5I%\\x82g\\x04\\x18C\\x9f6\\x82@Ij-\\x15\\x13\\x94\\xf2\\xd4-C\\xda\\x1a\\x86\\xa2~t)\\xdc\\xben\\xb3\\x98\\xd7\\xd8f\\xa6|0\\rN\\x8b\\x8f\\x15H\\xf3\\xa4\\x84\\xa4\\x03V+\\xdc\\xe0\\xb13f\\x87!\\x1f6\\xe1D\\xfd\\xa9\\xec\\xddu\\xbf\\xfaj\\x08\\x10\\x83\\x13\\x04w\\xcd\\xa7\\t=J\\xb3\\x1d\\xa2J\\x1a1\\x87\\xb0\\xff\\n\\xd0X\\x8f\\x04c<X\\xa9Jc\\r\\'<\\xe4\\xd2\\xc9J\\xb3Shf\\x0c \\xaba06\\x84p\\xbf#?\\xf2\\xfeB\\xea\\xcbW\\x04\\xaeGlL\\x85i\\xb5$\\x8b\\x10\\x01H\\x1eY\\xbb\\x82F\\x93b$\\xfd\\x1f\\xbfO\\xe9\\xb1\\x14\\x82Rq\\xc6\\xe3M\\xa4\\x92\\xff\\xfbR\\xc4\\xd4\\x80\\nt\\xdbS\\xac\\x18\\xb0\\xf1I\\x0e)4\\xf6\\x08\\xfceU(\\x04\\xe4\\xd9\\xaf4\\r\\t\\x06\\x8d\\x80\\x96\\xa1\\x06\\xf4\\xc8C\\xedQeN\\x11\\xbdh\\xd39I\\x07\\xd0\\xa1r\\x020}\\x80\\xc1\\x11c#\\x05\\x88\\x00\\xc4x\\xd2\\x8dp\\xe8\\xbe\\xd6\\xd3Z\\x9c\\x8a\\x1b\\xb7\\xa1\\xd3\\xbf\\x8aw\\xff\\xb5\\xb9\\xac\\xe9\\x1a\\x00\\x05\\x92\\x98\\x13 \\xbd\\x95,\\x8e\\xe5\\x06\\x8c@\\xca$\\t\\x1f\\x15&+x\\xc1R1\\x9a@\\xd1H\\x8d\\x12\\x99\\xa9\\xb9\\x13\\xe56\\xa1\\x04\\x93LQ\\xc0\\xbeo-\\x7f\\xde\\x1fK\\xcd\\xbbx{\\xae\\x9f\\x9e\\x8d\\xf2\\xe1\\xe3e\\xe9\\xf6]\\x173\\xa1\\xa1^\\xb3<\\xdd\\xb2\\xf7\\xd6\\xd1\\x13\\x7f+\\xaa\\xcdffq\\xa8\\xf7s\\xa3\\xeaz\\x13w%\\xaa\\xc7^\\xd6\\xb2\\xaa\\x9e\\x99\\xf2|kz\\xe5\\x97\\x8a\\xfe\\xf6\\xd6\\xd8nKo\\xf5\\xc7\\x1b\\xff\\xfbR\\xc4\\xdf\\x80\\t\\xe9\\r;\\x87\\x98O!P\\r\\xa5\\xe8\\xfc%\\x80D\\x97\\x9d,&\\x08e1\\xeb\\x82\\x01\\r@\\xc8)T\\x0e\\xaeY\\xe9\\xd4\\x82\\xc5\\x84\\xcc\\x05\\x8c\\x80\\x86\\n\\xbd\\xe6\\xc2\\xach\\x10L\\xa2\\xc0\\xa3F\\x8b\\xad,\\x12\\n1k\\x108\\x91\\x10\\xdb\\\\\\xe7\\xaf\\xd9\\xa3\\x9c\\xea~\\x8f\\xbf\\x97LAME\\xaa\\xaa\\x10\\xa4\\xdc\\xb67#\\xad%\\xbe\\x1f\\xeb\\xbbR\\x03U\\xb4aV\\xcb\\x02\\xea\\x8b(l\\xbe\\xb1$\\x9bGl\\xa4\\xc7~\\xb0\\xc4\\xccU\\xa23\\xb3\\xbbU\\xb8R\\xe7}\\xb5\\x8c\\xc3\\xebWC\\x82\\x1b\\xd1\\xf0s\\xddB-(\\xef\\x9d,pB>\\xf8\\xe4]\\xab\\n\\x0c$\\xf0\\x05\\xaa&\\xa1u&\\x8b\\x0e^\\xa1\\xf5Va\\xd8\\xca\\x9e\\xb4\\xc5\\xe4^\\x8d!8\\xed\\xdfH\\xdcl\\x90^S\\x02t\\x99\\x1b\\xae\\x14@\\xd4$\\x04\\xa5\\xc2\\xff\\xfbR\\xc4\\xeb\\x80\\n\\xe4\\xc5 \\xa7\\x98p\\x811\\x8bet4\\x99\\x10=\\xde\\xe1p\\xb5\\xd9\\xef\\x18\"\\x9b#\\xbf\\xdd\\x8al\\x8b\\x087\\xa9\\x91\\x82\\xc32a\\x81a\\xa7\\xca\\x8cp\\x8a\\x05\\x12\\xdf\\t!\\xcb \\x8a\\xda\\x8d\\xeefYj\\xbd\\xac\\xeb\\xedv\\x9e\\xff\\xd5\\x00\\x12\\x94\\x8d=V\\x8b~\\xf7\\xca\\n\\xfa]7/\\xc4\\xc2g\\n\\x05\\xc3\\xd1\\x04\\x08\\x10\\xb6D\\xb5)`\\xe7\\xd9upt\\x10\\xcd)\\x8d\\n\\xd4\\xc3\\xa6\\x85\\x81\\xd8\\xfbU\\x16\\x19\\x9c\\xf8m\\x8e\\x96\\xb1\\x04\\xf5\\x8b\\xc7\\xe8\\xc3\\xce\\xe6\\x97\\r\\r\\xb9,T\\xdf\\xb3\\x9f\\xc3\\xcb\\xe9\\xefC\\x18\\xb2\\xc8yT\\xbd6\\xbb\\xa9\\x91\\x0c\\xe6\\xa1\\xab\\x9f])\\xf2\\xaa\\xb3\\x17\\xef\\x1e\\xa7\\x98\\xb4\\xe9\\xcaJ\\x98\\x87\\xc4\\xab\\xfb\\xcc@\\x06\\xe4Ud\\x06\\xb7\\x12\\x92\\xf2\\x8e\\xbae\\x17X,\\x08\\xa0\\x14\\xa16\\t\\xff\\xfbR\\xc4\\xf7\\x80\\x0e\\x15u\\x1b\\x04\\x98S\\xc9\\x19\\x8af\\xb4\\x10\\x8c\\x0c\\x8f\\x05\\x079\\x10\\xc7\\xe1\\xf06\\'\\x03\\xa6\\xc7\\x93-\\xd3\\ts\\xd0\\xaa\\xa8\\xe5\\x92\\x85\\xb1\\xe4\\nl\\x84\\xb5\\xe5\\xfa\\x9a\\xben[\\x02,\\xd40\\xe7\\xd0\\xeb\\xb5\\x0f\\x86\\xb73\\x86?\\x18\\xf3\\x98\\xed@x\\xaa\\x11\\xee,<K;\\x15rE\\xc9-V\\x98\\xac\\xcbIL)\\x82\\xb5WC\\xd2\\n\\xcb~\\xfa7$\\x89\\x04\\xf25;\\x88(\\x96\\x12\\xb0\\x0e\\x13-\\x01AdAy\\xe6\\x10\\x9b!\\x02\\xc5\\xc9]\\xc8\\xd1\\xfa\\x1d\\xca\\xc1\\x90\\xa1R9;\\xc6\\xa0\\xcd\\xa0\\xb9\\xa3\\xd9T\\xa4\\x81\\xf1g\\xcb\\xe7\\x19`\\xba\\x1e\\x1eP\\xa2D\\x0cE6\\xa7\\xfb\\xebu]T\\xd9\\x91\\x01&\\xdcm\\xa6\\x94I\\x15\\xb2\\xf6\\x85\\xa4X\\xa8\\xc9R\\x03\\x88\\xd9,\\x95\\xc9E\\xc2\\xe0\\xd2W&\\xafMv\\xd0\\xff\\xfbR\\xc4\\xf7\\x00\\x0c\\x0c\\xd1)\\xa3$o\\x81*\\x11ft\\x13\\r4\\xa1\\'H\\x17\\xb2\\x03I\\r\\xb0\\x18\\x01\"\\xcd$pAlE\\x97\\xf5\\xfa\\x15\\xdd\\'\\xd84\\x8c\\xd1\\xd0I\\xf6Ii\\x98v\\x8b\\x94OT\\xb4\\x86\\xfd\\xbc=\\x0c\\x8d<\\xdfwF#\\xcc\\x8d\\xd6\\x99h\\x93N\\x97\\xc5{?\\xbf\\xe2\\xcd\\x16\\x7f\\xdbL\\xdb\\xa7\\x1b$\\xcbU5\\xf5\\x93\\xb9\\xda\\n9v\\xd1\\xc7\\x1ad\\x14|\\x82A\\xcc\\x96-\\xb6]\\xa7\\xa1#B%f\\x0c\\xb6\\xef:\\xf1\\xc6\\xc5\\x1aQF\\xa0+& \\xe0\\xd4!\\xf0hi\\x90\\xf9\\xeb\\xd8\\xc5-,0\\xa6\\x81a\\xa4_{\\x9e\\x97%\\xc8C4\\x15\\xbf\\xf5N\\xd8\\xef\\xbdZ\\xd3E\\xfd\\x17(\\x04\\xd2\\xd2\"\\x92\\x91\\xb4\\x9a\\xfbt\\x85s<\\xc6\\x82\\x00P\\x11;l\\xed!\\xc9D\\xe5\"\\xc4\\x91a)\\xb0\\xd4\\x04\\xff\\xfbR\\xc4\\xff\\x80\\x0e)]!\\x84\\x98S\\xc9\\x96\\x9c\\xe3\\xe4\\x93\\x0e(q\\x99\\x0cH3\\xeb\\xc01E\\x15\\xe5_\\xe07\\xde\\x88 \\xc2\\xf1\\xbc\\x89\\xc4PB\\xc88+\\x90\\xd5\\xa5\\x96\\xd9\\xb2\\xcf\\xae+\\xa7\\xb2\\xd9=\\xdf\\xdb5\\xdez\\x9c\\xe7\\xff\\xff\\xcd\\xa9\\xed\\xfb\\x92\\xf34\\xa7\\xff\\x9cR\\xb9\\x87!k/\\xb9\\xbfyj\\x12Y~\\xf2\\'%\\xad8\\x7fVQ1j\\xf4\\x05\\x96m\\xa2(pRmZ\\xecuv(k\\xce\\xad(\\xd5\\x7f\\xea\\xc6\\xfe\\x13\\x1f\\xb3}\\xd8\\xd5\\x00\\x98\\x9d\\x81\\xca\\x84\\xa5\\x9f,UEP\\xcf-_\\xff=\\xff\\x19\\x96\\xd7\\xfd@\\x00ji\\x1a\\xaaZ#\\xe1B|\\x19\\xd9\\x80\\x89\\x17\\x04\\xc0\\x91\\xb3\\x82\\x8c\\xe0\\xcfAx&2\\xe0\\xbe:\\xa0\\xd631\\xc9AR\\x07TIP\\x16\\x03`\\xd3\\xc0\\xaa\\x93\\xa1V\\x10\\xee\\x8am\\xff\\xfbR\\xc4\\xf2\\x00\\t\\x80\\x895\\xa0\\x98c\\xe1\\xbe\\x14d\\xb4\\x96\\x19\\x99\\xc6\\x04\\xd8n\\x1d4\\xaa\\xb3P\\xe2\\x82\\xcb\\x05|\\x81\\xa8\\xca\\x16\\xac\\x95\\x85\\x1b\\x19\\xcc5w\\xb0\\xcc\\xccS \\xe2\\xf4\\xcef\\x93i\\xe4\\x13\\xd5_n&m\\xd1\\xd5\\xb00\\xfa\\xfd\\xbe\\xfa\\x97\\xaa\\x00\\x06\\xa0F\\x89HJ\\xcf\\x82\\x10\\x998\\xdb\\x8eE2\\x828\\xf3,\\xc9\\xb8>\\xd8\\x80\\xb2\\xf0%\"\\xa1=*:f\\x9f\\x88m\\xecH,\\xcd\\n\\x8aL\\x13\\x19\\xa2\\xbb>\\x889\\x90\\x95\\x9d\\xa8AC\\x90\\xe1\\x82\\x1b\\xb2nF\\xf0\\xab\\xc4\\xa8\\xaa\\r\\x0b\\x16\\x14\\xd9\\x1f\\xbe\\xe8@\\xc3\\x80 \\xe3\\x87\\x8a3\\xb0l8\\xa31\\xb7bRZdT\\xccZ\\x12\\x8a\\xf0\\x15\\x80\\xf3\\ti\\x88-}\\xbc\\x8a\\xe1\\xb3V\\x8a\\x08.\\r\\x16=#\\xc8)7i\\xbdv\\x96%\"JT\\xa0\\x11\\xff\\xfbR\\xc4\\xf2\\x00\\tXc3\\xa1\\xa4i\\xa1\\x96\\x13\\xe54f\\rY\\xe1%\\x12\\xa2`H{\\x94\\xf1\\xe3\\x1e\\xe9\\x12IIR\\xcb,Yj]K,T\\xaa\\x87\\xf2B!(\\x94DT\\xb0\\xe1\\xe3\\x1e\\xe9\\x11)\\x12eS\\xc8\\x92\\x0e\\x9d:\\xcf<u\\xf9\\x11(\\x94\\x8f\\x9d<u\\xdc(=\\xcf$H\\x89$\\xe7O4\\x95LAME3.100UUUUUUUUUUUUUUUUUUUUUUUUUUUUUUUUUUUUUUUUUUUUUUUUUUUUUUUUUUUUUUUUUUUUUUUUUUUUUUUUUUUUUUUUUUUUUUUUUUUUUUUUUUUU\\xff\\xfbR\\xc4\\xf7\\x80\\x08\\x0c\\xa17\\xa1\\x98la\\xb1\\xa5b0\\xf1\\x0cEUUUUUUUUUUUUUUUUUUUUUUUUUUUUUUUUUUUUUUUUUUUUUUUUUUUUUUUUUUUUUUUUUUUUUUUUUUUUUUUUUUUUUUUUUUUUUUUUUUUUUUUUUUUUUUUUUUUUUUUUUUUUUUUUUUUUUUUUUUUUUUUUUUUUUUUUUUUUUUUUUUUUUUUUUUUUUUUUUUUUUUUUUUUU\\xff\\xfbR\\xc4\\xff\\x02\\x0f\\xd9\\x99\\x00G\\x98k\\x897\\x82a(c\\x0c\\x0cUUUUUUUUUUUUUUUUUUUUUUUUUUUUUUUUUUUUUUUUUUUUUUUUUUUUUUUUUUUUUUUUUUUUUUUUUUUUUUUUUUUUUUUUUUUUUUUUUUUUUUUUUUUUUUUUUUUUUUUUUUUUUUUUUUUUUUUUUUUUUUUUUUUUUUUUUUUUUUUUUUUUUUUUUUUUUUUUUUUUUUUUUUUU'"
      ]
     },
     "execution_count": 8,
     "metadata": {},
     "output_type": "execute_result"
    }
   ],
   "source": [
    "# keeps on streaming...\n",
    "from elevenlabs import generate, stream\n",
    "\n",
    "def text_stream():\n",
    "    yield \"Hi,\"\n",
    "    yield \"How are you?\"\n",
    "      \n",
    "audio_stream = generate(\n",
    "    text=text_stream(),\n",
    "    voice = \"Nicole\",\n",
    "    stream = True\n",
    ")    \n",
    "stream(audio_stream)"
   ]
  },
  {
   "cell_type": "code",
   "execution_count": null,
   "id": "3e532825",
   "metadata": {},
   "outputs": [],
   "source": []
  },
  {
   "cell_type": "code",
   "execution_count": 6,
   "id": "1d0405dd",
   "metadata": {},
   "outputs": [
    {
     "ename": "AssertionError",
     "evalue": "connection isn't closed yet",
     "output_type": "error",
     "traceback": [
      "\u001b[0;31m---------------------------------------------------------------------------\u001b[0m",
      "\u001b[0;31mKeyboardInterrupt\u001b[0m                         Traceback (most recent call last)",
      "File \u001b[0;32m~/anaconda3/lib/python3.10/site-packages/elevenlabs/api/tts.py:96\u001b[0m, in \u001b[0;36mTTS.generate_stream_input\u001b[0;34m(text, voice, model, api_key)\u001b[0m\n\u001b[1;32m     95\u001b[0m data \u001b[38;5;241m=\u001b[39m \u001b[38;5;28mdict\u001b[39m(text\u001b[38;5;241m=\u001b[39mtext_chunk, try_trigger_generation\u001b[38;5;241m=\u001b[39m\u001b[38;5;28;01mTrue\u001b[39;00m)\n\u001b[0;32m---> 96\u001b[0m \u001b[43mwebsocket\u001b[49m\u001b[38;5;241;43m.\u001b[39;49m\u001b[43msend\u001b[49m\u001b[43m(\u001b[49m\u001b[43mjson\u001b[49m\u001b[38;5;241;43m.\u001b[39;49m\u001b[43mdumps\u001b[49m\u001b[43m(\u001b[49m\u001b[43mdata\u001b[49m\u001b[43m)\u001b[49m\u001b[43m)\u001b[49m\n\u001b[1;32m     97\u001b[0m \u001b[38;5;28;01mtry\u001b[39;00m:\n",
      "File \u001b[0;32m~/anaconda3/lib/python3.10/site-packages/websockets/sync/connection.py:281\u001b[0m, in \u001b[0;36mConnection.send\u001b[0;34m(self, message)\u001b[0m\n\u001b[1;32m    280\u001b[0m \u001b[38;5;28;01mif\u001b[39;00m \u001b[38;5;28misinstance\u001b[39m(message, \u001b[38;5;28mstr\u001b[39m):\n\u001b[0;32m--> 281\u001b[0m     \u001b[38;5;28;01mwith\u001b[39;00m \u001b[38;5;28mself\u001b[39m\u001b[38;5;241m.\u001b[39msend_context():\n\u001b[1;32m    282\u001b[0m         \u001b[38;5;28;01mif\u001b[39;00m \u001b[38;5;28mself\u001b[39m\u001b[38;5;241m.\u001b[39msend_in_progress:\n",
      "File \u001b[0;32m~/anaconda3/lib/python3.10/contextlib.py:135\u001b[0m, in \u001b[0;36m_GeneratorContextManager.__enter__\u001b[0;34m(self)\u001b[0m\n\u001b[1;32m    134\u001b[0m \u001b[38;5;28;01mtry\u001b[39;00m:\n\u001b[0;32m--> 135\u001b[0m     \u001b[38;5;28;01mreturn\u001b[39;00m \u001b[38;5;28;43mnext\u001b[39;49m\u001b[43m(\u001b[49m\u001b[38;5;28;43mself\u001b[39;49m\u001b[38;5;241;43m.\u001b[39;49m\u001b[43mgen\u001b[49m\u001b[43m)\u001b[49m\n\u001b[1;32m    136\u001b[0m \u001b[38;5;28;01mexcept\u001b[39;00m \u001b[38;5;167;01mStopIteration\u001b[39;00m:\n",
      "File \u001b[0;32m~/anaconda3/lib/python3.10/site-packages/websockets/sync/connection.py:710\u001b[0m, in \u001b[0;36mConnection.send_context\u001b[0;34m(self, expected_state)\u001b[0m\n\u001b[1;32m    709\u001b[0m \u001b[38;5;28mself\u001b[39m\u001b[38;5;241m.\u001b[39mclose_socket()\n\u001b[0;32m--> 710\u001b[0m \u001b[38;5;28;43mself\u001b[39;49m\u001b[38;5;241;43m.\u001b[39;49m\u001b[43mrecv_events_thread\u001b[49m\u001b[38;5;241;43m.\u001b[39;49m\u001b[43mjoin\u001b[49m\u001b[43m(\u001b[49m\u001b[43m)\u001b[49m\n\u001b[1;32m    711\u001b[0m \u001b[38;5;28;01mraise\u001b[39;00m \u001b[38;5;28mself\u001b[39m\u001b[38;5;241m.\u001b[39mprotocol\u001b[38;5;241m.\u001b[39mclose_exc \u001b[38;5;28;01mfrom\u001b[39;00m \u001b[38;5;21;01moriginal_exc\u001b[39;00m\n",
      "File \u001b[0;32m~/anaconda3/lib/python3.10/threading.py:1096\u001b[0m, in \u001b[0;36mThread.join\u001b[0;34m(self, timeout)\u001b[0m\n\u001b[1;32m   1095\u001b[0m \u001b[38;5;28;01mif\u001b[39;00m timeout \u001b[38;5;129;01mis\u001b[39;00m \u001b[38;5;28;01mNone\u001b[39;00m:\n\u001b[0;32m-> 1096\u001b[0m     \u001b[38;5;28;43mself\u001b[39;49m\u001b[38;5;241;43m.\u001b[39;49m\u001b[43m_wait_for_tstate_lock\u001b[49m\u001b[43m(\u001b[49m\u001b[43m)\u001b[49m\n\u001b[1;32m   1097\u001b[0m \u001b[38;5;28;01melse\u001b[39;00m:\n\u001b[1;32m   1098\u001b[0m     \u001b[38;5;66;03m# the behavior of a negative timeout isn't documented, but\u001b[39;00m\n\u001b[1;32m   1099\u001b[0m     \u001b[38;5;66;03m# historically .join(timeout=x) for x<0 has acted as if timeout=0\u001b[39;00m\n",
      "File \u001b[0;32m~/anaconda3/lib/python3.10/threading.py:1116\u001b[0m, in \u001b[0;36mThread._wait_for_tstate_lock\u001b[0;34m(self, block, timeout)\u001b[0m\n\u001b[1;32m   1115\u001b[0m \u001b[38;5;28;01mtry\u001b[39;00m:\n\u001b[0;32m-> 1116\u001b[0m     \u001b[38;5;28;01mif\u001b[39;00m \u001b[43mlock\u001b[49m\u001b[38;5;241;43m.\u001b[39;49m\u001b[43macquire\u001b[49m\u001b[43m(\u001b[49m\u001b[43mblock\u001b[49m\u001b[43m,\u001b[49m\u001b[43m \u001b[49m\u001b[43mtimeout\u001b[49m\u001b[43m)\u001b[49m:\n\u001b[1;32m   1117\u001b[0m         lock\u001b[38;5;241m.\u001b[39mrelease()\n",
      "\u001b[0;31mKeyboardInterrupt\u001b[0m: ",
      "\nDuring handling of the above exception, another exception occurred:\n",
      "\u001b[0;31mAssertionError\u001b[0m                            Traceback (most recent call last)",
      "Cell \u001b[0;32mIn[6], line 18\u001b[0m\n\u001b[1;32m     11\u001b[0m text_stream \u001b[38;5;241m=\u001b[39m write(\u001b[38;5;124m\"\u001b[39m\u001b[38;5;124mA one-sentence relaxing speech.\u001b[39m\u001b[38;5;124m\"\u001b[39m)\n\u001b[1;32m     13\u001b[0m audio_stream \u001b[38;5;241m=\u001b[39m elevenlabs\u001b[38;5;241m.\u001b[39mgenerate(\n\u001b[1;32m     14\u001b[0m     text\u001b[38;5;241m=\u001b[39mtext_stream,\n\u001b[1;32m     15\u001b[0m     voice\u001b[38;5;241m=\u001b[39m \u001b[38;5;124m\"\u001b[39m\u001b[38;5;124mNicole\u001b[39m\u001b[38;5;124m\"\u001b[39m,\n\u001b[1;32m     16\u001b[0m     stream \u001b[38;5;241m=\u001b[39m \u001b[38;5;28;01mTrue\u001b[39;00m,\n\u001b[1;32m     17\u001b[0m )\n\u001b[0;32m---> 18\u001b[0m \u001b[43melevenlabs\u001b[49m\u001b[38;5;241;43m.\u001b[39;49m\u001b[43mstream\u001b[49m\u001b[43m(\u001b[49m\u001b[43maudio_stream\u001b[49m\u001b[43m)\u001b[49m\n",
      "File \u001b[0;32m~/anaconda3/lib/python3.10/site-packages/elevenlabs/utils.py:74\u001b[0m, in \u001b[0;36mstream\u001b[0;34m(audio_stream)\u001b[0m\n\u001b[1;32m     65\u001b[0m mpv_process \u001b[38;5;241m=\u001b[39m subprocess\u001b[38;5;241m.\u001b[39mPopen(\n\u001b[1;32m     66\u001b[0m     mpv_command,\n\u001b[1;32m     67\u001b[0m     stdin\u001b[38;5;241m=\u001b[39msubprocess\u001b[38;5;241m.\u001b[39mPIPE,\n\u001b[1;32m     68\u001b[0m     stdout\u001b[38;5;241m=\u001b[39msubprocess\u001b[38;5;241m.\u001b[39mDEVNULL,\n\u001b[1;32m     69\u001b[0m     stderr\u001b[38;5;241m=\u001b[39msubprocess\u001b[38;5;241m.\u001b[39mDEVNULL,\n\u001b[1;32m     70\u001b[0m )\n\u001b[1;32m     72\u001b[0m audio \u001b[38;5;241m=\u001b[39m \u001b[38;5;124mb\u001b[39m\u001b[38;5;124m\"\u001b[39m\u001b[38;5;124m\"\u001b[39m\n\u001b[0;32m---> 74\u001b[0m \u001b[38;5;28;01mfor\u001b[39;00m chunk \u001b[38;5;129;01min\u001b[39;00m audio_stream:\n\u001b[1;32m     75\u001b[0m     \u001b[38;5;28;01mif\u001b[39;00m chunk \u001b[38;5;129;01mis\u001b[39;00m \u001b[38;5;129;01mnot\u001b[39;00m \u001b[38;5;28;01mNone\u001b[39;00m:\n\u001b[1;32m     76\u001b[0m         mpv_process\u001b[38;5;241m.\u001b[39mstdin\u001b[38;5;241m.\u001b[39mwrite(chunk)  \u001b[38;5;66;03m# type: ignore\u001b[39;00m\n",
      "File \u001b[0;32m~/anaconda3/lib/python3.10/site-packages/elevenlabs/api/tts.py:84\u001b[0m, in \u001b[0;36mTTS.generate_stream_input\u001b[0;34m(text, voice, model, api_key)\u001b[0m\n\u001b[1;32m     72\u001b[0m BOS \u001b[38;5;241m=\u001b[39m json\u001b[38;5;241m.\u001b[39mdumps(\n\u001b[1;32m     73\u001b[0m     \u001b[38;5;28mdict\u001b[39m(\n\u001b[1;32m     74\u001b[0m         text\u001b[38;5;241m=\u001b[39m\u001b[38;5;124m\"\u001b[39m\u001b[38;5;124m \u001b[39m\u001b[38;5;124m\"\u001b[39m,\n\u001b[0;32m   (...)\u001b[0m\n\u001b[1;32m     80\u001b[0m     )\n\u001b[1;32m     81\u001b[0m )\n\u001b[1;32m     82\u001b[0m EOS \u001b[38;5;241m=\u001b[39m json\u001b[38;5;241m.\u001b[39mdumps(\u001b[38;5;28mdict\u001b[39m(text\u001b[38;5;241m=\u001b[39m\u001b[38;5;124m\"\u001b[39m\u001b[38;5;124m\"\u001b[39m))\n\u001b[0;32m---> 84\u001b[0m \u001b[38;5;28;01mwith\u001b[39;00m connect(\n\u001b[1;32m     85\u001b[0m     \u001b[38;5;124mf\u001b[39m\u001b[38;5;124m\"\u001b[39m\u001b[38;5;124mwss://api.elevenlabs.io/v1/text-to-speech/\u001b[39m\u001b[38;5;132;01m{\u001b[39;00mvoice\u001b[38;5;241m.\u001b[39mvoice_id\u001b[38;5;132;01m}\u001b[39;00m\u001b[38;5;124m/stream-input?model_id=\u001b[39m\u001b[38;5;132;01m{\u001b[39;00mmodel\u001b[38;5;241m.\u001b[39mmodel_id\u001b[38;5;132;01m}\u001b[39;00m\u001b[38;5;124m\"\u001b[39m,\n\u001b[1;32m     86\u001b[0m     additional_headers\u001b[38;5;241m=\u001b[39m{\n\u001b[1;32m     87\u001b[0m         \u001b[38;5;124m\"\u001b[39m\u001b[38;5;124mxi-api-key\u001b[39m\u001b[38;5;124m\"\u001b[39m: api_key \u001b[38;5;129;01mor\u001b[39;00m os\u001b[38;5;241m.\u001b[39menviron\u001b[38;5;241m.\u001b[39mget(\u001b[38;5;124m\"\u001b[39m\u001b[38;5;124mELEVEN_API_KEY\u001b[39m\u001b[38;5;124m\"\u001b[39m)\n\u001b[1;32m     88\u001b[0m     },\n\u001b[1;32m     89\u001b[0m ) \u001b[38;5;28;01mas\u001b[39;00m websocket:\n\u001b[1;32m     90\u001b[0m     \u001b[38;5;66;03m# Send beginning of stream\u001b[39;00m\n\u001b[1;32m     91\u001b[0m     websocket\u001b[38;5;241m.\u001b[39msend(BOS)\n\u001b[1;32m     93\u001b[0m     \u001b[38;5;66;03m# Stream text chunks and receive audio\u001b[39;00m\n",
      "File \u001b[0;32m~/anaconda3/lib/python3.10/site-packages/websockets/sync/connection.py:144\u001b[0m, in \u001b[0;36mConnection.__exit__\u001b[0;34m(self, exc_type, exc_value, traceback)\u001b[0m\n\u001b[1;32m    138\u001b[0m \u001b[38;5;28;01mdef\u001b[39;00m \u001b[38;5;21m__exit__\u001b[39m(\n\u001b[1;32m    139\u001b[0m     \u001b[38;5;28mself\u001b[39m,\n\u001b[1;32m    140\u001b[0m     exc_type: Optional[Type[\u001b[38;5;167;01mBaseException\u001b[39;00m]],\n\u001b[1;32m    141\u001b[0m     exc_value: Optional[\u001b[38;5;167;01mBaseException\u001b[39;00m],\n\u001b[1;32m    142\u001b[0m     traceback: Optional[TracebackType],\n\u001b[1;32m    143\u001b[0m ) \u001b[38;5;241m-\u001b[39m\u001b[38;5;241m>\u001b[39m \u001b[38;5;28;01mNone\u001b[39;00m:\n\u001b[0;32m--> 144\u001b[0m     \u001b[38;5;28;43mself\u001b[39;49m\u001b[38;5;241;43m.\u001b[39;49m\u001b[43mclose\u001b[49m\u001b[43m(\u001b[49m\u001b[38;5;241;43m1000\u001b[39;49m\u001b[43m \u001b[49m\u001b[38;5;28;43;01mif\u001b[39;49;00m\u001b[43m \u001b[49m\u001b[43mexc_type\u001b[49m\u001b[43m \u001b[49m\u001b[38;5;129;43;01mis\u001b[39;49;00m\u001b[43m \u001b[49m\u001b[38;5;28;43;01mNone\u001b[39;49;00m\u001b[43m \u001b[49m\u001b[38;5;28;43;01melse\u001b[39;49;00m\u001b[43m \u001b[49m\u001b[38;5;241;43m1011\u001b[39;49m\u001b[43m)\u001b[49m\n",
      "File \u001b[0;32m~/anaconda3/lib/python3.10/site-packages/websockets/sync/connection.py:399\u001b[0m, in \u001b[0;36mConnection.close\u001b[0;34m(self, code, reason)\u001b[0m\n\u001b[1;32m    382\u001b[0m \u001b[38;5;250m\u001b[39m\u001b[38;5;124;03m\"\"\"\u001b[39;00m\n\u001b[1;32m    383\u001b[0m \u001b[38;5;124;03mPerform the closing handshake.\u001b[39;00m\n\u001b[1;32m    384\u001b[0m \n\u001b[0;32m   (...)\u001b[0m\n\u001b[1;32m    394\u001b[0m \n\u001b[1;32m    395\u001b[0m \u001b[38;5;124;03m\"\"\"\u001b[39;00m\n\u001b[1;32m    396\u001b[0m \u001b[38;5;28;01mtry\u001b[39;00m:\n\u001b[1;32m    397\u001b[0m     \u001b[38;5;66;03m# The context manager takes care of waiting for the TCP connection\u001b[39;00m\n\u001b[1;32m    398\u001b[0m     \u001b[38;5;66;03m# to terminate after calling a method that sends a close frame.\u001b[39;00m\n\u001b[0;32m--> 399\u001b[0m     \u001b[38;5;28;01mwith\u001b[39;00m \u001b[38;5;28mself\u001b[39m\u001b[38;5;241m.\u001b[39msend_context():\n\u001b[1;32m    400\u001b[0m         \u001b[38;5;28;01mif\u001b[39;00m \u001b[38;5;28mself\u001b[39m\u001b[38;5;241m.\u001b[39msend_in_progress:\n\u001b[1;32m    401\u001b[0m             \u001b[38;5;28mself\u001b[39m\u001b[38;5;241m.\u001b[39mprotocol\u001b[38;5;241m.\u001b[39mfail(\u001b[38;5;241m1011\u001b[39m, \u001b[38;5;124m\"\u001b[39m\u001b[38;5;124mclose during fragmented message\u001b[39m\u001b[38;5;124m\"\u001b[39m)\n",
      "File \u001b[0;32m~/anaconda3/lib/python3.10/contextlib.py:135\u001b[0m, in \u001b[0;36m_GeneratorContextManager.__enter__\u001b[0;34m(self)\u001b[0m\n\u001b[1;32m    133\u001b[0m \u001b[38;5;28;01mdel\u001b[39;00m \u001b[38;5;28mself\u001b[39m\u001b[38;5;241m.\u001b[39margs, \u001b[38;5;28mself\u001b[39m\u001b[38;5;241m.\u001b[39mkwds, \u001b[38;5;28mself\u001b[39m\u001b[38;5;241m.\u001b[39mfunc\n\u001b[1;32m    134\u001b[0m \u001b[38;5;28;01mtry\u001b[39;00m:\n\u001b[0;32m--> 135\u001b[0m     \u001b[38;5;28;01mreturn\u001b[39;00m \u001b[38;5;28;43mnext\u001b[39;49m\u001b[43m(\u001b[49m\u001b[38;5;28;43mself\u001b[39;49m\u001b[38;5;241;43m.\u001b[39;49m\u001b[43mgen\u001b[49m\u001b[43m)\u001b[49m\n\u001b[1;32m    136\u001b[0m \u001b[38;5;28;01mexcept\u001b[39;00m \u001b[38;5;167;01mStopIteration\u001b[39;00m:\n\u001b[1;32m    137\u001b[0m     \u001b[38;5;28;01mraise\u001b[39;00m \u001b[38;5;167;01mRuntimeError\u001b[39;00m(\u001b[38;5;124m\"\u001b[39m\u001b[38;5;124mgenerator didn\u001b[39m\u001b[38;5;124m'\u001b[39m\u001b[38;5;124mt yield\u001b[39m\u001b[38;5;124m\"\u001b[39m) \u001b[38;5;28;01mfrom\u001b[39;00m \u001b[38;5;28;01mNone\u001b[39;00m\n",
      "File \u001b[0;32m~/anaconda3/lib/python3.10/site-packages/websockets/sync/connection.py:711\u001b[0m, in \u001b[0;36mConnection.send_context\u001b[0;34m(self, expected_state)\u001b[0m\n\u001b[1;32m    709\u001b[0m \u001b[38;5;28mself\u001b[39m\u001b[38;5;241m.\u001b[39mclose_socket()\n\u001b[1;32m    710\u001b[0m \u001b[38;5;28mself\u001b[39m\u001b[38;5;241m.\u001b[39mrecv_events_thread\u001b[38;5;241m.\u001b[39mjoin()\n\u001b[0;32m--> 711\u001b[0m \u001b[38;5;28;01mraise\u001b[39;00m \u001b[38;5;28;43mself\u001b[39;49m\u001b[38;5;241;43m.\u001b[39;49m\u001b[43mprotocol\u001b[49m\u001b[38;5;241;43m.\u001b[39;49m\u001b[43mclose_exc\u001b[49m \u001b[38;5;28;01mfrom\u001b[39;00m \u001b[38;5;21;01moriginal_exc\u001b[39;00m\n",
      "File \u001b[0;32m~/anaconda3/lib/python3.10/site-packages/websockets/protocol.py:222\u001b[0m, in \u001b[0;36mProtocol.close_exc\u001b[0;34m(self)\u001b[0m\n\u001b[1;32m    206\u001b[0m \u001b[38;5;129m@property\u001b[39m\n\u001b[1;32m    207\u001b[0m \u001b[38;5;28;01mdef\u001b[39;00m \u001b[38;5;21mclose_exc\u001b[39m(\u001b[38;5;28mself\u001b[39m) \u001b[38;5;241m-\u001b[39m\u001b[38;5;241m>\u001b[39m ConnectionClosed:\n\u001b[1;32m    208\u001b[0m \u001b[38;5;250m    \u001b[39m\u001b[38;5;124;03m\"\"\"\u001b[39;00m\n\u001b[1;32m    209\u001b[0m \u001b[38;5;124;03m    Exception to raise when trying to interact with a closed connection.\u001b[39;00m\n\u001b[1;32m    210\u001b[0m \n\u001b[0;32m   (...)\u001b[0m\n\u001b[1;32m    220\u001b[0m \n\u001b[1;32m    221\u001b[0m \u001b[38;5;124;03m    \"\"\"\u001b[39;00m\n\u001b[0;32m--> 222\u001b[0m     \u001b[38;5;28;01massert\u001b[39;00m \u001b[38;5;28mself\u001b[39m\u001b[38;5;241m.\u001b[39mstate \u001b[38;5;129;01mis\u001b[39;00m CLOSED, \u001b[38;5;124m\"\u001b[39m\u001b[38;5;124mconnection isn\u001b[39m\u001b[38;5;124m'\u001b[39m\u001b[38;5;124mt closed yet\u001b[39m\u001b[38;5;124m\"\u001b[39m\n\u001b[1;32m    223\u001b[0m     exc_type: Type[ConnectionClosed]\n\u001b[1;32m    224\u001b[0m     \u001b[38;5;28;01mif\u001b[39;00m (\n\u001b[1;32m    225\u001b[0m         \u001b[38;5;28mself\u001b[39m\u001b[38;5;241m.\u001b[39mclose_rcvd \u001b[38;5;129;01mis\u001b[39;00m \u001b[38;5;129;01mnot\u001b[39;00m \u001b[38;5;28;01mNone\u001b[39;00m\n\u001b[1;32m    226\u001b[0m         \u001b[38;5;129;01mand\u001b[39;00m \u001b[38;5;28mself\u001b[39m\u001b[38;5;241m.\u001b[39mclose_sent \u001b[38;5;129;01mis\u001b[39;00m \u001b[38;5;129;01mnot\u001b[39;00m \u001b[38;5;28;01mNone\u001b[39;00m\n\u001b[1;32m    227\u001b[0m         \u001b[38;5;129;01mand\u001b[39;00m \u001b[38;5;28mself\u001b[39m\u001b[38;5;241m.\u001b[39mclose_rcvd\u001b[38;5;241m.\u001b[39mcode \u001b[38;5;129;01min\u001b[39;00m OK_CLOSE_CODES\n\u001b[1;32m    228\u001b[0m         \u001b[38;5;129;01mand\u001b[39;00m \u001b[38;5;28mself\u001b[39m\u001b[38;5;241m.\u001b[39mclose_sent\u001b[38;5;241m.\u001b[39mcode \u001b[38;5;129;01min\u001b[39;00m OK_CLOSE_CODES\n\u001b[1;32m    229\u001b[0m     ):\n",
      "\u001b[0;31mAssertionError\u001b[0m: connection isn't closed yet"
     ]
    }
   ],
   "source": [
    "#the script to create a stream using openAI input\n",
    "def write(prompt: str):\n",
    "    for chunk in openai.ChatCompletion.create(\n",
    "        model= \"gpt-3.5-turbo\",\n",
    "        messages = [{ \"role\": \"user\", \"content\": prompt}],\n",
    "        stream = True,\n",
    "    ):\n",
    "        if (text_chunk := chunk[\"choices\"][0][\"delta\"].get(\"content\")) is not None:\n",
    "            yield text_chunk\n",
    "\n",
    "text_stream = write(\"A one-sentence relaxing speech.\")\n",
    "\n",
    "audio_stream = elevenlabs.generate(\n",
    "    text=text_stream,\n",
    "    voice= \"Nicole\",\n",
    "    stream = True,\n",
    ")\n",
    "elevenlabs.stream(audio_stream)\n",
    "#output = elevenlabs.stream(audio_stream)"
   ]
  },
  {
   "cell_type": "code",
   "execution_count": 3,
   "id": "83156515",
   "metadata": {},
   "outputs": [
    {
     "name": "stdout",
     "output_type": "stream",
     "text": [
      "<generator object TTS.generate_stream_input at 0x7f7e7c8136f0>\n"
     ]
    }
   ],
   "source": [
    "print(audio_stream)"
   ]
  },
  {
   "cell_type": "code",
   "execution_count": 4,
   "id": "8e18f19e",
   "metadata": {},
   "outputs": [
    {
     "ename": "NameError",
     "evalue": "name 'output' is not defined",
     "output_type": "error",
     "traceback": [
      "\u001b[0;31m---------------------------------------------------------------------------\u001b[0m",
      "\u001b[0;31mNameError\u001b[0m                                 Traceback (most recent call last)",
      "Cell \u001b[0;32mIn[4], line 1\u001b[0m\n\u001b[0;32m----> 1\u001b[0m \u001b[38;5;28mprint\u001b[39m(\u001b[43moutput\u001b[49m)\n",
      "\u001b[0;31mNameError\u001b[0m: name 'output' is not defined"
     ]
    }
   ],
   "source": [
    "print(output)"
   ]
  },
  {
   "cell_type": "markdown",
   "id": "6320cda6",
   "metadata": {},
   "source": [
    "## 2. Voice cloning"
   ]
  },
  {
   "cell_type": "code",
   "execution_count": 8,
   "id": "a18da37c",
   "metadata": {},
   "outputs": [
    {
     "ename": "RateLimitError",
     "evalue": "This request exceeds your quota. You have 7 characters remaining, while 12 characters are required for this request.",
     "output_type": "error",
     "traceback": [
      "\u001b[0;31m---------------------------------------------------------------------------\u001b[0m",
      "\u001b[0;31mRateLimitError\u001b[0m                            Traceback (most recent call last)",
      "Cell \u001b[0;32mIn[8], line 5\u001b[0m\n\u001b[1;32m      1\u001b[0m \u001b[38;5;28;01mfrom\u001b[39;00m \u001b[38;5;21;01melevenlabs\u001b[39;00m \u001b[38;5;28;01mimport\u001b[39;00m voices, generate\n\u001b[1;32m      3\u001b[0m voices \u001b[38;5;241m=\u001b[39m voices()\n\u001b[0;32m----> 5\u001b[0m audio \u001b[38;5;241m=\u001b[39m \u001b[43mgenerate\u001b[49m\u001b[43m(\u001b[49m\u001b[43mtext\u001b[49m\u001b[38;5;241;43m=\u001b[39;49m\u001b[38;5;124;43m\"\u001b[39;49m\u001b[38;5;124;43mHello there!\u001b[39;49m\u001b[38;5;124;43m\"\u001b[39;49m\u001b[43m,\u001b[49m\u001b[43m \u001b[49m\u001b[43mvoice\u001b[49m\u001b[38;5;241;43m=\u001b[39;49m\u001b[43mvoices\u001b[49m\u001b[43m[\u001b[49m\u001b[38;5;241;43m0\u001b[39;49m\u001b[43m]\u001b[49m\u001b[43m)\u001b[49m\n\u001b[1;32m      7\u001b[0m \u001b[38;5;28mprint\u001b[39m(voices)\n",
      "File \u001b[0;32m~/anaconda3/lib/python3.10/site-packages/elevenlabs/simple.py:74\u001b[0m, in \u001b[0;36mgenerate\u001b[0;34m(text, api_key, voice, model, stream, latency, stream_chunk_size)\u001b[0m\n\u001b[1;32m     72\u001b[0m \u001b[38;5;28;01melse\u001b[39;00m:\n\u001b[1;32m     73\u001b[0m     \u001b[38;5;28;01massert\u001b[39;00m \u001b[38;5;28misinstance\u001b[39m(text, \u001b[38;5;28mstr\u001b[39m)\n\u001b[0;32m---> 74\u001b[0m     \u001b[38;5;28;01mreturn\u001b[39;00m \u001b[43mTTS\u001b[49m\u001b[38;5;241;43m.\u001b[39;49m\u001b[43mgenerate\u001b[49m\u001b[43m(\u001b[49m\u001b[43mtext\u001b[49m\u001b[43m,\u001b[49m\u001b[43m \u001b[49m\u001b[43mvoice\u001b[49m\u001b[43m,\u001b[49m\u001b[43m \u001b[49m\u001b[43mmodel\u001b[49m\u001b[43m,\u001b[49m\u001b[43m \u001b[49m\u001b[43mapi_key\u001b[49m\u001b[38;5;241;43m=\u001b[39;49m\u001b[43mapi_key\u001b[49m\u001b[43m)\u001b[49m\n",
      "File \u001b[0;32m~/anaconda3/lib/python3.10/site-packages/elevenlabs/api/tts.py:45\u001b[0m, in \u001b[0;36mTTS.generate\u001b[0;34m(text, voice, model, api_key)\u001b[0m\n\u001b[1;32m     39\u001b[0m url \u001b[38;5;241m=\u001b[39m \u001b[38;5;124mf\u001b[39m\u001b[38;5;124m\"\u001b[39m\u001b[38;5;132;01m{\u001b[39;00mapi_base_url_v1\u001b[38;5;132;01m}\u001b[39;00m\u001b[38;5;124m/text-to-speech/\u001b[39m\u001b[38;5;132;01m{\u001b[39;00mvoice\u001b[38;5;241m.\u001b[39mvoice_id\u001b[38;5;132;01m}\u001b[39;00m\u001b[38;5;124m\"\u001b[39m\n\u001b[1;32m     40\u001b[0m data \u001b[38;5;241m=\u001b[39m \u001b[38;5;28mdict\u001b[39m(\n\u001b[1;32m     41\u001b[0m     text\u001b[38;5;241m=\u001b[39mtext,\n\u001b[1;32m     42\u001b[0m     model_id\u001b[38;5;241m=\u001b[39mmodel\u001b[38;5;241m.\u001b[39mmodel_id,\n\u001b[1;32m     43\u001b[0m     voice_settings\u001b[38;5;241m=\u001b[39mvoice\u001b[38;5;241m.\u001b[39msettings\u001b[38;5;241m.\u001b[39mdict() \u001b[38;5;28;01mif\u001b[39;00m voice\u001b[38;5;241m.\u001b[39msettings \u001b[38;5;28;01melse\u001b[39;00m \u001b[38;5;28;01mNone\u001b[39;00m,\n\u001b[1;32m     44\u001b[0m )  \u001b[38;5;66;03m# type: ignore\u001b[39;00m\n\u001b[0;32m---> 45\u001b[0m response \u001b[38;5;241m=\u001b[39m \u001b[43mAPI\u001b[49m\u001b[38;5;241;43m.\u001b[39;49m\u001b[43mpost\u001b[49m\u001b[43m(\u001b[49m\u001b[43murl\u001b[49m\u001b[43m,\u001b[49m\u001b[43m \u001b[49m\u001b[43mjson\u001b[49m\u001b[38;5;241;43m=\u001b[39;49m\u001b[43mdata\u001b[49m\u001b[43m,\u001b[49m\u001b[43m \u001b[49m\u001b[43mapi_key\u001b[49m\u001b[38;5;241;43m=\u001b[39;49m\u001b[43mapi_key\u001b[49m\u001b[43m)\u001b[49m\n\u001b[1;32m     46\u001b[0m \u001b[38;5;28;01mreturn\u001b[39;00m response\u001b[38;5;241m.\u001b[39mcontent\n",
      "File \u001b[0;32m~/anaconda3/lib/python3.10/site-packages/elevenlabs/api/base.py:65\u001b[0m, in \u001b[0;36mAPI.post\u001b[0;34m(url, *args, **kwargs)\u001b[0m\n\u001b[1;32m     63\u001b[0m \u001b[38;5;129m@staticmethod\u001b[39m\n\u001b[1;32m     64\u001b[0m \u001b[38;5;28;01mdef\u001b[39;00m \u001b[38;5;21mpost\u001b[39m(url: \u001b[38;5;28mstr\u001b[39m, \u001b[38;5;241m*\u001b[39margs, \u001b[38;5;241m*\u001b[39m\u001b[38;5;241m*\u001b[39mkwargs):\n\u001b[0;32m---> 65\u001b[0m     \u001b[38;5;28;01mreturn\u001b[39;00m \u001b[43mAPI\u001b[49m\u001b[38;5;241;43m.\u001b[39;49m\u001b[43mrequest\u001b[49m\u001b[43m(\u001b[49m\u001b[43murl\u001b[49m\u001b[43m,\u001b[49m\u001b[43m \u001b[49m\u001b[43mmethod\u001b[49m\u001b[38;5;241;43m=\u001b[39;49m\u001b[38;5;124;43m\"\u001b[39;49m\u001b[38;5;124;43mpost\u001b[39;49m\u001b[38;5;124;43m\"\u001b[39;49m\u001b[43m,\u001b[49m\u001b[43m \u001b[49m\u001b[38;5;241;43m*\u001b[39;49m\u001b[43margs\u001b[49m\u001b[43m,\u001b[49m\u001b[43m \u001b[49m\u001b[38;5;241;43m*\u001b[39;49m\u001b[38;5;241;43m*\u001b[39;49m\u001b[43mkwargs\u001b[49m\u001b[43m)\u001b[49m\n",
      "File \u001b[0;32m~/anaconda3/lib/python3.10/site-packages/elevenlabs/api/base.py:53\u001b[0m, in \u001b[0;36mAPI.request\u001b[0;34m(url, method, api_key, **kwargs)\u001b[0m\n\u001b[1;32m     51\u001b[0m         \u001b[38;5;28;01mraise\u001b[39;00m UnauthenticatedRateLimitError(error)\n\u001b[1;32m     52\u001b[0m     \u001b[38;5;28;01melse\u001b[39;00m:\n\u001b[0;32m---> 53\u001b[0m         \u001b[38;5;28;01mraise\u001b[39;00m RateLimitError(error)\n\u001b[1;32m     54\u001b[0m \u001b[38;5;28;01melif\u001b[39;00m error\u001b[38;5;241m.\u001b[39mstatus \u001b[38;5;241m==\u001b[39m \u001b[38;5;124m\"\u001b[39m\u001b[38;5;124mneeds_authorization\u001b[39m\u001b[38;5;124m\"\u001b[39m:\n\u001b[1;32m     55\u001b[0m     \u001b[38;5;28;01mraise\u001b[39;00m AuthorizationError(error)\n",
      "\u001b[0;31mRateLimitError\u001b[0m: This request exceeds your quota. You have 7 characters remaining, while 12 characters are required for this request."
     ]
    }
   ],
   "source": [
    "from elevenlabs import voices, generate\n",
    "\n",
    "voices = voices()\n",
    "\n",
    "audio = generate(text=\"Hello there!\", voice=voices[0])\n",
    "\n",
    "print(voices)"
   ]
  },
  {
   "cell_type": "code",
   "execution_count": null,
   "id": "921a4311",
   "metadata": {},
   "outputs": [],
   "source": []
  }
 ],
 "metadata": {
  "kernelspec": {
   "display_name": "Python 3 (ipykernel)",
   "language": "python",
   "name": "python3"
  },
  "language_info": {
   "codemirror_mode": {
    "name": "ipython",
    "version": 3
   },
   "file_extension": ".py",
   "mimetype": "text/x-python",
   "name": "python",
   "nbconvert_exporter": "python",
   "pygments_lexer": "ipython3",
   "version": "3.10.9"
  }
 },
 "nbformat": 4,
 "nbformat_minor": 5
}
