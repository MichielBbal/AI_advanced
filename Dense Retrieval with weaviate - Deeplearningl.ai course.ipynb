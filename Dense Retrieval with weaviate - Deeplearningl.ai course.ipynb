{
 "cells": [
  {
   "cell_type": "markdown",
   "id": "c782d952",
   "metadata": {},
   "source": [
    "# Dense Retrieval with weaviate - Deeplearningl.ai course"
   ]
  },
  {
   "cell_type": "markdown",
   "id": "9c1d6df2",
   "metadata": {},
   "source": [
    "## Settings"
   ]
  },
  {
   "cell_type": "code",
   "execution_count": 6,
   "id": "db67794f",
   "metadata": {},
   "outputs": [
    {
     "name": "stdout",
     "output_type": "stream",
     "text": [
      "Requirement already satisfied: cohere in /Users/michielbontenbal/anaconda3/lib/python3.10/site-packages (4.3.1)\n",
      "Requirement already satisfied: requests<3.0,>=2.0 in /Users/michielbontenbal/anaconda3/lib/python3.10/site-packages (from cohere) (2.31.0)\n",
      "Requirement already satisfied: aiohttp<4.0,>=3.0 in /Users/michielbontenbal/anaconda3/lib/python3.10/site-packages (from cohere) (3.8.4)\n",
      "Requirement already satisfied: backoff<3.0,>=2.0 in /Users/michielbontenbal/anaconda3/lib/python3.10/site-packages (from cohere) (2.2.1)\n",
      "Requirement already satisfied: async-timeout<5.0,>=4.0.0a3 in /Users/michielbontenbal/anaconda3/lib/python3.10/site-packages (from aiohttp<4.0,>=3.0->cohere) (4.0.2)\n",
      "Requirement already satisfied: frozenlist>=1.1.1 in /Users/michielbontenbal/anaconda3/lib/python3.10/site-packages (from aiohttp<4.0,>=3.0->cohere) (1.3.3)\n",
      "Requirement already satisfied: aiosignal>=1.1.2 in /Users/michielbontenbal/anaconda3/lib/python3.10/site-packages (from aiohttp<4.0,>=3.0->cohere) (1.3.1)\n",
      "Requirement already satisfied: attrs>=17.3.0 in /Users/michielbontenbal/anaconda3/lib/python3.10/site-packages (from aiohttp<4.0,>=3.0->cohere) (22.1.0)\n",
      "Requirement already satisfied: multidict<7.0,>=4.5 in /Users/michielbontenbal/anaconda3/lib/python3.10/site-packages (from aiohttp<4.0,>=3.0->cohere) (6.0.4)\n",
      "Requirement already satisfied: yarl<2.0,>=1.0 in /Users/michielbontenbal/anaconda3/lib/python3.10/site-packages (from aiohttp<4.0,>=3.0->cohere) (1.8.2)\n",
      "Requirement already satisfied: charset-normalizer<4.0,>=2.0 in /Users/michielbontenbal/anaconda3/lib/python3.10/site-packages (from aiohttp<4.0,>=3.0->cohere) (2.0.4)\n",
      "Requirement already satisfied: certifi>=2017.4.17 in /Users/michielbontenbal/anaconda3/lib/python3.10/site-packages (from requests<3.0,>=2.0->cohere) (2022.12.7)\n",
      "Requirement already satisfied: urllib3<3,>=1.21.1 in /Users/michielbontenbal/anaconda3/lib/python3.10/site-packages (from requests<3.0,>=2.0->cohere) (1.26.14)\n",
      "Requirement already satisfied: idna<4,>=2.5 in /Users/michielbontenbal/anaconda3/lib/python3.10/site-packages (from requests<3.0,>=2.0->cohere) (2.10)\n"
     ]
    }
   ],
   "source": [
    "!pip install cohere "
   ]
  },
  {
   "cell_type": "code",
   "execution_count": 17,
   "id": "fc7f9d88",
   "metadata": {},
   "outputs": [
    {
     "name": "stdout",
     "output_type": "stream",
     "text": [
      "Requirement already satisfied: weaviate-client in /Users/michielbontenbal/anaconda3/lib/python3.10/site-packages (3.0.0)\n",
      "Requirement already satisfied: requests<2.26.0,>=2.23.0 in /Users/michielbontenbal/anaconda3/lib/python3.10/site-packages (from weaviate-client) (2.25.1)\n",
      "Requirement already satisfied: validators<0.19.0,>=0.18.2 in /Users/michielbontenbal/anaconda3/lib/python3.10/site-packages (from weaviate-client) (0.18.2)\n",
      "Requirement already satisfied: tqdm<4.62.0,>=4.59.0 in /Users/michielbontenbal/anaconda3/lib/python3.10/site-packages (from weaviate-client) (4.61.2)\n",
      "Requirement already satisfied: certifi>=2017.4.17 in /Users/michielbontenbal/anaconda3/lib/python3.10/site-packages (from requests<2.26.0,>=2.23.0->weaviate-client) (2022.12.7)\n",
      "Requirement already satisfied: chardet<5,>=3.0.2 in /Users/michielbontenbal/anaconda3/lib/python3.10/site-packages (from requests<2.26.0,>=2.23.0->weaviate-client) (4.0.0)\n",
      "Requirement already satisfied: urllib3<1.27,>=1.21.1 in /Users/michielbontenbal/anaconda3/lib/python3.10/site-packages (from requests<2.26.0,>=2.23.0->weaviate-client) (1.26.14)\n",
      "Requirement already satisfied: idna<3,>=2.5 in /Users/michielbontenbal/anaconda3/lib/python3.10/site-packages (from requests<2.26.0,>=2.23.0->weaviate-client) (2.10)\n",
      "Requirement already satisfied: decorator>=3.4.0 in /Users/michielbontenbal/anaconda3/lib/python3.10/site-packages (from validators<0.19.0,>=0.18.2->weaviate-client) (4.4.2)\n",
      "Requirement already satisfied: six>=1.4.0 in /Users/michielbontenbal/anaconda3/lib/python3.10/site-packages (from validators<0.19.0,>=0.18.2->weaviate-client) (1.16.0)\n"
     ]
    }
   ],
   "source": [
    "!pip install weaviate-client"
   ]
  },
  {
   "cell_type": "code",
   "execution_count": null,
   "id": "575a1562",
   "metadata": {},
   "outputs": [],
   "source": [
    "!pip install Annoy"
   ]
  },
  {
   "cell_type": "code",
   "execution_count": 1,
   "id": "bbed0254",
   "metadata": {},
   "outputs": [],
   "source": [
    "import os\n",
    "from dotenv import load_dotenv, find_dotenv\n",
    "_ = load_dotenv(find_dotenv()) # read local .env file"
   ]
  },
  {
   "cell_type": "code",
   "execution_count": 2,
   "id": "72df79d8",
   "metadata": {},
   "outputs": [
    {
     "data": {
      "text/plain": [
       "<cohere.client.Client at 0x7fdbfac530a0>"
      ]
     },
     "execution_count": 2,
     "metadata": {},
     "output_type": "execute_result"
    }
   ],
   "source": [
    "import cohere\n",
    "import config\n",
    "co = cohere.Client(config.cohere_key)\n",
    "#co = cohere.Client(os.environ['COHERE_API_KEY'])\n",
    "co"
   ]
  },
  {
   "cell_type": "code",
   "execution_count": 24,
   "id": "83ddda51",
   "metadata": {},
   "outputs": [
    {
     "ename": "AttributeError",
     "evalue": "module 'weaviate' has no attribute 'AuthApiKey'",
     "output_type": "error",
     "traceback": [
      "\u001b[0;31m---------------------------------------------------------------------------\u001b[0m",
      "\u001b[0;31mAttributeError\u001b[0m                            Traceback (most recent call last)",
      "Cell \u001b[0;32mIn[24], line 3\u001b[0m\n\u001b[1;32m      1\u001b[0m \u001b[38;5;28;01mimport\u001b[39;00m \u001b[38;5;21;01mweaviate\u001b[39;00m\n\u001b[0;32m----> 3\u001b[0m auth_config \u001b[38;5;241m=\u001b[39m \u001b[43mweaviate\u001b[49m\u001b[38;5;241;43m.\u001b[39;49m\u001b[43mAuthApiKey\u001b[49m(api_key \u001b[38;5;241m=\u001b[39m \u001b[38;5;124m'\u001b[39m\u001b[38;5;124m76320a90-53d8-42bc-b41d-678647c6672e\u001b[39m\u001b[38;5;124m'\u001b[39m)\n",
      "\u001b[0;31mAttributeError\u001b[0m: module 'weaviate' has no attribute 'AuthApiKey'"
     ]
    }
   ],
   "source": [
    "import weaviate\n",
    "\n",
    "auth_config = weaviate.AuthApiKey(api_key = '76320a90-53d8-42bc-b41d-678647c6672e')"
   ]
  },
  {
   "cell_type": "code",
   "execution_count": 22,
   "id": "4a722759",
   "metadata": {},
   "outputs": [
    {
     "ename": "AttributeError",
     "evalue": "module 'weaviate.auth' has no attribute 'AuthApiKey'",
     "output_type": "error",
     "traceback": [
      "\u001b[0;31m---------------------------------------------------------------------------\u001b[0m",
      "\u001b[0;31mAttributeError\u001b[0m                            Traceback (most recent call last)",
      "Cell \u001b[0;32mIn[22], line 1\u001b[0m\n\u001b[0;32m----> 1\u001b[0m auth_config \u001b[38;5;241m=\u001b[39m \u001b[43mweaviate\u001b[49m\u001b[38;5;241;43m.\u001b[39;49m\u001b[43mauth\u001b[49m\u001b[38;5;241;43m.\u001b[39;49m\u001b[43mAuthApiKey\u001b[49m(api_key\u001b[38;5;241m=\u001b[39m\u001b[38;5;124m\"\u001b[39m\u001b[38;5;124mVlMSgmBCvMBJBdxdsjL3hoi7Wz30AJMiGHOR\u001b[39m\u001b[38;5;124m\"\u001b[39m)\n",
      "\u001b[0;31mAttributeError\u001b[0m: module 'weaviate.auth' has no attribute 'AuthApiKey'"
     ]
    }
   ],
   "source": [
    "auth_config = weaviate.auth.AuthApiKey(api_key=\"VlMSgmBCvMBJBdxdsjL3hoi7Wz30AJMiGHOR\")"
   ]
  },
  {
   "cell_type": "code",
   "execution_count": 12,
   "id": "e9e851ee",
   "metadata": {},
   "outputs": [
    {
     "data": {
      "text/plain": [
       "['AuthClientCredentials',\n",
       " 'AuthClientPassword',\n",
       " 'AuthenticationFailedException',\n",
       " 'Client',\n",
       " 'ObjectAlreadyExistsException',\n",
       " 'RequestsConnectionError',\n",
       " 'Response',\n",
       " 'SchemaValidationException',\n",
       " 'UnexpectedStatusCodeException',\n",
       " '__all__',\n",
       " '__builtins__',\n",
       " '__cached__',\n",
       " '__doc__',\n",
       " '__file__',\n",
       " '__loader__',\n",
       " '__name__',\n",
       " '__package__',\n",
       " '__path__',\n",
       " '__spec__',\n",
       " '__version__',\n",
       " 'auth',\n",
       " 'batch',\n",
       " 'classification',\n",
       " 'client',\n",
       " 'connect',\n",
       " 'contextionary',\n",
       " 'data',\n",
       " 'exceptions',\n",
       " 'gql',\n",
       " 'schema',\n",
       " 'util',\n",
       " 'version']"
      ]
     },
     "execution_count": 12,
     "metadata": {},
     "output_type": "execute_result"
    }
   ],
   "source": [
    "dir(weaviate)"
   ]
  },
  {
   "cell_type": "code",
   "execution_count": 7,
   "id": "6a3c1f76",
   "metadata": {},
   "outputs": [
    {
     "data": {
      "text/plain": [
       "['ABC',\n",
       " 'AuthClientCredentials',\n",
       " 'AuthClientPassword',\n",
       " 'AuthCredentials',\n",
       " '__builtins__',\n",
       " '__cached__',\n",
       " '__doc__',\n",
       " '__file__',\n",
       " '__loader__',\n",
       " '__name__',\n",
       " '__package__',\n",
       " '__spec__',\n",
       " 'abstractmethod',\n",
       " 'base64',\n",
       " 'copy']"
      ]
     },
     "execution_count": 7,
     "metadata": {},
     "output_type": "execute_result"
    }
   ],
   "source": [
    "dir(weaviate.auth)"
   ]
  },
  {
   "cell_type": "code",
   "execution_count": null,
   "id": "bfc7389d",
   "metadata": {},
   "outputs": [],
   "source": [
    "client = weaviate.Client(\n",
    "    url=os.environ['WEAVIATE_API_URL'],\n",
    "    auth_client_secret=auth_config,\n",
    "    additional_headers={\n",
    "        \"X-Cohere-Api-Key\": os.environ['COHERE_API_KEY'],\n",
    "    }\n",
    ")\n",
    "client.is_ready() #check if True"
   ]
  },
  {
   "cell_type": "markdown",
   "id": "bee82e4b",
   "metadata": {},
   "source": [
    "## Part 1: Vector Database for semantic Search"
   ]
  },
  {
   "cell_type": "code",
   "execution_count": null,
   "id": "7199186c",
   "metadata": {},
   "outputs": [],
   "source": [
    "def dense_retrieval(query, \n",
    "                    results_lang='en', \n",
    "                    properties = [\"text\", \"title\", \"url\", \"views\", \"lang\", \"_additional {distance}\"],\n",
    "                    num_results=5):\n",
    "\n",
    "    nearText = {\"concepts\": [query]}\n",
    "    \n",
    "    # To filter by language\n",
    "    where_filter = {\n",
    "    \"path\": [\"lang\"],\n",
    "    \"operator\": \"Equal\",\n",
    "    \"valueString\": results_lang\n",
    "    }\n",
    "    response = (\n",
    "        client.query\n",
    "        .get(\"Articles\", properties)\n",
    "        .with_near_text(nearText)\n",
    "        .with_where(where_filter)\n",
    "        .with_limit(num_results)\n",
    "        .do()\n",
    "    )\n",
    "\n",
    "    result = response['data']['Get']['Articles']\n",
    "\n",
    "    return result"
   ]
  },
  {
   "cell_type": "code",
   "execution_count": 4,
   "id": "db9749c9",
   "metadata": {},
   "outputs": [
    {
     "ename": "ModuleNotFoundError",
     "evalue": "No module named 'utils'",
     "output_type": "error",
     "traceback": [
      "\u001b[0;31m---------------------------------------------------------------------------\u001b[0m",
      "\u001b[0;31mModuleNotFoundError\u001b[0m                       Traceback (most recent call last)",
      "Cell \u001b[0;32mIn[4], line 1\u001b[0m\n\u001b[0;32m----> 1\u001b[0m \u001b[38;5;28;01mfrom\u001b[39;00m \u001b[38;5;21;01mutils\u001b[39;00m \u001b[38;5;28;01mimport\u001b[39;00m print_result\n",
      "\u001b[0;31mModuleNotFoundError\u001b[0m: No module named 'utils'"
     ]
    }
   ],
   "source": [
    "from utils import print_result"
   ]
  },
  {
   "cell_type": "markdown",
   "id": "497e65ef",
   "metadata": {},
   "source": [
    "### Basic Query"
   ]
  },
  {
   "cell_type": "code",
   "execution_count": null,
   "id": "2b6691b2",
   "metadata": {},
   "outputs": [],
   "source": [
    "query = \"Who wrote Hamlet?\"\n",
    "dense_retrieval_results = dense_retrieval(query)\n",
    "print_result(dense_retrieval_results)"
   ]
  },
  {
   "cell_type": "markdown",
   "id": "5760ea75",
   "metadata": {},
   "source": [
    "### Medium Query"
   ]
  },
  {
   "cell_type": "code",
   "execution_count": null,
   "id": "3b9ac660",
   "metadata": {},
   "outputs": [],
   "source": [
    "query = \"What is the capital of Canada?\"\n",
    "dense_retrieval_results = dense_retrieval(query)\n",
    "print_result(dense_retrieval_results)"
   ]
  },
  {
   "cell_type": "markdown",
   "id": "dc8dbff3",
   "metadata": {},
   "source": [
    "### Hard Query"
   ]
  },
  {
   "cell_type": "code",
   "execution_count": null,
   "id": "320fc1d6",
   "metadata": {},
   "outputs": [],
   "source": [
    "query = \"Tallest person in history\"\n",
    "dense_retrieval_results = dense_retrieval(query)\n",
    "print_result(dense_retrieval_results)"
   ]
  }
 ],
 "metadata": {
  "kernelspec": {
   "display_name": "Python 3 (ipykernel)",
   "language": "python",
   "name": "python3"
  },
  "language_info": {
   "codemirror_mode": {
    "name": "ipython",
    "version": 3
   },
   "file_extension": ".py",
   "mimetype": "text/x-python",
   "name": "python",
   "nbconvert_exporter": "python",
   "pygments_lexer": "ipython3",
   "version": "3.10.9"
  }
 },
 "nbformat": 4,
 "nbformat_minor": 5
}
