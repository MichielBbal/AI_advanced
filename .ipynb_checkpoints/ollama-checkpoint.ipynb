{
 "cells": [
  {
   "cell_type": "markdown",
   "id": "c409dcaf",
   "metadata": {},
   "source": [
    "# Ollama\n",
    "\n",
    "Ollama is a tool that allows users to run open-source large language models (LLMs) locally on their machines. It supports a variety of models, including Llama 2, Code Llama, and others. \n",
    "\n",
    "You'll need to download Ollama from their website first: www.ollama.ai.\n",
    "\n",
    "### Contents\n",
    "0. Install and settings\n",
    "1. First script\n",
    "2. Run with streaming data\n",
    "3. Create a gradio front end\n",
    "\n",
    "### Sources\n",
    "- https://github.com/ollama/ollama-python\n",
    "- https://github.com/ollama/ollama/blob/main/docs/api.md#api"
   ]
  },
  {
   "cell_type": "markdown",
   "id": "5669c8d4",
   "metadata": {},
   "source": [
    "## 0. Install and settings\n",
    "\n",
    "Make sure you've installed Ollama on your machine!"
   ]
  },
  {
   "cell_type": "code",
   "execution_count": 1,
   "id": "bcd224ea",
   "metadata": {},
   "outputs": [
    {
     "name": "stdout",
     "output_type": "stream",
     "text": [
      "Collecting ollama\n",
      "  Downloading ollama-0.1.4-py3-none-any.whl.metadata (3.8 kB)\n",
      "Collecting httpx<0.26.0,>=0.25.2 (from ollama)\n",
      "  Downloading httpx-0.25.2-py3-none-any.whl.metadata (6.9 kB)\n",
      "Requirement already satisfied: anyio in /Users/michielbontenbal/anaconda3/lib/python3.10/site-packages (from httpx<0.26.0,>=0.25.2->ollama) (3.5.0)\n",
      "Requirement already satisfied: certifi in /Users/michielbontenbal/anaconda3/lib/python3.10/site-packages (from httpx<0.26.0,>=0.25.2->ollama) (2022.12.7)\n",
      "Collecting httpcore==1.* (from httpx<0.26.0,>=0.25.2->ollama)\n",
      "  Downloading httpcore-1.0.2-py3-none-any.whl.metadata (20 kB)\n",
      "Requirement already satisfied: idna in /Users/michielbontenbal/anaconda3/lib/python3.10/site-packages (from httpx<0.26.0,>=0.25.2->ollama) (2.10)\n",
      "Requirement already satisfied: sniffio in /Users/michielbontenbal/anaconda3/lib/python3.10/site-packages (from httpx<0.26.0,>=0.25.2->ollama) (1.2.0)\n",
      "Requirement already satisfied: h11<0.15,>=0.13 in /Users/michielbontenbal/anaconda3/lib/python3.10/site-packages (from httpcore==1.*->httpx<0.26.0,>=0.25.2->ollama) (0.14.0)\n",
      "Downloading ollama-0.1.4-py3-none-any.whl (8.0 kB)\n",
      "Downloading httpx-0.25.2-py3-none-any.whl (74 kB)\n",
      "\u001b[2K   \u001b[90m━━━━━━━━━━━━━━━━━━━━━━━━━━━━━━━━━━━━━━━━\u001b[0m \u001b[32m75.0/75.0 kB\u001b[0m \u001b[31m2.4 MB/s\u001b[0m eta \u001b[36m0:00:00\u001b[0m\n",
      "\u001b[?25hDownloading httpcore-1.0.2-py3-none-any.whl (76 kB)\n",
      "\u001b[2K   \u001b[90m━━━━━━━━━━━━━━━━━━━━━━━━━━━━━━━━━━━━━━━━\u001b[0m \u001b[32m76.9/76.9 kB\u001b[0m \u001b[31m3.6 MB/s\u001b[0m eta \u001b[36m0:00:00\u001b[0m\n",
      "\u001b[?25hInstalling collected packages: httpcore, httpx, ollama\n",
      "  Attempting uninstall: httpcore\n",
      "    Found existing installation: httpcore 0.16.3\n",
      "    Uninstalling httpcore-0.16.3:\n",
      "      Successfully uninstalled httpcore-0.16.3\n",
      "  Attempting uninstall: httpx\n",
      "    Found existing installation: httpx 0.23.3\n",
      "    Uninstalling httpx-0.23.3:\n",
      "      Successfully uninstalled httpx-0.23.3\n",
      "\u001b[31mERROR: pip's dependency resolver does not currently take into account all the packages that are installed. This behaviour is the source of the following dependency conflicts.\n",
      "argilla 1.6.0 requires httpx<0.24,>=0.15, but you have httpx 0.25.2 which is incompatible.\n",
      "argilla 1.6.0 requires numpy<1.24.0, but you have numpy 1.24.0 which is incompatible.\n",
      "argilla 1.6.0 requires pandas<2.0.0,>=1.0.0, but you have pandas 2.0.1 which is incompatible.\u001b[0m\u001b[31m\n",
      "\u001b[0mSuccessfully installed httpcore-1.0.2 httpx-0.25.2 ollama-0.1.4\n",
      "Note: you may need to restart the kernel to use updated packages.\n"
     ]
    }
   ],
   "source": [
    "!pip install ollama"
   ]
  },
  {
   "cell_type": "code",
   "execution_count": 37,
   "id": "6215465c",
   "metadata": {},
   "outputs": [],
   "source": [
    "# pull models from source\n",
    "#ollama.pull('llama2')"
   ]
  },
  {
   "cell_type": "code",
   "execution_count": 25,
   "id": "eaa657e4",
   "metadata": {},
   "outputs": [
    {
     "name": "stdout",
     "output_type": "stream",
     "text": [
      "llama2:latest\n",
      "llava:latest\n",
      "mistral:latest\n",
      "tinyllama:latest\n",
      "--------------------------------------------------\n",
      "['llama2:latest', 'llava:latest', 'mistral:latest', 'tinyllama:latest']\n"
     ]
    }
   ],
   "source": [
    "#List local models on your machine\n",
    "models_dict = ollama.list()\n",
    "models = models_dict['models']\n",
    "model_list = []\n",
    "for i in range(len(models)):\n",
    "    print(models[i]['name'])\n",
    "    model_list.append(models[i]['name'])\n",
    "print(50*'-')\n",
    "print(model_list)"
   ]
  },
  {
   "cell_type": "code",
   "execution_count": 22,
   "id": "4446fb78",
   "metadata": {},
   "outputs": [
    {
     "data": {
      "text/plain": [
       "{'license': 'LLAMA 2 COMMUNITY LICENSE AGREEMENT\\t\\nLlama 2 Version Release Date: July 18, 2023\\n\\n\"Agreement\" means the terms and conditions for use, reproduction, distribution and \\nmodification of the Llama Materials set forth herein.\\n\\n\"Documentation\" means the specifications, manuals and documentation \\naccompanying Llama 2 distributed by Meta at ai.meta.com/resources/models-and-\\nlibraries/llama-downloads/.\\n\\n\"Licensee\" or \"you\" means you, or your employer or any other person or entity (if \\nyou are entering into this Agreement on such person or entity\\'s behalf), of the age \\nrequired under applicable laws, rules or regulations to provide legal consent and that \\nhas legal authority to bind your employer or such other person or entity if you are \\nentering in this Agreement on their behalf.\\n\\n\"Llama 2\" means the foundational large language models and software and \\nalgorithms, including machine-learning model code, trained model weights, \\ninference-enabling code, training-enabling code, fine-tuning enabling code and other \\nelements of the foregoing distributed by Meta at ai.meta.com/resources/models-and-\\nlibraries/llama-downloads/.\\n\\n\"Llama Materials\" means, collectively, Meta\\'s proprietary Llama 2 and \\nDocumentation (and any portion thereof) made available under this Agreement.\\n\\n\"Meta\" or \"we\" means Meta Platforms Ireland Limited (if you are located in or, if you \\nare an entity, your principal place of business is in the EEA or Switzerland) and Meta \\nPlatforms, Inc. (if you are located outside of the EEA or Switzerland). \\n\\nBy clicking \"I Accept\" below or by using or distributing any portion or element of the \\nLlama Materials, you agree to be bound by this Agreement.\\n\\n1. License Rights and Redistribution. \\n\\n      a. Grant of Rights. You are granted a non-exclusive, worldwide, non-\\ntransferable and royalty-free limited license under Meta\\'s intellectual property or \\nother rights owned by Meta embodied in the Llama Materials to use, reproduce, \\ndistribute, copy, create derivative works of, and make modifications to the Llama \\nMaterials.  \\n      \\n      b. Redistribution and Use.  \\n\\n            i. If you distribute or make the Llama Materials, or any derivative works \\nthereof, available to a third party, you shall provide a copy of this Agreement to such \\nthird party. \\n            ii.  If you receive Llama Materials, or any derivative works thereof, from \\na Licensee as part of an integrated end user product, then Section 2 of this \\nAgreement will not apply to you. \\n\\n            iii. You must retain in all copies of the Llama Materials that you \\ndistribute the following attribution notice within a \"Notice\" text file distributed as a \\npart of such copies: \"Llama 2 is licensed under the LLAMA 2 Community License, \\nCopyright (c) Meta Platforms, Inc. All Rights Reserved.\"\\n\\n            iv. Your use of the Llama Materials must comply with applicable laws \\nand regulations (including trade compliance laws and regulations) and adhere to the \\nAcceptable Use Policy for the Llama Materials (available at \\nhttps://ai.meta.com/llama/use-policy), which is hereby incorporated by reference into \\nthis Agreement.\\n\\n            v. You will not use the Llama Materials or any output or results of the \\nLlama Materials to improve any other large language model (excluding Llama 2 or \\nderivative works thereof).  \\n\\n2. Additional Commercial Terms. If, on the Llama 2 version release date, the \\nmonthly active users of the products or services made available by or for Licensee, \\nor Licensee\\'s affiliates, is greater than 700 million monthly active users in the \\npreceding calendar month, you must request a license from Meta, which Meta may \\ngrant to you in its sole discretion, and you are not authorized to exercise any of the \\nrights under this Agreement unless or until Meta otherwise expressly grants you \\nsuch rights.\\n            \\n3. Disclaimer of Warranty. UNLESS REQUIRED BY APPLICABLE LAW, THE \\nLLAMA MATERIALS AND ANY OUTPUT AND RESULTS THEREFROM ARE \\nPROVIDED ON AN \"AS IS\" BASIS, WITHOUT WARRANTIES OF ANY KIND, \\nEITHER EXPRESS OR IMPLIED, INCLUDING, WITHOUT LIMITATION, ANY \\nWARRANTIES OF TITLE, NON-INFRINGEMENT, MERCHANTABILITY, OR \\nFITNESS FOR A PARTICULAR PURPOSE. YOU ARE SOLELY RESPONSIBLE \\nFOR DETERMINING THE APPROPRIATENESS OF USING OR REDISTRIBUTING \\nTHE LLAMA MATERIALS AND ASSUME ANY RISKS ASSOCIATED WITH YOUR \\nUSE OF THE LLAMA MATERIALS AND ANY OUTPUT AND RESULTS.\\n\\n4. Limitation of Liability. IN NO EVENT WILL META OR ITS AFFILIATES BE \\nLIABLE UNDER ANY THEORY OF LIABILITY, WHETHER IN CONTRACT, TORT, \\nNEGLIGENCE, PRODUCTS LIABILITY, OR OTHERWISE, ARISING OUT OF THIS \\nAGREEMENT, FOR ANY LOST PROFITS OR ANY INDIRECT, SPECIAL, \\nCONSEQUENTIAL, INCIDENTAL, EXEMPLARY OR PUNITIVE DAMAGES, EVEN \\nIF META OR ITS AFFILIATES HAVE BEEN ADVISED OF THE POSSIBILITY OF \\nANY OF THE FOREGOING.\\n \\n5. Intellectual Property.\\n\\n      a. No trademark licenses are granted under this Agreement, and in \\nconnection with the Llama Materials, neither Meta nor Licensee may use any name \\nor mark owned by or associated with the other or any of its affiliates, except as \\nrequired for reasonable and customary use in describing and redistributing the \\nLlama Materials.\\n\\n      b. Subject to Meta\\'s ownership of Llama Materials and derivatives made by or \\nfor Meta, with respect to any derivative works and modifications of the Llama \\nMaterials that are made by you, as between you and Meta, you are and will be the \\nowner of such derivative works and modifications.\\n\\n      c. If you institute litigation or other proceedings against Meta or any entity \\n(including a cross-claim or counterclaim in a lawsuit) alleging that the Llama \\nMaterials or Llama 2 outputs or results, or any portion of any of the foregoing, \\nconstitutes infringement of intellectual property or other rights owned or licensable \\nby you, then any licenses granted to you under this Agreement shall terminate as of \\nthe date such litigation or claim is filed or instituted. You will indemnify and hold \\nharmless Meta from and against any claim by any third party arising out of or related \\nto your use or distribution of the Llama Materials.\\n\\n6. Term and Termination. The term of this Agreement will commence upon your \\nacceptance of this Agreement or access to the Llama Materials and will continue in \\nfull force and effect until terminated in accordance with the terms and conditions \\nherein. Meta may terminate this Agreement if you are in breach of any term or \\ncondition of this Agreement. Upon termination of this Agreement, you shall delete \\nand cease use of the Llama Materials. Sections 3, 4 and 7 shall survive the \\ntermination of this Agreement. \\n\\n7. Governing Law and Jurisdiction. This Agreement will be governed and \\nconstrued under the laws of the State of California without regard to choice of law \\nprinciples, and the UN Convention on Contracts for the International Sale of Goods \\ndoes not apply to this Agreement. The courts of California shall have exclusive \\njurisdiction of any dispute arising out of this Agreement. \\n\\n\\n# Llama 2 Acceptable Use Policy\\n\\nMeta is committed to promoting safe and fair use of its tools and features, including Llama 2. If you access or use Llama 2, you agree to this Acceptable Use Policy (“Policy”). The most recent copy of this policy can be found at [ai.meta.com/llama/use-policy](http://ai.meta.com/llama/use-policy).\\n\\n## Prohibited Uses\\nWe want everyone to use Llama 2 safely and responsibly. You agree you will not use, or allow others to use, Llama 2 to: \\n\\n1. Violate the law or others’ rights, including to:\\n    1. Engage in, promote, generate, contribute to, encourage, plan, incite, or further illegal or unlawful activity or content, such as: \\n        1. Violence or terrorism \\n        2. Exploitation or harm to children, including the solicitation, creation, acquisition, or dissemination of child exploitative content or failure to report Child Sexual Abuse Material\\n        3. Human trafficking, exploitation, and sexual violence\\n        4. The illegal distribution of information or materials to minors, including obscene materials, or failure to employ legally required age-gating in connection with such information or materials.\\n        5. Sexual solicitation\\n        6. Any other criminal activity\\n    2. Engage in, promote, incite, or facilitate the harassment, abuse, threatening, or bullying of individuals or groups of individuals\\n    3. Engage in, promote, incite, or facilitate discrimination or other unlawful or harmful conduct in the provision of employment, employment benefits, credit, housing, other economic benefits, or other essential goods and services\\n    4. Engage in the unauthorized or unlicensed practice of any profession including, but not limited to, financial, legal, medical/health, or related professional practices \\n    5. Collect, process, disclose, generate, or infer health, demographic, or other sensitive personal or private information about individuals without rights and consents required by applicable laws\\n    6. Engage in or facilitate any action or generate any content that infringes, misappropriates, or otherwise violates any third-party rights, including the outputs or results of any products or services using the Llama 2 Materials\\n    7. Create, generate, or facilitate the creation of malicious code, malware, computer viruses or do anything else that could disable, overburden, interfere with or impair the proper working, integrity, operation or appearance of a website or computer system \\n\\n\\n\\n2. Engage in, promote, incite, facilitate, or assist in the planning or development of activities that present a risk of death or bodily harm to individuals, including use of Llama 2 related to the following:\\n    1. Military, warfare, nuclear industries or applications, espionage, use for materials or activities that are subject to the International Traffic Arms Regulations (ITAR) maintained by the United States Department of State\\n    2. Guns and illegal weapons (including weapon development)\\n    3. Illegal drugs and regulated/controlled substances\\n    4. Operation of critical infrastructure, transportation technologies, or heavy machinery\\n    5. Self-harm or harm to others, including suicide, cutting, and eating disorders\\n    6. Any content intended to incite or promote violence, abuse, or any infliction of bodily harm to an individual\\n\\n\\n\\n3. Intentionally deceive or mislead others, including use of Llama 2 related to the following:\\n    1. Generating, promoting, or furthering fraud or the creation or promotion of disinformation\\n    2. Generating, promoting, or furthering defamatory content, including the creation of defamatory statements, images, or other content\\n    3. Generating, promoting, or further distributing spam\\n    4. Impersonating another individual without consent, authorization, or legal right\\n    5. Representing that the use of Llama 2 or outputs are human-generated\\n    6. Generating or facilitating false online engagement, including fake reviews and other means of fake online engagement \\n4. Fail to appropriately disclose to end users any known dangers of your AI system \\n\\nPlease report any violation of this Policy, software “bug,” or other problems that could lead to a violation of this Policy through one of the following means:\\n\\n* Reporting issues with the model: [github.com/facebookresearch/llama](http://github.com/facebookresearch/llama)\\n* Reporting risky content generated by the model: [developers.facebook.com/llama_output_feedback](http://developers.facebook.com/llama_output_feedback)\\n* Reporting bugs and security concerns: [facebook.com/whitehat/info](http://facebook.com/whitehat/info)\\n* Reporting violations of the Acceptable Use Policy or unlicensed uses of Llama: [LlamaUseReport@meta.com](mailto:LlamaUseReport@meta.com)\\n\\n',\n",
       " 'modelfile': '# Modelfile generated by \"ollama show\"\\n# To build a new Modelfile based on this one, replace the FROM line with:\\n# FROM llama2:latest\\n\\nFROM /Users/michielbontenbal/.ollama/models/blobs/sha256:22f7f8ef5f4c791c1b03d7eb414399294764d7cc82c7e94aa81a1feb80a983a2\\nTEMPLATE \"\"\"[INST] <<SYS>>{{ .System }}<</SYS>>\\n\\n{{ .Prompt }} [/INST]\\n\"\"\"\\nPARAMETER num_ctx 4096\\nPARAMETER stop \"[INST]\"\\nPARAMETER stop \"[/INST]\"\\nPARAMETER stop \"<<SYS>>\"\\nPARAMETER stop \"<</SYS>>\"',\n",
       " 'parameters': 'num_ctx                        4096\\nstop                           [INST]\\nstop                           [/INST]\\nstop                           <<SYS>>\\nstop                           <</SYS>>',\n",
       " 'template': '[INST] <<SYS>>{{ .System }}<</SYS>>\\n\\n{{ .Prompt }} [/INST]\\n',\n",
       " 'details': {'format': 'gguf',\n",
       "  'family': 'llama',\n",
       "  'families': None,\n",
       "  'parameter_size': '7B',\n",
       "  'quantization_level': 'Q4_0'}}"
      ]
     },
     "execution_count": 22,
     "metadata": {},
     "output_type": "execute_result"
    }
   ],
   "source": [
    "ollama.show('llama2:latest')"
   ]
  },
  {
   "cell_type": "code",
   "execution_count": 28,
   "id": "7660021b",
   "metadata": {},
   "outputs": [
    {
     "data": {
      "text/plain": [
       "['llama2:latest', 'llava:latest', 'mistral:latest', 'tinyllama:latest']"
      ]
     },
     "execution_count": 28,
     "metadata": {},
     "output_type": "execute_result"
    }
   ],
   "source": [
    "model_list"
   ]
  },
  {
   "cell_type": "code",
   "execution_count": 32,
   "id": "fad15d86",
   "metadata": {},
   "outputs": [
    {
     "name": "stdout",
     "output_type": "stream",
     "text": [
      "llama2:latest : 7B\n",
      "llava:latest : 7B\n",
      "mistral:latest : 7B\n",
      "tinyllama:latest : 1B\n"
     ]
    }
   ],
   "source": [
    "Getting the size of each model\n",
    "for i in range(len(model_list)):\n",
    "    model = model_list[i]\n",
    "    model_info = ollama.show(model)\n",
    "    print(model_list[i] + \" : \" + model_info['details']['parameter_size'])"
   ]
  },
  {
   "cell_type": "markdown",
   "id": "1be1ae15",
   "metadata": {},
   "source": [
    "## 1. Run first script"
   ]
  },
  {
   "cell_type": "code",
   "execution_count": 33,
   "id": "b69ccf41",
   "metadata": {},
   "outputs": [
    {
     "name": "stdout",
     "output_type": "stream",
     "text": [
      "The answer to why the sky is blue is complex and multifaceted, but in short, it has to do with the way light interacts with matter at different wavelengths. Light that hits a cloud or other object with a longer wavelength (red or infrared) will bend around obstacles, such as clouds or trees, before reaching our eyes, whereas shorter-wavelength light (blue or visible light) passes through freely and directly to the eye. This difference in absorption and scattering of blue light by matter causes a blue hue in the sky, which we perceive as \"blue.\"\n"
     ]
    }
   ],
   "source": [
    "import ollama\n",
    "response = ollama.chat(model='tinyllama', messages=[\n",
    "  {\n",
    "    'role': 'user',\n",
    "    'content': 'Why is the sky blue?',\n",
    "  },\n",
    "])\n",
    "print(response['message']['content'])"
   ]
  },
  {
   "cell_type": "code",
   "execution_count": 22,
   "id": "d9af2af5",
   "metadata": {},
   "outputs": [
    {
     "name": "stdout",
     "output_type": "stream",
     "text": [
      "The sky blue color is caused by refraction of sunlight passing through the air above us, which causes some of the light to bend towards us as it travels from the sun towards the observer. When this light hits our eyes or other surfaces, it reflects off the Earth's surface and back into the atmosphere, resulting in the distinct color of sky blue.\n"
     ]
    }
   ],
   "source": [
    "#as above but now as a function\n",
    "import ollama\n",
    "\n",
    "def ask_ollama(question):\n",
    "    \"\"\"\n",
    "    Sends a question to the Ollama API and returns the response.\n",
    "    \"\"\"\n",
    "    response = ollama.chat(\n",
    "        model='tinyllama',\n",
    "        messages=[\n",
    "            {'role': 'user', 'content': question},\n",
    "        ],\n",
    "    )\n",
    "\n",
    "    return response['message']['content']\n",
    "\n",
    "# Example usage\n",
    "response_content = ask_ollama(\"Why is the sky blue?\")\n",
    "print(response_content)"
   ]
  },
  {
   "cell_type": "markdown",
   "id": "d62e149d",
   "metadata": {},
   "source": [
    "## 2. Streaming the response"
   ]
  },
  {
   "cell_type": "code",
   "execution_count": 8,
   "id": "d377debd",
   "metadata": {},
   "outputs": [
    {
     "name": "stdout",
     "output_type": "stream",
     "text": [
      "Your question:tell me your name\n"
     ]
    }
   ],
   "source": [
    "question = input('Your question:')"
   ]
  },
  {
   "cell_type": "code",
   "execution_count": 9,
   "id": "645df074",
   "metadata": {},
   "outputs": [
    {
     "name": "stdout",
     "output_type": "stream",
     "text": [
      "My name is Sarah, but you can call me Sarah or Telly if you prefer."
     ]
    }
   ],
   "source": [
    "import ollama\n",
    "\n",
    "stream = ollama.chat(\n",
    "    model='tinyllama',\n",
    "    messages=[{'role': 'user', 'content': question}],\n",
    "    stream=True,\n",
    ")\n",
    "\n",
    "for chunk in stream:\n",
    "  print(chunk['message']['content'], end='', flush=True)"
   ]
  },
  {
   "cell_type": "code",
   "execution_count": 21,
   "id": "93e898ef",
   "metadata": {},
   "outputs": [
    {
     "ename": "SyntaxError",
     "evalue": "invalid syntax (2180951925.py, line 16)",
     "output_type": "error",
     "traceback": [
      "\u001b[0;36m  Cell \u001b[0;32mIn[21], line 16\u001b[0;36m\u001b[0m\n\u001b[0;31m    return:\u001b[0m\n\u001b[0m          ^\u001b[0m\n\u001b[0;31mSyntaxError\u001b[0m\u001b[0;31m:\u001b[0m invalid syntax\n"
     ]
    }
   ],
   "source": [
    "#same but now as afunction\n",
    "import ollama\n",
    "\n",
    "def ollama_chat_stream(question):\n",
    "    \"\"\"\n",
    "    Streams the chat response from Ollama using the 'tinyllama' model.\n",
    "    \"\"\"\n",
    "    # Initialize the chat with Ollama\n",
    "    stream = ollama.chat(\n",
    "        model='tinyllama',\n",
    "        messages=[{'role': 'user', 'content': question}],\n",
    "        stream=True,\n",
    "    )\n",
    "\n",
    "    # Stream and print the responses\n",
    "    return:\n",
    "        for chunk in stream:\n",
    "            print(chunk['message']['content'], end='', flush=True)\n",
    "        #print(chunk['message']['content'], end='', flush=True)\n",
    "\n",
    "# Example usage\n",
    "ollama_chat_stream(\"Why is the sky blue?\")\n"
   ]
  },
  {
   "cell_type": "markdown",
   "id": "97a70748",
   "metadata": {},
   "source": [
    "## 3. Creating a gradio front end"
   ]
  },
  {
   "cell_type": "code",
   "execution_count": 17,
   "id": "e8a11538",
   "metadata": {},
   "outputs": [
    {
     "name": "stdout",
     "output_type": "stream",
     "text": [
      "Running on local URL:  http://127.0.0.1:7863\n",
      "\n",
      "To create a public link, set `share=True` in `launch()`.\n"
     ]
    },
    {
     "data": {
      "text/html": [
       "<div><iframe src=\"http://127.0.0.1:7863/\" width=\"100%\" height=\"500\" allow=\"autoplay; camera; microphone; clipboard-read; clipboard-write;\" frameborder=\"0\" allowfullscreen></iframe></div>"
      ],
      "text/plain": [
       "<IPython.core.display.HTML object>"
      ]
     },
     "metadata": {},
     "output_type": "display_data"
    },
    {
     "data": {
      "text/plain": []
     },
     "execution_count": 17,
     "metadata": {},
     "output_type": "execute_result"
    }
   ],
   "source": [
    "import gradio as gr\n",
    "\n",
    "def chatbot_function(user_input):\n",
    "    return f\"You said: {user_input}\"\n",
    "\n",
    "iface = gr.Interface(\n",
    "    fn=ask_ollama,  \n",
    "    inputs=\"text\", \n",
    "    outputs= \"text\"\n",
    ")\n",
    "\n",
    "iface.launch()"
   ]
  },
  {
   "cell_type": "code",
   "execution_count": null,
   "id": "1727cde4",
   "metadata": {},
   "outputs": [],
   "source": []
  }
 ],
 "metadata": {
  "kernelspec": {
   "display_name": "Python 3 (ipykernel)",
   "language": "python",
   "name": "python3"
  },
  "language_info": {
   "codemirror_mode": {
    "name": "ipython",
    "version": 3
   },
   "file_extension": ".py",
   "mimetype": "text/x-python",
   "name": "python",
   "nbconvert_exporter": "python",
   "pygments_lexer": "ipython3",
   "version": "3.10.9"
  }
 },
 "nbformat": 4,
 "nbformat_minor": 5
}
