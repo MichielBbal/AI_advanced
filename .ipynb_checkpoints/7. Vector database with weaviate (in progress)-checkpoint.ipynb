{
 "cells": [
  {
   "cell_type": "markdown",
   "id": "61e54b8f",
   "metadata": {},
   "source": [
    "# Weaviate \n",
    "\n",
    "Weaviate is an open-source vector database.\n",
    "\n",
    "It allows you to store data objects and vector embeddings from your favorite ML-models,\n",
    "and scale seamlessly into billions of data objects.\n",
    "\n",
    "- source: https://weaviate.io/\n",
    "- blog: https://weaviate.io/blog/why-is-vector-search-so-fast\n",
    "- blog: https://towardsdatascience.com/getting-started-with-weaviate-python-client-e85d14f19e4f\n",
    "- pypi: https://pypi.org/project/weaviate-client/\n",
    "- Readthedocs: https://weaviate-python-client.readthedocs.io/en/stable/index.html"
   ]
  },
  {
   "cell_type": "code",
   "execution_count": 1,
   "id": "efead134",
   "metadata": {},
   "outputs": [
    {
     "name": "stdout",
     "output_type": "stream",
     "text": [
      "Collecting weaviate-client\n",
      "  Downloading weaviate_client-3.15.5-py3-none-any.whl (94 kB)\n",
      "\u001b[2K     \u001b[90m━━━━━━━━━━━━━━━━━━━━━━━━━━━━━━━━━━━━━━━━\u001b[0m \u001b[32m94.2/94.2 kB\u001b[0m \u001b[31m1.0 MB/s\u001b[0m eta \u001b[36m0:00:00\u001b[0m00:01\u001b[0m\n",
      "\u001b[?25hCollecting authlib>=1.1.0\n",
      "  Downloading Authlib-1.2.0-py2.py3-none-any.whl (214 kB)\n",
      "\u001b[2K     \u001b[90m━━━━━━━━━━━━━━━━━━━━━━━━━━━━━━━━━━━━━━━\u001b[0m \u001b[32m214.8/214.8 kB\u001b[0m \u001b[31m4.1 MB/s\u001b[0m eta \u001b[36m0:00:00\u001b[0ma \u001b[36m0:00:01\u001b[0m\n",
      "\u001b[?25hRequirement already satisfied: tqdm<5.0.0,>=4.59.0 in /Users/michielbontenbal/anaconda3/lib/python3.10/site-packages (from weaviate-client) (4.64.1)\n",
      "Requirement already satisfied: requests<2.29.0,>=2.28.0 in /Users/michielbontenbal/anaconda3/lib/python3.10/site-packages (from weaviate-client) (2.28.1)\n",
      "Collecting validators<=0.21.0,>=0.18.2\n",
      "  Downloading validators-0.20.0.tar.gz (30 kB)\n",
      "  Preparing metadata (setup.py) ... \u001b[?25ldone\n",
      "\u001b[?25hRequirement already satisfied: cryptography>=3.2 in /Users/michielbontenbal/anaconda3/lib/python3.10/site-packages (from authlib>=1.1.0->weaviate-client) (39.0.1)\n",
      "Requirement already satisfied: charset-normalizer<3,>=2 in /Users/michielbontenbal/anaconda3/lib/python3.10/site-packages (from requests<2.29.0,>=2.28.0->weaviate-client) (2.0.4)\n",
      "Requirement already satisfied: certifi>=2017.4.17 in /Users/michielbontenbal/anaconda3/lib/python3.10/site-packages (from requests<2.29.0,>=2.28.0->weaviate-client) (2022.12.7)\n",
      "Requirement already satisfied: idna<4,>=2.5 in /Users/michielbontenbal/anaconda3/lib/python3.10/site-packages (from requests<2.29.0,>=2.28.0->weaviate-client) (3.4)\n",
      "Requirement already satisfied: urllib3<1.27,>=1.21.1 in /Users/michielbontenbal/anaconda3/lib/python3.10/site-packages (from requests<2.29.0,>=2.28.0->weaviate-client) (1.26.14)\n",
      "Requirement already satisfied: decorator>=3.4.0 in /Users/michielbontenbal/anaconda3/lib/python3.10/site-packages (from validators<=0.21.0,>=0.18.2->weaviate-client) (5.1.1)\n",
      "Requirement already satisfied: cffi>=1.12 in /Users/michielbontenbal/anaconda3/lib/python3.10/site-packages (from cryptography>=3.2->authlib>=1.1.0->weaviate-client) (1.15.1)\n",
      "Requirement already satisfied: pycparser in /Users/michielbontenbal/anaconda3/lib/python3.10/site-packages (from cffi>=1.12->cryptography>=3.2->authlib>=1.1.0->weaviate-client) (2.21)\n",
      "Building wheels for collected packages: validators\n",
      "  Building wheel for validators (setup.py) ... \u001b[?25ldone\n",
      "\u001b[?25h  Created wheel for validators: filename=validators-0.20.0-py3-none-any.whl size=19581 sha256=0820889b2f46638099f8aebe9590a447278e1780db40f10e1ed6c4da65c57c37\n",
      "  Stored in directory: /Users/michielbontenbal/Library/Caches/pip/wheels/2d/55/25/123071088f4e466746cbadc923b1a31e08cea99ea9ef6bb35e\n",
      "Successfully built validators\n",
      "Installing collected packages: validators, authlib, weaviate-client\n",
      "Successfully installed authlib-1.2.0 validators-0.20.0 weaviate-client-3.15.5\n"
     ]
    }
   ],
   "source": [
    "!pip install weaviate-client"
   ]
  },
  {
   "cell_type": "code",
   "execution_count": 1,
   "id": "7a9515ad",
   "metadata": {},
   "outputs": [
    {
     "ename": "ModuleNotFoundError",
     "evalue": "No module named 'weaviate.embedded'",
     "output_type": "error",
     "traceback": [
      "\u001b[0;31m---------------------------------------------------------------------------\u001b[0m",
      "\u001b[0;31mModuleNotFoundError\u001b[0m                       Traceback (most recent call last)",
      "Cell \u001b[0;32mIn[1], line 2\u001b[0m\n\u001b[1;32m      1\u001b[0m \u001b[38;5;28;01mimport\u001b[39;00m \u001b[38;5;21;01mweaviate\u001b[39;00m\n\u001b[0;32m----> 2\u001b[0m \u001b[38;5;28;01mfrom\u001b[39;00m \u001b[38;5;21;01mweaviate\u001b[39;00m\u001b[38;5;21;01m.\u001b[39;00m\u001b[38;5;21;01membedded\u001b[39;00m \u001b[38;5;28;01mimport\u001b[39;00m EmbeddedOptions\n\u001b[1;32m      4\u001b[0m client \u001b[38;5;241m=\u001b[39m weaviate\u001b[38;5;241m.\u001b[39mClient(\n\u001b[1;32m      5\u001b[0m   embedded_options\u001b[38;5;241m=\u001b[39mEmbeddedOptions()\n\u001b[1;32m      6\u001b[0m )\n",
      "\u001b[0;31mModuleNotFoundError\u001b[0m: No module named 'weaviate.embedded'"
     ]
    }
   ],
   "source": [
    "import weaviate\n",
    "from weaviate.embedded import EmbeddedOptions\n",
    "\n",
    "client = weaviate.Client(\n",
    "  embedded_options=EmbeddedOptions()\n",
    ")"
   ]
  },
  {
   "cell_type": "code",
   "execution_count": null,
   "id": "382a2960",
   "metadata": {},
   "outputs": [],
   "source": []
  }
 ],
 "metadata": {
  "kernelspec": {
   "display_name": "Python 3 (ipykernel)",
   "language": "python",
   "name": "python3"
  },
  "language_info": {
   "codemirror_mode": {
    "name": "ipython",
    "version": 3
   },
   "file_extension": ".py",
   "mimetype": "text/x-python",
   "name": "python",
   "nbconvert_exporter": "python",
   "pygments_lexer": "ipython3",
   "version": "3.10.9"
  }
 },
 "nbformat": 4,
 "nbformat_minor": 5
}
