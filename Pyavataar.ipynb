{
 "cells": [
  {
   "cell_type": "code",
   "execution_count": null,
   "id": "57caf1f0",
   "metadata": {},
   "outputs": [
    {
     "ename": "",
     "evalue": "",
     "output_type": "error",
     "traceback": [
      "\u001b[1;31mFailed to start the Kernel. \n",
      "\u001b[1;31mEPERM: operation not permitted, scandir '/Users/michielbontenbal/Documents/GitHub/AI_advanced'. \n",
      "\u001b[1;31mView Jupyter <a href='command:jupyter.viewOutput'>log</a> for further details."
     ]
    }
   ],
   "source": [
    "!pip install py-avataaars"
   ]
  },
  {
   "cell_type": "markdown",
   "id": "e475b4c2",
   "metadata": {},
   "source": [
    "## PyAvataaar module"
   ]
  },
  {
   "cell_type": "code",
   "execution_count": null,
   "id": "3dce0bec",
   "metadata": {},
   "outputs": [
    {
     "ename": "",
     "evalue": "",
     "output_type": "error",
     "traceback": [
      "\u001b[1;31mFailed to start the Kernel. \n",
      "\u001b[1;31mEPERM: operation not permitted, scandir '/Users/michielbontenbal/Documents/GitHub/AI_advanced'. \n",
      "\u001b[1;31mView Jupyter <a href='command:jupyter.viewOutput'>log</a> for further details."
     ]
    }
   ],
   "source": [
    "# importing the require package \n",
    "from py_avataaars import PyAvataaar   \n",
    "  \n",
    "# assigning various parameters to our avatar \n",
    "avatar = PyAvataaar() \n",
    "  \n",
    "# rendering the avatar in png format \n",
    "avatar.render_png_file(\"AVATAR_1.png\") "
   ]
  },
  {
   "cell_type": "code",
   "execution_count": null,
   "id": "14ff3fe9",
   "metadata": {},
   "outputs": [],
   "source": []
  }
 ],
 "metadata": {
  "kernelspec": {
   "display_name": "Python 3 (ipykernel)",
   "language": "python",
   "name": "python3"
  },
  "language_info": {
   "codemirror_mode": {
    "name": "ipython",
    "version": 3
   },
   "file_extension": ".py",
   "mimetype": "text/x-python",
   "name": "python",
   "nbconvert_exporter": "python",
   "pygments_lexer": "ipython3",
   "version": "3.10.6"
  }
 },
 "nbformat": 4,
 "nbformat_minor": 5
}
