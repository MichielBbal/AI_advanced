{
 "cells": [
  {
   "cell_type": "code",
   "execution_count": 1,
   "id": "b5899357",
   "metadata": {},
   "outputs": [
    {
     "name": "stdout",
     "output_type": "stream",
     "text": [
      "Collecting mario-gpt\n",
      "  Downloading mario_gpt-0.1.1-py3-none-any.whl (20 kB)\n",
      "Requirement already satisfied: tqdm in /Users/michielbontenbal/opt/anaconda3/lib/python3.9/site-packages (from mario-gpt) (4.64.0)\n",
      "Requirement already satisfied: transformers in /Users/michielbontenbal/opt/anaconda3/lib/python3.9/site-packages (from mario-gpt) (4.22.2)\n",
      "Requirement already satisfied: pillow in /Users/michielbontenbal/opt/anaconda3/lib/python3.9/site-packages (from mario-gpt) (9.0.1)\n",
      "Requirement already satisfied: torch in /Users/michielbontenbal/opt/anaconda3/lib/python3.9/site-packages (from mario-gpt) (1.13.1)\n",
      "Requirement already satisfied: scipy in /Users/michielbontenbal/opt/anaconda3/lib/python3.9/site-packages (from mario-gpt) (1.7.3)\n",
      "Requirement already satisfied: numpy<1.23.0,>=1.16.5 in /Users/michielbontenbal/opt/anaconda3/lib/python3.9/site-packages (from scipy->mario-gpt) (1.21.5)\n",
      "Requirement already satisfied: typing-extensions in /Users/michielbontenbal/opt/anaconda3/lib/python3.9/site-packages (from torch->mario-gpt) (4.1.1)\n",
      "Requirement already satisfied: regex!=2019.12.17 in /Users/michielbontenbal/opt/anaconda3/lib/python3.9/site-packages (from transformers->mario-gpt) (2022.3.15)\n",
      "Requirement already satisfied: tokenizers!=0.11.3,<0.13,>=0.11.1 in /Users/michielbontenbal/opt/anaconda3/lib/python3.9/site-packages (from transformers->mario-gpt) (0.12.1)\n",
      "Requirement already satisfied: packaging>=20.0 in /Users/michielbontenbal/opt/anaconda3/lib/python3.9/site-packages (from transformers->mario-gpt) (21.3)\n",
      "Requirement already satisfied: huggingface-hub<1.0,>=0.9.0 in /Users/michielbontenbal/opt/anaconda3/lib/python3.9/site-packages (from transformers->mario-gpt) (0.10.0)\n",
      "Requirement already satisfied: filelock in /Users/michielbontenbal/opt/anaconda3/lib/python3.9/site-packages (from transformers->mario-gpt) (3.6.0)\n",
      "Requirement already satisfied: requests in /Users/michielbontenbal/opt/anaconda3/lib/python3.9/site-packages (from transformers->mario-gpt) (2.28.1)\n",
      "Requirement already satisfied: pyyaml>=5.1 in /Users/michielbontenbal/opt/anaconda3/lib/python3.9/site-packages (from transformers->mario-gpt) (6.0)\n",
      "Requirement already satisfied: pyparsing!=3.0.5,>=2.0.2 in /Users/michielbontenbal/opt/anaconda3/lib/python3.9/site-packages (from packaging>=20.0->transformers->mario-gpt) (3.0.4)\n",
      "Requirement already satisfied: idna<4,>=2.5 in /Users/michielbontenbal/opt/anaconda3/lib/python3.9/site-packages (from requests->transformers->mario-gpt) (3.3)\n",
      "Requirement already satisfied: certifi>=2017.4.17 in /Users/michielbontenbal/opt/anaconda3/lib/python3.9/site-packages (from requests->transformers->mario-gpt) (2021.10.8)\n",
      "Requirement already satisfied: urllib3<1.27,>=1.21.1 in /Users/michielbontenbal/opt/anaconda3/lib/python3.9/site-packages (from requests->transformers->mario-gpt) (1.26.9)\n",
      "Requirement already satisfied: charset-normalizer<3,>=2 in /Users/michielbontenbal/opt/anaconda3/lib/python3.9/site-packages (from requests->transformers->mario-gpt) (2.0.4)\n",
      "Installing collected packages: mario-gpt\n",
      "Successfully installed mario-gpt-0.1.1\n",
      "Note: you may need to restart the kernel to use updated packages.\n"
     ]
    }
   ],
   "source": [
    "pip install mario-gpt"
   ]
  },
  {
   "cell_type": "code",
   "execution_count": null,
   "id": "a0bb95f2",
   "metadata": {},
   "outputs": [
    {
     "name": "stderr",
     "output_type": "stream",
     "text": [
      "2023-02-17 10:12:23.441576: I tensorflow/core/platform/cpu_feature_guard.cc:193] This TensorFlow binary is optimized with oneAPI Deep Neural Network Library (oneDNN) to use the following CPU instructions in performance-critical operations:  AVX2 FMA\n",
      "To enable them in other operations, rebuild TensorFlow with the appropriate compiler flags.\n"
     ]
    },
    {
     "name": "stdout",
     "output_type": "stream",
     "text": [
      "Using shyamsn97/Mario-GPT2-700-context-length model\n"
     ]
    },
    {
     "name": "stderr",
     "output_type": "stream",
     "text": [
      "/Users/michielbontenbal/opt/anaconda3/lib/python3.9/site-packages/transformers/models/auto/modeling_auto.py:1062: FutureWarning: The class `AutoModelWithLMHead` is deprecated and will be removed in a future version. Please use `AutoModelForCausalLM` for causal language models, `AutoModelForMaskedLM` for masked language models and `AutoModelForSeq2SeqLM` for encoder-decoder models.\n",
      "  warnings.warn(\n"
     ]
    }
   ],
   "source": [
    "from mario_gpt.lm import MarioLM\n",
    "from mario_gpt.utils import view_level, convert_level_to_png\n",
    "\n",
    "# pretrained_model = shyamsn97/Mario-GPT2-700-context-length\n",
    "\n",
    "mario_lm = MarioLM()\n",
    "\n",
    "prompts = [\"many pipes, many enemies, some blocks, high elevation\"]\n",
    "\n",
    "# generate level of size 700, pump temperature up to ~2.4 for more stochastic but playable levels\n",
    "generated_level = mario_lm.sample(\n",
    "    prompts=prompts,\n",
    "    num_steps=700,\n",
    "    temperature=2.0,\n",
    "    use_tqdm=True\n",
    ")\n",
    "\n",
    "# show string list\n",
    "#view_level(generated_level, mario_lm.tokenizer)\n",
    "#..."
   ]
  },
  {
   "cell_type": "code",
   "execution_count": 1,
   "id": "9f5e9a3b",
   "metadata": {},
   "outputs": [
    {
     "ename": "NameError",
     "evalue": "name 'mario_lm' is not defined",
     "output_type": "error",
     "traceback": [
      "\u001b[0;31m---------------------------------------------------------------------------\u001b[0m",
      "\u001b[0;31mNameError\u001b[0m                                 Traceback (most recent call last)",
      "Input \u001b[0;32mIn [1]\u001b[0m, in \u001b[0;36m<cell line: 1>\u001b[0;34m()\u001b[0m\n\u001b[0;32m----> 1\u001b[0m \u001b[43mmario_lm\u001b[49m\n",
      "\u001b[0;31mNameError\u001b[0m: name 'mario_lm' is not defined"
     ]
    }
   ],
   "source": [
    "mario_lm"
   ]
  },
  {
   "cell_type": "code",
   "execution_count": null,
   "id": "7dc1ccac",
   "metadata": {},
   "outputs": [],
   "source": []
  }
 ],
 "metadata": {
  "kernelspec": {
   "display_name": "Python 3 (ipykernel)",
   "language": "python",
   "name": "python3"
  },
  "language_info": {
   "codemirror_mode": {
    "name": "ipython",
    "version": 3
   },
   "file_extension": ".py",
   "mimetype": "text/x-python",
   "name": "python",
   "nbconvert_exporter": "python",
   "pygments_lexer": "ipython3",
   "version": "3.9.12"
  }
 },
 "nbformat": 4,
 "nbformat_minor": 5
}
