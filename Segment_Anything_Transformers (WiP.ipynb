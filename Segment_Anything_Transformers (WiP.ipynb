{
 "cells": [
  {
   "cell_type": "markdown",
   "metadata": {},
   "source": [
    "# Segment Anything with transformers\n",
    "\n",
    "source: https://huggingface.co/docs/transformers/model_doc/sam \n",
    "\n",
    "\n",
    "#WARNING THIS MODEL IS >2,5 Gb! "
   ]
  },
  {
   "cell_type": "markdown",
   "metadata": {},
   "source": []
  },
  {
   "cell_type": "code",
   "execution_count": 2,
   "metadata": {},
   "outputs": [
    {
     "name": "stdout",
     "output_type": "stream",
     "text": [
      "Total disk space: 233 GB\n",
      "Used disk space: 228 GB\n",
      "Free disk space: 5 GB\n",
      "Percentage used: 97%\n"
     ]
    }
   ],
   "source": [
    "#Helper script to check your free disk space\n",
    "import shutil\n",
    "\n",
    "def check_disk_space(path=\"/\"):\n",
    "    total, used, free = shutil.disk_usage(path)\n",
    "    \n",
    "    # Convert bytes to gigabytes\n",
    "    total_gb = total // (2**30)\n",
    "    used_gb = used // (2**30)\n",
    "    free_gb = free // (2**30)\n",
    "    \n",
    "    print(f\"Total disk space: {total_gb} GB\")\n",
    "    print(f\"Used disk space: {used_gb} GB\")\n",
    "    print(f\"Free disk space: {free_gb} GB\")\n",
    "    print(f\"Percentage used: {used * 100 // total}%\")\n",
    "\n",
    "# Check disk space for the root directory\n",
    "check_disk_space()"
   ]
  },
  {
   "cell_type": "code",
   "execution_count": 2,
   "metadata": {},
   "outputs": [
    {
     "name": "stderr",
     "output_type": "stream",
     "text": [
      "/Users/michielbontenbal/anaconda3/lib/python3.10/site-packages/torchvision/io/image.py:13: UserWarning: Failed to load image Python extension: 'dlopen(/Users/michielbontenbal/anaconda3/lib/python3.10/site-packages/torchvision/image.so, 0x0006): Symbol not found: __ZN3c1017RegisterOperatorsD1Ev\n",
      "  Referenced from: <2D89372E-C77C-3351-8455-B2E540126864> /Users/michielbontenbal/anaconda3/lib/python3.10/site-packages/torchvision/image.so\n",
      "  Expected in:     <A84DFEFF-287E-3B94-A7DB-731FA5F9CBBC> /Users/michielbontenbal/anaconda3/lib/python3.10/site-packages/torch/lib/libtorch_cpu.dylib'If you don't plan on using image functionality from `torchvision.io`, you can ignore this warning. Otherwise, there might be something wrong with your environment. Did you have `libjpeg` or `libpng` installed before building `torchvision` from source?\n",
      "  warn(\n",
      "2024-10-07 11:59:13.130522: I tensorflow/core/platform/cpu_feature_guard.cc:182] This TensorFlow binary is optimized to use available CPU instructions in performance-critical operations.\n",
      "To enable the following instructions: AVX2 FMA, in other operations, rebuild TensorFlow with the appropriate compiler flags.\n"
     ]
    }
   ],
   "source": [
    "import torch\n",
    "from PIL import Image\n",
    "import requests\n",
    "from transformers import SamModel, SamProcessor\n",
    "\n",
    "device = \"cuda\" if torch.cuda.is_available() else \"cpu\"\n",
    "model = SamModel.from_pretrained(\"facebook/sam-vit-base\").to(device)\n",
    "processor = SamProcessor.from_pretrained(\"facebook/sam-vit-base\")\n",
    "\n",
    "img_url = \"https://huggingface.co/ybelkada/segment-anything/resolve/main/assets/car.png\"\n",
    "raw_image = Image.open(requests.get(img_url, stream=True).raw).convert(\"RGB\")\n",
    "input_points = [[[450, 600]]]  # 2D location of a window in the image\n",
    "\n",
    "inputs = processor(raw_image, input_points=input_points, return_tensors=\"pt\").to(device)\n",
    "with torch.no_grad():\n",
    "    outputs = model(**inputs)\n",
    "\n",
    "masks = processor.image_processor.post_process_masks(\n",
    "    outputs.pred_masks.cpu(), inputs[\"original_sizes\"].cpu(), inputs[\"reshaped_input_sizes\"].cpu()\n",
    ")\n",
    "scores = outputs.iou_scores"
   ]
  },
  {
   "cell_type": "code",
   "execution_count": 3,
   "metadata": {},
   "outputs": [
    {
     "data": {
      "text/plain": [
       "tensor([[[0.9057, 0.9562, 0.9669]]])"
      ]
     },
     "execution_count": 3,
     "metadata": {},
     "output_type": "execute_result"
    }
   ],
   "source": [
    "scores"
   ]
  },
  {
   "cell_type": "code",
   "execution_count": 1,
   "metadata": {},
   "outputs": [
    {
     "name": "stdout",
     "output_type": "stream",
     "text": [
      "/Users/michielbontenbal/.cache/huggingface/hub\n"
     ]
    }
   ],
   "source": [
    "#Code example to show the path where Huggingface stores the models\n",
    "#Click on link to open it up (works on Appple)\n",
    "from transformers import file_utils\n",
    "\n",
    "print(file_utils.default_cache_path)"
   ]
  },
  {
   "cell_type": "code",
   "execution_count": null,
   "metadata": {},
   "outputs": [],
   "source": []
  }
 ],
 "metadata": {
  "kernelspec": {
   "display_name": "Python 3",
   "language": "python",
   "name": "python3"
  },
  "language_info": {
   "codemirror_mode": {
    "name": "ipython",
    "version": 3
   },
   "file_extension": ".py",
   "mimetype": "text/x-python",
   "name": "python",
   "nbconvert_exporter": "python",
   "pygments_lexer": "ipython3",
   "version": "3.10.9"
  }
 },
 "nbformat": 4,
 "nbformat_minor": 2
}
