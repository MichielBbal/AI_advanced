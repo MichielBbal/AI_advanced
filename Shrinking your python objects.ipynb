{
 "cells": [
  {
   "cell_type": "code",
   "execution_count": 18,
   "id": "36b1ff60",
   "metadata": {},
   "outputs": [],
   "source": [
    "my_int = 1\n",
    "my_float = 0.12345678900000000\n",
    "my_string = 'hello, world' #12char\n",
    "my_long_string = 'Tell me a joke about a LLM going to a party? It went there for small talk' #73 char\n",
    "my_list= [1,2,3]"
   ]
  },
  {
   "cell_type": "code",
   "execution_count": 19,
   "id": "3827203c",
   "metadata": {},
   "outputs": [
    {
     "name": "stdout",
     "output_type": "stream",
     "text": [
      "28\n",
      "24\n",
      "61\n",
      "122\n",
      "88\n"
     ]
    }
   ],
   "source": [
    "import sys\n",
    "print(sys.getsizeof(my_int))\n",
    "print(sys.getsizeof(my_float))\n",
    "print(sys.getsizeof(my_string))\n",
    "print(sys.getsizeof(my_long_string))\n",
    "print(sys.getsizeof(my_list))"
   ]
  },
  {
   "cell_type": "code",
   "execution_count": null,
   "id": "6def6454",
   "metadata": {},
   "outputs": [
    {
     "ename": "",
     "evalue": "",
     "output_type": "error",
     "traceback": [
      "\u001b[1;31mFailed to start the Kernel. \n",
      "\u001b[1;31mEPERM: operation not permitted, scandir '/Users/michielbontenbal/Documents/GitHub/AI_advanced'. \n",
      "\u001b[1;31mView Jupyter <a href='command:jupyter.viewOutput'>log</a> for further details."
     ]
    }
   ],
   "source": [
    "import torch"
   ]
  },
  {
   "cell_type": "code",
   "execution_count": null,
   "id": "92d10ccc",
   "metadata": {},
   "outputs": [
    {
     "ename": "",
     "evalue": "",
     "output_type": "error",
     "traceback": [
      "\u001b[1;31mFailed to start the Kernel. \n",
      "\u001b[1;31mEPERM: operation not permitted, scandir '/Users/michielbontenbal/Documents/GitHub/AI_advanced'. \n",
      "\u001b[1;31mView Jupyter <a href='command:jupyter.viewOutput'>log</a> for further details."
     ]
    }
   ],
   "source": [
    "# Information of `8-bit unsigned integer`\n",
    "a = torch.iinfo(torch.uint8)\n",
    "print(a)\n",
    "print(sys.getsizeof(a))"
   ]
  },
  {
   "cell_type": "code",
   "execution_count": null,
   "id": "249058ff",
   "metadata": {},
   "outputs": [],
   "source": []
  }
 ],
 "metadata": {
  "kernelspec": {
   "display_name": "Python 3 (ipykernel)",
   "language": "python",
   "name": "python3"
  },
  "language_info": {
   "codemirror_mode": {
    "name": "ipython",
    "version": 3
   },
   "file_extension": ".py",
   "mimetype": "text/x-python",
   "name": "python",
   "nbconvert_exporter": "python",
   "pygments_lexer": "ipython3",
   "version": "3.10.6"
  }
 },
 "nbformat": 4,
 "nbformat_minor": 5
}
